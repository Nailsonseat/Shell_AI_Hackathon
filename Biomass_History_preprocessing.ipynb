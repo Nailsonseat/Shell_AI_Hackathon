{
 "cells": [
  {
   "cell_type": "markdown",
   "id": "a0a019f7",
   "metadata": {},
   "source": [
    "# Preprocessing"
   ]
  },
  {
   "cell_type": "markdown",
   "id": "6a375d6d",
   "metadata": {},
   "source": [
    "## biomass_history"
   ]
  },
  {
   "cell_type": "code",
   "execution_count": 129,
   "id": "158d743e",
   "metadata": {},
   "outputs": [],
   "source": [
    "import tensorflow as tf\n",
    "import pandas as pd\n",
    "import numpy as np\n",
    "import seaborn as sns\n",
    "from sklearn.compose import ColumnTransformer\n",
    "from sklearn.preprocessing import MinMaxScaler\n",
    "from tensorflow.keras.layers import Dense,Input,LSTM, Flatten, ConvLSTM2D\n",
    "from tensorflow.keras.models import Sequential,Model\n",
    "from sklearn.metrics import mean_squared_error"
   ]
  },
  {
   "cell_type": "code",
   "execution_count": 2,
   "id": "33160e79",
   "metadata": {},
   "outputs": [],
   "source": [
    "biomass_history = pd.read_csv('dataset\\Biomass_History.csv')"
   ]
  },
  {
   "cell_type": "code",
   "execution_count": 3,
   "id": "d424c702",
   "metadata": {},
   "outputs": [
    {
     "data": {
      "text/plain": [
       "Index        0\n",
       "Latitude     0\n",
       "Longitude    0\n",
       "2010         0\n",
       "2011         0\n",
       "2012         0\n",
       "2013         0\n",
       "2014         0\n",
       "2015         0\n",
       "2016         0\n",
       "2017         0\n",
       "dtype: int64"
      ]
     },
     "execution_count": 3,
     "metadata": {},
     "output_type": "execute_result"
    }
   ],
   "source": [
    "#Check if there are any null values\n",
    "biomass_history .isnull().sum()"
   ]
  },
  {
   "cell_type": "code",
   "execution_count": 4,
   "id": "15239056",
   "metadata": {},
   "outputs": [
    {
     "name": "stdout",
     "output_type": "stream",
     "text": [
      "<class 'pandas.core.frame.DataFrame'>\n",
      "RangeIndex: 2418 entries, 0 to 2417\n",
      "Data columns (total 11 columns):\n",
      " #   Column     Non-Null Count  Dtype  \n",
      "---  ------     --------------  -----  \n",
      " 0   Index      2418 non-null   int64  \n",
      " 1   Latitude   2418 non-null   float64\n",
      " 2   Longitude  2418 non-null   float64\n",
      " 3   2010       2418 non-null   float64\n",
      " 4   2011       2418 non-null   float64\n",
      " 5   2012       2418 non-null   float64\n",
      " 6   2013       2418 non-null   float64\n",
      " 7   2014       2418 non-null   float64\n",
      " 8   2015       2418 non-null   float64\n",
      " 9   2016       2418 non-null   float64\n",
      " 10  2017       2418 non-null   float64\n",
      "dtypes: float64(10), int64(1)\n",
      "memory usage: 207.9 KB\n"
     ]
    }
   ],
   "source": [
    "biomass_history.info()"
   ]
  },
  {
   "cell_type": "code",
   "execution_count": 5,
   "id": "fff66148",
   "metadata": {},
   "outputs": [
    {
     "data": {
      "text/plain": [
       "<AxesSubplot: xlabel='2010', ylabel='Count'>"
      ]
     },
     "execution_count": 5,
     "metadata": {},
     "output_type": "execute_result"
    },
    {
     "data": {
      "image/png": "[encoded data removed]",
      "text/plain": [
       "<Figure size 640x480 with 1 Axes>"
      ]
     },
     "metadata": {},
     "output_type": "display_data"
    }
   ],
   "source": [
    "# df.head()\n",
    "sns.histplot(biomass_history,x='2010')"
   ]
  },
  {
   "cell_type": "code",
   "execution_count": 6,
   "id": "683a2ed3",
   "metadata": {},
   "outputs": [],
   "source": [
    "#converting float64 to float32 and int64 to int16\n",
    "columns = list(biomass_history.columns)\n",
    "for column in columns:\n",
    "    if(type(biomass_history[column][0]) == np.float64):\n",
    "        biomass_history[column] = biomass_history[column].astype('float16')\n",
    "    if(type(biomass_history[column][0]) == np.int64):\n",
    "        biomass_history[column] = biomass_history[column].astype('int16')\n",
    "        "
   ]
  },
  {
   "cell_type": "code",
   "execution_count": 7,
   "id": "354ad923",
   "metadata": {},
   "outputs": [
    {
     "data": {
      "text/html": [
       "<div>\n",
       "<style scoped>\n",
       "    .dataframe tbody tr th:only-of-type {\n",
       "        vertical-align: middle;\n",
       "    }\n",
       "\n",
       "    .dataframe tbody tr th {\n",
       "        vertical-align: top;\n",
       "    }\n",
       "\n",
       "    .dataframe thead th {\n",
       "        text-align: right;\n",
       "    }\n",
       "</style>\n",
       "<table border=\"1\" class=\"dataframe\">\n",
       "  <thead>\n",
       "    <tr style=\"text-align: right;\">\n",
       "      <th></th>\n",
       "      <th>Index</th>\n",
       "      <th>Latitude</th>\n",
       "      <th>Longitude</th>\n",
       "      <th>2010</th>\n",
       "      <th>2011</th>\n",
       "      <th>2012</th>\n",
       "      <th>2013</th>\n",
       "      <th>2014</th>\n",
       "      <th>2015</th>\n",
       "      <th>2016</th>\n",
       "      <th>2017</th>\n",
       "    </tr>\n",
       "  </thead>\n",
       "  <tbody>\n",
       "    <tr>\n",
       "      <th>0</th>\n",
       "      <td>0</td>\n",
       "      <td>24.671875</td>\n",
       "      <td>71.3125</td>\n",
       "      <td>8.476562</td>\n",
       "      <td>8.867188</td>\n",
       "      <td>9.203125</td>\n",
       "      <td>6.023438</td>\n",
       "      <td>10.789062</td>\n",
       "      <td>6.648438</td>\n",
       "      <td>7.386719</td>\n",
       "      <td>5.179688</td>\n",
       "    </tr>\n",
       "    <tr>\n",
       "      <th>1</th>\n",
       "      <td>1</td>\n",
       "      <td>24.671875</td>\n",
       "      <td>71.4375</td>\n",
       "      <td>24.031250</td>\n",
       "      <td>28.546875</td>\n",
       "      <td>25.859375</td>\n",
       "      <td>21.640625</td>\n",
       "      <td>34.406250</td>\n",
       "      <td>27.359375</td>\n",
       "      <td>40.437500</td>\n",
       "      <td>42.125000</td>\n",
       "    </tr>\n",
       "    <tr>\n",
       "      <th>2</th>\n",
       "      <td>2</td>\n",
       "      <td>24.671875</td>\n",
       "      <td>71.5000</td>\n",
       "      <td>44.843750</td>\n",
       "      <td>66.125000</td>\n",
       "      <td>56.968750</td>\n",
       "      <td>53.000000</td>\n",
       "      <td>70.937500</td>\n",
       "      <td>42.531250</td>\n",
       "      <td>59.187500</td>\n",
       "      <td>73.187500</td>\n",
       "    </tr>\n",
       "    <tr>\n",
       "      <th>3</th>\n",
       "      <td>3</td>\n",
       "      <td>24.671875</td>\n",
       "      <td>71.5625</td>\n",
       "      <td>59.968750</td>\n",
       "      <td>80.812500</td>\n",
       "      <td>78.937500</td>\n",
       "      <td>63.156250</td>\n",
       "      <td>93.500000</td>\n",
       "      <td>70.187500</td>\n",
       "      <td>74.562500</td>\n",
       "      <td>101.062500</td>\n",
       "    </tr>\n",
       "    <tr>\n",
       "      <th>4</th>\n",
       "      <td>4</td>\n",
       "      <td>24.671875</td>\n",
       "      <td>71.6250</td>\n",
       "      <td>14.656250</td>\n",
       "      <td>19.328125</td>\n",
       "      <td>21.921875</td>\n",
       "      <td>17.906250</td>\n",
       "      <td>19.531250</td>\n",
       "      <td>19.171875</td>\n",
       "      <td>16.531250</td>\n",
       "      <td>26.093750</td>\n",
       "    </tr>\n",
       "  </tbody>\n",
       "</table>\n",
       "</div>"
      ],
      "text/plain": [
       "   Index   Latitude  Longitude       2010       2011       2012       2013  \\\n",
       "0      0  24.671875    71.3125   8.476562   8.867188   9.203125   6.023438   \n",
       "1      1  24.671875    71.4375  24.031250  28.546875  25.859375  21.640625   \n",
       "2      2  24.671875    71.5000  44.843750  66.125000  56.968750  53.000000   \n",
       "3      3  24.671875    71.5625  59.968750  80.812500  78.937500  63.156250   \n",
       "4      4  24.671875    71.6250  14.656250  19.328125  21.921875  17.906250   \n",
       "\n",
       "        2014       2015       2016        2017  \n",
       "0  10.789062   6.648438   7.386719    5.179688  \n",
       "1  34.406250  27.359375  40.437500   42.125000  \n",
       "2  70.937500  42.531250  59.187500   73.187500  \n",
       "3  93.500000  70.187500  74.562500  101.062500  \n",
       "4  19.531250  19.171875  16.531250   26.093750  "
      ]
     },
     "execution_count": 7,
     "metadata": {},
     "output_type": "execute_result"
    }
   ],
   "source": [
    "biomass_history.head()"
   ]
  },
  {
   "cell_type": "code",
   "execution_count": 8,
   "id": "568759ae",
   "metadata": {},
   "outputs": [],
   "source": [
    "#Scaling the columns from 2010 to 2017\n",
    "\n",
    "ct = ColumnTransformer([('std',MinMaxScaler(),[str(x) for x in np.arange(2010,2018)]),\n",
    "                       ],remainder='passthrough')"
   ]
  },
  {
   "cell_type": "code",
   "execution_count": 9,
   "id": "28b2ce56",
   "metadata": {},
   "outputs": [],
   "source": [
    "transformed_df = ct.fit_transform(biomass_history)"
   ]
  },
  {
   "cell_type": "code",
   "execution_count": 10,
   "id": "a6349eb7",
   "metadata": {},
   "outputs": [],
   "source": [
    "transformed_df= pd.DataFrame(transformed_df,columns=['2010','2011','2012','2013' ,'2014','2015','2016','2017','Index','Latitude','Longitude'])"
   ]
  },
  {
   "cell_type": "code",
   "execution_count": 11,
   "id": "b93c8d88",
   "metadata": {},
   "outputs": [],
   "source": [
    "transformed_df = transformed_df[columns]"
   ]
  },
  {
   "cell_type": "code",
   "execution_count": 12,
   "id": "428baeb3",
   "metadata": {},
   "outputs": [
    {
     "data": {
      "text/plain": [
       "<AxesSubplot: xlabel='2010', ylabel='Count'>"
      ]
     },
     "execution_count": 12,
     "metadata": {},
     "output_type": "execute_result"
    },
    {
     "data": {
      "image/png": "[encoded data removed]",
      "text/plain": [
       "<Figure size 640x480 with 1 Axes>"
      ]
     },
     "metadata": {},
     "output_type": "display_data"
    }
   ],
   "source": [
    "sns.histplot(transformed_df, x='2010')"
   ]
  },
  {
   "cell_type": "code",
   "execution_count": 13,
   "id": "aeb79721",
   "metadata": {},
   "outputs": [],
   "source": [
    "biomass_history_scaled = transformed_df.copy()"
   ]
  },
  {
   "cell_type": "code",
   "execution_count": 14,
   "id": "3b06303e",
   "metadata": {},
   "outputs": [
    {
     "data": {
      "text/html": [
       "<div>\n",
       "<style scoped>\n",
       "    .dataframe tbody tr th:only-of-type {\n",
       "        vertical-align: middle;\n",
       "    }\n",
       "\n",
       "    .dataframe tbody tr th {\n",
       "        vertical-align: top;\n",
       "    }\n",
       "\n",
       "    .dataframe thead th {\n",
       "        text-align: right;\n",
       "    }\n",
       "</style>\n",
       "<table border=\"1\" class=\"dataframe\">\n",
       "  <thead>\n",
       "    <tr style=\"text-align: right;\">\n",
       "      <th></th>\n",
       "      <th>Index</th>\n",
       "      <th>Latitude</th>\n",
       "      <th>Longitude</th>\n",
       "      <th>2010</th>\n",
       "      <th>2011</th>\n",
       "      <th>2012</th>\n",
       "      <th>2013</th>\n",
       "      <th>2014</th>\n",
       "      <th>2015</th>\n",
       "      <th>2016</th>\n",
       "      <th>2017</th>\n",
       "    </tr>\n",
       "  </thead>\n",
       "  <tbody>\n",
       "    <tr>\n",
       "      <th>0</th>\n",
       "      <td>0.0</td>\n",
       "      <td>24.671875</td>\n",
       "      <td>71.3125</td>\n",
       "      <td>0.009598</td>\n",
       "      <td>0.011497</td>\n",
       "      <td>0.010551</td>\n",
       "      <td>0.004887</td>\n",
       "      <td>0.012367</td>\n",
       "      <td>0.008621</td>\n",
       "      <td>0.014374</td>\n",
       "      <td>0.005863</td>\n",
       "    </tr>\n",
       "  </tbody>\n",
       "</table>\n",
       "</div>"
      ],
      "text/plain": [
       "   Index   Latitude  Longitude      2010      2011      2012      2013  \\\n",
       "0    0.0  24.671875    71.3125  0.009598  0.011497  0.010551  0.004887   \n",
       "\n",
       "       2014      2015      2016      2017  \n",
       "0  0.012367  0.008621  0.014374  0.005863  "
      ]
     },
     "execution_count": 14,
     "metadata": {},
     "output_type": "execute_result"
    },
    {
     "data": {
      "image/png": "[encoded data removed]",
      "text/plain": [
       "<Figure size 640x480 with 1 Axes>"
      ]
     },
     "metadata": {},
     "output_type": "display_data"
    }
   ],
   "source": [
    "#how does the biomass history look like for a particualr coordinate\n",
    "#24.671875,71.3125\n",
    "df = biomass_history_scaled.loc[(biomass_history_scaled['Latitude']==24.671875) & (biomass_history_scaled['Longitude']==71.3125)]\n",
    "# sns.lineplot(data=df.iloc[0,3:], x=[str(x) for x in np.arange(2010,2018)])\n",
    "sns.lineplot(x=[str(x) for x in np.arange(2010,2018)], y=df.iloc[0,3:])\n",
    "df"
   ]
  },
  {
   "cell_type": "markdown",
   "id": "8112a367",
   "metadata": {},
   "source": [
    "## Distance"
   ]
  },
  {
   "cell_type": "code",
   "execution_count": 15,
   "id": "ea1060fb",
   "metadata": {},
   "outputs": [],
   "source": [
    "distance_matrix = pd.read_csv('dataset\\Distance_Matrix.csv')\n",
    "distance_matrix.drop(['Unnamed: 0'],axis=1,inplace=True)"
   ]
  },
  {
   "cell_type": "code",
   "execution_count": 16,
   "id": "a2a6d74b",
   "metadata": {},
   "outputs": [
    {
     "data": {
      "text/plain": [
       "<AxesSubplot: xlabel='1', ylabel='Count'>"
      ]
     },
     "execution_count": 16,
     "metadata": {},
     "output_type": "execute_result"
    },
    {
     "data": {
      "image/png": "[encoded data removed]",
      "text/plain": [
       "<Figure size 640x480 with 1 Axes>"
      ]
     },
     "metadata": {},
     "output_type": "display_data"
    }
   ],
   "source": [
    "sns.histplot(distance_matrix,x='1')"
   ]
  },
  {
   "cell_type": "code",
   "execution_count": 17,
   "id": "6ce96f76",
   "metadata": {},
   "outputs": [],
   "source": [
    "scaler_mms = MinMaxScaler()\n",
    "scaled_distances = pd.DataFrame(scaler_mms.fit_transform(distance_matrix),\n",
    "                                 columns = distance_matrix.columns)"
   ]
  },
  {
   "cell_type": "code",
   "execution_count": 18,
   "id": "952dc853",
   "metadata": {},
   "outputs": [
    {
     "data": {
      "text/plain": [
       "<AxesSubplot: xlabel='1', ylabel='Count'>"
      ]
     },
     "execution_count": 18,
     "metadata": {},
     "output_type": "execute_result"
    },
    {
     "data": {
      "image/png": "[encoded data removed]",
      "text/plain": [
       "<Figure size 640x480 with 1 Axes>"
      ]
     },
     "metadata": {},
     "output_type": "display_data"
    }
   ],
   "source": [
    "sns.histplot(scaled_distances,x='1')"
   ]
  },
  {
   "cell_type": "markdown",
   "id": "36269bdc",
   "metadata": {},
   "source": [
    "# Some important functions"
   ]
  },
  {
   "cell_type": "code",
   "execution_count": 19,
   "id": "6625f6eb",
   "metadata": {},
   "outputs": [],
   "source": [
    "#get distance between two coordinates\n",
    "def distance_bw_coordinates(x1,y1,x2,y2):\n",
    "    point1 = biomass_history_scaled.loc[(biomass_history_scaled['Latitude']==x1) & (biomass_history_scaled['Longitude']==y1)].index[0]\n",
    "    point2 = biomass_history_scaled.loc[(biomass_history_scaled['Latitude']==x2) & (biomass_history_scaled['Longitude']==y2)].index[0]\n",
    "    return scaled_distances.iloc[point1,point2]\n",
    "# distance_bw_coordinates(24.671875,71.3125,24.671875,71.4375)\n",
    "# 0.01617031498066282"
   ]
  },
  {
   "cell_type": "code",
   "execution_count": 20,
   "id": "2393d61b",
   "metadata": {},
   "outputs": [],
   "source": [
    "#get the biomass history at a particular coordinate\n",
    "def get_biomass_hist_scaled(x,y,year=None,data=biomass_history_scaled):\n",
    "    if(year!=None):\n",
    "        return data.loc[(data['Latitude']==x) & (data['Longitude']==y), str(year)][0]\n",
    "    else:\n",
    "        return data.loc[(data['Latitude']==x) & (data['Longitude']==y)]\n",
    "# get_biomass_hist_scaled(24.671875,71.3125,2010)\n",
    "# 0.009597778"
   ]
  },
  {
   "cell_type": "markdown",
   "id": "aa5cb5f9",
   "metadata": {},
   "source": [
    "# Splitting into train and test data"
   ]
  },
  {
   "cell_type": "code",
   "execution_count": 21,
   "id": "b40fb834",
   "metadata": {},
   "outputs": [],
   "source": [
    "test_df,train_df = biomass_history_scaled,biomass_history_scaled.drop(['2017'],axis=1)"
   ]
  },
  {
   "cell_type": "code",
   "execution_count": 22,
   "id": "56fbb2c5",
   "metadata": {},
   "outputs": [],
   "source": [
    "#for a particular coordinate this gives the train and the test data\n",
    "#x and y are the latitude and longitude and n is the number of dataset for train set\n",
    "#this will create batches of dataset\n",
    "def data_batch_generator(x,y,n=1,data=train_df):\n",
    "    data_x=[]\n",
    "    data_y=[]\n",
    "    data=np.array(get_biomass_hist_scaled(x,y,data=data))[0][3:]\n",
    "    xi=[]\n",
    "    yi=[]\n",
    "    test = test_df.iloc[:,-n-1:]\n",
    "    test_df_x = test.iloc[:,:-1]\n",
    "    test_df_y = test.iloc[:,-1]\n",
    "    idx = biomass_history_scaled.loc[(biomass_history_scaled['Latitude']==x) & (biomass_history_scaled['Longitude']==y)].index[0]\n",
    "    test_df_x = np.array(test_df_x.iloc[idx])\n",
    "    test_df_y = np.array(test_df_y.iloc[idx])\n",
    "    for i in range(len(data)-n+1):\n",
    "        try:\n",
    "            xi = data[i:i+n]\n",
    "            yi = data[i+n]\n",
    "            data_x.append(xi)\n",
    "            data_y.append(yi)\n",
    "            \n",
    "        except:\n",
    "            print(\"Data generation Successful\")\n",
    "    return np.array(data_x),np.array(data_y),np.array([test_df_x]),test_df_y.reshape(-1)\n",
    "\n",
    "# data_batch_generator(24.671875,71.3125,3)\n",
    "# ([array([0.00959778, 0.0114975 , 0.01055145], dtype=float32),\n",
    "#   array([0.0114975 , 0.01055145, 0.00488663], dtype=float32),\n",
    "#   array([0.01055145, 0.00488663, 0.01236725], dtype=float32),\n",
    "#   array([0.00488663, 0.01236725, 0.00862122], dtype=float32)],\n",
    "#  [array(0.00488663, dtype=float32),\n",
    "#   array(0.01236725, dtype=float32),\n",
    "#   array(0.00862122, dtype=float32),\n",
    "#   array(0.01437378, dtype=float32)],\n",
    "#  array([0.01236725, 0.00862122, 0.01437378], dtype=float32),\n",
    "#  array(0.00586319, dtype=float32))\n"
   ]
  },
  {
   "cell_type": "code",
   "execution_count": 23,
   "id": "fb8601f1",
   "metadata": {},
   "outputs": [
    {
     "name": "stdout",
     "output_type": "stream",
     "text": [
      "Data generation Successful\n"
     ]
    }
   ],
   "source": [
    "#for coordinates 24.671875,71.3125\n",
    "train_x,train_y,test_x,test_y = data_batch_generator(24.671875,71.3125,4)"
   ]
  },
  {
   "cell_type": "code",
   "execution_count": 24,
   "id": "00867a75",
   "metadata": {},
   "outputs": [
    {
     "name": "stdout",
     "output_type": "stream",
     "text": [
      "(3, 4)\n",
      "(3,)\n",
      "(1, 4)\n",
      "(1,)\n"
     ]
    }
   ],
   "source": [
    "print(train_x.shape)\n",
    "print(train_y.shape)\n",
    "print(test_x.shape)\n",
    "print(test_y.shape)"
   ]
  },
  {
   "cell_type": "markdown",
   "id": "0ed6dab1",
   "metadata": {},
   "source": [
    "# DNN"
   ]
  },
  {
   "cell_type": "code",
   "execution_count": 89,
   "id": "227848a0",
   "metadata": {},
   "outputs": [],
   "source": [
    "input_layer = Input(shape=(4,),name='input')\n",
    "dense_layer = Dense(units=32,activation='relu',name='d1')(input_layer)\n",
    "dense_layer = Dense(units=64, activation='relu',name='d2')(input_layer)\n",
    "dense_layer = Dense(units=128, activation='relu',name='d3')(dense_layer)\n",
    "dense_layer = Dense(units=256, activation='relu',name='d4')(dense_layer)\n",
    "dense_layer = Dense(units=512, activation='relu',name='d5')(dense_layer)\n",
    "dense_layer = Dense(units=1024, activation='relu',name='d6')(dense_layer)\n",
    "dense_layer = Dense(units=256, activation='relu',name='d7')(dense_layer)\n",
    "output_layer = Dense(units=1, activation='linear',name='output')(dense_layer)\n",
    "model = Model(inputs=input_layer, outputs=output_layer)"
   ]
  },
  {
   "cell_type": "code",
   "execution_count": 90,
   "id": "b7c9b6d2",
   "metadata": {},
   "outputs": [
    {
     "name": "stdout",
     "output_type": "stream",
     "text": [
      "Model: \"model_11\"\n",
      "_________________________________________________________________\n",
      " Layer (type)                Output Shape              Param #   \n",
      "=================================================================\n",
      " input (InputLayer)          [(None, 4)]               0         \n",
      "                                                                 \n",
      " d2 (Dense)                  (None, 64)                320       \n",
      "                                                                 \n",
      " d3 (Dense)                  (None, 128)               8320      \n",
      "                                                                 \n",
      " d4 (Dense)                  (None, 256)               33024     \n",
      "                                                                 \n",
      " d5 (Dense)                  (None, 512)               131584    \n",
      "                                                                 \n",
      " d6 (Dense)                  (None, 1024)              525312    \n",
      "                                                                 \n",
      " d7 (Dense)                  (None, 256)               262400    \n",
      "                                                                 \n",
      " output (Dense)              (None, 1)                 257       \n",
      "                                                                 \n",
      "=================================================================\n",
      "Total params: 961,217\n",
      "Trainable params: 961,217\n",
      "Non-trainable params: 0\n",
      "_________________________________________________________________\n"
     ]
    }
   ],
   "source": [
    "model.compile(optimizer='adam', loss='mean_squared_error',metrics=['accuracy'])\n",
    "model.summary()"
   ]
  },
  {
   "cell_type": "code",
   "execution_count": 91,
   "id": "cdd18e6c",
   "metadata": {},
   "outputs": [
    {
     "name": "stdout",
     "output_type": "stream",
     "text": [
      "Epoch 1/100\n",
      "1/1 - 1s - loss: 1.4143e-04 - accuracy: 0.0000e+00 - val_loss: 1.2188e-04 - val_accuracy: 0.0000e+00 - 907ms/epoch - 907ms/step\n",
      "Epoch 2/100\n",
      "1/1 - 0s - loss: 3.0695e-05 - accuracy: 0.0000e+00 - val_loss: 5.3527e-05 - val_accuracy: 0.0000e+00 - 32ms/epoch - 32ms/step\n",
      "Epoch 3/100\n",
      "1/1 - 0s - loss: 7.2827e-06 - accuracy: 0.0000e+00 - val_loss: 6.7517e-06 - val_accuracy: 0.0000e+00 - 34ms/epoch - 34ms/step\n",
      "Epoch 4/100\n",
      "1/1 - 0s - loss: 1.7010e-05 - accuracy: 0.0000e+00 - val_loss: 4.8359e-05 - val_accuracy: 0.0000e+00 - 33ms/epoch - 33ms/step\n",
      "Epoch 5/100\n",
      "1/1 - 0s - loss: 6.4936e-06 - accuracy: 0.0000e+00 - val_loss: 7.2305e-05 - val_accuracy: 0.0000e+00 - 34ms/epoch - 34ms/step\n",
      "Epoch 6/100\n",
      "1/1 - 0s - loss: 1.2220e-05 - accuracy: 0.0000e+00 - val_loss: 2.5373e-05 - val_accuracy: 0.0000e+00 - 32ms/epoch - 32ms/step\n",
      "Epoch 7/100\n",
      "1/1 - 0s - loss: 6.0793e-06 - accuracy: 0.0000e+00 - val_loss: 1.2598e-05 - val_accuracy: 0.0000e+00 - 30ms/epoch - 30ms/step\n",
      "Epoch 8/100\n",
      "1/1 - 0s - loss: 1.0720e-05 - accuracy: 0.0000e+00 - val_loss: 3.9348e-05 - val_accuracy: 0.0000e+00 - 32ms/epoch - 32ms/step\n",
      "Epoch 9/100\n",
      "1/1 - 0s - loss: 5.4905e-06 - accuracy: 0.0000e+00 - val_loss: 6.3937e-05 - val_accuracy: 0.0000e+00 - 31ms/epoch - 31ms/step\n",
      "Epoch 10/100\n",
      "1/1 - 0s - loss: 9.9171e-06 - accuracy: 0.0000e+00 - val_loss: 3.4162e-05 - val_accuracy: 0.0000e+00 - 32ms/epoch - 32ms/step\n",
      "Epoch 11/100\n",
      "1/1 - 0s - loss: 5.2729e-06 - accuracy: 0.0000e+00 - val_loss: 1.5708e-05 - val_accuracy: 0.0000e+00 - 30ms/epoch - 30ms/step\n",
      "Epoch 12/100\n",
      "1/1 - 0s - loss: 8.8404e-06 - accuracy: 0.0000e+00 - val_loss: 2.9671e-05 - val_accuracy: 0.0000e+00 - 32ms/epoch - 32ms/step\n",
      "Epoch 13/100\n",
      "1/1 - 0s - loss: 5.3268e-06 - accuracy: 0.0000e+00 - val_loss: 5.5525e-05 - val_accuracy: 0.0000e+00 - 31ms/epoch - 31ms/step\n",
      "Epoch 14/100\n",
      "1/1 - 0s - loss: 7.9687e-06 - accuracy: 0.0000e+00 - val_loss: 4.0056e-05 - val_accuracy: 0.0000e+00 - 31ms/epoch - 31ms/step\n",
      "Epoch 15/100\n",
      "1/1 - 0s - loss: 5.4397e-06 - accuracy: 0.0000e+00 - val_loss: 1.8768e-05 - val_accuracy: 0.0000e+00 - 33ms/epoch - 33ms/step\n",
      "Epoch 16/100\n",
      "1/1 - 0s - loss: 7.1314e-06 - accuracy: 0.0000e+00 - val_loss: 2.5583e-05 - val_accuracy: 0.0000e+00 - 30ms/epoch - 30ms/step\n",
      "Epoch 17/100\n",
      "1/1 - 0s - loss: 5.4991e-06 - accuracy: 0.0000e+00 - val_loss: 4.8305e-05 - val_accuracy: 0.0000e+00 - 31ms/epoch - 31ms/step\n",
      "Epoch 18/100\n",
      "1/1 - 0s - loss: 6.4705e-06 - accuracy: 0.0000e+00 - val_loss: 4.2349e-05 - val_accuracy: 0.0000e+00 - 30ms/epoch - 30ms/step\n",
      "Epoch 19/100\n",
      "1/1 - 0s - loss: 5.5678e-06 - accuracy: 0.0000e+00 - val_loss: 2.2102e-05 - val_accuracy: 0.0000e+00 - 30ms/epoch - 30ms/step\n",
      "Epoch 20/100\n",
      "1/1 - 0s - loss: 5.9965e-06 - accuracy: 0.0000e+00 - val_loss: 2.4315e-05 - val_accuracy: 0.0000e+00 - 29ms/epoch - 29ms/step\n",
      "Epoch 21/100\n",
      "1/1 - 0s - loss: 5.5138e-06 - accuracy: 0.0000e+00 - val_loss: 4.3407e-05 - val_accuracy: 0.0000e+00 - 30ms/epoch - 30ms/step\n",
      "Epoch 22/100\n",
      "1/1 - 0s - loss: 5.6738e-06 - accuracy: 0.0000e+00 - val_loss: 4.1237e-05 - val_accuracy: 0.0000e+00 - 29ms/epoch - 29ms/step\n",
      "Epoch 23/100\n",
      "1/1 - 0s - loss: 5.3914e-06 - accuracy: 0.0000e+00 - val_loss: 2.3442e-05 - val_accuracy: 0.0000e+00 - 43ms/epoch - 43ms/step\n",
      "Epoch 24/100\n",
      "1/1 - 0s - loss: 5.4636e-06 - accuracy: 0.0000e+00 - val_loss: 2.4861e-05 - val_accuracy: 0.0000e+00 - 36ms/epoch - 36ms/step\n",
      "Epoch 25/100\n",
      "1/1 - 0s - loss: 5.1918e-06 - accuracy: 0.0000e+00 - val_loss: 4.1285e-05 - val_accuracy: 0.0000e+00 - 29ms/epoch - 29ms/step\n",
      "Epoch 26/100\n",
      "1/1 - 0s - loss: 5.3336e-06 - accuracy: 0.0000e+00 - val_loss: 3.8032e-05 - val_accuracy: 0.0000e+00 - 32ms/epoch - 32ms/step\n",
      "Epoch 27/100\n",
      "1/1 - 0s - loss: 4.9722e-06 - accuracy: 0.0000e+00 - val_loss: 2.3292e-05 - val_accuracy: 0.0000e+00 - 30ms/epoch - 30ms/step\n",
      "Epoch 28/100\n",
      "1/1 - 0s - loss: 5.2392e-06 - accuracy: 0.0000e+00 - val_loss: 2.6963e-05 - val_accuracy: 0.0000e+00 - 29ms/epoch - 29ms/step\n",
      "Epoch 29/100\n",
      "1/1 - 0s - loss: 4.7202e-06 - accuracy: 0.0000e+00 - val_loss: 4.0533e-05 - val_accuracy: 0.0000e+00 - 30ms/epoch - 30ms/step\n",
      "Epoch 30/100\n",
      "1/1 - 0s - loss: 5.1462e-06 - accuracy: 0.0000e+00 - val_loss: 3.2953e-05 - val_accuracy: 0.0000e+00 - 30ms/epoch - 30ms/step\n",
      "Epoch 31/100\n",
      "1/1 - 0s - loss: 4.4976e-06 - accuracy: 0.0000e+00 - val_loss: 2.2760e-05 - val_accuracy: 0.0000e+00 - 30ms/epoch - 30ms/step\n",
      "Epoch 32/100\n",
      "1/1 - 0s - loss: 5.0301e-06 - accuracy: 0.0000e+00 - val_loss: 3.1398e-05 - val_accuracy: 0.0000e+00 - 34ms/epoch - 34ms/step\n",
      "Epoch 33/100\n",
      "1/1 - 0s - loss: 4.3579e-06 - accuracy: 0.0000e+00 - val_loss: 3.7945e-05 - val_accuracy: 0.0000e+00 - 36ms/epoch - 36ms/step\n",
      "Epoch 34/100\n",
      "1/1 - 0s - loss: 4.7632e-06 - accuracy: 0.0000e+00 - val_loss: 2.6056e-05 - val_accuracy: 0.0000e+00 - 38ms/epoch - 38ms/step\n",
      "Epoch 35/100\n",
      "1/1 - 0s - loss: 4.3509e-06 - accuracy: 0.0000e+00 - val_loss: 2.4827e-05 - val_accuracy: 0.0000e+00 - 38ms/epoch - 38ms/step\n",
      "Epoch 36/100\n",
      "1/1 - 0s - loss: 4.3695e-06 - accuracy: 0.0000e+00 - val_loss: 3.5533e-05 - val_accuracy: 0.0000e+00 - 36ms/epoch - 36ms/step\n",
      "Epoch 37/100\n",
      "1/1 - 0s - loss: 4.4170e-06 - accuracy: 0.0000e+00 - val_loss: 2.9788e-05 - val_accuracy: 0.0000e+00 - 33ms/epoch - 33ms/step\n",
      "Epoch 38/100\n",
      "1/1 - 0s - loss: 4.0437e-06 - accuracy: 0.0000e+00 - val_loss: 2.3067e-05 - val_accuracy: 0.0000e+00 - 31ms/epoch - 31ms/step\n",
      "Epoch 39/100\n",
      "1/1 - 0s - loss: 4.2895e-06 - accuracy: 0.0000e+00 - val_loss: 3.1960e-05 - val_accuracy: 0.0000e+00 - 31ms/epoch - 31ms/step\n",
      "Epoch 40/100\n",
      "1/1 - 0s - loss: 4.0073e-06 - accuracy: 0.0000e+00 - val_loss: 3.1260e-05 - val_accuracy: 0.0000e+00 - 32ms/epoch - 32ms/step\n",
      "Epoch 41/100\n",
      "1/1 - 0s - loss: 3.9141e-06 - accuracy: 0.0000e+00 - val_loss: 2.2789e-05 - val_accuracy: 0.0000e+00 - 31ms/epoch - 31ms/step\n",
      "Epoch 42/100\n",
      "1/1 - 0s - loss: 4.0333e-06 - accuracy: 0.0000e+00 - val_loss: 2.9665e-05 - val_accuracy: 0.0000e+00 - 31ms/epoch - 31ms/step\n",
      "Epoch 43/100\n",
      "1/1 - 0s - loss: 3.7237e-06 - accuracy: 0.0000e+00 - val_loss: 3.0581e-05 - val_accuracy: 0.0000e+00 - 31ms/epoch - 31ms/step\n",
      "Epoch 44/100\n",
      "1/1 - 0s - loss: 3.6987e-06 - accuracy: 0.0000e+00 - val_loss: 2.2371e-05 - val_accuracy: 0.0000e+00 - 31ms/epoch - 31ms/step\n",
      "Epoch 45/100\n",
      "1/1 - 0s - loss: 3.7539e-06 - accuracy: 0.0000e+00 - val_loss: 2.9154e-05 - val_accuracy: 0.0000e+00 - 30ms/epoch - 30ms/step\n",
      "Epoch 46/100\n",
      "1/1 - 0s - loss: 3.4940e-06 - accuracy: 0.0000e+00 - val_loss: 2.8230e-05 - val_accuracy: 0.0000e+00 - 30ms/epoch - 30ms/step\n",
      "Epoch 47/100\n",
      "1/1 - 0s - loss: 3.3828e-06 - accuracy: 0.0000e+00 - val_loss: 2.1913e-05 - val_accuracy: 0.0000e+00 - 30ms/epoch - 30ms/step\n",
      "Epoch 48/100\n",
      "1/1 - 0s - loss: 3.4458e-06 - accuracy: 0.0000e+00 - val_loss: 2.9953e-05 - val_accuracy: 0.0000e+00 - 31ms/epoch - 31ms/step\n",
      "Epoch 49/100\n",
      "1/1 - 0s - loss: 3.2854e-06 - accuracy: 0.0000e+00 - val_loss: 2.3582e-05 - val_accuracy: 0.0000e+00 - 30ms/epoch - 30ms/step\n",
      "Epoch 50/100\n",
      "1/1 - 0s - loss: 3.0542e-06 - accuracy: 0.0000e+00 - val_loss: 2.4452e-05 - val_accuracy: 0.0000e+00 - 31ms/epoch - 31ms/step\n",
      "Epoch 51/100\n",
      "1/1 - 0s - loss: 2.9218e-06 - accuracy: 0.0000e+00 - val_loss: 2.8162e-05 - val_accuracy: 0.0000e+00 - 31ms/epoch - 31ms/step\n",
      "Epoch 52/100\n",
      "1/1 - 0s - loss: 2.9273e-06 - accuracy: 0.0000e+00 - val_loss: 1.9253e-05 - val_accuracy: 0.0000e+00 - 31ms/epoch - 31ms/step\n",
      "Epoch 53/100\n",
      "1/1 - 0s - loss: 2.9869e-06 - accuracy: 0.0000e+00 - val_loss: 3.0531e-05 - val_accuracy: 0.0000e+00 - 29ms/epoch - 29ms/step\n",
      "Epoch 54/100\n",
      "1/1 - 0s - loss: 3.0387e-06 - accuracy: 0.0000e+00 - val_loss: 1.6276e-05 - val_accuracy: 0.0000e+00 - 29ms/epoch - 29ms/step\n",
      "Epoch 55/100\n",
      "1/1 - 0s - loss: 3.0998e-06 - accuracy: 0.0000e+00 - val_loss: 3.2487e-05 - val_accuracy: 0.0000e+00 - 30ms/epoch - 30ms/step\n",
      "Epoch 56/100\n",
      "1/1 - 0s - loss: 3.2638e-06 - accuracy: 0.0000e+00 - val_loss: 1.2323e-05 - val_accuracy: 0.0000e+00 - 30ms/epoch - 30ms/step\n",
      "Epoch 57/100\n",
      "1/1 - 0s - loss: 3.7238e-06 - accuracy: 0.0000e+00 - val_loss: 3.8715e-05 - val_accuracy: 0.0000e+00 - 30ms/epoch - 30ms/step\n",
      "Epoch 58/100\n",
      "1/1 - 0s - loss: 4.6297e-06 - accuracy: 0.0000e+00 - val_loss: 7.2425e-06 - val_accuracy: 0.0000e+00 - 37ms/epoch - 37ms/step\n",
      "Epoch 59/100\n",
      "1/1 - 0s - loss: 5.8599e-06 - accuracy: 0.0000e+00 - val_loss: 4.4663e-05 - val_accuracy: 0.0000e+00 - 37ms/epoch - 37ms/step\n",
      "Epoch 60/100\n",
      "1/1 - 0s - loss: 6.4904e-06 - accuracy: 0.0000e+00 - val_loss: 7.3524e-06 - val_accuracy: 0.0000e+00 - 36ms/epoch - 36ms/step\n",
      "Epoch 61/100\n",
      "1/1 - 0s - loss: 5.2609e-06 - accuracy: 0.0000e+00 - val_loss: 3.0287e-05 - val_accuracy: 0.0000e+00 - 52ms/epoch - 52ms/step\n",
      "Epoch 62/100\n",
      "1/1 - 0s - loss: 2.8245e-06 - accuracy: 0.0000e+00 - val_loss: 2.0464e-05 - val_accuracy: 0.0000e+00 - 39ms/epoch - 39ms/step\n",
      "Epoch 63/100\n",
      "1/1 - 0s - loss: 1.7157e-06 - accuracy: 0.0000e+00 - val_loss: 1.1432e-05 - val_accuracy: 0.0000e+00 - 38ms/epoch - 38ms/step\n",
      "Epoch 64/100\n",
      "1/1 - 0s - loss: 2.7254e-06 - accuracy: 0.0000e+00 - val_loss: 3.6297e-05 - val_accuracy: 0.0000e+00 - 37ms/epoch - 37ms/step\n",
      "Epoch 65/100\n",
      "1/1 - 0s - loss: 4.3404e-06 - accuracy: 0.0000e+00 - val_loss: 6.4479e-06 - val_accuracy: 0.0000e+00 - 37ms/epoch - 37ms/step\n",
      "Epoch 66/100\n",
      "1/1 - 0s - loss: 4.7282e-06 - accuracy: 0.0000e+00 - val_loss: 3.1771e-05 - val_accuracy: 0.0000e+00 - 36ms/epoch - 36ms/step\n",
      "Epoch 67/100\n",
      "1/1 - 0s - loss: 3.2825e-06 - accuracy: 0.0000e+00 - val_loss: 1.3337e-05 - val_accuracy: 0.0000e+00 - 35ms/epoch - 35ms/step\n",
      "Epoch 68/100\n",
      "1/1 - 0s - loss: 1.6034e-06 - accuracy: 0.0000e+00 - val_loss: 1.4836e-05 - val_accuracy: 0.0000e+00 - 36ms/epoch - 36ms/step\n",
      "Epoch 69/100\n",
      "1/1 - 0s - loss: 1.3100e-06 - accuracy: 0.0000e+00 - val_loss: 2.6986e-05 - val_accuracy: 0.0000e+00 - 39ms/epoch - 39ms/step\n",
      "Epoch 70/100\n",
      "1/1 - 0s - loss: 2.2859e-06 - accuracy: 0.0000e+00 - val_loss: 6.5834e-06 - val_accuracy: 0.0000e+00 - 34ms/epoch - 34ms/step\n",
      "Epoch 71/100\n",
      "1/1 - 0s - loss: 3.5072e-06 - accuracy: 0.0000e+00 - val_loss: 3.2735e-05 - val_accuracy: 0.0000e+00 - 36ms/epoch - 36ms/step\n",
      "Epoch 72/100\n",
      "1/1 - 0s - loss: 3.8882e-06 - accuracy: 0.0000e+00 - val_loss: 6.5218e-06 - val_accuracy: 0.0000e+00 - 37ms/epoch - 37ms/step\n",
      "Epoch 73/100\n",
      "1/1 - 0s - loss: 3.1765e-06 - accuracy: 0.0000e+00 - val_loss: 2.3910e-05 - val_accuracy: 0.0000e+00 - 36ms/epoch - 36ms/step\n",
      "Epoch 74/100\n",
      "1/1 - 0s - loss: 1.7528e-06 - accuracy: 0.0000e+00 - val_loss: 1.3525e-05 - val_accuracy: 0.0000e+00 - 36ms/epoch - 36ms/step\n",
      "Epoch 75/100\n",
      "1/1 - 0s - loss: 8.3680e-07 - accuracy: 0.0000e+00 - val_loss: 1.1713e-05 - val_accuracy: 0.0000e+00 - 36ms/epoch - 36ms/step\n",
      "Epoch 76/100\n",
      "1/1 - 0s - loss: 9.0783e-07 - accuracy: 0.0000e+00 - val_loss: 2.2742e-05 - val_accuracy: 0.0000e+00 - 36ms/epoch - 36ms/step\n",
      "Epoch 77/100\n",
      "1/1 - 0s - loss: 1.6879e-06 - accuracy: 0.0000e+00 - val_loss: 5.2244e-06 - val_accuracy: 0.0000e+00 - 34ms/epoch - 34ms/step\n",
      "Epoch 78/100\n",
      "1/1 - 0s - loss: 2.8409e-06 - accuracy: 0.0000e+00 - val_loss: 2.9532e-05 - val_accuracy: 0.0000e+00 - 35ms/epoch - 35ms/step\n",
      "Epoch 79/100\n",
      "1/1 - 0s - loss: 3.8376e-06 - accuracy: 0.0000e+00 - val_loss: 2.9878e-06 - val_accuracy: 0.0000e+00 - 33ms/epoch - 33ms/step\n",
      "Epoch 80/100\n",
      "1/1 - 0s - loss: 4.5303e-06 - accuracy: 0.0000e+00 - val_loss: 2.8940e-05 - val_accuracy: 0.0000e+00 - 34ms/epoch - 34ms/step\n",
      "Epoch 81/100\n",
      "1/1 - 0s - loss: 3.7878e-06 - accuracy: 0.0000e+00 - val_loss: 5.6261e-06 - val_accuracy: 0.0000e+00 - 33ms/epoch - 33ms/step\n",
      "Epoch 82/100\n",
      "1/1 - 0s - loss: 2.2045e-06 - accuracy: 0.0000e+00 - val_loss: 1.6637e-05 - val_accuracy: 0.0000e+00 - 32ms/epoch - 32ms/step\n",
      "Epoch 83/100\n",
      "1/1 - 0s - loss: 6.7986e-07 - accuracy: 0.0000e+00 - val_loss: 1.6105e-05 - val_accuracy: 0.0000e+00 - 31ms/epoch - 31ms/step\n",
      "Epoch 84/100\n",
      "1/1 - 0s - loss: 6.1685e-07 - accuracy: 0.0000e+00 - val_loss: 5.9387e-06 - val_accuracy: 0.0000e+00 - 32ms/epoch - 32ms/step\n",
      "Epoch 85/100\n",
      "1/1 - 0s - loss: 1.6793e-06 - accuracy: 0.0000e+00 - val_loss: 2.3993e-05 - val_accuracy: 0.0000e+00 - 33ms/epoch - 33ms/step\n",
      "Epoch 86/100\n",
      "1/1 - 0s - loss: 2.4959e-06 - accuracy: 0.0000e+00 - val_loss: 4.2606e-06 - val_accuracy: 0.0000e+00 - 34ms/epoch - 34ms/step\n",
      "Epoch 87/100\n",
      "1/1 - 0s - loss: 2.1771e-06 - accuracy: 0.0000e+00 - val_loss: 1.7928e-05 - val_accuracy: 0.0000e+00 - 32ms/epoch - 32ms/step\n",
      "Epoch 88/100\n",
      "1/1 - 0s - loss: 1.1139e-06 - accuracy: 0.0000e+00 - val_loss: 8.9792e-06 - val_accuracy: 0.0000e+00 - 33ms/epoch - 33ms/step\n",
      "Epoch 89/100\n",
      "1/1 - 0s - loss: 3.3227e-07 - accuracy: 0.0000e+00 - val_loss: 8.5454e-06 - val_accuracy: 0.0000e+00 - 35ms/epoch - 35ms/step\n",
      "Epoch 90/100\n",
      "1/1 - 0s - loss: 3.2998e-07 - accuracy: 0.0000e+00 - val_loss: 1.6480e-05 - val_accuracy: 0.0000e+00 - 32ms/epoch - 32ms/step\n",
      "Epoch 91/100\n",
      "1/1 - 0s - loss: 9.2348e-07 - accuracy: 0.0000e+00 - val_loss: 3.8602e-06 - val_accuracy: 0.0000e+00 - 34ms/epoch - 34ms/step\n",
      "Epoch 92/100\n",
      "1/1 - 0s - loss: 1.6118e-06 - accuracy: 0.0000e+00 - val_loss: 1.9664e-05 - val_accuracy: 0.0000e+00 - 31ms/epoch - 31ms/step\n",
      "Epoch 93/100\n",
      "1/1 - 0s - loss: 1.9335e-06 - accuracy: 0.0000e+00 - val_loss: 3.1016e-06 - val_accuracy: 0.0000e+00 - 33ms/epoch - 33ms/step\n",
      "Epoch 94/100\n",
      "1/1 - 0s - loss: 1.8259e-06 - accuracy: 0.0000e+00 - val_loss: 1.7879e-05 - val_accuracy: 0.0000e+00 - 33ms/epoch - 33ms/step\n",
      "Epoch 95/100\n",
      "1/1 - 0s - loss: 1.5182e-06 - accuracy: 0.0000e+00 - val_loss: 4.6180e-06 - val_accuracy: 0.0000e+00 - 34ms/epoch - 34ms/step\n",
      "Epoch 96/100\n",
      "1/1 - 0s - loss: 9.4986e-07 - accuracy: 0.0000e+00 - val_loss: 1.2674e-05 - val_accuracy: 0.0000e+00 - 30ms/epoch - 30ms/step\n",
      "Epoch 97/100\n",
      "1/1 - 0s - loss: 3.5992e-07 - accuracy: 0.0000e+00 - val_loss: 8.9963e-06 - val_accuracy: 0.0000e+00 - 30ms/epoch - 30ms/step\n",
      "Epoch 98/100\n",
      "1/1 - 0s - loss: 9.3889e-08 - accuracy: 0.0000e+00 - val_loss: 6.9761e-06 - val_accuracy: 0.0000e+00 - 36ms/epoch - 36ms/step\n",
      "Epoch 99/100\n",
      "1/1 - 0s - loss: 2.2461e-07 - accuracy: 0.0000e+00 - val_loss: 1.3671e-05 - val_accuracy: 0.0000e+00 - 40ms/epoch - 40ms/step\n",
      "Epoch 100/100\n",
      "1/1 - 0s - loss: 5.9585e-07 - accuracy: 0.0000e+00 - val_loss: 3.8711e-06 - val_accuracy: 0.0000e+00 - 30ms/epoch - 30ms/step\n"
     ]
    },
    {
     "data": {
      "text/plain": [
       "<keras.callbacks.History at 0x1d32a511690>"
      ]
     },
     "execution_count": 91,
     "metadata": {},
     "output_type": "execute_result"
    }
   ],
   "source": [
    "model.fit(train_x,train_y,validation_data=(test_x,test_y),verbose=2,epochs=100)"
   ]
  },
  {
   "cell_type": "code",
   "execution_count": 103,
   "id": "9e0ff26e",
   "metadata": {},
   "outputs": [
    {
     "name": "stdout",
     "output_type": "stream",
     "text": [
      "1/1 [==============================] - 0s 16ms/step\n"
     ]
    }
   ],
   "source": [
    "prediction = model.predict(test_x)"
   ]
  },
  {
   "cell_type": "code",
   "execution_count": 123,
   "id": "af32d6eb",
   "metadata": {},
   "outputs": [],
   "source": [
    "inverse_transformed_prediction = ct.named_transformers_['std'].inverse_transform(\n",
    "     np.hstack([get_biomass_hist_scaled(24.671875,71.3125).iloc[:,3:-1],prediction])\n",
    ")"
   ]
  },
  {
   "cell_type": "code",
   "execution_count": 125,
   "id": "f73ab401",
   "metadata": {},
   "outputs": [
    {
     "data": {
      "text/plain": [
       "array([[ 8.478675 ,  8.86512  ,  9.204971 ,  6.0252056, 10.788841 ,\n",
       "         6.6471505,  7.3883886,  6.9177217]], dtype=float32)"
      ]
     },
     "execution_count": 125,
     "metadata": {},
     "output_type": "execute_result"
    }
   ],
   "source": [
    "inverse_transformed_prediction"
   ]
  },
  {
   "cell_type": "markdown",
   "id": "133f35c2",
   "metadata": {},
   "source": [
    "# LSTM"
   ]
  },
  {
   "cell_type": "code",
   "execution_count": 228,
   "id": "f2316d10",
   "metadata": {},
   "outputs": [
    {
     "name": "stdout",
     "output_type": "stream",
     "text": [
      "Model: \"sequential_13\"\n",
      "_________________________________________________________________\n",
      " Layer (type)                Output Shape              Param #   \n",
      "=================================================================\n",
      " lstm_13 (LSTM)              (None, 64)                17664     \n",
      "                                                                 \n",
      " dense_47 (Dense)            (None, 32)                2080      \n",
      "                                                                 \n",
      " dense_48 (Dense)            (None, 1)                 33        \n",
      "                                                                 \n",
      "=================================================================\n",
      "Total params: 19,777\n",
      "Trainable params: 19,777\n",
      "Non-trainable params: 0\n",
      "_________________________________________________________________\n"
     ]
    }
   ],
   "source": [
    "# input_layer = Input(shape=(4,),name='input')\n",
    "# dense_layer = LSTM(64,name='lstm',input_shape=(None,4))(input_layer)\n",
    "# dense_layer = Dense(32,name='d1')(dese_layer)\n",
    "# output_layer = Dense(1,name='output')(dese_layer)\n",
    "# model = Model(inputs=input_layer, outputs=output_layer)\n",
    "model=Sequential()\n",
    "model.add(LSTM(64,input_shape=(None,4)))\n",
    "model.add(Dense(32))\n",
    "# model.add(Dense(256))\n",
    "# model.add(Dense(16))\n",
    "# model.add(Dense(64))\n",
    "# model.add(Dense(8))\n",
    "model.add(Dense(1))\n",
    "model.compile(loss='mean_squared_error',optimizer='adam')\n",
    "model.summary()"
   ]
  },
  {
   "cell_type": "code",
   "execution_count": 229,
   "id": "46a41a98",
   "metadata": {},
   "outputs": [],
   "source": [
    "trainX = np.reshape(train_x,(train_x.shape[0],1,train_x.shape[1]))    \n",
    "testX = np.reshape(test_x,(test_x.shape[0],1,test_x.shape[1]))"
   ]
  },
  {
   "cell_type": "code",
   "execution_count": 230,
   "id": "ec3c3157",
   "metadata": {},
   "outputs": [
    {
     "name": "stdout",
     "output_type": "stream",
     "text": [
      "Epoch 1/100\n",
      "1/1 - 2s - loss: 1.5194e-04 - val_loss: 2.5448e-05 - 2s/epoch - 2s/step\n",
      "Epoch 2/100\n",
      "1/1 - 0s - loss: 6.3836e-06 - val_loss: 1.7324e-04 - 23ms/epoch - 23ms/step\n",
      "Epoch 3/100\n",
      "1/1 - 0s - loss: 6.0854e-05 - val_loss: 2.1372e-04 - 25ms/epoch - 25ms/step\n",
      "Epoch 4/100\n",
      "1/1 - 0s - loss: 8.4594e-05 - val_loss: 1.4633e-04 - 28ms/epoch - 28ms/step\n",
      "Epoch 5/100\n",
      "1/1 - 0s - loss: 4.6271e-05 - val_loss: 6.3014e-05 - 36ms/epoch - 36ms/step\n",
      "Epoch 6/100\n",
      "1/1 - 0s - loss: 1.0706e-05 - val_loss: 1.3777e-05 - 27ms/epoch - 27ms/step\n",
      "Epoch 7/100\n",
      "1/1 - 0s - loss: 9.8330e-06 - val_loss: 4.8156e-07 - 28ms/epoch - 28ms/step\n",
      "Epoch 8/100\n",
      "1/1 - 0s - loss: 3.0942e-05 - val_loss: 1.7525e-07 - 29ms/epoch - 29ms/step\n",
      "Epoch 9/100\n",
      "1/1 - 0s - loss: 4.3240e-05 - val_loss: 7.8391e-08 - 28ms/epoch - 28ms/step\n",
      "Epoch 10/100\n",
      "1/1 - 0s - loss: 3.5110e-05 - val_loss: 5.0962e-06 - 26ms/epoch - 26ms/step\n",
      "Epoch 11/100\n",
      "1/1 - 0s - loss: 1.7549e-05 - val_loss: 2.3583e-05 - 27ms/epoch - 27ms/step\n",
      "Epoch 12/100\n",
      "1/1 - 0s - loss: 6.3995e-06 - val_loss: 5.4635e-05 - 26ms/epoch - 26ms/step\n",
      "Epoch 13/100\n",
      "1/1 - 0s - loss: 8.5554e-06 - val_loss: 8.5396e-05 - 26ms/epoch - 26ms/step\n",
      "Epoch 14/100\n",
      "1/1 - 0s - loss: 1.8256e-05 - val_loss: 1.0022e-04 - 33ms/epoch - 33ms/step\n",
      "Epoch 15/100\n",
      "1/1 - 0s - loss: 2.4331e-05 - val_loss: 9.3060e-05 - 27ms/epoch - 27ms/step\n",
      "Epoch 16/100\n",
      "1/1 - 0s - loss: 2.1338e-05 - val_loss: 7.0233e-05 - 25ms/epoch - 25ms/step\n",
      "Epoch 17/100\n",
      "1/1 - 0s - loss: 1.2910e-05 - val_loss: 4.3658e-05 - 26ms/epoch - 26ms/step\n",
      "Epoch 18/100\n",
      "1/1 - 0s - loss: 6.4453e-06 - val_loss: 2.2904e-05 - 26ms/epoch - 26ms/step\n",
      "Epoch 19/100\n",
      "1/1 - 0s - loss: 6.2956e-06 - val_loss: 1.1196e-05 - 25ms/epoch - 25ms/step\n",
      "Epoch 20/100\n",
      "1/1 - 0s - loss: 1.0821e-05 - val_loss: 6.7203e-06 - 24ms/epoch - 24ms/step\n",
      "Epoch 21/100\n",
      "1/1 - 0s - loss: 1.4795e-05 - val_loss: 6.9306e-06 - 25ms/epoch - 25ms/step\n",
      "Epoch 22/100\n",
      "1/1 - 0s - loss: 1.4489e-05 - val_loss: 1.1394e-05 - 24ms/epoch - 24ms/step\n",
      "Epoch 23/100\n",
      "1/1 - 0s - loss: 1.0528e-05 - val_loss: 2.0983e-05 - 24ms/epoch - 24ms/step\n",
      "Epoch 24/100\n",
      "1/1 - 0s - loss: 6.5073e-06 - val_loss: 3.5105e-05 - 24ms/epoch - 24ms/step\n",
      "Epoch 25/100\n",
      "1/1 - 0s - loss: 5.4831e-06 - val_loss: 5.0031e-05 - 25ms/epoch - 25ms/step\n",
      "Epoch 26/100\n",
      "1/1 - 0s - loss: 7.4927e-06 - val_loss: 6.0189e-05 - 24ms/epoch - 24ms/step\n",
      "Epoch 27/100\n",
      "1/1 - 0s - loss: 9.9620e-06 - val_loss: 6.1587e-05 - 25ms/epoch - 25ms/step\n",
      "Epoch 28/100\n",
      "1/1 - 0s - loss: 1.0362e-05 - val_loss: 5.4335e-05 - 23ms/epoch - 23ms/step\n",
      "Epoch 29/100\n",
      "1/1 - 0s - loss: 8.4498e-06 - val_loss: 4.2191e-05 - 25ms/epoch - 25ms/step\n",
      "Epoch 30/100\n",
      "1/1 - 0s - loss: 6.0923e-06 - val_loss: 2.9932e-05 - 25ms/epoch - 25ms/step\n",
      "Epoch 31/100\n",
      "1/1 - 0s - loss: 5.2495e-06 - val_loss: 2.0851e-05 - 26ms/epoch - 26ms/step\n",
      "Epoch 32/100\n",
      "1/1 - 0s - loss: 6.2164e-06 - val_loss: 1.5999e-05 - 23ms/epoch - 23ms/step\n",
      "Epoch 33/100\n",
      "1/1 - 0s - loss: 7.6205e-06 - val_loss: 1.5103e-05 - 21ms/epoch - 21ms/step\n",
      "Epoch 34/100\n",
      "1/1 - 0s - loss: 7.9346e-06 - val_loss: 1.7762e-05 - 22ms/epoch - 22ms/step\n",
      "Epoch 35/100\n",
      "1/1 - 0s - loss: 6.9021e-06 - val_loss: 2.3623e-05 - 24ms/epoch - 24ms/step\n",
      "Epoch 36/100\n",
      "1/1 - 0s - loss: 5.5646e-06 - val_loss: 3.1658e-05 - 23ms/epoch - 23ms/step\n",
      "Epoch 37/100\n",
      "1/1 - 0s - loss: 5.0892e-06 - val_loss: 3.9655e-05 - 22ms/epoch - 22ms/step\n",
      "Epoch 38/100\n",
      "1/1 - 0s - loss: 5.6539e-06 - val_loss: 4.4836e-05 - 22ms/epoch - 22ms/step\n",
      "Epoch 39/100\n",
      "1/1 - 0s - loss: 6.4230e-06 - val_loss: 4.5337e-05 - 22ms/epoch - 22ms/step\n",
      "Epoch 40/100\n",
      "1/1 - 0s - loss: 6.5060e-06 - val_loss: 4.1298e-05 - 23ms/epoch - 23ms/step\n",
      "Epoch 41/100\n",
      "1/1 - 0s - loss: 5.8353e-06 - val_loss: 3.4657e-05 - 21ms/epoch - 21ms/step\n",
      "Epoch 42/100\n",
      "1/1 - 0s - loss: 5.1027e-06 - val_loss: 2.7914e-05 - 22ms/epoch - 22ms/step\n",
      "Epoch 43/100\n",
      "1/1 - 0s - loss: 4.9530e-06 - val_loss: 2.2936e-05 - 21ms/epoch - 21ms/step\n",
      "Epoch 44/100\n",
      "1/1 - 0s - loss: 5.3487e-06 - val_loss: 2.0558e-05 - 23ms/epoch - 23ms/step\n",
      "Epoch 45/100\n",
      "1/1 - 0s - loss: 5.7149e-06 - val_loss: 2.0880e-05 - 21ms/epoch - 21ms/step\n",
      "Epoch 46/100\n",
      "1/1 - 0s - loss: 5.6065e-06 - val_loss: 2.3602e-05 - 23ms/epoch - 23ms/step\n",
      "Epoch 47/100\n",
      "1/1 - 0s - loss: 5.1423e-06 - val_loss: 2.8007e-05 - 21ms/epoch - 21ms/step\n",
      "Epoch 48/100\n",
      "1/1 - 0s - loss: 4.7933e-06 - val_loss: 3.2809e-05 - 23ms/epoch - 23ms/step\n",
      "Epoch 49/100\n",
      "1/1 - 0s - loss: 4.8375e-06 - val_loss: 3.6376e-05 - 21ms/epoch - 21ms/step\n",
      "Epoch 50/100\n",
      "1/1 - 0s - loss: 5.0966e-06 - val_loss: 3.7427e-05 - 22ms/epoch - 22ms/step\n",
      "Epoch 51/100\n",
      "1/1 - 0s - loss: 5.1952e-06 - val_loss: 3.5711e-05 - 21ms/epoch - 21ms/step\n",
      "Epoch 52/100\n",
      "1/1 - 0s - loss: 4.9951e-06 - val_loss: 3.2098e-05 - 22ms/epoch - 22ms/step\n",
      "Epoch 53/100\n",
      "1/1 - 0s - loss: 4.7073e-06 - val_loss: 2.8034e-05 - 22ms/epoch - 22ms/step\n",
      "Epoch 54/100\n",
      "1/1 - 0s - loss: 4.6059e-06 - val_loss: 2.4825e-05 - 21ms/epoch - 21ms/step\n",
      "Epoch 55/100\n",
      "1/1 - 0s - loss: 4.7164e-06 - val_loss: 2.3232e-05 - 22ms/epoch - 22ms/step\n",
      "Epoch 56/100\n",
      "1/1 - 0s - loss: 4.8267e-06 - val_loss: 2.3461e-05 - 21ms/epoch - 21ms/step\n",
      "Epoch 57/100\n",
      "1/1 - 0s - loss: 4.7620e-06 - val_loss: 2.5273e-05 - 21ms/epoch - 21ms/step\n",
      "Epoch 58/100\n",
      "1/1 - 0s - loss: 4.5757e-06 - val_loss: 2.8028e-05 - 32ms/epoch - 32ms/step\n",
      "Epoch 59/100\n",
      "1/1 - 0s - loss: 4.4520e-06 - val_loss: 3.0757e-05 - 28ms/epoch - 28ms/step\n",
      "Epoch 60/100\n",
      "1/1 - 0s - loss: 4.4742e-06 - val_loss: 3.2449e-05 - 24ms/epoch - 24ms/step\n",
      "Epoch 61/100\n",
      "1/1 - 0s - loss: 4.5441e-06 - val_loss: 3.2488e-05 - 29ms/epoch - 29ms/step\n",
      "Epoch 62/100\n",
      "1/1 - 0s - loss: 4.5249e-06 - val_loss: 3.0956e-05 - 26ms/epoch - 26ms/step\n",
      "Epoch 63/100\n",
      "1/1 - 0s - loss: 4.4087e-06 - val_loss: 2.8549e-05 - 26ms/epoch - 26ms/step\n",
      "Epoch 64/100\n",
      "1/1 - 0s - loss: 4.3049e-06 - val_loss: 2.6190e-05 - 23ms/epoch - 23ms/step\n",
      "Epoch 65/100\n",
      "1/1 - 0s - loss: 4.2906e-06 - val_loss: 2.4627e-05 - 23ms/epoch - 23ms/step\n",
      "Epoch 66/100\n",
      "1/1 - 0s - loss: 4.3228e-06 - val_loss: 2.4233e-05 - 21ms/epoch - 21ms/step\n",
      "Epoch 67/100\n",
      "1/1 - 0s - loss: 4.3098e-06 - val_loss: 2.4988e-05 - 22ms/epoch - 22ms/step\n",
      "Epoch 68/100\n",
      "1/1 - 0s - loss: 4.2314e-06 - val_loss: 2.6522e-05 - 22ms/epoch - 22ms/step\n",
      "Epoch 69/100\n",
      "1/1 - 0s - loss: 4.1519e-06 - val_loss: 2.8211e-05 - 23ms/epoch - 23ms/step\n",
      "Epoch 70/100\n",
      "1/1 - 0s - loss: 4.1266e-06 - val_loss: 2.9370e-05 - 21ms/epoch - 21ms/step\n",
      "Epoch 71/100\n",
      "1/1 - 0s - loss: 4.1343e-06 - val_loss: 2.9538e-05 - 22ms/epoch - 22ms/step\n",
      "Epoch 72/100\n",
      "1/1 - 0s - loss: 4.1157e-06 - val_loss: 2.8683e-05 - 21ms/epoch - 21ms/step\n",
      "Epoch 73/100\n",
      "1/1 - 0s - loss: 4.0556e-06 - val_loss: 2.7199e-05 - 23ms/epoch - 23ms/step\n",
      "Epoch 74/100\n",
      "1/1 - 0s - loss: 3.9947e-06 - val_loss: 2.5680e-05 - 22ms/epoch - 22ms/step\n",
      "Epoch 75/100\n",
      "1/1 - 0s - loss: 3.9683e-06 - val_loss: 2.4652e-05 - 22ms/epoch - 22ms/step\n",
      "Epoch 76/100\n",
      "1/1 - 0s - loss: 3.9610e-06 - val_loss: 2.4393e-05 - 21ms/epoch - 21ms/step\n",
      "Epoch 77/100\n",
      "1/1 - 0s - loss: 3.9352e-06 - val_loss: 2.4882e-05 - 23ms/epoch - 23ms/step\n",
      "Epoch 78/100\n",
      "1/1 - 0s - loss: 3.8844e-06 - val_loss: 2.5836e-05 - 21ms/epoch - 21ms/step\n",
      "Epoch 79/100\n",
      "1/1 - 0s - loss: 3.8365e-06 - val_loss: 2.6807e-05 - 22ms/epoch - 22ms/step\n",
      "Epoch 80/100\n",
      "1/1 - 0s - loss: 3.8111e-06 - val_loss: 2.7352e-05 - 21ms/epoch - 21ms/step\n",
      "Epoch 81/100\n",
      "1/1 - 0s - loss: 3.7942e-06 - val_loss: 2.7229e-05 - 22ms/epoch - 22ms/step\n",
      "Epoch 82/100\n",
      "1/1 - 0s - loss: 3.7627e-06 - val_loss: 2.6499e-05 - 21ms/epoch - 21ms/step\n",
      "Epoch 83/100\n",
      "1/1 - 0s - loss: 3.7176e-06 - val_loss: 2.5477e-05 - 22ms/epoch - 22ms/step\n",
      "Epoch 84/100\n",
      "1/1 - 0s - loss: 3.6785e-06 - val_loss: 2.4563e-05 - 22ms/epoch - 22ms/step\n",
      "Epoch 85/100\n",
      "1/1 - 0s - loss: 3.6535e-06 - val_loss: 2.4066e-05 - 22ms/epoch - 22ms/step\n",
      "Epoch 86/100\n",
      "1/1 - 0s - loss: 3.6297e-06 - val_loss: 2.4096e-05 - 22ms/epoch - 22ms/step\n",
      "Epoch 87/100\n",
      "1/1 - 0s - loss: 3.5947e-06 - val_loss: 2.4546e-05 - 22ms/epoch - 22ms/step\n",
      "Epoch 88/100\n",
      "1/1 - 0s - loss: 3.5542e-06 - val_loss: 2.5147e-05 - 23ms/epoch - 23ms/step\n",
      "Epoch 89/100\n",
      "1/1 - 0s - loss: 3.5209e-06 - val_loss: 2.5577e-05 - 21ms/epoch - 21ms/step\n",
      "Epoch 90/100\n",
      "1/1 - 0s - loss: 3.4950e-06 - val_loss: 2.5610e-05 - 22ms/epoch - 22ms/step\n",
      "Epoch 91/100\n",
      "1/1 - 0s - loss: 3.4659e-06 - val_loss: 2.5210e-05 - 21ms/epoch - 21ms/step\n",
      "Epoch 92/100\n",
      "1/1 - 0s - loss: 3.4297e-06 - val_loss: 2.4542e-05 - 22ms/epoch - 22ms/step\n",
      "Epoch 93/100\n",
      "1/1 - 0s - loss: 3.3935e-06 - val_loss: 2.3876e-05 - 21ms/epoch - 21ms/step\n",
      "Epoch 94/100\n",
      "1/1 - 0s - loss: 3.3633e-06 - val_loss: 2.3447e-05 - 22ms/epoch - 22ms/step\n",
      "Epoch 95/100\n",
      "1/1 - 0s - loss: 3.3352e-06 - val_loss: 2.3368e-05 - 21ms/epoch - 21ms/step\n",
      "Epoch 96/100\n",
      "1/1 - 0s - loss: 3.3028e-06 - val_loss: 2.3588e-05 - 23ms/epoch - 23ms/step\n",
      "Epoch 97/100\n",
      "1/1 - 0s - loss: 3.2674e-06 - val_loss: 2.3928e-05 - 22ms/epoch - 22ms/step\n",
      "Epoch 98/100\n",
      "1/1 - 0s - loss: 3.2346e-06 - val_loss: 2.4166e-05 - 23ms/epoch - 23ms/step\n",
      "Epoch 99/100\n",
      "1/1 - 0s - loss: 3.2051e-06 - val_loss: 2.4142e-05 - 22ms/epoch - 22ms/step\n",
      "Epoch 100/100\n",
      "1/1 - 0s - loss: 3.1744e-06 - val_loss: 2.3833e-05 - 23ms/epoch - 23ms/step\n"
     ]
    },
    {
     "data": {
      "text/plain": [
       "<keras.callbacks.History at 0x1d3a3c9dae0>"
      ]
     },
     "execution_count": 230,
     "metadata": {},
     "output_type": "execute_result"
    }
   ],
   "source": [
    "model.fit(trainX,train_y,validation_data=(testX,test_y),verbose=2,epochs=100)"
   ]
  },
  {
   "cell_type": "code",
   "execution_count": 231,
   "id": "17202def",
   "metadata": {},
   "outputs": [
    {
     "name": "stdout",
     "output_type": "stream",
     "text": [
      "1/1 [==============================] - 0s 260ms/step\n"
     ]
    }
   ],
   "source": [
    "prediction = model.predict(testX)"
   ]
  },
  {
   "cell_type": "code",
   "execution_count": 232,
   "id": "7bd84dfb",
   "metadata": {},
   "outputs": [],
   "source": [
    "inverse_transformed_prediction = ct.named_transformers_['std'].inverse_transform(\n",
    "     np.hstack([get_biomass_hist_scaled(24.671875,71.3125).iloc[:,3:-1],prediction])\n",
    ")"
   ]
  },
  {
   "cell_type": "code",
   "execution_count": 233,
   "id": "0c626d42",
   "metadata": {},
   "outputs": [
    {
     "data": {
      "text/plain": [
       "array([[ 8.478675 ,  8.86512  ,  9.204971 ,  6.0252056, 10.788841 ,\n",
       "         6.6471505,  7.3883886,  9.492224 ]], dtype=float32)"
      ]
     },
     "execution_count": 233,
     "metadata": {},
     "output_type": "execute_result"
    }
   ],
   "source": [
    "inverse_transformed_prediction"
   ]
  }
 ],
 "metadata": {
  "kernelspec": {
   "display_name": "Python 3 (ipykernel)",
   "language": "python",
   "name": "python3"
  },
  "language_info": {
   "codemirror_mode": {
    "name": "ipython",
    "version": 3
   },
   "file_extension": ".py",
   "mimetype": "text/x-python",
   "name": "python",
   "nbconvert_exporter": "python",
   "pygments_lexer": "ipython3",
   "version": "3.10.6"
  }
 },
 "nbformat": 4,
 "nbformat_minor": 5
}
