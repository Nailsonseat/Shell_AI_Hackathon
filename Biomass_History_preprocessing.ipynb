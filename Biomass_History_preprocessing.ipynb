{
 "cells": [
  {
   "cell_type": "code",
   "execution_count": 32,
   "id": "158d743e",
   "metadata": {},
   "outputs": [],
   "source": [
    "import tensorflow as tf\n",
    "import pandas as pd\n",
    "import numpy as np"
   ]
  },
  {
   "cell_type": "code",
   "execution_count": 33,
   "id": "33160e79",
   "metadata": {},
   "outputs": [],
   "source": [
    "df = pd.read_csv('dataset\\Biomass_History.csv')"
   ]
  },
  {
   "cell_type": "code",
   "execution_count": 34,
   "id": "d424c702",
   "metadata": {},
   "outputs": [
    {
     "data": {
      "text/plain": [
       "Index        0\n",
       "Latitude     0\n",
       "Longitude    0\n",
       "2010         0\n",
       "2011         0\n",
       "2012         0\n",
       "2013         0\n",
       "2014         0\n",
       "2015         0\n",
       "2016         0\n",
       "2017         0\n",
       "dtype: int64"
      ]
     },
     "execution_count": 34,
     "metadata": {},
     "output_type": "execute_result"
    }
   ],
   "source": [
    "#Check if there are any null values\n",
    "df.isnull().sum()"
   ]
  },
  {
   "cell_type": "code",
   "execution_count": 38,
   "id": "15239056",
   "metadata": {},
   "outputs": [
    {
     "name": "stdout",
     "output_type": "stream",
     "text": [
      "<class 'pandas.core.frame.DataFrame'>\n",
      "RangeIndex: 2418 entries, 0 to 2417\n",
      "Data columns (total 11 columns):\n",
      " #   Column     Non-Null Count  Dtype  \n",
      "---  ------     --------------  -----  \n",
      " 0   Index      2418 non-null   int16  \n",
      " 1   Latitude   2418 non-null   float16\n",
      " 2   Longitude  2418 non-null   float16\n",
      " 3   2010       2418 non-null   float16\n",
      " 4   2011       2418 non-null   float16\n",
      " 5   2012       2418 non-null   float16\n",
      " 6   2013       2418 non-null   float16\n",
      " 7   2014       2418 non-null   float16\n",
      " 8   2015       2418 non-null   float16\n",
      " 9   2016       2418 non-null   float16\n",
      " 10  2017       2418 non-null   float16\n",
      "dtypes: float16(10), int16(1)\n",
      "memory usage: 52.1 KB\n"
     ]
    }
   ],
   "source": [
    "df.info()"
   ]
  },
  {
   "cell_type": "code",
   "execution_count": 36,
   "id": "fff66148",
   "metadata": {},
   "outputs": [
    {
     "data": {
      "text/plain": [
       "71.33144"
      ]
     },
     "execution_count": 36,
     "metadata": {},
     "output_type": "execute_result"
    }
   ],
   "source": [
    "# df.head()\n",
    "df.loc[:]['Longitude'][0]"
   ]
  },
  {
   "cell_type": "code",
   "execution_count": 40,
   "id": "683a2ed3",
   "metadata": {},
   "outputs": [],
   "source": [
    "#converting float64 to float32 and int64 to int16\n",
    "columns = list(df.columns)\n",
    "for column in columns:\n",
    "    if(type(df[column][0]) == np.float64):\n",
    "        df[column] = df[column].astype('float16')\n",
    "    if(type(df[column][0]) == np.int64):\n",
    "        df[column] = df[column].astype('int16')\n",
    "        "
   ]
  },
  {
   "cell_type": "code",
   "execution_count": 39,
   "id": "354ad923",
   "metadata": {},
   "outputs": [
    {
     "data": {
      "text/html": [
       "<div>\n",
       "<style scoped>\n",
       "    .dataframe tbody tr th:only-of-type {\n",
       "        vertical-align: middle;\n",
       "    }\n",
       "\n",
       "    .dataframe tbody tr th {\n",
       "        vertical-align: top;\n",
       "    }\n",
       "\n",
       "    .dataframe thead th {\n",
       "        text-align: right;\n",
       "    }\n",
       "</style>\n",
       "<table border=\"1\" class=\"dataframe\">\n",
       "  <thead>\n",
       "    <tr style=\"text-align: right;\">\n",
       "      <th></th>\n",
       "      <th>Index</th>\n",
       "      <th>Latitude</th>\n",
       "      <th>Longitude</th>\n",
       "      <th>2010</th>\n",
       "      <th>2011</th>\n",
       "      <th>2012</th>\n",
       "      <th>2013</th>\n",
       "      <th>2014</th>\n",
       "      <th>2015</th>\n",
       "      <th>2016</th>\n",
       "      <th>2017</th>\n",
       "    </tr>\n",
       "  </thead>\n",
       "  <tbody>\n",
       "    <tr>\n",
       "      <th>0</th>\n",
       "      <td>0</td>\n",
       "      <td>24.671875</td>\n",
       "      <td>71.3125</td>\n",
       "      <td>8.476562</td>\n",
       "      <td>8.867188</td>\n",
       "      <td>9.203125</td>\n",
       "      <td>6.023438</td>\n",
       "      <td>10.789062</td>\n",
       "      <td>6.648438</td>\n",
       "      <td>7.386719</td>\n",
       "      <td>5.179688</td>\n",
       "    </tr>\n",
       "    <tr>\n",
       "      <th>1</th>\n",
       "      <td>1</td>\n",
       "      <td>24.671875</td>\n",
       "      <td>71.4375</td>\n",
       "      <td>24.031250</td>\n",
       "      <td>28.546875</td>\n",
       "      <td>25.859375</td>\n",
       "      <td>21.640625</td>\n",
       "      <td>34.406250</td>\n",
       "      <td>27.359375</td>\n",
       "      <td>40.437500</td>\n",
       "      <td>42.125000</td>\n",
       "    </tr>\n",
       "    <tr>\n",
       "      <th>2</th>\n",
       "      <td>2</td>\n",
       "      <td>24.671875</td>\n",
       "      <td>71.5000</td>\n",
       "      <td>44.843750</td>\n",
       "      <td>66.125000</td>\n",
       "      <td>56.968750</td>\n",
       "      <td>53.000000</td>\n",
       "      <td>70.937500</td>\n",
       "      <td>42.531250</td>\n",
       "      <td>59.187500</td>\n",
       "      <td>73.187500</td>\n",
       "    </tr>\n",
       "    <tr>\n",
       "      <th>3</th>\n",
       "      <td>3</td>\n",
       "      <td>24.671875</td>\n",
       "      <td>71.5625</td>\n",
       "      <td>59.968750</td>\n",
       "      <td>80.812500</td>\n",
       "      <td>78.937500</td>\n",
       "      <td>63.156250</td>\n",
       "      <td>93.500000</td>\n",
       "      <td>70.187500</td>\n",
       "      <td>74.562500</td>\n",
       "      <td>101.062500</td>\n",
       "    </tr>\n",
       "    <tr>\n",
       "      <th>4</th>\n",
       "      <td>4</td>\n",
       "      <td>24.671875</td>\n",
       "      <td>71.6250</td>\n",
       "      <td>14.656250</td>\n",
       "      <td>19.328125</td>\n",
       "      <td>21.921875</td>\n",
       "      <td>17.906250</td>\n",
       "      <td>19.531250</td>\n",
       "      <td>19.171875</td>\n",
       "      <td>16.531250</td>\n",
       "      <td>26.093750</td>\n",
       "    </tr>\n",
       "  </tbody>\n",
       "</table>\n",
       "</div>"
      ],
      "text/plain": [
       "   Index   Latitude  Longitude       2010       2011       2012       2013  \\\n",
       "0      0  24.671875    71.3125   8.476562   8.867188   9.203125   6.023438   \n",
       "1      1  24.671875    71.4375  24.031250  28.546875  25.859375  21.640625   \n",
       "2      2  24.671875    71.5000  44.843750  66.125000  56.968750  53.000000   \n",
       "3      3  24.671875    71.5625  59.968750  80.812500  78.937500  63.156250   \n",
       "4      4  24.671875    71.6250  14.656250  19.328125  21.921875  17.906250   \n",
       "\n",
       "        2014       2015       2016        2017  \n",
       "0  10.789062   6.648438   7.386719    5.179688  \n",
       "1  34.406250  27.359375  40.437500   42.125000  \n",
       "2  70.937500  42.531250  59.187500   73.187500  \n",
       "3  93.500000  70.187500  74.562500  101.062500  \n",
       "4  19.531250  19.171875  16.531250   26.093750  "
      ]
     },
     "execution_count": 39,
     "metadata": {},
     "output_type": "execute_result"
    }
   ],
   "source": [
    "df.head()"
   ]
  },
  {
   "cell_type": "code",
   "execution_count": 55,
   "id": "568759ae",
   "metadata": {},
   "outputs": [],
   "source": [
    "#Scaling the columns from 2010 to 2017\n",
    "from sklearn.compose import ColumnTransformer\n",
    "from sklearn.preprocessing import StandardScaler\n",
    "ct = ColumnTransformer([('std',StandardScaler(),[str(x) for x in np.arange(2010,2018)]),\n",
    "                       ],remainder='passthrough')"
   ]
  },
  {
   "cell_type": "code",
   "execution_count": 56,
   "id": "28b2ce56",
   "metadata": {},
   "outputs": [],
   "source": [
    "transformed_df = ct.fit_transform(df)"
   ]
  },
  {
   "cell_type": "code",
   "execution_count": 61,
   "id": "a6349eb7",
   "metadata": {},
   "outputs": [],
   "source": [
    "transformed_df= pd.DataFrame(transformed_df,columns=['2010','2011','2012','2013' ,'2014','2015','2016','2017','Index','Latitude','Longitude'])"
   ]
  },
  {
   "cell_type": "code",
   "execution_count": 64,
   "id": "b93c8d88",
   "metadata": {},
   "outputs": [],
   "source": [
    "transformed_df = transformed_df[columns]"
   ]
  },
  {
   "cell_type": "code",
   "execution_count": 68,
   "id": "e52afe7b",
   "metadata": {},
   "outputs": [
    {
     "data": {
      "text/plain": [
       "array([146.47385971, 142.23753878, 110.22873111, 180.29937463,\n",
       "       139.84241837, 129.66308795, 102.06902213, 158.95757538])"
      ]
     },
     "execution_count": 68,
     "metadata": {},
     "output_type": "execute_result"
    }
   ],
   "source": [
    "ct.named_transformers_['std'].scale_"
   ]
  },
  {
   "cell_type": "code",
   "execution_count": 74,
   "id": "ca4b5069",
   "metadata": {},
   "outputs": [
    {
     "data": {
      "text/plain": [
       "array([144.4008336 , 150.86157622, 109.47009888, 161.88708901,\n",
       "       157.95429989, 132.89863903, 113.08784782, 159.16175424])"
      ]
     },
     "execution_count": 74,
     "metadata": {},
     "output_type": "execute_result"
    }
   ],
   "source": [
    "ct.named_transformers_['std'].mean_"
   ]
  },
  {
   "cell_type": "code",
   "execution_count": 75,
   "id": "758a6020",
   "metadata": {},
   "outputs": [
    {
     "data": {
      "text/plain": [
       "array([21454.59157898, 20231.51743886, 12150.37316137, 32507.86449169,\n",
       "       19555.90197633, 16812.51637615, 10418.08527856, 25267.5107711 ])"
      ]
     },
     "execution_count": 75,
     "metadata": {},
     "output_type": "execute_result"
    }
   ],
   "source": [
    "ct.named_transformers_['std'].var_"
   ]
  },
  {
   "cell_type": "code",
   "execution_count": 69,
   "id": "70c89135",
   "metadata": {},
   "outputs": [],
   "source": [
    "#cross validation"
   ]
  },
  {
   "cell_type": "code",
   "execution_count": 70,
   "id": "0a1c4faf",
   "metadata": {},
   "outputs": [
    {
     "data": {
      "text/plain": [
       "0        8.476562\n",
       "1       24.031250\n",
       "2       44.843750\n",
       "3       59.968750\n",
       "4       14.656250\n",
       "          ...    \n",
       "2413     5.199219\n",
       "2414     0.122314\n",
       "2415     0.039429\n",
       "2416     2.718750\n",
       "2417     0.621094\n",
       "Name: 2010, Length: 2418, dtype: float16"
      ]
     },
     "execution_count": 70,
     "metadata": {},
     "output_type": "execute_result"
    }
   ],
   "source": [
    "df['2010']"
   ]
  },
  {
   "cell_type": "code",
   "execution_count": 76,
   "id": "f54eb7f2",
   "metadata": {},
   "outputs": [
    {
     "data": {
      "text/plain": [
       "0      -0.927246\n",
       "1      -0.821777\n",
       "2      -0.679199\n",
       "3      -0.576172\n",
       "4      -0.885742\n",
       "          ...   \n",
       "2413   -0.949707\n",
       "2414   -0.984863\n",
       "2415   -0.985352\n",
       "2416   -0.966797\n",
       "2417   -0.981445\n",
       "Name: 2010, Length: 2418, dtype: float16"
      ]
     },
     "execution_count": 76,
     "metadata": {},
     "output_type": "execute_result"
    }
   ],
   "source": [
    "(df['2010'] -144.4008336)/np.sqrt(21454.5915789)"
   ]
  },
  {
   "cell_type": "code",
   "execution_count": 78,
   "id": "3cf0ddff",
   "metadata": {},
   "outputs": [
    {
     "data": {
      "text/plain": [
       "0      -0.927734\n",
       "1      -0.821777\n",
       "2      -0.679688\n",
       "3      -0.576660\n",
       "4      -0.885742\n",
       "          ...   \n",
       "2413   -0.950684\n",
       "2414   -0.984863\n",
       "2415   -0.985840\n",
       "2416   -0.966797\n",
       "2417   -0.981445\n",
       "Name: 2010, Length: 2418, dtype: float32"
      ]
     },
     "execution_count": 78,
     "metadata": {},
     "output_type": "execute_result"
    }
   ],
   "source": [
    "transformed_df['2010']"
   ]
  },
  {
   "cell_type": "code",
   "execution_count": null,
   "id": "aeb79721",
   "metadata": {},
   "outputs": [],
   "source": []
  }
 ],
 "metadata": {
  "kernelspec": {
   "display_name": "Python 3 (ipykernel)",
   "language": "python",
   "name": "python3"
  },
  "language_info": {
   "codemirror_mode": {
    "name": "ipython",
    "version": 3
   },
   "file_extension": ".py",
   "mimetype": "text/x-python",
   "name": "python",
   "nbconvert_exporter": "python",
   "pygments_lexer": "ipython3",
   "version": "3.10.6"
  }
 },
 "nbformat": 4,
 "nbformat_minor": 5
}
