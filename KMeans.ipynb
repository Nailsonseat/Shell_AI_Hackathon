{
 "cells": [
  {
   "cell_type": "code",
   "execution_count": 23,
   "metadata": {},
   "outputs": [],
   "source": [
    "from sklearn.cluster import KMeans\n",
    "import pandas as pd\n",
    "import seaborn as sns\n",
    "import numpy as np\n",
    "import matplotlib.pyplot as plt"
   ]
  },
  {
   "cell_type": "markdown",
   "metadata": {},
   "source": [
    "## Data Loading"
   ]
  },
  {
   "cell_type": "code",
   "execution_count": 3,
   "metadata": {},
   "outputs": [],
   "source": [
    "biomass_density = pd.read_csv('preprocessed/forecasted.csv')"
   ]
  },
  {
   "cell_type": "code",
   "execution_count": 4,
   "metadata": {},
   "outputs": [],
   "source": [
    "distance_matrix = pd.read_csv('dataset/Distance_Matrix.csv')"
   ]
  },
  {
   "cell_type": "code",
   "execution_count": 5,
   "metadata": {},
   "outputs": [],
   "source": [
    "distance_matrix = distance_matrix.drop('Unnamed: 0',axis=1)"
   ]
  },
  {
   "cell_type": "code",
   "execution_count": 10,
   "metadata": {},
   "outputs": [],
   "source": [
    "biomass_density = biomass_density.drop('Unnamed: 0',axis=1)"
   ]
  },
  {
   "cell_type": "code",
   "execution_count": 6,
   "metadata": {},
   "outputs": [
    {
     "data": {
      "text/plain": [
       "(2418, 2418)"
      ]
     },
     "execution_count": 6,
     "metadata": {},
     "output_type": "execute_result"
    }
   ],
   "source": [
    "distance_matrix.shape"
   ]
  },
  {
   "cell_type": "markdown",
   "metadata": {},
   "source": [
    "## Prprocessing"
   ]
  },
  {
   "cell_type": "code",
   "execution_count": 7,
   "metadata": {},
   "outputs": [],
   "source": [
    "#new_distance = lambda den,dist: den/dist"
   ]
  },
  {
   "cell_type": "code",
   "execution_count": 11,
   "metadata": {},
   "outputs": [
    {
     "data": {
      "text/html": [
       "<div>\n",
       "<style scoped>\n",
       "    .dataframe tbody tr th:only-of-type {\n",
       "        vertical-align: middle;\n",
       "    }\n",
       "\n",
       "    .dataframe tbody tr th {\n",
       "        vertical-align: top;\n",
       "    }\n",
       "\n",
       "    .dataframe thead th {\n",
       "        text-align: right;\n",
       "    }\n",
       "</style>\n",
       "<table border=\"1\" class=\"dataframe\">\n",
       "  <thead>\n",
       "    <tr style=\"text-align: right;\">\n",
       "      <th></th>\n",
       "      <th>Latitude</th>\n",
       "      <th>Longitude</th>\n",
       "      <th>2010</th>\n",
       "      <th>2011</th>\n",
       "      <th>2012</th>\n",
       "      <th>2013</th>\n",
       "      <th>2014</th>\n",
       "      <th>2015</th>\n",
       "      <th>2016</th>\n",
       "      <th>2017</th>\n",
       "      <th>2018</th>\n",
       "      <th>2019</th>\n",
       "    </tr>\n",
       "  </thead>\n",
       "  <tbody>\n",
       "    <tr>\n",
       "      <th>0</th>\n",
       "      <td>24.66818</td>\n",
       "      <td>71.33144</td>\n",
       "      <td>0.212466</td>\n",
       "      <td>0.225726</td>\n",
       "      <td>0.219358</td>\n",
       "      <td>0.169677</td>\n",
       "      <td>0.231301</td>\n",
       "      <td>0.205046</td>\n",
       "      <td>0.243113</td>\n",
       "      <td>0.180307</td>\n",
       "      <td>0.199934</td>\n",
       "      <td>0.502740</td>\n",
       "    </tr>\n",
       "    <tr>\n",
       "      <th>1</th>\n",
       "      <td>24.66818</td>\n",
       "      <td>71.41106</td>\n",
       "      <td>0.300711</td>\n",
       "      <td>0.333306</td>\n",
       "      <td>0.309579</td>\n",
       "      <td>0.259861</td>\n",
       "      <td>0.340509</td>\n",
       "      <td>0.328613</td>\n",
       "      <td>0.428428</td>\n",
       "      <td>0.362593</td>\n",
       "      <td>0.334189</td>\n",
       "      <td>0.518164</td>\n",
       "    </tr>\n",
       "    <tr>\n",
       "      <th>2</th>\n",
       "      <td>24.66818</td>\n",
       "      <td>71.49069</td>\n",
       "      <td>0.370192</td>\n",
       "      <td>0.440955</td>\n",
       "      <td>0.402816</td>\n",
       "      <td>0.350319</td>\n",
       "      <td>0.433291</td>\n",
       "      <td>0.380620</td>\n",
       "      <td>0.486443</td>\n",
       "      <td>0.435923</td>\n",
       "      <td>0.397611</td>\n",
       "      <td>0.511109</td>\n",
       "    </tr>\n",
       "    <tr>\n",
       "      <th>3</th>\n",
       "      <td>24.66818</td>\n",
       "      <td>71.57031</td>\n",
       "      <td>0.407901</td>\n",
       "      <td>0.471496</td>\n",
       "      <td>0.449079</td>\n",
       "      <td>0.371401</td>\n",
       "      <td>0.475138</td>\n",
       "      <td>0.449872</td>\n",
       "      <td>0.525324</td>\n",
       "      <td>0.485404</td>\n",
       "      <td>0.437328</td>\n",
       "      <td>0.541641</td>\n",
       "    </tr>\n",
       "    <tr>\n",
       "      <th>4</th>\n",
       "      <td>24.66818</td>\n",
       "      <td>71.64994</td>\n",
       "      <td>0.255002</td>\n",
       "      <td>0.292657</td>\n",
       "      <td>0.292995</td>\n",
       "      <td>0.243953</td>\n",
       "      <td>0.281919</td>\n",
       "      <td>0.291840</td>\n",
       "      <td>0.317984</td>\n",
       "      <td>0.309058</td>\n",
       "      <td>0.257460</td>\n",
       "      <td>0.509233</td>\n",
       "    </tr>\n",
       "  </tbody>\n",
       "</table>\n",
       "</div>"
      ],
      "text/plain": [
       "   Latitude  Longitude      2010      2011      2012      2013      2014  \\\n",
       "0  24.66818   71.33144  0.212466  0.225726  0.219358  0.169677  0.231301   \n",
       "1  24.66818   71.41106  0.300711  0.333306  0.309579  0.259861  0.340509   \n",
       "2  24.66818   71.49069  0.370192  0.440955  0.402816  0.350319  0.433291   \n",
       "3  24.66818   71.57031  0.407901  0.471496  0.449079  0.371401  0.475138   \n",
       "4  24.66818   71.64994  0.255002  0.292657  0.292995  0.243953  0.281919   \n",
       "\n",
       "       2015      2016      2017      2018      2019  \n",
       "0  0.205046  0.243113  0.180307  0.199934  0.502740  \n",
       "1  0.328613  0.428428  0.362593  0.334189  0.518164  \n",
       "2  0.380620  0.486443  0.435923  0.397611  0.511109  \n",
       "3  0.449872  0.525324  0.485404  0.437328  0.541641  \n",
       "4  0.291840  0.317984  0.309058  0.257460  0.509233  "
      ]
     },
     "execution_count": 11,
     "metadata": {},
     "output_type": "execute_result"
    }
   ],
   "source": [
    "biomass_density.head()"
   ]
  },
  {
   "cell_type": "code",
   "execution_count": 8,
   "metadata": {},
   "outputs": [
    {
     "data": {
      "text/html": [
       "<div>\n",
       "<style scoped>\n",
       "    .dataframe tbody tr th:only-of-type {\n",
       "        vertical-align: middle;\n",
       "    }\n",
       "\n",
       "    .dataframe tbody tr th {\n",
       "        vertical-align: top;\n",
       "    }\n",
       "\n",
       "    .dataframe thead th {\n",
       "        text-align: right;\n",
       "    }\n",
       "</style>\n",
       "<table border=\"1\" class=\"dataframe\">\n",
       "  <thead>\n",
       "    <tr style=\"text-align: right;\">\n",
       "      <th></th>\n",
       "      <th>0</th>\n",
       "      <th>1</th>\n",
       "      <th>2</th>\n",
       "      <th>3</th>\n",
       "      <th>4</th>\n",
       "      <th>5</th>\n",
       "      <th>6</th>\n",
       "      <th>7</th>\n",
       "      <th>8</th>\n",
       "      <th>9</th>\n",
       "      <th>...</th>\n",
       "      <th>2408</th>\n",
       "      <th>2409</th>\n",
       "      <th>2410</th>\n",
       "      <th>2411</th>\n",
       "      <th>2412</th>\n",
       "      <th>2413</th>\n",
       "      <th>2414</th>\n",
       "      <th>2415</th>\n",
       "      <th>2416</th>\n",
       "      <th>2417</th>\n",
       "    </tr>\n",
       "  </thead>\n",
       "  <tbody>\n",
       "    <tr>\n",
       "      <th>0</th>\n",
       "      <td>0.0000</td>\n",
       "      <td>11.3769</td>\n",
       "      <td>20.4557</td>\n",
       "      <td>38.1227</td>\n",
       "      <td>45.3810</td>\n",
       "      <td>54.9915</td>\n",
       "      <td>78.6108</td>\n",
       "      <td>118.6750</td>\n",
       "      <td>102.6639</td>\n",
       "      <td>113.4309</td>\n",
       "      <td>...</td>\n",
       "      <td>683.8771</td>\n",
       "      <td>687.6310</td>\n",
       "      <td>697.3246</td>\n",
       "      <td>669.3962</td>\n",
       "      <td>667.6788</td>\n",
       "      <td>665.5775</td>\n",
       "      <td>662.0291</td>\n",
       "      <td>665.9655</td>\n",
       "      <td>673.2073</td>\n",
       "      <td>681.4235</td>\n",
       "    </tr>\n",
       "    <tr>\n",
       "      <th>1</th>\n",
       "      <td>11.3769</td>\n",
       "      <td>0.0000</td>\n",
       "      <td>9.0788</td>\n",
       "      <td>28.9141</td>\n",
       "      <td>36.1724</td>\n",
       "      <td>45.7829</td>\n",
       "      <td>69.4022</td>\n",
       "      <td>78.2329</td>\n",
       "      <td>93.4553</td>\n",
       "      <td>111.1832</td>\n",
       "      <td>...</td>\n",
       "      <td>681.6295</td>\n",
       "      <td>685.3833</td>\n",
       "      <td>695.0769</td>\n",
       "      <td>667.1485</td>\n",
       "      <td>665.4311</td>\n",
       "      <td>663.3298</td>\n",
       "      <td>659.7815</td>\n",
       "      <td>663.7178</td>\n",
       "      <td>670.9596</td>\n",
       "      <td>679.1758</td>\n",
       "    </tr>\n",
       "    <tr>\n",
       "      <th>2</th>\n",
       "      <td>20.4557</td>\n",
       "      <td>9.0788</td>\n",
       "      <td>0.0000</td>\n",
       "      <td>22.3791</td>\n",
       "      <td>29.6374</td>\n",
       "      <td>39.2478</td>\n",
       "      <td>62.8671</td>\n",
       "      <td>71.6979</td>\n",
       "      <td>86.9203</td>\n",
       "      <td>111.7859</td>\n",
       "      <td>...</td>\n",
       "      <td>682.2323</td>\n",
       "      <td>685.9861</td>\n",
       "      <td>695.6796</td>\n",
       "      <td>667.7513</td>\n",
       "      <td>666.0339</td>\n",
       "      <td>663.9326</td>\n",
       "      <td>660.3843</td>\n",
       "      <td>664.3206</td>\n",
       "      <td>671.5623</td>\n",
       "      <td>679.7786</td>\n",
       "    </tr>\n",
       "    <tr>\n",
       "      <th>3</th>\n",
       "      <td>38.1227</td>\n",
       "      <td>28.9141</td>\n",
       "      <td>22.3791</td>\n",
       "      <td>0.0000</td>\n",
       "      <td>11.8343</td>\n",
       "      <td>23.5413</td>\n",
       "      <td>41.8396</td>\n",
       "      <td>50.6703</td>\n",
       "      <td>65.8927</td>\n",
       "      <td>82.5852</td>\n",
       "      <td>...</td>\n",
       "      <td>681.4226</td>\n",
       "      <td>685.1765</td>\n",
       "      <td>694.8701</td>\n",
       "      <td>666.9417</td>\n",
       "      <td>665.2243</td>\n",
       "      <td>663.1230</td>\n",
       "      <td>659.5746</td>\n",
       "      <td>663.5110</td>\n",
       "      <td>670.7528</td>\n",
       "      <td>678.9690</td>\n",
       "    </tr>\n",
       "    <tr>\n",
       "      <th>4</th>\n",
       "      <td>45.3810</td>\n",
       "      <td>36.1724</td>\n",
       "      <td>29.6374</td>\n",
       "      <td>11.8343</td>\n",
       "      <td>0.0000</td>\n",
       "      <td>11.7070</td>\n",
       "      <td>24.3986</td>\n",
       "      <td>33.2293</td>\n",
       "      <td>53.9901</td>\n",
       "      <td>65.1442</td>\n",
       "      <td>...</td>\n",
       "      <td>663.9816</td>\n",
       "      <td>667.7355</td>\n",
       "      <td>677.4291</td>\n",
       "      <td>649.5007</td>\n",
       "      <td>647.7833</td>\n",
       "      <td>645.6820</td>\n",
       "      <td>642.1336</td>\n",
       "      <td>646.0700</td>\n",
       "      <td>653.3118</td>\n",
       "      <td>661.5280</td>\n",
       "    </tr>\n",
       "  </tbody>\n",
       "</table>\n",
       "<p>5 rows × 2418 columns</p>\n",
       "</div>"
      ],
      "text/plain": [
       "         0        1        2        3        4        5        6         7  \\\n",
       "0   0.0000  11.3769  20.4557  38.1227  45.3810  54.9915  78.6108  118.6750   \n",
       "1  11.3769   0.0000   9.0788  28.9141  36.1724  45.7829  69.4022   78.2329   \n",
       "2  20.4557   9.0788   0.0000  22.3791  29.6374  39.2478  62.8671   71.6979   \n",
       "3  38.1227  28.9141  22.3791   0.0000  11.8343  23.5413  41.8396   50.6703   \n",
       "4  45.3810  36.1724  29.6374  11.8343   0.0000  11.7070  24.3986   33.2293   \n",
       "\n",
       "          8         9  ...      2408      2409      2410      2411      2412  \\\n",
       "0  102.6639  113.4309  ...  683.8771  687.6310  697.3246  669.3962  667.6788   \n",
       "1   93.4553  111.1832  ...  681.6295  685.3833  695.0769  667.1485  665.4311   \n",
       "2   86.9203  111.7859  ...  682.2323  685.9861  695.6796  667.7513  666.0339   \n",
       "3   65.8927   82.5852  ...  681.4226  685.1765  694.8701  666.9417  665.2243   \n",
       "4   53.9901   65.1442  ...  663.9816  667.7355  677.4291  649.5007  647.7833   \n",
       "\n",
       "       2413      2414      2415      2416      2417  \n",
       "0  665.5775  662.0291  665.9655  673.2073  681.4235  \n",
       "1  663.3298  659.7815  663.7178  670.9596  679.1758  \n",
       "2  663.9326  660.3843  664.3206  671.5623  679.7786  \n",
       "3  663.1230  659.5746  663.5110  670.7528  678.9690  \n",
       "4  645.6820  642.1336  646.0700  653.3118  661.5280  \n",
       "\n",
       "[5 rows x 2418 columns]"
      ]
     },
     "execution_count": 8,
     "metadata": {},
     "output_type": "execute_result"
    }
   ],
   "source": [
    "distance_matrix.head()"
   ]
  },
  {
   "cell_type": "markdown",
   "metadata": {},
   "source": [
    "## Modelling"
   ]
  },
  {
   "cell_type": "markdown",
   "metadata": {},
   "source": [
    "### Get initial point with most density of biomass"
   ]
  },
  {
   "cell_type": "code",
   "execution_count": 12,
   "metadata": {},
   "outputs": [],
   "source": [
    "def get_most(column_name):\n",
    "    density=biomass_density[column_name]\n",
    "    return np.argmax(density)\n",
    "    "
   ]
  },
  {
   "cell_type": "markdown",
   "metadata": {},
   "source": [
    "### Get pobability based on biomass density"
   ]
  },
  {
   "cell_type": "code",
   "execution_count": 13,
   "metadata": {},
   "outputs": [],
   "source": [
    "k=3"
   ]
  },
  {
   "cell_type": "code",
   "execution_count": 14,
   "metadata": {},
   "outputs": [],
   "source": [
    "def set_prob(density):\n",
    "    sum_density=sum(density)\n",
    "    prob=[x/sum_density for x in density]\n",
    "    return prob"
   ]
  },
  {
   "cell_type": "code",
   "execution_count": 15,
   "metadata": {},
   "outputs": [],
   "source": [
    "weights=set_prob(biomass_density['2018'])"
   ]
  },
  {
   "cell_type": "code",
   "execution_count": 16,
   "metadata": {},
   "outputs": [],
   "source": [
    "def get_centers(k,column_name,weights):\n",
    "    centers=[]\n",
    "    while len(centers)!=k :\n",
    "        centers = np.random.choice(biomass_density[column_name].shape[0],size=k,p=weights)\n",
    "    return centers"
   ]
  },
  {
   "cell_type": "code",
   "execution_count": 17,
   "metadata": {},
   "outputs": [
    {
     "data": {
      "text/plain": [
       "2418"
      ]
     },
     "execution_count": 17,
     "metadata": {},
     "output_type": "execute_result"
    }
   ],
   "source": [
    "biomass_density['2018'].shape[0]"
   ]
  },
  {
   "cell_type": "code",
   "execution_count": 18,
   "metadata": {},
   "outputs": [],
   "source": [
    "centers = get_centers(k,'2018',weights)"
   ]
  },
  {
   "cell_type": "code",
   "execution_count": 21,
   "metadata": {},
   "outputs": [
    {
     "data": {
      "text/plain": [
       "array([ 683, 1723, 1081])"
      ]
     },
     "execution_count": 21,
     "metadata": {},
     "output_type": "execute_result"
    }
   ],
   "source": [
    "centers"
   ]
  },
  {
   "cell_type": "code",
   "execution_count": 37,
   "metadata": {},
   "outputs": [
    {
     "data": {
      "text/html": [
       "<div>\n",
       "<style scoped>\n",
       "    .dataframe tbody tr th:only-of-type {\n",
       "        vertical-align: middle;\n",
       "    }\n",
       "\n",
       "    .dataframe tbody tr th {\n",
       "        vertical-align: top;\n",
       "    }\n",
       "\n",
       "    .dataframe thead th {\n",
       "        text-align: right;\n",
       "    }\n",
       "</style>\n",
       "<table border=\"1\" class=\"dataframe\">\n",
       "  <thead>\n",
       "    <tr style=\"text-align: right;\">\n",
       "      <th></th>\n",
       "      <th>Latitude</th>\n",
       "      <th>Longitude</th>\n",
       "    </tr>\n",
       "  </thead>\n",
       "  <tbody>\n",
       "    <tr>\n",
       "      <th>683</th>\n",
       "      <td>23.21737</td>\n",
       "      <td>72.68507</td>\n",
       "    </tr>\n",
       "    <tr>\n",
       "      <th>1723</th>\n",
       "      <td>21.84717</td>\n",
       "      <td>73.40169</td>\n",
       "    </tr>\n",
       "    <tr>\n",
       "      <th>1081</th>\n",
       "      <td>22.73377</td>\n",
       "      <td>74.11832</td>\n",
       "    </tr>\n",
       "  </tbody>\n",
       "</table>\n",
       "</div>"
      ],
      "text/plain": [
       "      Latitude  Longitude\n",
       "683   23.21737   72.68507\n",
       "1723  21.84717   73.40169\n",
       "1081  22.73377   74.11832"
      ]
     },
     "execution_count": 37,
     "metadata": {},
     "output_type": "execute_result"
    }
   ],
   "source": [
    "centers_location = biomass_density.loc[centers, [\"Latitude\", \"Longitude\"]]\n",
    "\n",
    "centers_location"
   ]
  },
  {
   "cell_type": "markdown",
   "metadata": {},
   "source": [
    "### Visualising initial centers"
   ]
  },
  {
   "cell_type": "code",
   "execution_count": 38,
   "metadata": {},
   "outputs": [
    {
     "data": {
      "image/png": "[encoded data removed]",
      "text/plain": [
       "<Figure size 640x480 with 1 Axes>"
      ]
     },
     "metadata": {},
     "output_type": "display_data"
    }
   ],
   "source": [
    "latitudes = biomass_density[\"Latitude\"]\n",
    "longitudes = biomass_density[\"Longitude\"]\n",
    "\n",
    "# Create a scatter plot\n",
    "plt.scatter(latitudes, longitudes)\n",
    "plt.scatter(centers_location[\"Latitude\"], centers_location[\"Longitude\"], marker='x', color='red')\n",
    "\n",
    "# Add a title and labels\n",
    "plt.title('Latitude and Longitude')\n",
    "plt.xlabel('Latitude')\n",
    "plt.ylabel('Longitude')\n",
    "\n",
    "# Show the plot\n",
    "plt.show()"
   ]
  },
  {
   "cell_type": "markdown",
   "metadata": {},
   "source": [
    "## Optimal clusters"
   ]
  },
  {
   "cell_type": "code",
   "execution_count": 40,
   "metadata": {},
   "outputs": [],
   "source": [
    "from sklearn.cluster import KMeans "
   ]
  },
  {
   "cell_type": "code",
   "execution_count": null,
   "metadata": {},
   "outputs": [],
   "source": [
    "def re_cluster(k,X,centers):\n",
    "    belonging_to_cluster=np.array([])\n",
    "    for i in range(X.shape[0]):\n",
    "        distance=[distance_matrix.iloc[i,x] for x in centers]\n",
    "        belonging_to_cluster=np.append(belonging_to_cluster,np.argmin(distance))\n",
    "    \n",
    "    for i in range(k):\n",
    "        pseudo_distance = np.mean([distance_matrix.iloc[i,x] for x in range(X.shape[0])])\n",
    "        print(pseudo_distance)\n",
    "        \n",
    "    return belonging_to_cluster"
   ]
  },
  {
   "cell_type": "code",
   "execution_count": null,
   "metadata": {},
   "outputs": [],
   "source": [
    "c=re_cluster(k,biomass_density,centers)\n",
    "np.unique(c,return_counts=True)"
   ]
  }
 ],
 "metadata": {
  "kernelspec": {
   "display_name": "shell",
   "language": "python",
   "name": "python3"
  },
  "language_info": {
   "codemirror_mode": {
    "name": "ipython",
    "version": 3
   },
   "file_extension": ".py",
   "mimetype": "text/x-python",
   "name": "python",
   "nbconvert_exporter": "python",
   "pygments_lexer": "ipython3",
   "version": "3.9.4"
  },
  "orig_nbformat": 4
 },
 "nbformat": 4,
 "nbformat_minor": 2
}
