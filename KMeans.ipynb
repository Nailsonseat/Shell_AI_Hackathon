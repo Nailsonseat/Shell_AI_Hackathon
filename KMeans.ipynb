{
 "cells": [
  {
   "cell_type": "code",
   "execution_count": 375,
   "metadata": {},
   "outputs": [],
   "source": [
    "from sklearn.cluster import KMeans\n",
    "import pandas as pd\n",
    "import seaborn as sns\n",
    "import numpy as np\n",
    "import matplotlib.pyplot as plt"
   ]
  },
  {
   "cell_type": "markdown",
   "metadata": {},
   "source": [
    "## Data Loading"
   ]
  },
  {
   "cell_type": "code",
   "execution_count": 376,
   "metadata": {},
   "outputs": [],
   "source": [
    "biomass_density = pd.read_csv('preprocessed/forecasted_unscaled.csv')"
   ]
  },
  {
   "cell_type": "code",
   "execution_count": 377,
   "metadata": {},
   "outputs": [],
   "source": [
    "distance_matrix = pd.read_csv('dataset/Distance_Matrix.csv')"
   ]
  },
  {
   "cell_type": "code",
   "execution_count": 378,
   "metadata": {},
   "outputs": [],
   "source": [
    "distance_matrix = distance_matrix.drop('Unnamed: 0',axis=1)"
   ]
  },
  {
   "cell_type": "code",
   "execution_count": 379,
   "metadata": {},
   "outputs": [],
   "source": [
    "biomass_density = biomass_density.drop('Unnamed: 0',axis=1)"
   ]
  },
  {
   "cell_type": "code",
   "execution_count": 380,
   "metadata": {},
   "outputs": [
    {
     "data": {
      "text/plain": [
       "(2418, 2418)"
      ]
     },
     "execution_count": 380,
     "metadata": {},
     "output_type": "execute_result"
    }
   ],
   "source": [
    "distance_matrix.shape"
   ]
  },
  {
   "cell_type": "markdown",
   "metadata": {},
   "source": [
    "## Prprocessing"
   ]
  },
  {
   "cell_type": "code",
   "execution_count": 381,
   "metadata": {},
   "outputs": [],
   "source": [
    "#new_distance = lambda den,dist: den/dist"
   ]
  },
  {
   "cell_type": "code",
   "execution_count": 382,
   "metadata": {},
   "outputs": [
    {
     "data": {
      "text/html": [
       "<div>\n",
       "<style scoped>\n",
       "    .dataframe tbody tr th:only-of-type {\n",
       "        vertical-align: middle;\n",
       "    }\n",
       "\n",
       "    .dataframe tbody tr th {\n",
       "        vertical-align: top;\n",
       "    }\n",
       "\n",
       "    .dataframe thead th {\n",
       "        text-align: right;\n",
       "    }\n",
       "</style>\n",
       "<table border=\"1\" class=\"dataframe\">\n",
       "  <thead>\n",
       "    <tr style=\"text-align: right;\">\n",
       "      <th></th>\n",
       "      <th>Latitude</th>\n",
       "      <th>Longitude</th>\n",
       "      <th>2010</th>\n",
       "      <th>2011</th>\n",
       "      <th>2012</th>\n",
       "      <th>2013</th>\n",
       "      <th>2014</th>\n",
       "      <th>2015</th>\n",
       "      <th>2016</th>\n",
       "      <th>2017</th>\n",
       "      <th>2018</th>\n",
       "      <th>2019</th>\n",
       "    </tr>\n",
       "  </thead>\n",
       "  <tbody>\n",
       "    <tr>\n",
       "      <th>0</th>\n",
       "      <td>24.66818</td>\n",
       "      <td>71.33144</td>\n",
       "      <td>8.475744</td>\n",
       "      <td>8.868568</td>\n",
       "      <td>9.202181</td>\n",
       "      <td>6.023070</td>\n",
       "      <td>10.788374</td>\n",
       "      <td>6.647325</td>\n",
       "      <td>7.387925</td>\n",
       "      <td>5.180296</td>\n",
       "      <td>7.909043</td>\n",
       "      <td>17.154170</td>\n",
       "    </tr>\n",
       "    <tr>\n",
       "      <th>1</th>\n",
       "      <td>24.66818</td>\n",
       "      <td>71.41106</td>\n",
       "      <td>24.029778</td>\n",
       "      <td>28.551348</td>\n",
       "      <td>25.866415</td>\n",
       "      <td>21.634459</td>\n",
       "      <td>34.419411</td>\n",
       "      <td>27.361908</td>\n",
       "      <td>40.431847</td>\n",
       "      <td>42.126945</td>\n",
       "      <td>33.303310</td>\n",
       "      <td>62.532272</td>\n",
       "    </tr>\n",
       "    <tr>\n",
       "      <th>2</th>\n",
       "      <td>24.66818</td>\n",
       "      <td>71.49069</td>\n",
       "      <td>44.831635</td>\n",
       "      <td>66.111168</td>\n",
       "      <td>56.982258</td>\n",
       "      <td>53.003735</td>\n",
       "      <td>70.917908</td>\n",
       "      <td>42.517117</td>\n",
       "      <td>59.181629</td>\n",
       "      <td>73.203232</td>\n",
       "      <td>68.320305</td>\n",
       "      <td>106.519424</td>\n",
       "    </tr>\n",
       "    <tr>\n",
       "      <th>3</th>\n",
       "      <td>24.66818</td>\n",
       "      <td>71.57031</td>\n",
       "      <td>59.974419</td>\n",
       "      <td>80.821304</td>\n",
       "      <td>78.956543</td>\n",
       "      <td>63.160561</td>\n",
       "      <td>93.513924</td>\n",
       "      <td>70.203171</td>\n",
       "      <td>74.536720</td>\n",
       "      <td>101.067352</td>\n",
       "      <td>91.012245</td>\n",
       "      <td>134.203400</td>\n",
       "    </tr>\n",
       "    <tr>\n",
       "      <th>4</th>\n",
       "      <td>24.66818</td>\n",
       "      <td>71.64994</td>\n",
       "      <td>14.653370</td>\n",
       "      <td>19.327524</td>\n",
       "      <td>21.928144</td>\n",
       "      <td>17.899586</td>\n",
       "      <td>19.534035</td>\n",
       "      <td>19.165791</td>\n",
       "      <td>16.531315</td>\n",
       "      <td>26.086885</td>\n",
       "      <td>15.820264</td>\n",
       "      <td>29.635239</td>\n",
       "    </tr>\n",
       "  </tbody>\n",
       "</table>\n",
       "</div>"
      ],
      "text/plain": [
       "   Latitude  Longitude       2010       2011       2012       2013       2014  \\\n",
       "0  24.66818   71.33144   8.475744   8.868568   9.202181   6.023070  10.788374   \n",
       "1  24.66818   71.41106  24.029778  28.551348  25.866415  21.634459  34.419411   \n",
       "2  24.66818   71.49069  44.831635  66.111168  56.982258  53.003735  70.917908   \n",
       "3  24.66818   71.57031  59.974419  80.821304  78.956543  63.160561  93.513924   \n",
       "4  24.66818   71.64994  14.653370  19.327524  21.928144  17.899586  19.534035   \n",
       "\n",
       "        2015       2016        2017       2018        2019  \n",
       "0   6.647325   7.387925    5.180296   7.909043   17.154170  \n",
       "1  27.361908  40.431847   42.126945  33.303310   62.532272  \n",
       "2  42.517117  59.181629   73.203232  68.320305  106.519424  \n",
       "3  70.203171  74.536720  101.067352  91.012245  134.203400  \n",
       "4  19.165791  16.531315   26.086885  15.820264   29.635239  "
      ]
     },
     "execution_count": 382,
     "metadata": {},
     "output_type": "execute_result"
    }
   ],
   "source": [
    "biomass_density.head()"
   ]
  },
  {
   "cell_type": "code",
   "execution_count": 383,
   "metadata": {},
   "outputs": [
    {
     "data": {
      "text/html": [
       "<div>\n",
       "<style scoped>\n",
       "    .dataframe tbody tr th:only-of-type {\n",
       "        vertical-align: middle;\n",
       "    }\n",
       "\n",
       "    .dataframe tbody tr th {\n",
       "        vertical-align: top;\n",
       "    }\n",
       "\n",
       "    .dataframe thead th {\n",
       "        text-align: right;\n",
       "    }\n",
       "</style>\n",
       "<table border=\"1\" class=\"dataframe\">\n",
       "  <thead>\n",
       "    <tr style=\"text-align: right;\">\n",
       "      <th></th>\n",
       "      <th>0</th>\n",
       "      <th>1</th>\n",
       "      <th>2</th>\n",
       "      <th>3</th>\n",
       "      <th>4</th>\n",
       "      <th>5</th>\n",
       "      <th>6</th>\n",
       "      <th>7</th>\n",
       "      <th>8</th>\n",
       "      <th>9</th>\n",
       "      <th>...</th>\n",
       "      <th>2408</th>\n",
       "      <th>2409</th>\n",
       "      <th>2410</th>\n",
       "      <th>2411</th>\n",
       "      <th>2412</th>\n",
       "      <th>2413</th>\n",
       "      <th>2414</th>\n",
       "      <th>2415</th>\n",
       "      <th>2416</th>\n",
       "      <th>2417</th>\n",
       "    </tr>\n",
       "  </thead>\n",
       "  <tbody>\n",
       "    <tr>\n",
       "      <th>0</th>\n",
       "      <td>0.0000</td>\n",
       "      <td>11.3769</td>\n",
       "      <td>20.4557</td>\n",
       "      <td>38.1227</td>\n",
       "      <td>45.3810</td>\n",
       "      <td>54.9915</td>\n",
       "      <td>78.6108</td>\n",
       "      <td>118.6750</td>\n",
       "      <td>102.6639</td>\n",
       "      <td>113.4309</td>\n",
       "      <td>...</td>\n",
       "      <td>683.8771</td>\n",
       "      <td>687.6310</td>\n",
       "      <td>697.3246</td>\n",
       "      <td>669.3962</td>\n",
       "      <td>667.6788</td>\n",
       "      <td>665.5775</td>\n",
       "      <td>662.0291</td>\n",
       "      <td>665.9655</td>\n",
       "      <td>673.2073</td>\n",
       "      <td>681.4235</td>\n",
       "    </tr>\n",
       "    <tr>\n",
       "      <th>1</th>\n",
       "      <td>11.3769</td>\n",
       "      <td>0.0000</td>\n",
       "      <td>9.0788</td>\n",
       "      <td>28.9141</td>\n",
       "      <td>36.1724</td>\n",
       "      <td>45.7829</td>\n",
       "      <td>69.4022</td>\n",
       "      <td>78.2329</td>\n",
       "      <td>93.4553</td>\n",
       "      <td>111.1832</td>\n",
       "      <td>...</td>\n",
       "      <td>681.6295</td>\n",
       "      <td>685.3833</td>\n",
       "      <td>695.0769</td>\n",
       "      <td>667.1485</td>\n",
       "      <td>665.4311</td>\n",
       "      <td>663.3298</td>\n",
       "      <td>659.7815</td>\n",
       "      <td>663.7178</td>\n",
       "      <td>670.9596</td>\n",
       "      <td>679.1758</td>\n",
       "    </tr>\n",
       "    <tr>\n",
       "      <th>2</th>\n",
       "      <td>20.4557</td>\n",
       "      <td>9.0788</td>\n",
       "      <td>0.0000</td>\n",
       "      <td>22.3791</td>\n",
       "      <td>29.6374</td>\n",
       "      <td>39.2478</td>\n",
       "      <td>62.8671</td>\n",
       "      <td>71.6979</td>\n",
       "      <td>86.9203</td>\n",
       "      <td>111.7859</td>\n",
       "      <td>...</td>\n",
       "      <td>682.2323</td>\n",
       "      <td>685.9861</td>\n",
       "      <td>695.6796</td>\n",
       "      <td>667.7513</td>\n",
       "      <td>666.0339</td>\n",
       "      <td>663.9326</td>\n",
       "      <td>660.3843</td>\n",
       "      <td>664.3206</td>\n",
       "      <td>671.5623</td>\n",
       "      <td>679.7786</td>\n",
       "    </tr>\n",
       "    <tr>\n",
       "      <th>3</th>\n",
       "      <td>38.1227</td>\n",
       "      <td>28.9141</td>\n",
       "      <td>22.3791</td>\n",
       "      <td>0.0000</td>\n",
       "      <td>11.8343</td>\n",
       "      <td>23.5413</td>\n",
       "      <td>41.8396</td>\n",
       "      <td>50.6703</td>\n",
       "      <td>65.8927</td>\n",
       "      <td>82.5852</td>\n",
       "      <td>...</td>\n",
       "      <td>681.4226</td>\n",
       "      <td>685.1765</td>\n",
       "      <td>694.8701</td>\n",
       "      <td>666.9417</td>\n",
       "      <td>665.2243</td>\n",
       "      <td>663.1230</td>\n",
       "      <td>659.5746</td>\n",
       "      <td>663.5110</td>\n",
       "      <td>670.7528</td>\n",
       "      <td>678.9690</td>\n",
       "    </tr>\n",
       "    <tr>\n",
       "      <th>4</th>\n",
       "      <td>45.3810</td>\n",
       "      <td>36.1724</td>\n",
       "      <td>29.6374</td>\n",
       "      <td>11.8343</td>\n",
       "      <td>0.0000</td>\n",
       "      <td>11.7070</td>\n",
       "      <td>24.3986</td>\n",
       "      <td>33.2293</td>\n",
       "      <td>53.9901</td>\n",
       "      <td>65.1442</td>\n",
       "      <td>...</td>\n",
       "      <td>663.9816</td>\n",
       "      <td>667.7355</td>\n",
       "      <td>677.4291</td>\n",
       "      <td>649.5007</td>\n",
       "      <td>647.7833</td>\n",
       "      <td>645.6820</td>\n",
       "      <td>642.1336</td>\n",
       "      <td>646.0700</td>\n",
       "      <td>653.3118</td>\n",
       "      <td>661.5280</td>\n",
       "    </tr>\n",
       "  </tbody>\n",
       "</table>\n",
       "<p>5 rows × 2418 columns</p>\n",
       "</div>"
      ],
      "text/plain": [
       "         0        1        2        3        4        5        6         7  \\\n",
       "0   0.0000  11.3769  20.4557  38.1227  45.3810  54.9915  78.6108  118.6750   \n",
       "1  11.3769   0.0000   9.0788  28.9141  36.1724  45.7829  69.4022   78.2329   \n",
       "2  20.4557   9.0788   0.0000  22.3791  29.6374  39.2478  62.8671   71.6979   \n",
       "3  38.1227  28.9141  22.3791   0.0000  11.8343  23.5413  41.8396   50.6703   \n",
       "4  45.3810  36.1724  29.6374  11.8343   0.0000  11.7070  24.3986   33.2293   \n",
       "\n",
       "          8         9  ...      2408      2409      2410      2411      2412  \\\n",
       "0  102.6639  113.4309  ...  683.8771  687.6310  697.3246  669.3962  667.6788   \n",
       "1   93.4553  111.1832  ...  681.6295  685.3833  695.0769  667.1485  665.4311   \n",
       "2   86.9203  111.7859  ...  682.2323  685.9861  695.6796  667.7513  666.0339   \n",
       "3   65.8927   82.5852  ...  681.4226  685.1765  694.8701  666.9417  665.2243   \n",
       "4   53.9901   65.1442  ...  663.9816  667.7355  677.4291  649.5007  647.7833   \n",
       "\n",
       "       2413      2414      2415      2416      2417  \n",
       "0  665.5775  662.0291  665.9655  673.2073  681.4235  \n",
       "1  663.3298  659.7815  663.7178  670.9596  679.1758  \n",
       "2  663.9326  660.3843  664.3206  671.5623  679.7786  \n",
       "3  663.1230  659.5746  663.5110  670.7528  678.9690  \n",
       "4  645.6820  642.1336  646.0700  653.3118  661.5280  \n",
       "\n",
       "[5 rows x 2418 columns]"
      ]
     },
     "execution_count": 383,
     "metadata": {},
     "output_type": "execute_result"
    }
   ],
   "source": [
    "distance_matrix.head()"
   ]
  },
  {
   "cell_type": "markdown",
   "metadata": {},
   "source": [
    "## Modelling"
   ]
  },
  {
   "cell_type": "code",
   "execution_count": 384,
   "metadata": {},
   "outputs": [],
   "source": [
    "year = '2018'"
   ]
  },
  {
   "cell_type": "markdown",
   "metadata": {},
   "source": [
    "### Get initial point with most density of biomass"
   ]
  },
  {
   "cell_type": "code",
   "execution_count": 385,
   "metadata": {},
   "outputs": [],
   "source": [
    "def get_most(column_name):\n",
    "    density=biomass_density[column_name]\n",
    "    return np.argmax(density)\n",
    "    "
   ]
  },
  {
   "cell_type": "markdown",
   "metadata": {},
   "source": [
    "### Get pobability based on biomass density"
   ]
  },
  {
   "cell_type": "code",
   "execution_count": 386,
   "metadata": {},
   "outputs": [],
   "source": [
    "k=10"
   ]
  },
  {
   "cell_type": "code",
   "execution_count": 387,
   "metadata": {},
   "outputs": [],
   "source": [
    "def set_prob_depots(density):\n",
    "    sum_density=sum(density)\n",
    "    prob=[x/sum_density for x in density]\n",
    "    return prob"
   ]
  },
  {
   "cell_type": "code",
   "execution_count": 388,
   "metadata": {},
   "outputs": [],
   "source": [
    "weights=set_prob_depots(biomass_density[year])"
   ]
  },
  {
   "cell_type": "code",
   "execution_count": 389,
   "metadata": {},
   "outputs": [],
   "source": [
    "def get_depots(k,year,weights):\n",
    "    depots=[]\n",
    "    while len(depots)!=k :\n",
    "        depots = np.random.choice(biomass_density[year].shape[0],size=k,p=weights)\n",
    "    return list(depots)"
   ]
  },
  {
   "cell_type": "code",
   "execution_count": 390,
   "metadata": {},
   "outputs": [
    {
     "data": {
      "text/plain": [
       "2418"
      ]
     },
     "execution_count": 390,
     "metadata": {},
     "output_type": "execute_result"
    }
   ],
   "source": [
    "biomass_density[year].shape[0]"
   ]
  },
  {
   "cell_type": "code",
   "execution_count": 391,
   "metadata": {},
   "outputs": [],
   "source": [
    "depots = get_depots(k,year,weights)"
   ]
  },
  {
   "cell_type": "markdown",
   "metadata": {},
   "source": [
    "### Visualising Data"
   ]
  },
  {
   "cell_type": "code",
   "execution_count": 392,
   "metadata": {},
   "outputs": [],
   "source": [
    "def plot_depots(depots,clusters=None,refineries=None):\n",
    "    depots_location = biomass_density.loc[depots, [\"Latitude\", \"Longitude\"]]\n",
    "\n",
    "    latitudes = biomass_density[\"Latitude\"]\n",
    "    longitudes = biomass_density[\"Longitude\"]\n",
    "\n",
    "    # Create a scatter plot\n",
    "    plt.scatter(latitudes, longitudes,c=clusters)\n",
    "    if(refineries!=None):\n",
    "        refineries_location = biomass_density.loc[refineries, [\"Latitude\", \"Longitude\"]]\n",
    "        plt.scatter(refineries_location['Latitude'],refineries_location['Longitude'],marker='o', color='white')\n",
    "    \n",
    "    plt.scatter(depots_location[\"Latitude\"], depots_location[\"Longitude\"], marker='x', color='red')\n",
    "\n",
    "    # Add a title and labels\n",
    "    plt.title('Latitude and Longitude')\n",
    "    plt.xlabel('Latitude')\n",
    "    plt.ylabel('Longitude')\n",
    "\n",
    "    # Show the plot\n",
    "    plt.show()"
   ]
  },
  {
   "cell_type": "code",
   "execution_count": 393,
   "metadata": {},
   "outputs": [
    {
     "data": {
      "image/png": "[encoded data removed]",
      "text/plain": [
       "<Figure size 640x480 with 1 Axes>"
      ]
     },
     "metadata": {},
     "output_type": "display_data"
    }
   ],
   "source": [
    "plot_depots(depots)"
   ]
  },
  {
   "cell_type": "markdown",
   "metadata": {},
   "source": [
    "## Optimal clusters for depots"
   ]
  },
  {
   "cell_type": "code",
   "execution_count": 394,
   "metadata": {},
   "outputs": [],
   "source": [
    "def re_cluster_depots(k,X,depots):\n",
    "    belonging_to_cluster=np.array([])\n",
    "    for i in range(X.shape[0]):\n",
    "        distance=[distance_matrix.iloc[i,x] for x in depots]\n",
    "        belonging_to_cluster=np.append(belonging_to_cluster,np.argmin(distance))\n",
    "\n",
    "    depots = []\n",
    "    for i in range(k):\n",
    "        if len(X[belonging_to_cluster==i][['Latitude','Longitude']]) != 0:\n",
    "            pseudo_coord = np.mean(X[belonging_to_cluster==i][['Latitude','Longitude']].to_numpy(),axis=0)\n",
    "            distance = [np.linalg.norm(pseudo_coord - x) for x in X[belonging_to_cluster==i][['Latitude','Longitude']].to_numpy()]\n",
    "            depots.append(X[belonging_to_cluster==i].iloc[np.argmin(distance),:].name)\n",
    "        else:\n",
    "            depots = get_depots(k,year,weights)\n",
    "            re_cluster_depots(k,X,depots)\n",
    "        \n",
    "    return depots,belonging_to_cluster"
   ]
  },
  {
   "cell_type": "code",
   "execution_count": 395,
   "metadata": {},
   "outputs": [
    {
     "name": "stdout",
     "output_type": "stream",
     "text": [
      "[1282, 2100, 429, 590, 625, 1625, 1948, 1321, 2073, 1522]\n",
      "[1348, 2187, 215, 589, 692, 1625, 1728, 1257, 2122, 1463]\n",
      "[1347, 2189, 215, 587, 692, 1681, 1552, 1258, 2123, 1335]\n",
      "[1347, 2228, 214, 648, 626, 1681, 1489, 1258, 2077, 1210]\n",
      "[1347, 2229, 214, 648, 625, 1681, 1489, 1324, 2077, 1099]\n",
      "[1347, 2229, 214, 648, 564, 1681, 1429, 1325, 2077, 1045]\n",
      "[1347, 2229, 213, 647, 564, 1681, 1429, 1392, 2078, 1045]\n",
      "[1347, 2229, 174, 647, 503, 1681, 1429, 1392, 2078, 990]\n",
      "[1347, 2229, 174, 647, 503, 1681, 1363, 1393, 2078, 928]\n",
      "[1346, 2229, 174, 646, 502, 1626, 1363, 1393, 2078, 865]\n",
      "[1411, 2229, 174, 646, 501, 1682, 1297, 1394, 2078, 799]\n",
      "[1411, 2229, 174, 646, 445, 1681, 1238, 1394, 2078, 799]\n",
      "[1474, 2190, 173, 646, 445, 1626, 1239, 1394, 2078, 799]\n",
      "[1474, 2190, 173, 646, 445, 1682, 1239, 1394, 2078, 799]\n",
      "[1474, 2190, 173, 646, 445, 1681, 1239, 1394, 2078, 799]\n",
      "[1474, 2190, 173, 646, 445, 1626, 1239, 1394, 2077, 799]\n",
      "[1535, 2190, 173, 646, 445, 1626, 1239, 1394, 2077, 799]\n",
      "Convergence in : 17 iterations\n"
     ]
    }
   ],
   "source": [
    "count=0\n",
    "clusters=[]\n",
    "for _ in range(30):\n",
    "    prev=depots\n",
    "    depots,clusters=re_cluster_depots(k,biomass_density,depots)\n",
    "    if np.array_equal(prev,depots):\n",
    "        break\n",
    "    print(depots)\n",
    "    count+=1\n",
    "print(f\"Convergence in : {count} iterations\")"
   ]
  },
  {
   "cell_type": "code",
   "execution_count": 396,
   "metadata": {},
   "outputs": [
    {
     "data": {
      "image/png": "[encoded data removed]",
      "text/plain": [
       "<Figure size 640x480 with 1 Axes>"
      ]
     },
     "metadata": {},
     "output_type": "display_data"
    }
   ],
   "source": [
    "plot_depots(depots,clusters)"
   ]
  },
  {
   "cell_type": "markdown",
   "metadata": {},
   "source": [
    "## Finding refineries"
   ]
  },
  {
   "cell_type": "code",
   "execution_count": 397,
   "metadata": {},
   "outputs": [
    {
     "data": {
      "text/html": [
       "<div>\n",
       "<style scoped>\n",
       "    .dataframe tbody tr th:only-of-type {\n",
       "        vertical-align: middle;\n",
       "    }\n",
       "\n",
       "    .dataframe tbody tr th {\n",
       "        vertical-align: top;\n",
       "    }\n",
       "\n",
       "    .dataframe thead th {\n",
       "        text-align: right;\n",
       "    }\n",
       "</style>\n",
       "<table border=\"1\" class=\"dataframe\">\n",
       "  <thead>\n",
       "    <tr style=\"text-align: right;\">\n",
       "      <th></th>\n",
       "      <th>Latitude</th>\n",
       "      <th>Longitude</th>\n",
       "      <th>2010</th>\n",
       "      <th>2011</th>\n",
       "      <th>2012</th>\n",
       "      <th>2013</th>\n",
       "      <th>2014</th>\n",
       "      <th>2015</th>\n",
       "      <th>2016</th>\n",
       "      <th>2017</th>\n",
       "      <th>2018</th>\n",
       "      <th>2019</th>\n",
       "    </tr>\n",
       "  </thead>\n",
       "  <tbody>\n",
       "    <tr>\n",
       "      <th>0</th>\n",
       "      <td>24.66818</td>\n",
       "      <td>71.33144</td>\n",
       "      <td>8.475744</td>\n",
       "      <td>8.868568</td>\n",
       "      <td>9.202181</td>\n",
       "      <td>6.023070</td>\n",
       "      <td>10.788374</td>\n",
       "      <td>6.647325</td>\n",
       "      <td>7.387925</td>\n",
       "      <td>5.180296</td>\n",
       "      <td>7.909043</td>\n",
       "      <td>17.154170</td>\n",
       "    </tr>\n",
       "    <tr>\n",
       "      <th>1</th>\n",
       "      <td>24.66818</td>\n",
       "      <td>71.41106</td>\n",
       "      <td>24.029778</td>\n",
       "      <td>28.551348</td>\n",
       "      <td>25.866415</td>\n",
       "      <td>21.634459</td>\n",
       "      <td>34.419411</td>\n",
       "      <td>27.361908</td>\n",
       "      <td>40.431847</td>\n",
       "      <td>42.126945</td>\n",
       "      <td>33.303310</td>\n",
       "      <td>62.532272</td>\n",
       "    </tr>\n",
       "    <tr>\n",
       "      <th>2</th>\n",
       "      <td>24.66818</td>\n",
       "      <td>71.49069</td>\n",
       "      <td>44.831635</td>\n",
       "      <td>66.111168</td>\n",
       "      <td>56.982258</td>\n",
       "      <td>53.003735</td>\n",
       "      <td>70.917908</td>\n",
       "      <td>42.517117</td>\n",
       "      <td>59.181629</td>\n",
       "      <td>73.203232</td>\n",
       "      <td>68.320305</td>\n",
       "      <td>106.519424</td>\n",
       "    </tr>\n",
       "    <tr>\n",
       "      <th>3</th>\n",
       "      <td>24.66818</td>\n",
       "      <td>71.57031</td>\n",
       "      <td>59.974419</td>\n",
       "      <td>80.821304</td>\n",
       "      <td>78.956543</td>\n",
       "      <td>63.160561</td>\n",
       "      <td>93.513924</td>\n",
       "      <td>70.203171</td>\n",
       "      <td>74.536720</td>\n",
       "      <td>101.067352</td>\n",
       "      <td>91.012245</td>\n",
       "      <td>134.203400</td>\n",
       "    </tr>\n",
       "    <tr>\n",
       "      <th>4</th>\n",
       "      <td>24.66818</td>\n",
       "      <td>71.64994</td>\n",
       "      <td>14.653370</td>\n",
       "      <td>19.327524</td>\n",
       "      <td>21.928144</td>\n",
       "      <td>17.899586</td>\n",
       "      <td>19.534035</td>\n",
       "      <td>19.165791</td>\n",
       "      <td>16.531315</td>\n",
       "      <td>26.086885</td>\n",
       "      <td>15.820264</td>\n",
       "      <td>29.635239</td>\n",
       "    </tr>\n",
       "    <tr>\n",
       "      <th>...</th>\n",
       "      <td>...</td>\n",
       "      <td>...</td>\n",
       "      <td>...</td>\n",
       "      <td>...</td>\n",
       "      <td>...</td>\n",
       "      <td>...</td>\n",
       "      <td>...</td>\n",
       "      <td>...</td>\n",
       "      <td>...</td>\n",
       "      <td>...</td>\n",
       "      <td>...</td>\n",
       "      <td>...</td>\n",
       "    </tr>\n",
       "    <tr>\n",
       "      <th>2413</th>\n",
       "      <td>20.15456</td>\n",
       "      <td>72.84432</td>\n",
       "      <td>5.199882</td>\n",
       "      <td>4.516778</td>\n",
       "      <td>4.321080</td>\n",
       "      <td>2.658953</td>\n",
       "      <td>5.113997</td>\n",
       "      <td>5.301668</td>\n",
       "      <td>6.419223</td>\n",
       "      <td>5.321604</td>\n",
       "      <td>5.280633</td>\n",
       "      <td>18.673874</td>\n",
       "    </tr>\n",
       "    <tr>\n",
       "      <th>2414</th>\n",
       "      <td>20.15456</td>\n",
       "      <td>72.92394</td>\n",
       "      <td>0.122287</td>\n",
       "      <td>0.126717</td>\n",
       "      <td>0.101494</td>\n",
       "      <td>0.111509</td>\n",
       "      <td>0.121749</td>\n",
       "      <td>0.122467</td>\n",
       "      <td>0.145785</td>\n",
       "      <td>0.120626</td>\n",
       "      <td>0.161665</td>\n",
       "      <td>0.444787</td>\n",
       "    </tr>\n",
       "    <tr>\n",
       "      <th>2415</th>\n",
       "      <td>20.15456</td>\n",
       "      <td>73.00357</td>\n",
       "      <td>0.039415</td>\n",
       "      <td>0.040843</td>\n",
       "      <td>0.032713</td>\n",
       "      <td>0.035941</td>\n",
       "      <td>0.039241</td>\n",
       "      <td>0.039473</td>\n",
       "      <td>0.046989</td>\n",
       "      <td>0.038879</td>\n",
       "      <td>0.060271</td>\n",
       "      <td>0.146884</td>\n",
       "    </tr>\n",
       "    <tr>\n",
       "      <th>2416</th>\n",
       "      <td>20.15456</td>\n",
       "      <td>73.08319</td>\n",
       "      <td>2.719220</td>\n",
       "      <td>1.370163</td>\n",
       "      <td>0.818687</td>\n",
       "      <td>1.205721</td>\n",
       "      <td>1.316443</td>\n",
       "      <td>1.324201</td>\n",
       "      <td>1.576338</td>\n",
       "      <td>1.304297</td>\n",
       "      <td>2.200899</td>\n",
       "      <td>14.368222</td>\n",
       "    </tr>\n",
       "    <tr>\n",
       "      <th>2417</th>\n",
       "      <td>20.15456</td>\n",
       "      <td>73.16282</td>\n",
       "      <td>0.621228</td>\n",
       "      <td>0.238414</td>\n",
       "      <td>0.112909</td>\n",
       "      <td>0.209801</td>\n",
       "      <td>0.229067</td>\n",
       "      <td>0.230417</td>\n",
       "      <td>0.274289</td>\n",
       "      <td>0.226953</td>\n",
       "      <td>0.464466</td>\n",
       "      <td>2.656083</td>\n",
       "    </tr>\n",
       "  </tbody>\n",
       "</table>\n",
       "<p>2418 rows × 12 columns</p>\n",
       "</div>"
      ],
      "text/plain": [
       "      Latitude  Longitude       2010       2011       2012       2013  \\\n",
       "0     24.66818   71.33144   8.475744   8.868568   9.202181   6.023070   \n",
       "1     24.66818   71.41106  24.029778  28.551348  25.866415  21.634459   \n",
       "2     24.66818   71.49069  44.831635  66.111168  56.982258  53.003735   \n",
       "3     24.66818   71.57031  59.974419  80.821304  78.956543  63.160561   \n",
       "4     24.66818   71.64994  14.653370  19.327524  21.928144  17.899586   \n",
       "...        ...        ...        ...        ...        ...        ...   \n",
       "2413  20.15456   72.84432   5.199882   4.516778   4.321080   2.658953   \n",
       "2414  20.15456   72.92394   0.122287   0.126717   0.101494   0.111509   \n",
       "2415  20.15456   73.00357   0.039415   0.040843   0.032713   0.035941   \n",
       "2416  20.15456   73.08319   2.719220   1.370163   0.818687   1.205721   \n",
       "2417  20.15456   73.16282   0.621228   0.238414   0.112909   0.209801   \n",
       "\n",
       "           2014       2015       2016        2017       2018        2019  \n",
       "0     10.788374   6.647325   7.387925    5.180296   7.909043   17.154170  \n",
       "1     34.419411  27.361908  40.431847   42.126945  33.303310   62.532272  \n",
       "2     70.917908  42.517117  59.181629   73.203232  68.320305  106.519424  \n",
       "3     93.513924  70.203171  74.536720  101.067352  91.012245  134.203400  \n",
       "4     19.534035  19.165791  16.531315   26.086885  15.820264   29.635239  \n",
       "...         ...        ...        ...         ...        ...         ...  \n",
       "2413   5.113997   5.301668   6.419223    5.321604   5.280633   18.673874  \n",
       "2414   0.121749   0.122467   0.145785    0.120626   0.161665    0.444787  \n",
       "2415   0.039241   0.039473   0.046989    0.038879   0.060271    0.146884  \n",
       "2416   1.316443   1.324201   1.576338    1.304297   2.200899   14.368222  \n",
       "2417   0.229067   0.230417   0.274289    0.226953   0.464466    2.656083  \n",
       "\n",
       "[2418 rows x 12 columns]"
      ]
     },
     "execution_count": 397,
     "metadata": {},
     "output_type": "execute_result"
    }
   ],
   "source": [
    "biomass_density"
   ]
  },
  {
   "cell_type": "code",
   "execution_count": 398,
   "metadata": {},
   "outputs": [],
   "source": [
    "def biomass_per_depo(k,clusters,year):\n",
    "    biomass=[]\n",
    "    for i in range(k):\n",
    "        biomass.append(sum(biomass_density[clusters==i][year]))\n",
    "        #print(biomass)\n",
    "    return biomass"
   ]
  },
  {
   "cell_type": "code",
   "execution_count": 399,
   "metadata": {},
   "outputs": [
    {
     "data": {
      "text/plain": [
       "[49205.26365307004,\n",
       " 32910.20960105999,\n",
       " 33248.808417295,\n",
       " 4251.411716997998,\n",
       " 43737.16121762997,\n",
       " 28353.850199179,\n",
       " 50233.382765147995,\n",
       " 70507.83964169999,\n",
       " 58384.952167788986,\n",
       " 49281.22903473397]"
      ]
     },
     "execution_count": 399,
     "metadata": {},
     "output_type": "execute_result"
    }
   ],
   "source": [
    "biomass_per_depot=biomass_per_depo(k,clusters,year)\n",
    "biomass_per_depot"
   ]
  },
  {
   "cell_type": "code",
   "execution_count": 400,
   "metadata": {},
   "outputs": [
    {
     "data": {
      "text/plain": [
       "[1535, 2190, 173, 646, 445, 1626, 1239, 1394, 2077, 799]"
      ]
     },
     "execution_count": 400,
     "metadata": {},
     "output_type": "execute_result"
    }
   ],
   "source": [
    "depots"
   ]
  },
  {
   "cell_type": "code",
   "execution_count": 401,
   "metadata": {},
   "outputs": [],
   "source": [
    "r=5"
   ]
  },
  {
   "cell_type": "code",
   "execution_count": 402,
   "metadata": {},
   "outputs": [],
   "source": [
    "def set_prob_ref(density):\n",
    "    sum_density = sum(density)\n",
    "    prob = [x/sum_density for x in density]\n",
    "    return prob"
   ]
  },
  {
   "cell_type": "code",
   "execution_count": 403,
   "metadata": {},
   "outputs": [
    {
     "data": {
      "text/plain": [
       "[49205.26365307004,\n",
       " 32910.20960105999,\n",
       " 33248.808417295,\n",
       " 4251.411716997998,\n",
       " 43737.16121762997,\n",
       " 28353.850199179,\n",
       " 50233.382765147995,\n",
       " 70507.83964169999,\n",
       " 58384.952167788986,\n",
       " 49281.22903473397]"
      ]
     },
     "execution_count": 403,
     "metadata": {},
     "output_type": "execute_result"
    }
   ],
   "source": [
    "biomass_per_depot"
   ]
  },
  {
   "cell_type": "code",
   "execution_count": 404,
   "metadata": {},
   "outputs": [
    {
     "data": {
      "text/plain": [
       "[0.11712356873411703,\n",
       " 0.07833635896031729,\n",
       " 0.07914232764704573,\n",
       " 0.010119659473093338,\n",
       " 0.10410781342879007,\n",
       " 0.0674908307797107,\n",
       " 0.11957080649996545,\n",
       " 0.16783021143416849,\n",
       " 0.13897403347894696,\n",
       " 0.11730438956384495]"
      ]
     },
     "execution_count": 404,
     "metadata": {},
     "output_type": "execute_result"
    }
   ],
   "source": [
    "weights=set_prob_ref(biomass_per_depot)\n",
    "weights"
   ]
  },
  {
   "cell_type": "code",
   "execution_count": 405,
   "metadata": {},
   "outputs": [],
   "source": [
    "def get_refineries(r,depots,weights):\n",
    "    if len(weights)<r:\n",
    "        r = len(weights)\n",
    "    refineries_index = np.random.choice(len(weights),size=r,p=weights)\n",
    "    #print(refineries_index)\n",
    "    refineries = []\n",
    "    for i in refineries_index:\n",
    "        refineries.append(depots[i])\n",
    "    return refineries"
   ]
  },
  {
   "cell_type": "code",
   "execution_count": 406,
   "metadata": {},
   "outputs": [
    {
     "data": {
      "text/plain": [
       "[1394, 1239, 1394, 2077, 2190]"
      ]
     },
     "execution_count": 406,
     "metadata": {},
     "output_type": "execute_result"
    }
   ],
   "source": [
    "get_refineries(5,depots,weights)"
   ]
  },
  {
   "cell_type": "code",
   "execution_count": 407,
   "metadata": {},
   "outputs": [
    {
     "data": {
      "text/plain": [
       "[1626, 2190, 1394, 1535, 1394]"
      ]
     },
     "execution_count": 407,
     "metadata": {},
     "output_type": "execute_result"
    }
   ],
   "source": [
    "refineries = get_refineries(r,depots,weights)\n",
    "refineries"
   ]
  },
  {
   "cell_type": "markdown",
   "metadata": {},
   "source": [
    "## Optimal clusters for refineries"
   ]
  },
  {
   "cell_type": "code",
   "execution_count": 408,
   "metadata": {},
   "outputs": [],
   "source": [
    "def re_cluster_refineries(r,X,refineries):\n",
    "    belonging_to_cluster=np.array([])\n",
    "    for i in X:\n",
    "        distance = [distance_matrix.iloc[i,x] for x in refineries]\n",
    "        belonging_to_cluster = np.append(belonging_to_cluster,np.argmin(distance))\n",
    "        \n",
    "    X=np.array(X)\n",
    "    refineries = []\n",
    "    for i in range(r):\n",
    "        if len(biomass_density.iloc[X[belonging_to_cluster==i],[0,1]].to_numpy()) != 0:\n",
    "            pseudo_coord = np.mean(biomass_density.iloc[X[belonging_to_cluster==i],[0,1]].to_numpy(), axis=0)\n",
    "            distance = [np.linalg.norm(pseudo_coord - x) for x in biomass_density.iloc[:,[0,1]].to_numpy()]\n",
    "            refineries.append(biomass_density.iloc[np.argmin(distance),:].name)\n",
    "        else:\n",
    "            refineries = get_refineries(r,depots,weights)\n",
    "            re_cluster_refineries(r,X,refineries)\n",
    "    return refineries,belonging_to_cluster"
   ]
  },
  {
   "cell_type": "code",
   "execution_count": 409,
   "metadata": {},
   "outputs": [
    {
     "name": "stdout",
     "output_type": "stream",
     "text": [
      "Convergence in : 3 iterations\n"
     ]
    }
   ],
   "source": [
    "count=0\n",
    "clusters_depots=[]\n",
    "for _ in range(30):\n",
    "    prev=refineries\n",
    "    refineries,cluster_depots=re_cluster_refineries(r,depots,refineries)\n",
    "    if np.array_equal(prev,refineries):\n",
    "        break\n",
    "    # print(refineries)\n",
    "    count+=1\n",
    "print(f\"Convergence in : {count} iterations\")"
   ]
  },
  {
   "cell_type": "code",
   "execution_count": 410,
   "metadata": {},
   "outputs": [],
   "source": [
    "def biomass_per_refineries(r,cluster_depots,biomass_per_depot):\n",
    "    biomass=[]\n",
    "    biomass_per_depot=np.array(biomass_per_depot)\n",
    "    for i in range(r):\n",
    "        biomass.append(sum(biomass_per_depot[cluster_depots==i]))\n",
    "    return biomass"
   ]
  },
  {
   "cell_type": "code",
   "execution_count": 411,
   "metadata": {},
   "outputs": [],
   "source": [
    "biomass_per_refinery = biomass_per_refineries(r,cluster_depots,biomass_per_depot)"
   ]
  },
  {
   "cell_type": "code",
   "execution_count": 412,
   "metadata": {},
   "outputs": [
    {
     "data": {
      "image/png": "[encoded data removed]",
      "text/plain": [
       "<Figure size 640x480 with 1 Axes>"
      ]
     },
     "metadata": {},
     "output_type": "display_data"
    }
   ],
   "source": [
    "plot_depots(depots,clusters,refineries)"
   ]
  },
  {
   "cell_type": "markdown",
   "metadata": {},
   "source": [
    "## Loss function for depots"
   ]
  },
  {
   "cell_type": "code",
   "execution_count": 413,
   "metadata": {},
   "outputs": [
    {
     "data": {
      "text/plain": [
       "[49205.26365307004,\n",
       " 32910.20960105999,\n",
       " 33248.808417295,\n",
       " 4251.411716997998,\n",
       " 43737.16121762997,\n",
       " 28353.850199179,\n",
       " 50233.382765147995,\n",
       " 70507.83964169999,\n",
       " 58384.952167788986,\n",
       " 49281.22903473397]"
      ]
     },
     "execution_count": 413,
     "metadata": {},
     "output_type": "execute_result"
    }
   ],
   "source": [
    "biomass_per_depot"
   ]
  },
  {
   "cell_type": "code",
   "execution_count": 414,
   "metadata": {},
   "outputs": [
    {
     "data": {
      "text/plain": [
       "[176424.616053143,\n",
       " 98861.68984087899,\n",
       " 32910.20960105999,\n",
       " 58384.952167788986,\n",
       " 53532.640751731975]"
      ]
     },
     "execution_count": 414,
     "metadata": {},
     "output_type": "execute_result"
    }
   ],
   "source": [
    "biomass_per_refinery"
   ]
  },
  {
   "cell_type": "code",
   "execution_count": 415,
   "metadata": {},
   "outputs": [
    {
     "data": {
      "text/plain": [
       "array([2., 2., 2., ..., 1., 1., 1.])"
      ]
     },
     "execution_count": 415,
     "metadata": {},
     "output_type": "execute_result"
    }
   ],
   "source": [
    "clusters"
   ]
  },
  {
   "cell_type": "code",
   "execution_count": 416,
   "metadata": {},
   "outputs": [
    {
     "data": {
      "text/plain": [
       "array([0., 2., 0., 4., 0., 1., 0., 1., 3., 4.])"
      ]
     },
     "execution_count": 416,
     "metadata": {},
     "output_type": "execute_result"
    }
   ],
   "source": [
    "cluster_depots"
   ]
  },
  {
   "cell_type": "code",
   "execution_count": 417,
   "metadata": {},
   "outputs": [
    {
     "data": {
      "text/plain": [
       "[1535, 2190, 173, 646, 445, 1626, 1239, 1394, 2077, 799]"
      ]
     },
     "execution_count": 417,
     "metadata": {},
     "output_type": "execute_result"
    }
   ],
   "source": [
    "depots"
   ]
  },
  {
   "cell_type": "code",
   "execution_count": 418,
   "metadata": {},
   "outputs": [
    {
     "data": {
      "text/plain": [
       "[816, 1512, 2190, 2077, 657]"
      ]
     },
     "execution_count": 418,
     "metadata": {},
     "output_type": "execute_result"
    }
   ],
   "source": [
    "refineries"
   ]
  },
  {
   "cell_type": "code",
   "execution_count": 419,
   "metadata": {},
   "outputs": [],
   "source": [
    "def loss_depot(depots,year):\n",
    "    loss=[]\n",
    "    for i in range(len(depots)):\n",
    "        loss.append(sum([biomass_density.loc[x,year]*distance_matrix.iloc[x,depots[i]] for x in biomass_density[clusters==i].index]))\n",
    "    #print(loss)\n",
    "    return sum(loss)"
   ]
  },
  {
   "cell_type": "code",
   "execution_count": 420,
   "metadata": {},
   "outputs": [],
   "source": [
    "def loss_refinery(refineries,cluster_depots,depots):\n",
    "    loss=[]\n",
    "    refineries=np.array(refineries)\n",
    "    depots = np.array(depots)\n",
    "    for i in range(len(refineries)):\n",
    "        loss.append(sum([biomass_per_depot[x]*distance_matrix.iloc[depots[x],refineries[i]] for x in np.where(depots[cluster_depots==i])[0]]))\n",
    "    #print(loss)\n",
    "    return sum(loss)"
   ]
  },
  {
   "cell_type": "code",
   "execution_count": 421,
   "metadata": {},
   "outputs": [
    {
     "data": {
      "text/plain": [
       "29124262.774079088"
      ]
     },
     "execution_count": 421,
     "metadata": {},
     "output_type": "execute_result"
    }
   ],
   "source": [
    "loss_depot(depots,year)"
   ]
  },
  {
   "cell_type": "code",
   "execution_count": 422,
   "metadata": {},
   "outputs": [
    {
     "data": {
      "text/plain": [
       "115797675.26536214"
      ]
     },
     "execution_count": 422,
     "metadata": {},
     "output_type": "execute_result"
    }
   ],
   "source": [
    "loss_refinery(refineries,cluster_depots,depots)"
   ]
  },
  {
   "cell_type": "markdown",
   "metadata": {},
   "source": [
    "### Optimal number for depots (2018)"
   ]
  },
  {
   "cell_type": "code",
   "execution_count": 423,
   "metadata": {},
   "outputs": [],
   "source": [
    "k=range(1,26)"
   ]
  },
  {
   "cell_type": "code",
   "execution_count": 424,
   "metadata": {},
   "outputs": [
    {
     "name": "stdout",
     "output_type": "stream",
     "text": [
      "Convergence in : 1 iterations\n"
     ]
    },
    {
     "name": "stdout",
     "output_type": "stream",
     "text": [
      "Convergence in : 4 iterations\n",
      "Convergence in : 10 iterations\n",
      "Convergence in : 8 iterations\n",
      "Convergence in : 10 iterations\n",
      "Convergence in : 23 iterations\n",
      "Convergence in : 30 iterations\n",
      "Convergence in : 10 iterations\n",
      "Convergence in : 9 iterations\n",
      "Convergence in : 8 iterations\n",
      "Convergence in : 10 iterations\n",
      "Convergence in : 23 iterations\n",
      "Convergence in : 13 iterations\n",
      "Convergence in : 19 iterations\n",
      "Convergence in : 20 iterations\n",
      "Convergence in : 12 iterations\n",
      "Convergence in : 13 iterations\n",
      "Convergence in : 19 iterations\n",
      "Convergence in : 10 iterations\n",
      "Convergence in : 12 iterations\n",
      "Convergence in : 10 iterations\n",
      "Convergence in : 30 iterations\n",
      "Convergence in : 19 iterations\n",
      "Convergence in : 15 iterations\n",
      "Convergence in : 21 iterations\n"
     ]
    },
    {
     "data": {
      "text/plain": [
       "[<matplotlib.lines.Line2D at 0x7fabe0da4130>]"
      ]
     },
     "execution_count": 424,
     "metadata": {},
     "output_type": "execute_result"
    },
    {
     "data": {
      "image/png": "[encoded data removed]",
      "text/plain": [
       "<Figure size 640x480 with 1 Axes>"
      ]
     },
     "metadata": {},
     "output_type": "display_data"
    }
   ],
   "source": [
    "loss_d=[]\n",
    "year = '2018'\n",
    "for i in k:\n",
    "    weights = set_prob_depots(density=biomass_density[year])\n",
    "    depots = get_depots(i,year,weights)\n",
    "    \n",
    "    count=0\n",
    "    clusters=[]\n",
    "    for _ in range(30):\n",
    "        prev=depots\n",
    "        depots,clusters=re_cluster_depots(i,biomass_density,depots)\n",
    "        if np.array_equal(prev,depots):\n",
    "            break\n",
    "        #print(depots)\n",
    "        count+=1\n",
    "    loss_d.append(loss_depot(depots,year))\n",
    "    print(f\"Convergence in : {count} iterations\")\n",
    "plt.plot(k,loss_d)"
   ]
  },
  {
   "cell_type": "code",
   "execution_count": 425,
   "metadata": {},
   "outputs": [
    {
     "data": {
      "image/png": "[encoded data removed]",
      "text/plain": [
       "<Figure size 640x480 with 1 Axes>"
      ]
     },
     "metadata": {},
     "output_type": "display_data"
    }
   ],
   "source": [
    "k_2018 = 16\n",
    "weights = set_prob_depots(density=biomass_density[year])\n",
    "depots_2018 = get_depots(k_2018,year,weights)\n",
    "plot_depots(depots_2018)"
   ]
  },
  {
   "cell_type": "code",
   "execution_count": 426,
   "metadata": {},
   "outputs": [
    {
     "name": "stdout",
     "output_type": "stream",
     "text": [
      "[1343, 147, 553, 1861, 2099, 1885, 2356, 1906, 356, 1121, 1100, 2113, 1550, 2087, 1189, 916]\n",
      "[1344, 146, 552, 1860, 2146, 1886, 2367, 1629, 355, 1121, 1043, 2201, 1549, 2087, 1025, 648]\n",
      "[1343, 145, 492, 1859, 2146, 1887, 2376, 1569, 312, 1067, 987, 2162, 1549, 2087, 962, 647]\n",
      "[1343, 145, 491, 1859, 2146, 1888, 2376, 1568, 271, 1012, 986, 2162, 1548, 2087, 962, 646]\n",
      "[1343, 145, 491, 1806, 2146, 1889, 2376, 1568, 270, 1011, 923, 2162, 1548, 2087, 962, 646]\n",
      "[1277, 122, 490, 1805, 2146, 1947, 2376, 1568, 270, 1011, 859, 2162, 1548, 2087, 962, 645]\n",
      "[1276, 123, 490, 1751, 2145, 2004, 2376, 1507, 270, 1011, 728, 2162, 1548, 2037, 962, 645]\n",
      "[1276, 98, 549, 1751, 2098, 2004, 2376, 1507, 270, 1011, 728, 2162, 1548, 2037, 962, 645]\n",
      "[1276, 98, 549, 1751, 2098, 2058, 2376, 1507, 270, 1011, 728, 2162, 1548, 2037, 962, 645]\n",
      "Convergence in : 9 iterations\n"
     ]
    }
   ],
   "source": [
    "count=0\n",
    "clusters_2018=[]\n",
    "for _ in range(30):\n",
    "    prev=depots_2018\n",
    "    depots_2018,clusters_2018=re_cluster_depots(k_2018,biomass_density,depots_2018)\n",
    "    if np.array_equal(prev,depots_2018):\n",
    "        break\n",
    "    print(depots_2018)\n",
    "    count+=1\n",
    "print(f\"Convergence in : {count} iterations\")"
   ]
  },
  {
   "cell_type": "code",
   "execution_count": 427,
   "metadata": {},
   "outputs": [
    {
     "data": {
      "image/png": "[encoded data removed]",
      "text/plain": [
       "<Figure size 640x480 with 1 Axes>"
      ]
     },
     "metadata": {},
     "output_type": "display_data"
    }
   ],
   "source": [
    "plot_depots(depots_2018)"
   ]
  },
  {
   "cell_type": "code",
   "execution_count": 428,
   "metadata": {},
   "outputs": [],
   "source": [
    "bpd_2018 = biomass_per_depo(k_2018,clusters_2018,year)"
   ]
  },
  {
   "cell_type": "markdown",
   "metadata": {},
   "source": [
    "### Optimal Number of refineries (2018)"
   ]
  },
  {
   "cell_type": "code",
   "execution_count": 429,
   "metadata": {},
   "outputs": [],
   "source": [
    "r = range(1,6)"
   ]
  },
  {
   "cell_type": "code",
   "execution_count": 430,
   "metadata": {},
   "outputs": [
    {
     "name": "stdout",
     "output_type": "stream",
     "text": [
      "Convergence in : 1 iterations\n"
     ]
    },
    {
     "name": "stdout",
     "output_type": "stream",
     "text": [
      "Convergence in : 2 iterations\n",
      "Convergence in : 3 iterations\n",
      "Convergence in : 5 iterations\n",
      "Convergence in : 2 iterations\n"
     ]
    },
    {
     "data": {
      "text/plain": [
       "[<matplotlib.lines.Line2D at 0x7facb5602b80>]"
      ]
     },
     "execution_count": 430,
     "metadata": {},
     "output_type": "execute_result"
    },
    {
     "data": {
      "image/png": "[encoded data removed]",
      "text/plain": [
       "<Figure size 640x480 with 1 Axes>"
      ]
     },
     "metadata": {},
     "output_type": "display_data"
    }
   ],
   "source": [
    "loss_r=[]\n",
    "year = '2018'\n",
    "for i in r:\n",
    "    biomass_per_depot = biomass_per_depo(k_2018,clusters_2018,year)\n",
    "    weights = set_prob_ref(bpd_2018)\n",
    "    #print(weights)\n",
    "    refineries = get_refineries(i,depots_2018,weights)\n",
    "    \n",
    "    count=0\n",
    "    clusters_depots=[]\n",
    "    for _ in range(30):\n",
    "        prev=refineries\n",
    "        refineries,clusters_depots = re_cluster_refineries(i,depots_2018,refineries)\n",
    "        if np.array_equal(prev,refineries):\n",
    "            break\n",
    "        #print(refineries)\n",
    "        count+=1\n",
    "    loss_r.append(loss_refinery(refineries,clusters_depots,depots_2018))\n",
    "    print(f\"Convergence in : {count} iterations\")\n",
    "plt.plot(list(r),loss_r)"
   ]
  },
  {
   "cell_type": "code",
   "execution_count": 431,
   "metadata": {},
   "outputs": [],
   "source": [
    "r_2018 = 3"
   ]
  },
  {
   "cell_type": "code",
   "execution_count": 432,
   "metadata": {},
   "outputs": [],
   "source": [
    "weights=set_prob_ref(bpd_2018)\n",
    "refineries_2018 = get_refineries(r_2018,depots_2018,weights)"
   ]
  },
  {
   "cell_type": "code",
   "execution_count": 433,
   "metadata": {},
   "outputs": [
    {
     "name": "stdout",
     "output_type": "stream",
     "text": [
      "Convergence in : 6 iterations\n"
     ]
    }
   ],
   "source": [
    "count=0\n",
    "clusters_depots_2018=[]\n",
    "for _ in range(30):\n",
    "    prev=refineries_2018\n",
    "    refineries_2018,clusters_depots_2018=re_cluster_refineries(r_2018,depots_2018,refineries_2018)\n",
    "    if np.array_equal(prev,refineries_2018):\n",
    "        break\n",
    "    # print(refineries)\n",
    "    count+=1\n",
    "print(f\"Convergence in : {count} iterations\")"
   ]
  },
  {
   "cell_type": "code",
   "execution_count": 434,
   "metadata": {},
   "outputs": [],
   "source": [
    "bpr_2018 = biomass_per_refineries(r_2018,clusters_depots_2018,bpd_2018)"
   ]
  },
  {
   "cell_type": "code",
   "execution_count": 435,
   "metadata": {},
   "outputs": [
    {
     "data": {
      "image/png": "[encoded data removed]",
      "text/plain": [
       "<Figure size 640x480 with 1 Axes>"
      ]
     },
     "metadata": {},
     "output_type": "display_data"
    }
   ],
   "source": [
    "plot_depots(depots_2018,clusters_2018,refineries_2018)"
   ]
  },
  {
   "cell_type": "markdown",
   "metadata": {},
   "source": [
    "### Optimal number for depots (2019)"
   ]
  },
  {
   "cell_type": "code",
   "execution_count": 436,
   "metadata": {},
   "outputs": [],
   "source": [
    "k=range(1,26)"
   ]
  },
  {
   "cell_type": "code",
   "execution_count": 437,
   "metadata": {},
   "outputs": [],
   "source": [
    "year = '2019'"
   ]
  },
  {
   "cell_type": "code",
   "execution_count": 438,
   "metadata": {},
   "outputs": [
    {
     "name": "stdout",
     "output_type": "stream",
     "text": [
      "Convergence in : 1 iterations\n",
      "Convergence in : 8 iterations\n",
      "Convergence in : 2 iterations\n",
      "Convergence in : 8 iterations\n",
      "Convergence in : 6 iterations\n",
      "Convergence in : 4 iterations\n",
      "Convergence in : 9 iterations\n",
      "Convergence in : 10 iterations\n",
      "Convergence in : 7 iterations\n",
      "Convergence in : 12 iterations\n",
      "Convergence in : 11 iterations\n",
      "Convergence in : 13 iterations\n",
      "Convergence in : 21 iterations\n",
      "Convergence in : 25 iterations\n",
      "Convergence in : 21 iterations\n",
      "Convergence in : 18 iterations\n",
      "Convergence in : 30 iterations\n",
      "Convergence in : 10 iterations\n",
      "Convergence in : 17 iterations\n",
      "Convergence in : 30 iterations\n",
      "Convergence in : 12 iterations\n",
      "Convergence in : 30 iterations\n",
      "Convergence in : 14 iterations\n",
      "Convergence in : 16 iterations\n",
      "Convergence in : 16 iterations\n"
     ]
    },
    {
     "data": {
      "text/plain": [
       "[<matplotlib.lines.Line2D at 0x7fad87cb7370>]"
      ]
     },
     "execution_count": 438,
     "metadata": {},
     "output_type": "execute_result"
    },
    {
     "data": {
      "image/png": "[encoded data removed]",
      "text/plain": [
       "<Figure size 640x480 with 1 Axes>"
      ]
     },
     "metadata": {},
     "output_type": "display_data"
    }
   ],
   "source": [
    "loss_d=[]\n",
    "year = '2019'\n",
    "for i in k:\n",
    "\n",
    "    weights = set_prob_depots(density=biomass_density[year])\n",
    "    depots = get_depots(i,year,weights)\n",
    "    \n",
    "    count=0\n",
    "    clusters=[]\n",
    "    for _ in range(30):\n",
    "        prev=depots\n",
    "        depots,clusters=re_cluster_depots(i,biomass_density,depots)\n",
    "        if np.array_equal(prev,depots):\n",
    "            break\n",
    "        #print(depots)\n",
    "        count+=1\n",
    "    loss_d.append(loss_depot(depots,year))\n",
    "    print(f\"Convergence in : {count} iterations\")\n",
    "plt.plot(k,loss_d)"
   ]
  },
  {
   "cell_type": "code",
   "execution_count": 439,
   "metadata": {},
   "outputs": [
    {
     "data": {
      "image/png": "[encoded data removed]",
      "text/plain": [
       "<Figure size 640x480 with 1 Axes>"
      ]
     },
     "metadata": {},
     "output_type": "display_data"
    }
   ],
   "source": [
    "k_2019 = 17\n",
    "weights = set_prob_depots(density=biomass_density[year])\n",
    "depots_2019 = get_depots(k_2019,year,weights)\n",
    "plot_depots(depots_2019)"
   ]
  },
  {
   "cell_type": "code",
   "execution_count": 440,
   "metadata": {},
   "outputs": [
    {
     "name": "stdout",
     "output_type": "stream",
     "text": [
      "[590, 1911, 957, 1889, 17, 1863, 147, 1388, 1818, 2249, 1062, 1149, 872, 185, 1577, 2186, 1626]\n",
      "[586, 2021, 959, 1836, 35, 1810, 209, 1322, 1763, 2248, 1063, 1095, 807, 225, 1637, 2226, 1625]\n",
      "[646, 2069, 1022, 1779, 54, 1810, 287, 1322, 1709, 2249, 1118, 1041, 807, 267, 1638, 2295, 1624]\n",
      "[645, 2069, 1022, 1778, 76, 1863, 327, 1322, 1654, 2250, 1118, 986, 808, 308, 1638, 2321, 1565]\n",
      "[645, 2069, 1022, 1833, 99, 1863, 372, 1322, 1654, 2212, 1173, 986, 742, 308, 1639, 2322, 1565]\n",
      "[645, 2069, 1022, 1833, 99, 1863, 371, 1322, 1654, 2212, 1173, 987, 743, 309, 1580, 2322, 1565]\n",
      "[645, 2069, 1022, 1833, 99, 1863, 371, 1322, 1654, 2212, 1229, 987, 743, 309, 1580, 2322, 1565]\n",
      "[645, 2069, 1022, 1833, 99, 1863, 371, 1322, 1654, 2212, 1229, 987, 743, 351, 1580, 2322, 1565]\n",
      "[645, 2069, 1022, 1833, 125, 1863, 371, 1322, 1654, 2212, 1229, 987, 743, 352, 1580, 2322, 1565]\n",
      "Convergence in : 9 iterations\n"
     ]
    }
   ],
   "source": [
    "count=0\n",
    "clusters_2019=[]\n",
    "for _ in range(30):\n",
    "    prev=depots_2019\n",
    "    depots_2019,clusters_2019 = re_cluster_depots(k_2019,biomass_density,depots_2019)\n",
    "    if np.array_equal(prev,depots_2019):\n",
    "        break\n",
    "    print(depots_2019)\n",
    "    count+=1\n",
    "print(f\"Convergence in : {count} iterations\")"
   ]
  },
  {
   "cell_type": "code",
   "execution_count": 441,
   "metadata": {},
   "outputs": [
    {
     "data": {
      "image/png": "[encoded data removed]",
      "text/plain": [
       "<Figure size 640x480 with 1 Axes>"
      ]
     },
     "metadata": {},
     "output_type": "display_data"
    }
   ],
   "source": [
    "plot_depots(depots_2019)"
   ]
  },
  {
   "cell_type": "code",
   "execution_count": 442,
   "metadata": {},
   "outputs": [],
   "source": [
    "bpd_2019 = biomass_per_depo(k_2019,clusters_2019,year)"
   ]
  },
  {
   "cell_type": "markdown",
   "metadata": {},
   "source": [
    "### Optimal Number of refineries (2019)"
   ]
  },
  {
   "cell_type": "code",
   "execution_count": 443,
   "metadata": {},
   "outputs": [],
   "source": [
    "r = range(1,6)"
   ]
  },
  {
   "cell_type": "code",
   "execution_count": 444,
   "metadata": {},
   "outputs": [
    {
     "name": "stdout",
     "output_type": "stream",
     "text": [
      "Convergence in : 1 iterations\n"
     ]
    },
    {
     "name": "stdout",
     "output_type": "stream",
     "text": [
      "Convergence in : 2 iterations\n",
      "Convergence in : 3 iterations\n",
      "Convergence in : 3 iterations\n",
      "Convergence in : 7 iterations\n"
     ]
    },
    {
     "data": {
      "text/plain": [
       "[<matplotlib.lines.Line2D at 0x7fad56182a00>]"
      ]
     },
     "execution_count": 444,
     "metadata": {},
     "output_type": "execute_result"
    },
    {
     "data": {
      "image/png": "[encoded data removed]",
      "text/plain": [
       "<Figure size 640x480 with 1 Axes>"
      ]
     },
     "metadata": {},
     "output_type": "display_data"
    }
   ],
   "source": [
    "loss_r=[]\n",
    "for i in r:\n",
    "    year = '2019'\n",
    "    biomass_per_depot = biomass_per_depo(k_2019,clusters_2019,year)\n",
    "    weights = set_prob_ref(bpd_2019)\n",
    "    #print(weights)\n",
    "    refineries = get_refineries(i,depots_2019,weights)\n",
    "    \n",
    "    count=0\n",
    "    clusters_depots=[]\n",
    "    for _ in range(30):\n",
    "        prev=refineries\n",
    "        refineries,clusters_depots = re_cluster_refineries(i,depots_2019,refineries)\n",
    "        if np.array_equal(prev,refineries):\n",
    "            break\n",
    "        #print(refineries)\n",
    "        count+=1\n",
    "    loss_r.append(loss_refinery(refineries,clusters_depots,depots_2019))\n",
    "    print(f\"Convergence in : {count} iterations\")\n",
    "plt.plot(list(r),loss_r)"
   ]
  },
  {
   "cell_type": "code",
   "execution_count": 622,
   "metadata": {},
   "outputs": [],
   "source": [
    "r_2019=4"
   ]
  },
  {
   "cell_type": "code",
   "execution_count": 446,
   "metadata": {},
   "outputs": [],
   "source": [
    "weights = set_prob_ref(bpd_2019)\n",
    "refineries_2019 = get_refineries(r_2019,depots_2019,weights)"
   ]
  },
  {
   "cell_type": "code",
   "execution_count": 623,
   "metadata": {},
   "outputs": [
    {
     "name": "stdout",
     "output_type": "stream",
     "text": [
      "Convergence in : 0 iterations\n"
     ]
    }
   ],
   "source": [
    "count=0\n",
    "clusters_depots_2019=[]\n",
    "for _ in range(30):\n",
    "    prev=refineries_2019\n",
    "    refineries_2019,cluster_depots_2019 = re_cluster_refineries(r_2019,depots_2019,refineries_2019)\n",
    "    if np.array_equal(prev,refineries_2019):\n",
    "        break\n",
    "    # print(refineries)\n",
    "    count+=1\n",
    "print(f\"Convergence in : {count} iterations\")"
   ]
  },
  {
   "cell_type": "code",
   "execution_count": 448,
   "metadata": {},
   "outputs": [],
   "source": [
    "bpr_2019 = biomass_per_refineries(r_2019,cluster_depots_2019,bpd_2019)"
   ]
  },
  {
   "cell_type": "code",
   "execution_count": 449,
   "metadata": {},
   "outputs": [
    {
     "data": {
      "image/png": "[encoded data removed]",
      "text/plain": [
       "<Figure size 640x480 with 1 Axes>"
      ]
     },
     "metadata": {},
     "output_type": "display_data"
    }
   ],
   "source": [
    "plot_depots(depots_2019,clusters_2019,refineries_2019)"
   ]
  },
  {
   "cell_type": "markdown",
   "metadata": {},
   "source": [
    "## Combined data for 2018 and 2019"
   ]
  },
  {
   "cell_type": "code",
   "execution_count": 450,
   "metadata": {},
   "outputs": [],
   "source": [
    "biomass_density['20182019'] = (biomass_density['2018'] + biomass_density['2019']) / 2"
   ]
  },
  {
   "cell_type": "code",
   "execution_count": 451,
   "metadata": {},
   "outputs": [
    {
     "data": {
      "text/html": [
       "<div>\n",
       "<style scoped>\n",
       "    .dataframe tbody tr th:only-of-type {\n",
       "        vertical-align: middle;\n",
       "    }\n",
       "\n",
       "    .dataframe tbody tr th {\n",
       "        vertical-align: top;\n",
       "    }\n",
       "\n",
       "    .dataframe thead th {\n",
       "        text-align: right;\n",
       "    }\n",
       "</style>\n",
       "<table border=\"1\" class=\"dataframe\">\n",
       "  <thead>\n",
       "    <tr style=\"text-align: right;\">\n",
       "      <th></th>\n",
       "      <th>Latitude</th>\n",
       "      <th>Longitude</th>\n",
       "      <th>2010</th>\n",
       "      <th>2011</th>\n",
       "      <th>2012</th>\n",
       "      <th>2013</th>\n",
       "      <th>2014</th>\n",
       "      <th>2015</th>\n",
       "      <th>2016</th>\n",
       "      <th>2017</th>\n",
       "      <th>2018</th>\n",
       "      <th>2019</th>\n",
       "      <th>20182019</th>\n",
       "    </tr>\n",
       "  </thead>\n",
       "  <tbody>\n",
       "    <tr>\n",
       "      <th>0</th>\n",
       "      <td>24.66818</td>\n",
       "      <td>71.33144</td>\n",
       "      <td>8.475744</td>\n",
       "      <td>8.868568</td>\n",
       "      <td>9.202181</td>\n",
       "      <td>6.023070</td>\n",
       "      <td>10.788374</td>\n",
       "      <td>6.647325</td>\n",
       "      <td>7.387925</td>\n",
       "      <td>5.180296</td>\n",
       "      <td>7.909043</td>\n",
       "      <td>17.154170</td>\n",
       "      <td>12.531607</td>\n",
       "    </tr>\n",
       "    <tr>\n",
       "      <th>1</th>\n",
       "      <td>24.66818</td>\n",
       "      <td>71.41106</td>\n",
       "      <td>24.029778</td>\n",
       "      <td>28.551348</td>\n",
       "      <td>25.866415</td>\n",
       "      <td>21.634459</td>\n",
       "      <td>34.419411</td>\n",
       "      <td>27.361908</td>\n",
       "      <td>40.431847</td>\n",
       "      <td>42.126945</td>\n",
       "      <td>33.303310</td>\n",
       "      <td>62.532272</td>\n",
       "      <td>47.917791</td>\n",
       "    </tr>\n",
       "    <tr>\n",
       "      <th>2</th>\n",
       "      <td>24.66818</td>\n",
       "      <td>71.49069</td>\n",
       "      <td>44.831635</td>\n",
       "      <td>66.111168</td>\n",
       "      <td>56.982258</td>\n",
       "      <td>53.003735</td>\n",
       "      <td>70.917908</td>\n",
       "      <td>42.517117</td>\n",
       "      <td>59.181629</td>\n",
       "      <td>73.203232</td>\n",
       "      <td>68.320305</td>\n",
       "      <td>106.519424</td>\n",
       "      <td>87.419865</td>\n",
       "    </tr>\n",
       "    <tr>\n",
       "      <th>3</th>\n",
       "      <td>24.66818</td>\n",
       "      <td>71.57031</td>\n",
       "      <td>59.974419</td>\n",
       "      <td>80.821304</td>\n",
       "      <td>78.956543</td>\n",
       "      <td>63.160561</td>\n",
       "      <td>93.513924</td>\n",
       "      <td>70.203171</td>\n",
       "      <td>74.536720</td>\n",
       "      <td>101.067352</td>\n",
       "      <td>91.012245</td>\n",
       "      <td>134.203400</td>\n",
       "      <td>112.607822</td>\n",
       "    </tr>\n",
       "    <tr>\n",
       "      <th>4</th>\n",
       "      <td>24.66818</td>\n",
       "      <td>71.64994</td>\n",
       "      <td>14.653370</td>\n",
       "      <td>19.327524</td>\n",
       "      <td>21.928144</td>\n",
       "      <td>17.899586</td>\n",
       "      <td>19.534035</td>\n",
       "      <td>19.165791</td>\n",
       "      <td>16.531315</td>\n",
       "      <td>26.086885</td>\n",
       "      <td>15.820264</td>\n",
       "      <td>29.635239</td>\n",
       "      <td>22.727752</td>\n",
       "    </tr>\n",
       "  </tbody>\n",
       "</table>\n",
       "</div>"
      ],
      "text/plain": [
       "   Latitude  Longitude       2010       2011       2012       2013       2014  \\\n",
       "0  24.66818   71.33144   8.475744   8.868568   9.202181   6.023070  10.788374   \n",
       "1  24.66818   71.41106  24.029778  28.551348  25.866415  21.634459  34.419411   \n",
       "2  24.66818   71.49069  44.831635  66.111168  56.982258  53.003735  70.917908   \n",
       "3  24.66818   71.57031  59.974419  80.821304  78.956543  63.160561  93.513924   \n",
       "4  24.66818   71.64994  14.653370  19.327524  21.928144  17.899586  19.534035   \n",
       "\n",
       "        2015       2016        2017       2018        2019    20182019  \n",
       "0   6.647325   7.387925    5.180296   7.909043   17.154170   12.531607  \n",
       "1  27.361908  40.431847   42.126945  33.303310   62.532272   47.917791  \n",
       "2  42.517117  59.181629   73.203232  68.320305  106.519424   87.419865  \n",
       "3  70.203171  74.536720  101.067352  91.012245  134.203400  112.607822  \n",
       "4  19.165791  16.531315   26.086885  15.820264   29.635239   22.727752  "
      ]
     },
     "execution_count": 451,
     "metadata": {},
     "output_type": "execute_result"
    }
   ],
   "source": [
    "biomass_density.head()"
   ]
  },
  {
   "cell_type": "markdown",
   "metadata": {},
   "source": [
    "### Optimal number for depots (20182019)"
   ]
  },
  {
   "cell_type": "code",
   "execution_count": 474,
   "metadata": {},
   "outputs": [],
   "source": [
    "k=range(1,26)\n",
    "year = '20182019'"
   ]
  },
  {
   "cell_type": "code",
   "execution_count": 475,
   "metadata": {},
   "outputs": [
    {
     "name": "stdout",
     "output_type": "stream",
     "text": [
      "Convergence in : 1 iterations\n",
      "Convergence in : 6 iterations\n",
      "Convergence in : 8 iterations\n",
      "Convergence in : 4 iterations\n",
      "Convergence in : 7 iterations\n",
      "Convergence in : 30 iterations\n",
      "Convergence in : 10 iterations\n",
      "Convergence in : 8 iterations\n",
      "Convergence in : 12 iterations\n",
      "Convergence in : 17 iterations\n",
      "Convergence in : 25 iterations\n",
      "Convergence in : 10 iterations\n",
      "Convergence in : 30 iterations\n",
      "Convergence in : 9 iterations\n",
      "Convergence in : 9 iterations\n",
      "Convergence in : 10 iterations\n",
      "Convergence in : 15 iterations\n",
      "Convergence in : 25 iterations\n",
      "Convergence in : 10 iterations\n",
      "Convergence in : 30 iterations\n",
      "Convergence in : 13 iterations\n",
      "Convergence in : 8 iterations\n",
      "Convergence in : 12 iterations\n",
      "Convergence in : 14 iterations\n",
      "Convergence in : 11 iterations\n"
     ]
    },
    {
     "data": {
      "text/plain": [
       "[<matplotlib.lines.Line2D at 0x7faae099a910>]"
      ]
     },
     "execution_count": 475,
     "metadata": {},
     "output_type": "execute_result"
    },
    {
     "data": {
      "image/png": "[encoded data removed]",
      "text/plain": [
       "<Figure size 640x480 with 1 Axes>"
      ]
     },
     "metadata": {},
     "output_type": "display_data"
    }
   ],
   "source": [
    "loss_d=[]\n",
    "for i in k:\n",
    "    weights = set_prob_depots(density=biomass_density[year])\n",
    "    depots = get_depots(i,year,weights)\n",
    "    \n",
    "    count=0\n",
    "    clusters=[]\n",
    "    for _ in range(30):\n",
    "        prev=depots\n",
    "        depots,clusters=re_cluster_depots(i,biomass_density,depots)\n",
    "        if np.array_equal(prev,depots):\n",
    "            break\n",
    "        #print(depots)\n",
    "        count+=1\n",
    "    loss_d.append(loss_depot(depots,year))\n",
    "    print(f\"Convergence in : {count} iterations\")\n",
    "plt.plot(k,loss_d)"
   ]
  },
  {
   "cell_type": "code",
   "execution_count": 476,
   "metadata": {},
   "outputs": [
    {
     "data": {
      "image/png": "[encoded data removed]",
      "text/plain": [
       "<Figure size 640x480 with 1 Axes>"
      ]
     },
     "metadata": {},
     "output_type": "display_data"
    }
   ],
   "source": [
    "k_1819 = 15\n",
    "weights = set_prob_depots(density=biomass_density[year])\n",
    "depots_1819 = get_depots(k_1819,year,weights)\n",
    "plot_depots(depots_1819)"
   ]
  },
  {
   "cell_type": "code",
   "execution_count": 477,
   "metadata": {},
   "outputs": [
    {
     "name": "stdout",
     "output_type": "stream",
     "text": [
      "[1384, 1700, 1519, 213, 1186, 2084, 2100, 2208, 1801, 440, 758, 1871, 654, 1342, 1902]\n",
      "[1446, 1701, 1204, 148, 1242, 2130, 2147, 2244, 1853, 389, 758, 1871, 589, 1162, 1902]\n",
      "[1445, 1701, 1094, 146, 1241, 2130, 2147, 2244, 1853, 346, 759, 1818, 586, 1107, 1902]\n",
      "[1445, 1700, 985, 145, 1299, 2130, 2189, 2244, 1800, 305, 759, 1764, 646, 1054, 1902]\n",
      "[1445, 1645, 859, 145, 1364, 2130, 2189, 2244, 1800, 265, 759, 1710, 645, 999, 1902]\n",
      "[1445, 1585, 794, 146, 1364, 2130, 2190, 2244, 1800, 224, 760, 1654, 645, 999, 1902]\n",
      "[1445, 1462, 661, 147, 1363, 2083, 2190, 2244, 1800, 224, 761, 1709, 645, 938, 1902]\n",
      "[1445, 1399, 599, 147, 1428, 2083, 2229, 2244, 1800, 225, 762, 1654, 645, 939, 1902]\n",
      "[1445, 1267, 599, 123, 1487, 2083, 2229, 2244, 1801, 226, 763, 1653, 645, 876, 1902]\n",
      "[1445, 1208, 539, 124, 1487, 2084, 2229, 2244, 1801, 226, 830, 1653, 645, 877, 1902]\n",
      "[1445, 1097, 420, 124, 1487, 2084, 2229, 2244, 1802, 227, 831, 1594, 645, 878, 1902]\n",
      "[1445, 1096, 370, 125, 1487, 2085, 2229, 2244, 1748, 269, 896, 1594, 645, 813, 1959]\n",
      "[1445, 1042, 370, 125, 1487, 2085, 2229, 2206, 1748, 270, 896, 1533, 645, 813, 1959]\n",
      "[1445, 1042, 370, 125, 1487, 2085, 2229, 2244, 1748, 269, 897, 1533, 645, 813, 1960]\n",
      "[1445, 1042, 370, 125, 1487, 2085, 2229, 2244, 1749, 270, 897, 1533, 645, 813, 1960]\n",
      "[1445, 1042, 370, 125, 1487, 2085, 2229, 2244, 1749, 310, 897, 1533, 645, 813, 1960]\n",
      "Convergence in : 16 iterations\n"
     ]
    }
   ],
   "source": [
    "count=0\n",
    "clusters_1819=[]\n",
    "for _ in range(30):\n",
    "    prev=depots_1819\n",
    "    depots_1819,clusters_1819=re_cluster_depots(k_1819,biomass_density,depots_1819)\n",
    "    if np.array_equal(prev,depots_1819):\n",
    "        break\n",
    "    print(depots_1819)\n",
    "    count+=1\n",
    "print(f\"Convergence in : {count} iterations\")"
   ]
  },
  {
   "cell_type": "code",
   "execution_count": 478,
   "metadata": {},
   "outputs": [
    {
     "data": {
      "image/png": "[encoded data removed]",
      "text/plain": [
       "<Figure size 640x480 with 1 Axes>"
      ]
     },
     "metadata": {},
     "output_type": "display_data"
    }
   ],
   "source": [
    "plot_depots(depots_1819)"
   ]
  },
  {
   "cell_type": "code",
   "execution_count": 479,
   "metadata": {},
   "outputs": [],
   "source": [
    "bpd_1819 = biomass_per_depo(k_1819,clusters_1819,year)"
   ]
  },
  {
   "cell_type": "markdown",
   "metadata": {},
   "source": [
    "### Optimal Number of refineries (20182019)"
   ]
  },
  {
   "cell_type": "code",
   "execution_count": 480,
   "metadata": {},
   "outputs": [],
   "source": [
    "r_1819 = range(1,6)"
   ]
  },
  {
   "cell_type": "code",
   "execution_count": 481,
   "metadata": {},
   "outputs": [
    {
     "name": "stdout",
     "output_type": "stream",
     "text": [
      "Convergence in : 1 iterations\n",
      "Convergence in : 1 iterations\n",
      "Convergence in : 8 iterations\n",
      "Convergence in : 6 iterations\n",
      "Convergence in : 3 iterations\n"
     ]
    },
    {
     "data": {
      "text/plain": [
       "[<matplotlib.lines.Line2D at 0x7faadd87d430>]"
      ]
     },
     "execution_count": 481,
     "metadata": {},
     "output_type": "execute_result"
    },
    {
     "data": {
      "image/png": "[encoded data removed]",
      "text/plain": [
       "<Figure size 640x480 with 1 Axes>"
      ]
     },
     "metadata": {},
     "output_type": "display_data"
    }
   ],
   "source": [
    "loss_r=[]\n",
    "year = '20182019'\n",
    "for i in r:\n",
    "    weights = set_prob_ref(bpd_1819)\n",
    "    refineries = get_refineries(i,depots_1819,weights)\n",
    "    \n",
    "    count=0\n",
    "    clusters_depots=[]\n",
    "    for _ in range(30):\n",
    "        prev=refineries\n",
    "        refineries,clusters_depots = re_cluster_refineries(i,depots_1819,refineries)\n",
    "        if np.array_equal(prev,refineries):\n",
    "            break\n",
    "        #print(refineries)\n",
    "        count+=1\n",
    "    loss_r.append(loss_refinery(refineries,clusters_depots,depots_1819))\n",
    "    print(f\"Convergence in : {count} iterations\")\n",
    "plt.plot(list(r),loss_r)"
   ]
  },
  {
   "cell_type": "code",
   "execution_count": 482,
   "metadata": {},
   "outputs": [],
   "source": [
    "r_1819 = 4"
   ]
  },
  {
   "cell_type": "code",
   "execution_count": 483,
   "metadata": {},
   "outputs": [],
   "source": [
    "weights=set_prob_ref(bpd_1819)\n",
    "refineries_1819 = get_refineries(r_1819,depots_1819,weights)"
   ]
  },
  {
   "cell_type": "code",
   "execution_count": 484,
   "metadata": {},
   "outputs": [
    {
     "name": "stdout",
     "output_type": "stream",
     "text": [
      "Convergence in : 2 iterations\n"
     ]
    }
   ],
   "source": [
    "count=0\n",
    "clusters_depots_1819=[]\n",
    "for _ in range(30):\n",
    "    prev=refineries_1819\n",
    "    refineries_1819,cluster_depots_1819 = re_cluster_refineries(r_1819,depots_1819,refineries_1819)\n",
    "    if np.array_equal(prev,refineries_1819):\n",
    "        break\n",
    "    # print(refineries)\n",
    "    count+=1\n",
    "print(f\"Convergence in : {count} iterations\")"
   ]
  },
  {
   "cell_type": "code",
   "execution_count": 485,
   "metadata": {},
   "outputs": [],
   "source": [
    "bpr_1819 = biomass_per_refineries(r_1819,cluster_depots_1819,bpd_1819)"
   ]
  },
  {
   "cell_type": "code",
   "execution_count": 486,
   "metadata": {},
   "outputs": [
    {
     "data": {
      "image/png": "[encoded data removed]",
      "text/plain": [
       "<Figure size 640x480 with 1 Axes>"
      ]
     },
     "metadata": {},
     "output_type": "display_data"
    }
   ],
   "source": [
    "plot_depots(depots,clusters,refineries)"
   ]
  },
  {
   "cell_type": "markdown",
   "metadata": {},
   "source": [
    "## Submission file pre processing"
   ]
  },
  {
   "cell_type": "code",
   "execution_count": 572,
   "metadata": {},
   "outputs": [],
   "source": [
    "columns = ['year','data_type','source_index','destination_index','value']"
   ]
  },
  {
   "cell_type": "code",
   "execution_count": 573,
   "metadata": {},
   "outputs": [
    {
     "data": {
      "text/plain": [
       "[1445,\n",
       " 1042,\n",
       " 370,\n",
       " 125,\n",
       " 1487,\n",
       " 2085,\n",
       " 2229,\n",
       " 2244,\n",
       " 1749,\n",
       " 310,\n",
       " 897,\n",
       " 1533,\n",
       " 645,\n",
       " 813,\n",
       " 1960]"
      ]
     },
     "execution_count": 573,
     "metadata": {},
     "output_type": "execute_result"
    }
   ],
   "source": [
    "depots_1819"
   ]
  },
  {
   "cell_type": "code",
   "execution_count": 605,
   "metadata": {},
   "outputs": [],
   "source": [
    "def preprocessing_depot_1819(depots_1819,columns):\n",
    "    year=['20182019' for i in range(len(depots_1819))]\n",
    "    data_type=['depot_location' for i in range(len(depots_1819))]\n",
    "    destination_index = [np.nan for i in range(len(depots_1819))]\n",
    "    value = [np.nan for i in range(len(depots_1819))]\n",
    "    return pd.DataFrame(list(zip(year,data_type,depots_1819,destination_index,value)),columns=columns)\n",
    "    "
   ]
  },
  {
   "cell_type": "code",
   "execution_count": 490,
   "metadata": {},
   "outputs": [
    {
     "data": {
      "text/html": [
       "<div>\n",
       "<style scoped>\n",
       "    .dataframe tbody tr th:only-of-type {\n",
       "        vertical-align: middle;\n",
       "    }\n",
       "\n",
       "    .dataframe tbody tr th {\n",
       "        vertical-align: top;\n",
       "    }\n",
       "\n",
       "    .dataframe thead th {\n",
       "        text-align: right;\n",
       "    }\n",
       "</style>\n",
       "<table border=\"1\" class=\"dataframe\">\n",
       "  <thead>\n",
       "    <tr style=\"text-align: right;\">\n",
       "      <th></th>\n",
       "      <th>year</th>\n",
       "      <th>data_type</th>\n",
       "      <th>source_index</th>\n",
       "      <th>destination_index</th>\n",
       "      <th>value</th>\n",
       "    </tr>\n",
       "  </thead>\n",
       "  <tbody>\n",
       "    <tr>\n",
       "      <th>0</th>\n",
       "      <td>20182019</td>\n",
       "      <td>depot_location</td>\n",
       "      <td>1445</td>\n",
       "      <td>None</td>\n",
       "      <td>None</td>\n",
       "    </tr>\n",
       "    <tr>\n",
       "      <th>1</th>\n",
       "      <td>20182019</td>\n",
       "      <td>depot_location</td>\n",
       "      <td>1042</td>\n",
       "      <td>None</td>\n",
       "      <td>None</td>\n",
       "    </tr>\n",
       "    <tr>\n",
       "      <th>2</th>\n",
       "      <td>20182019</td>\n",
       "      <td>depot_location</td>\n",
       "      <td>370</td>\n",
       "      <td>None</td>\n",
       "      <td>None</td>\n",
       "    </tr>\n",
       "    <tr>\n",
       "      <th>3</th>\n",
       "      <td>20182019</td>\n",
       "      <td>depot_location</td>\n",
       "      <td>125</td>\n",
       "      <td>None</td>\n",
       "      <td>None</td>\n",
       "    </tr>\n",
       "    <tr>\n",
       "      <th>4</th>\n",
       "      <td>20182019</td>\n",
       "      <td>depot_location</td>\n",
       "      <td>1487</td>\n",
       "      <td>None</td>\n",
       "      <td>None</td>\n",
       "    </tr>\n",
       "    <tr>\n",
       "      <th>5</th>\n",
       "      <td>20182019</td>\n",
       "      <td>depot_location</td>\n",
       "      <td>2085</td>\n",
       "      <td>None</td>\n",
       "      <td>None</td>\n",
       "    </tr>\n",
       "    <tr>\n",
       "      <th>6</th>\n",
       "      <td>20182019</td>\n",
       "      <td>depot_location</td>\n",
       "      <td>2229</td>\n",
       "      <td>None</td>\n",
       "      <td>None</td>\n",
       "    </tr>\n",
       "    <tr>\n",
       "      <th>7</th>\n",
       "      <td>20182019</td>\n",
       "      <td>depot_location</td>\n",
       "      <td>2244</td>\n",
       "      <td>None</td>\n",
       "      <td>None</td>\n",
       "    </tr>\n",
       "    <tr>\n",
       "      <th>8</th>\n",
       "      <td>20182019</td>\n",
       "      <td>depot_location</td>\n",
       "      <td>1749</td>\n",
       "      <td>None</td>\n",
       "      <td>None</td>\n",
       "    </tr>\n",
       "    <tr>\n",
       "      <th>9</th>\n",
       "      <td>20182019</td>\n",
       "      <td>depot_location</td>\n",
       "      <td>310</td>\n",
       "      <td>None</td>\n",
       "      <td>None</td>\n",
       "    </tr>\n",
       "    <tr>\n",
       "      <th>10</th>\n",
       "      <td>20182019</td>\n",
       "      <td>depot_location</td>\n",
       "      <td>897</td>\n",
       "      <td>None</td>\n",
       "      <td>None</td>\n",
       "    </tr>\n",
       "    <tr>\n",
       "      <th>11</th>\n",
       "      <td>20182019</td>\n",
       "      <td>depot_location</td>\n",
       "      <td>1533</td>\n",
       "      <td>None</td>\n",
       "      <td>None</td>\n",
       "    </tr>\n",
       "    <tr>\n",
       "      <th>12</th>\n",
       "      <td>20182019</td>\n",
       "      <td>depot_location</td>\n",
       "      <td>645</td>\n",
       "      <td>None</td>\n",
       "      <td>None</td>\n",
       "    </tr>\n",
       "    <tr>\n",
       "      <th>13</th>\n",
       "      <td>20182019</td>\n",
       "      <td>depot_location</td>\n",
       "      <td>813</td>\n",
       "      <td>None</td>\n",
       "      <td>None</td>\n",
       "    </tr>\n",
       "    <tr>\n",
       "      <th>14</th>\n",
       "      <td>20182019</td>\n",
       "      <td>depot_location</td>\n",
       "      <td>1960</td>\n",
       "      <td>None</td>\n",
       "      <td>None</td>\n",
       "    </tr>\n",
       "  </tbody>\n",
       "</table>\n",
       "</div>"
      ],
      "text/plain": [
       "        year       data_type  source_index destination_index value\n",
       "0   20182019  depot_location          1445              None  None\n",
       "1   20182019  depot_location          1042              None  None\n",
       "2   20182019  depot_location           370              None  None\n",
       "3   20182019  depot_location           125              None  None\n",
       "4   20182019  depot_location          1487              None  None\n",
       "5   20182019  depot_location          2085              None  None\n",
       "6   20182019  depot_location          2229              None  None\n",
       "7   20182019  depot_location          2244              None  None\n",
       "8   20182019  depot_location          1749              None  None\n",
       "9   20182019  depot_location           310              None  None\n",
       "10  20182019  depot_location           897              None  None\n",
       "11  20182019  depot_location          1533              None  None\n",
       "12  20182019  depot_location           645              None  None\n",
       "13  20182019  depot_location           813              None  None\n",
       "14  20182019  depot_location          1960              None  None"
      ]
     },
     "execution_count": 490,
     "metadata": {},
     "output_type": "execute_result"
    }
   ],
   "source": [
    "preprocessing_depot_1819(depots_1819,columns)"
   ]
  },
  {
   "cell_type": "code",
   "execution_count": 575,
   "metadata": {},
   "outputs": [
    {
     "data": {
      "text/plain": [
       "[330, 1359, 1576, 1977]"
      ]
     },
     "execution_count": 575,
     "metadata": {},
     "output_type": "execute_result"
    }
   ],
   "source": [
    "refineries_1819"
   ]
  },
  {
   "cell_type": "code",
   "execution_count": 600,
   "metadata": {},
   "outputs": [],
   "source": [
    "def preprocessing_refineries_1819(refineries_1819,columns):\n",
    "    year=['20182019' for i in range(len(refineries_1819))]\n",
    "    data_type=['refinery_location' for i in range(len(refineries_1819))]\n",
    "    destination_index = [ np.nan for i in range(len(refineries_1819))]\n",
    "    value = [np.nan for i in range(len(refineries_1819))]\n",
    "    return pd.DataFrame(list(zip(year,data_type,refineries_1819,destination_index,value)),columns=columns,index=None)"
   ]
  },
  {
   "cell_type": "code",
   "execution_count": 577,
   "metadata": {},
   "outputs": [
    {
     "data": {
      "text/html": [
       "<div>\n",
       "<style scoped>\n",
       "    .dataframe tbody tr th:only-of-type {\n",
       "        vertical-align: middle;\n",
       "    }\n",
       "\n",
       "    .dataframe tbody tr th {\n",
       "        vertical-align: top;\n",
       "    }\n",
       "\n",
       "    .dataframe thead th {\n",
       "        text-align: right;\n",
       "    }\n",
       "</style>\n",
       "<table border=\"1\" class=\"dataframe\">\n",
       "  <thead>\n",
       "    <tr style=\"text-align: right;\">\n",
       "      <th></th>\n",
       "      <th>year</th>\n",
       "      <th>data_type</th>\n",
       "      <th>source_index</th>\n",
       "      <th>destination_index</th>\n",
       "      <th>value</th>\n",
       "    </tr>\n",
       "  </thead>\n",
       "  <tbody>\n",
       "    <tr>\n",
       "      <th>0</th>\n",
       "      <td>20182019</td>\n",
       "      <td>refinery_location</td>\n",
       "      <td>330</td>\n",
       "      <td>None</td>\n",
       "      <td>None</td>\n",
       "    </tr>\n",
       "    <tr>\n",
       "      <th>1</th>\n",
       "      <td>20182019</td>\n",
       "      <td>refinery_location</td>\n",
       "      <td>1359</td>\n",
       "      <td>None</td>\n",
       "      <td>None</td>\n",
       "    </tr>\n",
       "    <tr>\n",
       "      <th>2</th>\n",
       "      <td>20182019</td>\n",
       "      <td>refinery_location</td>\n",
       "      <td>1576</td>\n",
       "      <td>None</td>\n",
       "      <td>None</td>\n",
       "    </tr>\n",
       "    <tr>\n",
       "      <th>3</th>\n",
       "      <td>20182019</td>\n",
       "      <td>refinery_location</td>\n",
       "      <td>1977</td>\n",
       "      <td>None</td>\n",
       "      <td>None</td>\n",
       "    </tr>\n",
       "  </tbody>\n",
       "</table>\n",
       "</div>"
      ],
      "text/plain": [
       "       year          data_type  source_index destination_index value\n",
       "0  20182019  refinery_location           330              None  None\n",
       "1  20182019  refinery_location          1359              None  None\n",
       "2  20182019  refinery_location          1576              None  None\n",
       "3  20182019  refinery_location          1977              None  None"
      ]
     },
     "execution_count": 577,
     "metadata": {},
     "output_type": "execute_result"
    }
   ],
   "source": [
    "preprocessing_refineries_1819(refineries_1819,columns)"
   ]
  },
  {
   "cell_type": "code",
   "execution_count": 578,
   "metadata": {},
   "outputs": [
    {
     "data": {
      "text/html": [
       "<div>\n",
       "<style scoped>\n",
       "    .dataframe tbody tr th:only-of-type {\n",
       "        vertical-align: middle;\n",
       "    }\n",
       "\n",
       "    .dataframe tbody tr th {\n",
       "        vertical-align: top;\n",
       "    }\n",
       "\n",
       "    .dataframe thead th {\n",
       "        text-align: right;\n",
       "    }\n",
       "</style>\n",
       "<table border=\"1\" class=\"dataframe\">\n",
       "  <thead>\n",
       "    <tr style=\"text-align: right;\">\n",
       "      <th></th>\n",
       "      <th>2018</th>\n",
       "      <th>2019</th>\n",
       "    </tr>\n",
       "  </thead>\n",
       "  <tbody>\n",
       "    <tr>\n",
       "      <th>0</th>\n",
       "      <td>7.909043</td>\n",
       "      <td>17.154170</td>\n",
       "    </tr>\n",
       "    <tr>\n",
       "      <th>1</th>\n",
       "      <td>33.303310</td>\n",
       "      <td>62.532272</td>\n",
       "    </tr>\n",
       "    <tr>\n",
       "      <th>2</th>\n",
       "      <td>68.320305</td>\n",
       "      <td>106.519424</td>\n",
       "    </tr>\n",
       "    <tr>\n",
       "      <th>3</th>\n",
       "      <td>91.012245</td>\n",
       "      <td>134.203400</td>\n",
       "    </tr>\n",
       "    <tr>\n",
       "      <th>4</th>\n",
       "      <td>15.820264</td>\n",
       "      <td>29.635239</td>\n",
       "    </tr>\n",
       "    <tr>\n",
       "      <th>...</th>\n",
       "      <td>...</td>\n",
       "      <td>...</td>\n",
       "    </tr>\n",
       "    <tr>\n",
       "      <th>2413</th>\n",
       "      <td>5.280633</td>\n",
       "      <td>18.673874</td>\n",
       "    </tr>\n",
       "    <tr>\n",
       "      <th>2414</th>\n",
       "      <td>0.161665</td>\n",
       "      <td>0.444787</td>\n",
       "    </tr>\n",
       "    <tr>\n",
       "      <th>2415</th>\n",
       "      <td>0.060271</td>\n",
       "      <td>0.146884</td>\n",
       "    </tr>\n",
       "    <tr>\n",
       "      <th>2416</th>\n",
       "      <td>2.200899</td>\n",
       "      <td>14.368222</td>\n",
       "    </tr>\n",
       "    <tr>\n",
       "      <th>2417</th>\n",
       "      <td>0.464466</td>\n",
       "      <td>2.656083</td>\n",
       "    </tr>\n",
       "  </tbody>\n",
       "</table>\n",
       "<p>2418 rows × 2 columns</p>\n",
       "</div>"
      ],
      "text/plain": [
       "           2018        2019\n",
       "0      7.909043   17.154170\n",
       "1     33.303310   62.532272\n",
       "2     68.320305  106.519424\n",
       "3     91.012245  134.203400\n",
       "4     15.820264   29.635239\n",
       "...         ...         ...\n",
       "2413   5.280633   18.673874\n",
       "2414   0.161665    0.444787\n",
       "2415   0.060271    0.146884\n",
       "2416   2.200899   14.368222\n",
       "2417   0.464466    2.656083\n",
       "\n",
       "[2418 rows x 2 columns]"
      ]
     },
     "execution_count": 578,
     "metadata": {},
     "output_type": "execute_result"
    }
   ],
   "source": [
    "biomass_density[['2018','2019']]"
   ]
  },
  {
   "cell_type": "code",
   "execution_count": 579,
   "metadata": {},
   "outputs": [
    {
     "data": {
      "text/plain": [
       "array([2., 2., 0., 0., 1., 3., 1., 3., 2., 0., 1., 3., 0., 1., 2.])"
      ]
     },
     "execution_count": 579,
     "metadata": {},
     "output_type": "execute_result"
    }
   ],
   "source": [
    "cluster_depots_1819"
   ]
  },
  {
   "cell_type": "code",
   "execution_count": 580,
   "metadata": {},
   "outputs": [
    {
     "data": {
      "text/plain": [
       "RangeIndex(start=0, stop=2418, step=1)"
      ]
     },
     "execution_count": 580,
     "metadata": {},
     "output_type": "execute_result"
    }
   ],
   "source": [
    "biomass_density['2018'].index"
   ]
  },
  {
   "cell_type": "code",
   "execution_count": 608,
   "metadata": {},
   "outputs": [],
   "source": [
    "def arrange_biomass_dataframe(density,columns,year):\n",
    "    length = len(density)\n",
    "    year = [year]*length\n",
    "    data_type = ['biomass_forecast']*length\n",
    "    index = [x for x in range(length)]\n",
    "    return pd.DataFrame(list(zip(year,data_type,index,[np.nan]*length,density)),columns=columns)"
   ]
  },
  {
   "cell_type": "code",
   "execution_count": 609,
   "metadata": {},
   "outputs": [
    {
     "data": {
      "text/html": [
       "<div>\n",
       "<style scoped>\n",
       "    .dataframe tbody tr th:only-of-type {\n",
       "        vertical-align: middle;\n",
       "    }\n",
       "\n",
       "    .dataframe tbody tr th {\n",
       "        vertical-align: top;\n",
       "    }\n",
       "\n",
       "    .dataframe thead th {\n",
       "        text-align: right;\n",
       "    }\n",
       "</style>\n",
       "<table border=\"1\" class=\"dataframe\">\n",
       "  <thead>\n",
       "    <tr style=\"text-align: right;\">\n",
       "      <th></th>\n",
       "      <th>year</th>\n",
       "      <th>data_type</th>\n",
       "      <th>source_index</th>\n",
       "      <th>destination_index</th>\n",
       "      <th>value</th>\n",
       "    </tr>\n",
       "  </thead>\n",
       "  <tbody>\n",
       "    <tr>\n",
       "      <th>0</th>\n",
       "      <td>2018</td>\n",
       "      <td>biomass_forecast</td>\n",
       "      <td>0</td>\n",
       "      <td>NaN</td>\n",
       "      <td>7.909043</td>\n",
       "    </tr>\n",
       "    <tr>\n",
       "      <th>1</th>\n",
       "      <td>2018</td>\n",
       "      <td>biomass_forecast</td>\n",
       "      <td>1</td>\n",
       "      <td>NaN</td>\n",
       "      <td>33.303310</td>\n",
       "    </tr>\n",
       "    <tr>\n",
       "      <th>2</th>\n",
       "      <td>2018</td>\n",
       "      <td>biomass_forecast</td>\n",
       "      <td>2</td>\n",
       "      <td>NaN</td>\n",
       "      <td>68.320305</td>\n",
       "    </tr>\n",
       "    <tr>\n",
       "      <th>3</th>\n",
       "      <td>2018</td>\n",
       "      <td>biomass_forecast</td>\n",
       "      <td>3</td>\n",
       "      <td>NaN</td>\n",
       "      <td>91.012245</td>\n",
       "    </tr>\n",
       "    <tr>\n",
       "      <th>4</th>\n",
       "      <td>2018</td>\n",
       "      <td>biomass_forecast</td>\n",
       "      <td>4</td>\n",
       "      <td>NaN</td>\n",
       "      <td>15.820264</td>\n",
       "    </tr>\n",
       "    <tr>\n",
       "      <th>...</th>\n",
       "      <td>...</td>\n",
       "      <td>...</td>\n",
       "      <td>...</td>\n",
       "      <td>...</td>\n",
       "      <td>...</td>\n",
       "    </tr>\n",
       "    <tr>\n",
       "      <th>2413</th>\n",
       "      <td>2018</td>\n",
       "      <td>biomass_forecast</td>\n",
       "      <td>2413</td>\n",
       "      <td>NaN</td>\n",
       "      <td>5.280633</td>\n",
       "    </tr>\n",
       "    <tr>\n",
       "      <th>2414</th>\n",
       "      <td>2018</td>\n",
       "      <td>biomass_forecast</td>\n",
       "      <td>2414</td>\n",
       "      <td>NaN</td>\n",
       "      <td>0.161665</td>\n",
       "    </tr>\n",
       "    <tr>\n",
       "      <th>2415</th>\n",
       "      <td>2018</td>\n",
       "      <td>biomass_forecast</td>\n",
       "      <td>2415</td>\n",
       "      <td>NaN</td>\n",
       "      <td>0.060271</td>\n",
       "    </tr>\n",
       "    <tr>\n",
       "      <th>2416</th>\n",
       "      <td>2018</td>\n",
       "      <td>biomass_forecast</td>\n",
       "      <td>2416</td>\n",
       "      <td>NaN</td>\n",
       "      <td>2.200899</td>\n",
       "    </tr>\n",
       "    <tr>\n",
       "      <th>2417</th>\n",
       "      <td>2018</td>\n",
       "      <td>biomass_forecast</td>\n",
       "      <td>2417</td>\n",
       "      <td>NaN</td>\n",
       "      <td>0.464466</td>\n",
       "    </tr>\n",
       "  </tbody>\n",
       "</table>\n",
       "<p>2418 rows × 5 columns</p>\n",
       "</div>"
      ],
      "text/plain": [
       "      year         data_type  source_index  destination_index      value\n",
       "0     2018  biomass_forecast             0                NaN   7.909043\n",
       "1     2018  biomass_forecast             1                NaN  33.303310\n",
       "2     2018  biomass_forecast             2                NaN  68.320305\n",
       "3     2018  biomass_forecast             3                NaN  91.012245\n",
       "4     2018  biomass_forecast             4                NaN  15.820264\n",
       "...    ...               ...           ...                ...        ...\n",
       "2413  2018  biomass_forecast          2413                NaN   5.280633\n",
       "2414  2018  biomass_forecast          2414                NaN   0.161665\n",
       "2415  2018  biomass_forecast          2415                NaN   0.060271\n",
       "2416  2018  biomass_forecast          2416                NaN   2.200899\n",
       "2417  2018  biomass_forecast          2417                NaN   0.464466\n",
       "\n",
       "[2418 rows x 5 columns]"
      ]
     },
     "execution_count": 609,
     "metadata": {},
     "output_type": "execute_result"
    }
   ],
   "source": [
    "arrange_biomass_dataframe(biomass_density['2018'],columns,'2018')"
   ]
  },
  {
   "cell_type": "code",
   "execution_count": 555,
   "metadata": {},
   "outputs": [
    {
     "data": {
      "text/plain": [
       "10.0    223\n",
       "3.0     193\n",
       "1.0     188\n",
       "7.0     177\n",
       "15.0    172\n",
       "9.0     161\n",
       "12.0    158\n",
       "8.0     156\n",
       "2.0     155\n",
       "0.0     153\n",
       "14.0    141\n",
       "11.0    126\n",
       "13.0    121\n",
       "4.0     120\n",
       "6.0      94\n",
       "5.0      80\n",
       "Name: count, dtype: int64"
      ]
     },
     "execution_count": 555,
     "metadata": {},
     "output_type": "execute_result"
    }
   ],
   "source": [
    "pd.DataFrame(clusters_2018).value_counts()"
   ]
  },
  {
   "cell_type": "code",
   "execution_count": 543,
   "metadata": {},
   "outputs": [
    {
     "data": {
      "text/plain": [
       "{0: 1276,\n",
       " 1: 98,\n",
       " 2: 549,\n",
       " 3: 1751,\n",
       " 4: 2098,\n",
       " 5: 2058,\n",
       " 6: 2376,\n",
       " 7: 1507,\n",
       " 8: 270,\n",
       " 9: 1011,\n",
       " 10: 728,\n",
       " 11: 2162,\n",
       " 12: 1548,\n",
       " 13: 2037,\n",
       " 14: 962,\n",
       " 15: 645}"
      ]
     },
     "execution_count": 543,
     "metadata": {},
     "output_type": "execute_result"
    }
   ],
   "source": [
    "depots_dict = dict(enumerate(depots_2018))\n",
    "depots_dict"
   ]
  },
  {
   "cell_type": "code",
   "execution_count": 588,
   "metadata": {},
   "outputs": [
    {
     "data": {
      "text/html": [
       "<div>\n",
       "<style scoped>\n",
       "    .dataframe tbody tr th:only-of-type {\n",
       "        vertical-align: middle;\n",
       "    }\n",
       "\n",
       "    .dataframe tbody tr th {\n",
       "        vertical-align: top;\n",
       "    }\n",
       "\n",
       "    .dataframe thead th {\n",
       "        text-align: right;\n",
       "    }\n",
       "</style>\n",
       "<table border=\"1\" class=\"dataframe\">\n",
       "  <thead>\n",
       "    <tr style=\"text-align: right;\">\n",
       "      <th></th>\n",
       "      <th>year</th>\n",
       "      <th>data_type</th>\n",
       "      <th>source_index</th>\n",
       "      <th>destination_index</th>\n",
       "      <th>value</th>\n",
       "    </tr>\n",
       "  </thead>\n",
       "  <tbody>\n",
       "    <tr>\n",
       "      <th>0</th>\n",
       "      <td>2018</td>\n",
       "      <td>biomass_demand_supply</td>\n",
       "      <td>0</td>\n",
       "      <td>98</td>\n",
       "      <td>7.909043</td>\n",
       "    </tr>\n",
       "    <tr>\n",
       "      <th>1</th>\n",
       "      <td>2018</td>\n",
       "      <td>biomass_demand_supply</td>\n",
       "      <td>1</td>\n",
       "      <td>98</td>\n",
       "      <td>33.303310</td>\n",
       "    </tr>\n",
       "    <tr>\n",
       "      <th>2</th>\n",
       "      <td>2018</td>\n",
       "      <td>biomass_demand_supply</td>\n",
       "      <td>2</td>\n",
       "      <td>98</td>\n",
       "      <td>68.320305</td>\n",
       "    </tr>\n",
       "    <tr>\n",
       "      <th>3</th>\n",
       "      <td>2018</td>\n",
       "      <td>biomass_demand_supply</td>\n",
       "      <td>3</td>\n",
       "      <td>98</td>\n",
       "      <td>91.012245</td>\n",
       "    </tr>\n",
       "    <tr>\n",
       "      <th>4</th>\n",
       "      <td>2018</td>\n",
       "      <td>biomass_demand_supply</td>\n",
       "      <td>4</td>\n",
       "      <td>98</td>\n",
       "      <td>15.820264</td>\n",
       "    </tr>\n",
       "    <tr>\n",
       "      <th>...</th>\n",
       "      <td>...</td>\n",
       "      <td>...</td>\n",
       "      <td>...</td>\n",
       "      <td>...</td>\n",
       "      <td>...</td>\n",
       "    </tr>\n",
       "    <tr>\n",
       "      <th>2413</th>\n",
       "      <td>2018</td>\n",
       "      <td>biomass_demand_supply</td>\n",
       "      <td>2413</td>\n",
       "      <td>2376</td>\n",
       "      <td>5.280633</td>\n",
       "    </tr>\n",
       "    <tr>\n",
       "      <th>2414</th>\n",
       "      <td>2018</td>\n",
       "      <td>biomass_demand_supply</td>\n",
       "      <td>2414</td>\n",
       "      <td>2376</td>\n",
       "      <td>0.161665</td>\n",
       "    </tr>\n",
       "    <tr>\n",
       "      <th>2415</th>\n",
       "      <td>2018</td>\n",
       "      <td>biomass_demand_supply</td>\n",
       "      <td>2415</td>\n",
       "      <td>2376</td>\n",
       "      <td>0.060271</td>\n",
       "    </tr>\n",
       "    <tr>\n",
       "      <th>2416</th>\n",
       "      <td>2018</td>\n",
       "      <td>biomass_demand_supply</td>\n",
       "      <td>2416</td>\n",
       "      <td>2376</td>\n",
       "      <td>2.200899</td>\n",
       "    </tr>\n",
       "    <tr>\n",
       "      <th>2417</th>\n",
       "      <td>2018</td>\n",
       "      <td>biomass_demand_supply</td>\n",
       "      <td>2417</td>\n",
       "      <td>2376</td>\n",
       "      <td>0.464466</td>\n",
       "    </tr>\n",
       "  </tbody>\n",
       "</table>\n",
       "<p>2418 rows × 5 columns</p>\n",
       "</div>"
      ],
      "text/plain": [
       "      year              data_type  source_index  destination_index      value\n",
       "0     2018  biomass_demand_supply             0                 98   7.909043\n",
       "1     2018  biomass_demand_supply             1                 98  33.303310\n",
       "2     2018  biomass_demand_supply             2                 98  68.320305\n",
       "3     2018  biomass_demand_supply             3                 98  91.012245\n",
       "4     2018  biomass_demand_supply             4                 98  15.820264\n",
       "...    ...                    ...           ...                ...        ...\n",
       "2413  2018  biomass_demand_supply          2413               2376   5.280633\n",
       "2414  2018  biomass_demand_supply          2414               2376   0.161665\n",
       "2415  2018  biomass_demand_supply          2415               2376   0.060271\n",
       "2416  2018  biomass_demand_supply          2416               2376   2.200899\n",
       "2417  2018  biomass_demand_supply          2417               2376   0.464466\n",
       "\n",
       "[2418 rows x 5 columns]"
      ]
     },
     "execution_count": 588,
     "metadata": {},
     "output_type": "execute_result"
    }
   ],
   "source": [
    "def biomass_demand_supply(year,cluster,depots,density):\n",
    "    length=len(cluster)\n",
    "    year = [year]*length\n",
    "    data_type = ['biomass_demand_supply']*length\n",
    "    source,dest=[],[]\n",
    "    depots_dict = dict(enumerate(depots))\n",
    "    for i in range(length):\n",
    "        source.append(i)\n",
    "        dest.append(depots_dict[cluster[i]])\n",
    "\n",
    "    return pd.DataFrame(list(zip(year,data_type,source,dest,density)),columns=columns)\n",
    "        \n",
    "biomass_demand_supply('2018',clusters_2018,depots_2018,biomass_density['2018'])\n",
    "\n",
    " \n",
    "    "
   ]
  },
  {
   "cell_type": "code",
   "execution_count": 589,
   "metadata": {},
   "outputs": [
    {
     "data": {
      "text/html": [
       "<div>\n",
       "<style scoped>\n",
       "    .dataframe tbody tr th:only-of-type {\n",
       "        vertical-align: middle;\n",
       "    }\n",
       "\n",
       "    .dataframe tbody tr th {\n",
       "        vertical-align: top;\n",
       "    }\n",
       "\n",
       "    .dataframe thead th {\n",
       "        text-align: right;\n",
       "    }\n",
       "</style>\n",
       "<table border=\"1\" class=\"dataframe\">\n",
       "  <thead>\n",
       "    <tr style=\"text-align: right;\">\n",
       "      <th></th>\n",
       "      <th>year</th>\n",
       "      <th>data_type</th>\n",
       "      <th>source_index</th>\n",
       "      <th>destination_index</th>\n",
       "      <th>value</th>\n",
       "    </tr>\n",
       "  </thead>\n",
       "  <tbody>\n",
       "    <tr>\n",
       "      <th>0</th>\n",
       "      <td>2019</td>\n",
       "      <td>biomass_forecast</td>\n",
       "      <td>0</td>\n",
       "      <td>None</td>\n",
       "      <td>17.154170</td>\n",
       "    </tr>\n",
       "    <tr>\n",
       "      <th>1</th>\n",
       "      <td>2019</td>\n",
       "      <td>biomass_forecast</td>\n",
       "      <td>1</td>\n",
       "      <td>None</td>\n",
       "      <td>62.532272</td>\n",
       "    </tr>\n",
       "    <tr>\n",
       "      <th>2</th>\n",
       "      <td>2019</td>\n",
       "      <td>biomass_forecast</td>\n",
       "      <td>2</td>\n",
       "      <td>None</td>\n",
       "      <td>106.519424</td>\n",
       "    </tr>\n",
       "    <tr>\n",
       "      <th>3</th>\n",
       "      <td>2019</td>\n",
       "      <td>biomass_forecast</td>\n",
       "      <td>3</td>\n",
       "      <td>None</td>\n",
       "      <td>134.203400</td>\n",
       "    </tr>\n",
       "    <tr>\n",
       "      <th>4</th>\n",
       "      <td>2019</td>\n",
       "      <td>biomass_forecast</td>\n",
       "      <td>4</td>\n",
       "      <td>None</td>\n",
       "      <td>29.635239</td>\n",
       "    </tr>\n",
       "    <tr>\n",
       "      <th>...</th>\n",
       "      <td>...</td>\n",
       "      <td>...</td>\n",
       "      <td>...</td>\n",
       "      <td>...</td>\n",
       "      <td>...</td>\n",
       "    </tr>\n",
       "    <tr>\n",
       "      <th>2413</th>\n",
       "      <td>2019</td>\n",
       "      <td>biomass_forecast</td>\n",
       "      <td>2413</td>\n",
       "      <td>None</td>\n",
       "      <td>18.673874</td>\n",
       "    </tr>\n",
       "    <tr>\n",
       "      <th>2414</th>\n",
       "      <td>2019</td>\n",
       "      <td>biomass_forecast</td>\n",
       "      <td>2414</td>\n",
       "      <td>None</td>\n",
       "      <td>0.444787</td>\n",
       "    </tr>\n",
       "    <tr>\n",
       "      <th>2415</th>\n",
       "      <td>2019</td>\n",
       "      <td>biomass_forecast</td>\n",
       "      <td>2415</td>\n",
       "      <td>None</td>\n",
       "      <td>0.146884</td>\n",
       "    </tr>\n",
       "    <tr>\n",
       "      <th>2416</th>\n",
       "      <td>2019</td>\n",
       "      <td>biomass_forecast</td>\n",
       "      <td>2416</td>\n",
       "      <td>None</td>\n",
       "      <td>14.368222</td>\n",
       "    </tr>\n",
       "    <tr>\n",
       "      <th>2417</th>\n",
       "      <td>2019</td>\n",
       "      <td>biomass_forecast</td>\n",
       "      <td>2417</td>\n",
       "      <td>None</td>\n",
       "      <td>2.656083</td>\n",
       "    </tr>\n",
       "  </tbody>\n",
       "</table>\n",
       "<p>2418 rows × 5 columns</p>\n",
       "</div>"
      ],
      "text/plain": [
       "      year         data_type  source_index destination_index       value\n",
       "0     2019  biomass_forecast             0              None   17.154170\n",
       "1     2019  biomass_forecast             1              None   62.532272\n",
       "2     2019  biomass_forecast             2              None  106.519424\n",
       "3     2019  biomass_forecast             3              None  134.203400\n",
       "4     2019  biomass_forecast             4              None   29.635239\n",
       "...    ...               ...           ...               ...         ...\n",
       "2413  2019  biomass_forecast          2413              None   18.673874\n",
       "2414  2019  biomass_forecast          2414              None    0.444787\n",
       "2415  2019  biomass_forecast          2415              None    0.146884\n",
       "2416  2019  biomass_forecast          2416              None   14.368222\n",
       "2417  2019  biomass_forecast          2417              None    2.656083\n",
       "\n",
       "[2418 rows x 5 columns]"
      ]
     },
     "execution_count": 589,
     "metadata": {},
     "output_type": "execute_result"
    }
   ],
   "source": [
    "arrage_biomass_dataframe(biomass_density['2019'],columns,'2019')"
   ]
  },
  {
   "cell_type": "code",
   "execution_count": 557,
   "metadata": {},
   "outputs": [
    {
     "data": {
      "text/plain": [
       "[1276,\n",
       " 98,\n",
       " 549,\n",
       " 1751,\n",
       " 2098,\n",
       " 2058,\n",
       " 2376,\n",
       " 1507,\n",
       " 270,\n",
       " 1011,\n",
       " 728,\n",
       " 2162,\n",
       " 1548,\n",
       " 2037,\n",
       " 962,\n",
       " 645]"
      ]
     },
     "execution_count": 557,
     "metadata": {},
     "output_type": "execute_result"
    }
   ],
   "source": [
    "depots_2018"
   ]
  },
  {
   "cell_type": "code",
   "execution_count": 569,
   "metadata": {},
   "outputs": [
    {
     "data": {
      "text/html": [
       "<div>\n",
       "<style scoped>\n",
       "    .dataframe tbody tr th:only-of-type {\n",
       "        vertical-align: middle;\n",
       "    }\n",
       "\n",
       "    .dataframe tbody tr th {\n",
       "        vertical-align: top;\n",
       "    }\n",
       "\n",
       "    .dataframe thead th {\n",
       "        text-align: right;\n",
       "    }\n",
       "</style>\n",
       "<table border=\"1\" class=\"dataframe\">\n",
       "  <thead>\n",
       "    <tr style=\"text-align: right;\">\n",
       "      <th></th>\n",
       "      <th>0</th>\n",
       "    </tr>\n",
       "  </thead>\n",
       "  <tbody>\n",
       "    <tr>\n",
       "      <th>0</th>\n",
       "      <td>0.0</td>\n",
       "    </tr>\n",
       "    <tr>\n",
       "      <th>1</th>\n",
       "      <td>2.0</td>\n",
       "    </tr>\n",
       "    <tr>\n",
       "      <th>2</th>\n",
       "      <td>2.0</td>\n",
       "    </tr>\n",
       "    <tr>\n",
       "      <th>3</th>\n",
       "      <td>1.0</td>\n",
       "    </tr>\n",
       "    <tr>\n",
       "      <th>4</th>\n",
       "      <td>0.0</td>\n",
       "    </tr>\n",
       "    <tr>\n",
       "      <th>5</th>\n",
       "      <td>0.0</td>\n",
       "    </tr>\n",
       "    <tr>\n",
       "      <th>6</th>\n",
       "      <td>0.0</td>\n",
       "    </tr>\n",
       "    <tr>\n",
       "      <th>7</th>\n",
       "      <td>1.0</td>\n",
       "    </tr>\n",
       "    <tr>\n",
       "      <th>8</th>\n",
       "      <td>0.0</td>\n",
       "    </tr>\n",
       "    <tr>\n",
       "      <th>9</th>\n",
       "      <td>0.0</td>\n",
       "    </tr>\n",
       "    <tr>\n",
       "      <th>10</th>\n",
       "      <td>2.0</td>\n",
       "    </tr>\n",
       "    <tr>\n",
       "      <th>11</th>\n",
       "      <td>1.0</td>\n",
       "    </tr>\n",
       "    <tr>\n",
       "      <th>12</th>\n",
       "      <td>0.0</td>\n",
       "    </tr>\n",
       "    <tr>\n",
       "      <th>13</th>\n",
       "      <td>1.0</td>\n",
       "    </tr>\n",
       "    <tr>\n",
       "      <th>14</th>\n",
       "      <td>0.0</td>\n",
       "    </tr>\n",
       "    <tr>\n",
       "      <th>15</th>\n",
       "      <td>2.0</td>\n",
       "    </tr>\n",
       "  </tbody>\n",
       "</table>\n",
       "</div>"
      ],
      "text/plain": [
       "      0\n",
       "0   0.0\n",
       "1   2.0\n",
       "2   2.0\n",
       "3   1.0\n",
       "4   0.0\n",
       "5   0.0\n",
       "6   0.0\n",
       "7   1.0\n",
       "8   0.0\n",
       "9   0.0\n",
       "10  2.0\n",
       "11  1.0\n",
       "12  0.0\n",
       "13  1.0\n",
       "14  0.0\n",
       "15  2.0"
      ]
     },
     "execution_count": 569,
     "metadata": {},
     "output_type": "execute_result"
    }
   ],
   "source": [
    "pd.DataFrame(clusters_depots_2018)"
   ]
  },
  {
   "cell_type": "code",
   "execution_count": 561,
   "metadata": {},
   "outputs": [
    {
     "data": {
      "text/plain": [
       "[1485, 1855, 481]"
      ]
     },
     "execution_count": 561,
     "metadata": {},
     "output_type": "execute_result"
    }
   ],
   "source": [
    "refineries_2018"
   ]
  },
  {
   "cell_type": "code",
   "execution_count": 571,
   "metadata": {},
   "outputs": [
    {
     "data": {
      "text/html": [
       "<div>\n",
       "<style scoped>\n",
       "    .dataframe tbody tr th:only-of-type {\n",
       "        vertical-align: middle;\n",
       "    }\n",
       "\n",
       "    .dataframe tbody tr th {\n",
       "        vertical-align: top;\n",
       "    }\n",
       "\n",
       "    .dataframe thead th {\n",
       "        text-align: right;\n",
       "    }\n",
       "</style>\n",
       "<table border=\"1\" class=\"dataframe\">\n",
       "  <thead>\n",
       "    <tr style=\"text-align: right;\">\n",
       "      <th></th>\n",
       "      <th>year</th>\n",
       "      <th>data_type</th>\n",
       "      <th>source_index</th>\n",
       "      <th>destination_index</th>\n",
       "      <th>value</th>\n",
       "    </tr>\n",
       "  </thead>\n",
       "  <tbody>\n",
       "    <tr>\n",
       "      <th>0</th>\n",
       "      <td>2018</td>\n",
       "      <td>pellet_demand_supply</td>\n",
       "      <td>1276</td>\n",
       "      <td>1485</td>\n",
       "      <td>41472.519011</td>\n",
       "    </tr>\n",
       "    <tr>\n",
       "      <th>1</th>\n",
       "      <td>2018</td>\n",
       "      <td>pellet_demand_supply</td>\n",
       "      <td>98</td>\n",
       "      <td>481</td>\n",
       "      <td>19454.103981</td>\n",
       "    </tr>\n",
       "    <tr>\n",
       "      <th>2</th>\n",
       "      <td>2018</td>\n",
       "      <td>pellet_demand_supply</td>\n",
       "      <td>549</td>\n",
       "      <td>481</td>\n",
       "      <td>33333.171542</td>\n",
       "    </tr>\n",
       "    <tr>\n",
       "      <th>3</th>\n",
       "      <td>2018</td>\n",
       "      <td>pellet_demand_supply</td>\n",
       "      <td>1751</td>\n",
       "      <td>1855</td>\n",
       "      <td>74111.436439</td>\n",
       "    </tr>\n",
       "    <tr>\n",
       "      <th>4</th>\n",
       "      <td>2018</td>\n",
       "      <td>pellet_demand_supply</td>\n",
       "      <td>2098</td>\n",
       "      <td>1485</td>\n",
       "      <td>20500.266729</td>\n",
       "    </tr>\n",
       "    <tr>\n",
       "      <th>5</th>\n",
       "      <td>2018</td>\n",
       "      <td>pellet_demand_supply</td>\n",
       "      <td>2058</td>\n",
       "      <td>1485</td>\n",
       "      <td>3879.796986</td>\n",
       "    </tr>\n",
       "    <tr>\n",
       "      <th>6</th>\n",
       "      <td>2018</td>\n",
       "      <td>pellet_demand_supply</td>\n",
       "      <td>2376</td>\n",
       "      <td>1485</td>\n",
       "      <td>4924.035475</td>\n",
       "    </tr>\n",
       "    <tr>\n",
       "      <th>7</th>\n",
       "      <td>2018</td>\n",
       "      <td>pellet_demand_supply</td>\n",
       "      <td>1507</td>\n",
       "      <td>1855</td>\n",
       "      <td>37297.910973</td>\n",
       "    </tr>\n",
       "    <tr>\n",
       "      <th>8</th>\n",
       "      <td>2018</td>\n",
       "      <td>pellet_demand_supply</td>\n",
       "      <td>270</td>\n",
       "      <td>1485</td>\n",
       "      <td>19907.445753</td>\n",
       "    </tr>\n",
       "    <tr>\n",
       "      <th>9</th>\n",
       "      <td>2018</td>\n",
       "      <td>pellet_demand_supply</td>\n",
       "      <td>1011</td>\n",
       "      <td>1485</td>\n",
       "      <td>31510.631042</td>\n",
       "    </tr>\n",
       "    <tr>\n",
       "      <th>10</th>\n",
       "      <td>2018</td>\n",
       "      <td>pellet_demand_supply</td>\n",
       "      <td>728</td>\n",
       "      <td>481</td>\n",
       "      <td>46061.668322</td>\n",
       "    </tr>\n",
       "    <tr>\n",
       "      <th>11</th>\n",
       "      <td>2018</td>\n",
       "      <td>pellet_demand_supply</td>\n",
       "      <td>2162</td>\n",
       "      <td>1855</td>\n",
       "      <td>17479.617033</td>\n",
       "    </tr>\n",
       "    <tr>\n",
       "      <th>12</th>\n",
       "      <td>2018</td>\n",
       "      <td>pellet_demand_supply</td>\n",
       "      <td>1548</td>\n",
       "      <td>1485</td>\n",
       "      <td>33327.431812</td>\n",
       "    </tr>\n",
       "    <tr>\n",
       "      <th>13</th>\n",
       "      <td>2018</td>\n",
       "      <td>pellet_demand_supply</td>\n",
       "      <td>2037</td>\n",
       "      <td>1855</td>\n",
       "      <td>25895.954524</td>\n",
       "    </tr>\n",
       "    <tr>\n",
       "      <th>14</th>\n",
       "      <td>2018</td>\n",
       "      <td>pellet_demand_supply</td>\n",
       "      <td>962</td>\n",
       "      <td>1485</td>\n",
       "      <td>7318.016410</td>\n",
       "    </tr>\n",
       "    <tr>\n",
       "      <th>15</th>\n",
       "      <td>2018</td>\n",
       "      <td>pellet_demand_supply</td>\n",
       "      <td>645</td>\n",
       "      <td>481</td>\n",
       "      <td>3640.102383</td>\n",
       "    </tr>\n",
       "  </tbody>\n",
       "</table>\n",
       "</div>"
      ],
      "text/plain": [
       "    year             data_type  source_index  destination_index         value\n",
       "0   2018  pellet_demand_supply          1276               1485  41472.519011\n",
       "1   2018  pellet_demand_supply            98                481  19454.103981\n",
       "2   2018  pellet_demand_supply           549                481  33333.171542\n",
       "3   2018  pellet_demand_supply          1751               1855  74111.436439\n",
       "4   2018  pellet_demand_supply          2098               1485  20500.266729\n",
       "5   2018  pellet_demand_supply          2058               1485   3879.796986\n",
       "6   2018  pellet_demand_supply          2376               1485   4924.035475\n",
       "7   2018  pellet_demand_supply          1507               1855  37297.910973\n",
       "8   2018  pellet_demand_supply           270               1485  19907.445753\n",
       "9   2018  pellet_demand_supply          1011               1485  31510.631042\n",
       "10  2018  pellet_demand_supply           728                481  46061.668322\n",
       "11  2018  pellet_demand_supply          2162               1855  17479.617033\n",
       "12  2018  pellet_demand_supply          1548               1485  33327.431812\n",
       "13  2018  pellet_demand_supply          2037               1855  25895.954524\n",
       "14  2018  pellet_demand_supply           962               1485   7318.016410\n",
       "15  2018  pellet_demand_supply           645                481   3640.102383"
      ]
     },
     "execution_count": 571,
     "metadata": {},
     "output_type": "execute_result"
    }
   ],
   "source": [
    "def pellet_demand_supply(year,cluster,refineries,density,depots):\n",
    "    length=len(cluster)\n",
    "    year = [year]*length\n",
    "    data_type = ['pellet_demand_supply']*length\n",
    "    source,dest=[],[]\n",
    "    refineries_dict = dict(enumerate(refineries))\n",
    "    for i in range(length):\n",
    "        source.append(depots[i])\n",
    "        dest.append(refineries_dict[cluster[i]])\n",
    "\n",
    "    return pd.DataFrame(list(zip(year,data_type,source,dest,density)),columns=columns)\n",
    "        \n",
    "pellet_demand_supply('2018',clusters_depots_2018,refineries_2018,bpd_2018,depots_2018)"
   ]
  },
  {
   "cell_type": "markdown",
   "metadata": {},
   "source": [
    "# Submission Final"
   ]
  },
  {
   "cell_type": "code",
   "execution_count": 590,
   "metadata": {},
   "outputs": [],
   "source": [
    "columns = ['year','data_type','source_index','destination_index','value']"
   ]
  },
  {
   "cell_type": "code",
   "execution_count": 606,
   "metadata": {},
   "outputs": [
    {
     "data": {
      "text/html": [
       "<div>\n",
       "<style scoped>\n",
       "    .dataframe tbody tr th:only-of-type {\n",
       "        vertical-align: middle;\n",
       "    }\n",
       "\n",
       "    .dataframe tbody tr th {\n",
       "        vertical-align: top;\n",
       "    }\n",
       "\n",
       "    .dataframe thead th {\n",
       "        text-align: right;\n",
       "    }\n",
       "</style>\n",
       "<table border=\"1\" class=\"dataframe\">\n",
       "  <thead>\n",
       "    <tr style=\"text-align: right;\">\n",
       "      <th></th>\n",
       "      <th>year</th>\n",
       "      <th>data_type</th>\n",
       "      <th>source_index</th>\n",
       "      <th>destination_index</th>\n",
       "      <th>value</th>\n",
       "    </tr>\n",
       "  </thead>\n",
       "  <tbody>\n",
       "    <tr>\n",
       "      <th>0</th>\n",
       "      <td>20182019</td>\n",
       "      <td>depot_location</td>\n",
       "      <td>1445</td>\n",
       "      <td>NaN</td>\n",
       "      <td>NaN</td>\n",
       "    </tr>\n",
       "    <tr>\n",
       "      <th>1</th>\n",
       "      <td>20182019</td>\n",
       "      <td>depot_location</td>\n",
       "      <td>1042</td>\n",
       "      <td>NaN</td>\n",
       "      <td>NaN</td>\n",
       "    </tr>\n",
       "    <tr>\n",
       "      <th>2</th>\n",
       "      <td>20182019</td>\n",
       "      <td>depot_location</td>\n",
       "      <td>370</td>\n",
       "      <td>NaN</td>\n",
       "      <td>NaN</td>\n",
       "    </tr>\n",
       "    <tr>\n",
       "      <th>3</th>\n",
       "      <td>20182019</td>\n",
       "      <td>depot_location</td>\n",
       "      <td>125</td>\n",
       "      <td>NaN</td>\n",
       "      <td>NaN</td>\n",
       "    </tr>\n",
       "    <tr>\n",
       "      <th>4</th>\n",
       "      <td>20182019</td>\n",
       "      <td>depot_location</td>\n",
       "      <td>1487</td>\n",
       "      <td>NaN</td>\n",
       "      <td>NaN</td>\n",
       "    </tr>\n",
       "    <tr>\n",
       "      <th>5</th>\n",
       "      <td>20182019</td>\n",
       "      <td>depot_location</td>\n",
       "      <td>2085</td>\n",
       "      <td>NaN</td>\n",
       "      <td>NaN</td>\n",
       "    </tr>\n",
       "    <tr>\n",
       "      <th>6</th>\n",
       "      <td>20182019</td>\n",
       "      <td>depot_location</td>\n",
       "      <td>2229</td>\n",
       "      <td>NaN</td>\n",
       "      <td>NaN</td>\n",
       "    </tr>\n",
       "    <tr>\n",
       "      <th>7</th>\n",
       "      <td>20182019</td>\n",
       "      <td>depot_location</td>\n",
       "      <td>2244</td>\n",
       "      <td>NaN</td>\n",
       "      <td>NaN</td>\n",
       "    </tr>\n",
       "    <tr>\n",
       "      <th>8</th>\n",
       "      <td>20182019</td>\n",
       "      <td>depot_location</td>\n",
       "      <td>1749</td>\n",
       "      <td>NaN</td>\n",
       "      <td>NaN</td>\n",
       "    </tr>\n",
       "    <tr>\n",
       "      <th>9</th>\n",
       "      <td>20182019</td>\n",
       "      <td>depot_location</td>\n",
       "      <td>310</td>\n",
       "      <td>NaN</td>\n",
       "      <td>NaN</td>\n",
       "    </tr>\n",
       "    <tr>\n",
       "      <th>10</th>\n",
       "      <td>20182019</td>\n",
       "      <td>depot_location</td>\n",
       "      <td>897</td>\n",
       "      <td>NaN</td>\n",
       "      <td>NaN</td>\n",
       "    </tr>\n",
       "    <tr>\n",
       "      <th>11</th>\n",
       "      <td>20182019</td>\n",
       "      <td>depot_location</td>\n",
       "      <td>1533</td>\n",
       "      <td>NaN</td>\n",
       "      <td>NaN</td>\n",
       "    </tr>\n",
       "    <tr>\n",
       "      <th>12</th>\n",
       "      <td>20182019</td>\n",
       "      <td>depot_location</td>\n",
       "      <td>645</td>\n",
       "      <td>NaN</td>\n",
       "      <td>NaN</td>\n",
       "    </tr>\n",
       "    <tr>\n",
       "      <th>13</th>\n",
       "      <td>20182019</td>\n",
       "      <td>depot_location</td>\n",
       "      <td>813</td>\n",
       "      <td>NaN</td>\n",
       "      <td>NaN</td>\n",
       "    </tr>\n",
       "    <tr>\n",
       "      <th>14</th>\n",
       "      <td>20182019</td>\n",
       "      <td>depot_location</td>\n",
       "      <td>1960</td>\n",
       "      <td>NaN</td>\n",
       "      <td>NaN</td>\n",
       "    </tr>\n",
       "  </tbody>\n",
       "</table>\n",
       "</div>"
      ],
      "text/plain": [
       "        year       data_type  source_index  destination_index  value\n",
       "0   20182019  depot_location          1445                NaN    NaN\n",
       "1   20182019  depot_location          1042                NaN    NaN\n",
       "2   20182019  depot_location           370                NaN    NaN\n",
       "3   20182019  depot_location           125                NaN    NaN\n",
       "4   20182019  depot_location          1487                NaN    NaN\n",
       "5   20182019  depot_location          2085                NaN    NaN\n",
       "6   20182019  depot_location          2229                NaN    NaN\n",
       "7   20182019  depot_location          2244                NaN    NaN\n",
       "8   20182019  depot_location          1749                NaN    NaN\n",
       "9   20182019  depot_location           310                NaN    NaN\n",
       "10  20182019  depot_location           897                NaN    NaN\n",
       "11  20182019  depot_location          1533                NaN    NaN\n",
       "12  20182019  depot_location           645                NaN    NaN\n",
       "13  20182019  depot_location           813                NaN    NaN\n",
       "14  20182019  depot_location          1960                NaN    NaN"
      ]
     },
     "execution_count": 606,
     "metadata": {},
     "output_type": "execute_result"
    }
   ],
   "source": [
    "depot_location_1819 = preprocessing_depot_1819(depots_1819,columns)\n",
    "depot_location_1819"
   ]
  },
  {
   "cell_type": "code",
   "execution_count": 607,
   "metadata": {},
   "outputs": [
    {
     "data": {
      "text/html": [
       "<div>\n",
       "<style scoped>\n",
       "    .dataframe tbody tr th:only-of-type {\n",
       "        vertical-align: middle;\n",
       "    }\n",
       "\n",
       "    .dataframe tbody tr th {\n",
       "        vertical-align: top;\n",
       "    }\n",
       "\n",
       "    .dataframe thead th {\n",
       "        text-align: right;\n",
       "    }\n",
       "</style>\n",
       "<table border=\"1\" class=\"dataframe\">\n",
       "  <thead>\n",
       "    <tr style=\"text-align: right;\">\n",
       "      <th></th>\n",
       "      <th>year</th>\n",
       "      <th>data_type</th>\n",
       "      <th>source_index</th>\n",
       "      <th>destination_index</th>\n",
       "      <th>value</th>\n",
       "    </tr>\n",
       "  </thead>\n",
       "  <tbody>\n",
       "    <tr>\n",
       "      <th>0</th>\n",
       "      <td>20182019</td>\n",
       "      <td>refinery_location</td>\n",
       "      <td>330</td>\n",
       "      <td>NaN</td>\n",
       "      <td>NaN</td>\n",
       "    </tr>\n",
       "    <tr>\n",
       "      <th>1</th>\n",
       "      <td>20182019</td>\n",
       "      <td>refinery_location</td>\n",
       "      <td>1359</td>\n",
       "      <td>NaN</td>\n",
       "      <td>NaN</td>\n",
       "    </tr>\n",
       "    <tr>\n",
       "      <th>2</th>\n",
       "      <td>20182019</td>\n",
       "      <td>refinery_location</td>\n",
       "      <td>1576</td>\n",
       "      <td>NaN</td>\n",
       "      <td>NaN</td>\n",
       "    </tr>\n",
       "    <tr>\n",
       "      <th>3</th>\n",
       "      <td>20182019</td>\n",
       "      <td>refinery_location</td>\n",
       "      <td>1977</td>\n",
       "      <td>NaN</td>\n",
       "      <td>NaN</td>\n",
       "    </tr>\n",
       "  </tbody>\n",
       "</table>\n",
       "</div>"
      ],
      "text/plain": [
       "       year          data_type  source_index  destination_index  value\n",
       "0  20182019  refinery_location           330                NaN    NaN\n",
       "1  20182019  refinery_location          1359                NaN    NaN\n",
       "2  20182019  refinery_location          1576                NaN    NaN\n",
       "3  20182019  refinery_location          1977                NaN    NaN"
      ]
     },
     "execution_count": 607,
     "metadata": {},
     "output_type": "execute_result"
    }
   ],
   "source": [
    "refinery_location_1819=preprocessing_refineries_1819(refineries_1819,columns)\n",
    "refinery_location_1819"
   ]
  },
  {
   "cell_type": "code",
   "execution_count": 611,
   "metadata": {},
   "outputs": [
    {
     "data": {
      "text/html": [
       "<div>\n",
       "<style scoped>\n",
       "    .dataframe tbody tr th:only-of-type {\n",
       "        vertical-align: middle;\n",
       "    }\n",
       "\n",
       "    .dataframe tbody tr th {\n",
       "        vertical-align: top;\n",
       "    }\n",
       "\n",
       "    .dataframe thead th {\n",
       "        text-align: right;\n",
       "    }\n",
       "</style>\n",
       "<table border=\"1\" class=\"dataframe\">\n",
       "  <thead>\n",
       "    <tr style=\"text-align: right;\">\n",
       "      <th></th>\n",
       "      <th>year</th>\n",
       "      <th>data_type</th>\n",
       "      <th>source_index</th>\n",
       "      <th>destination_index</th>\n",
       "      <th>value</th>\n",
       "    </tr>\n",
       "  </thead>\n",
       "  <tbody>\n",
       "    <tr>\n",
       "      <th>0</th>\n",
       "      <td>2018</td>\n",
       "      <td>biomass_forecast</td>\n",
       "      <td>0</td>\n",
       "      <td>NaN</td>\n",
       "      <td>7.909043</td>\n",
       "    </tr>\n",
       "    <tr>\n",
       "      <th>1</th>\n",
       "      <td>2018</td>\n",
       "      <td>biomass_forecast</td>\n",
       "      <td>1</td>\n",
       "      <td>NaN</td>\n",
       "      <td>33.303310</td>\n",
       "    </tr>\n",
       "    <tr>\n",
       "      <th>2</th>\n",
       "      <td>2018</td>\n",
       "      <td>biomass_forecast</td>\n",
       "      <td>2</td>\n",
       "      <td>NaN</td>\n",
       "      <td>68.320305</td>\n",
       "    </tr>\n",
       "    <tr>\n",
       "      <th>3</th>\n",
       "      <td>2018</td>\n",
       "      <td>biomass_forecast</td>\n",
       "      <td>3</td>\n",
       "      <td>NaN</td>\n",
       "      <td>91.012245</td>\n",
       "    </tr>\n",
       "    <tr>\n",
       "      <th>4</th>\n",
       "      <td>2018</td>\n",
       "      <td>biomass_forecast</td>\n",
       "      <td>4</td>\n",
       "      <td>NaN</td>\n",
       "      <td>15.820264</td>\n",
       "    </tr>\n",
       "    <tr>\n",
       "      <th>...</th>\n",
       "      <td>...</td>\n",
       "      <td>...</td>\n",
       "      <td>...</td>\n",
       "      <td>...</td>\n",
       "      <td>...</td>\n",
       "    </tr>\n",
       "    <tr>\n",
       "      <th>2413</th>\n",
       "      <td>2018</td>\n",
       "      <td>biomass_forecast</td>\n",
       "      <td>2413</td>\n",
       "      <td>NaN</td>\n",
       "      <td>5.280633</td>\n",
       "    </tr>\n",
       "    <tr>\n",
       "      <th>2414</th>\n",
       "      <td>2018</td>\n",
       "      <td>biomass_forecast</td>\n",
       "      <td>2414</td>\n",
       "      <td>NaN</td>\n",
       "      <td>0.161665</td>\n",
       "    </tr>\n",
       "    <tr>\n",
       "      <th>2415</th>\n",
       "      <td>2018</td>\n",
       "      <td>biomass_forecast</td>\n",
       "      <td>2415</td>\n",
       "      <td>NaN</td>\n",
       "      <td>0.060271</td>\n",
       "    </tr>\n",
       "    <tr>\n",
       "      <th>2416</th>\n",
       "      <td>2018</td>\n",
       "      <td>biomass_forecast</td>\n",
       "      <td>2416</td>\n",
       "      <td>NaN</td>\n",
       "      <td>2.200899</td>\n",
       "    </tr>\n",
       "    <tr>\n",
       "      <th>2417</th>\n",
       "      <td>2018</td>\n",
       "      <td>biomass_forecast</td>\n",
       "      <td>2417</td>\n",
       "      <td>NaN</td>\n",
       "      <td>0.464466</td>\n",
       "    </tr>\n",
       "  </tbody>\n",
       "</table>\n",
       "<p>2418 rows × 5 columns</p>\n",
       "</div>"
      ],
      "text/plain": [
       "      year         data_type  source_index  destination_index      value\n",
       "0     2018  biomass_forecast             0                NaN   7.909043\n",
       "1     2018  biomass_forecast             1                NaN  33.303310\n",
       "2     2018  biomass_forecast             2                NaN  68.320305\n",
       "3     2018  biomass_forecast             3                NaN  91.012245\n",
       "4     2018  biomass_forecast             4                NaN  15.820264\n",
       "...    ...               ...           ...                ...        ...\n",
       "2413  2018  biomass_forecast          2413                NaN   5.280633\n",
       "2414  2018  biomass_forecast          2414                NaN   0.161665\n",
       "2415  2018  biomass_forecast          2415                NaN   0.060271\n",
       "2416  2018  biomass_forecast          2416                NaN   2.200899\n",
       "2417  2018  biomass_forecast          2417                NaN   0.464466\n",
       "\n",
       "[2418 rows x 5 columns]"
      ]
     },
     "execution_count": 611,
     "metadata": {},
     "output_type": "execute_result"
    }
   ],
   "source": [
    "biomass_forecast_2018 = arrange_biomass_dataframe(biomass_density['2018'],columns,'2018')\n",
    "biomass_forecast_2018"
   ]
  },
  {
   "cell_type": "code",
   "execution_count": 613,
   "metadata": {},
   "outputs": [
    {
     "data": {
      "text/html": [
       "<div>\n",
       "<style scoped>\n",
       "    .dataframe tbody tr th:only-of-type {\n",
       "        vertical-align: middle;\n",
       "    }\n",
       "\n",
       "    .dataframe tbody tr th {\n",
       "        vertical-align: top;\n",
       "    }\n",
       "\n",
       "    .dataframe thead th {\n",
       "        text-align: right;\n",
       "    }\n",
       "</style>\n",
       "<table border=\"1\" class=\"dataframe\">\n",
       "  <thead>\n",
       "    <tr style=\"text-align: right;\">\n",
       "      <th></th>\n",
       "      <th>year</th>\n",
       "      <th>data_type</th>\n",
       "      <th>source_index</th>\n",
       "      <th>destination_index</th>\n",
       "      <th>value</th>\n",
       "    </tr>\n",
       "  </thead>\n",
       "  <tbody>\n",
       "    <tr>\n",
       "      <th>0</th>\n",
       "      <td>2018</td>\n",
       "      <td>biomass_demand_supply</td>\n",
       "      <td>0</td>\n",
       "      <td>98</td>\n",
       "      <td>7.909043</td>\n",
       "    </tr>\n",
       "    <tr>\n",
       "      <th>1</th>\n",
       "      <td>2018</td>\n",
       "      <td>biomass_demand_supply</td>\n",
       "      <td>1</td>\n",
       "      <td>98</td>\n",
       "      <td>33.303310</td>\n",
       "    </tr>\n",
       "    <tr>\n",
       "      <th>2</th>\n",
       "      <td>2018</td>\n",
       "      <td>biomass_demand_supply</td>\n",
       "      <td>2</td>\n",
       "      <td>98</td>\n",
       "      <td>68.320305</td>\n",
       "    </tr>\n",
       "    <tr>\n",
       "      <th>3</th>\n",
       "      <td>2018</td>\n",
       "      <td>biomass_demand_supply</td>\n",
       "      <td>3</td>\n",
       "      <td>98</td>\n",
       "      <td>91.012245</td>\n",
       "    </tr>\n",
       "    <tr>\n",
       "      <th>4</th>\n",
       "      <td>2018</td>\n",
       "      <td>biomass_demand_supply</td>\n",
       "      <td>4</td>\n",
       "      <td>98</td>\n",
       "      <td>15.820264</td>\n",
       "    </tr>\n",
       "    <tr>\n",
       "      <th>...</th>\n",
       "      <td>...</td>\n",
       "      <td>...</td>\n",
       "      <td>...</td>\n",
       "      <td>...</td>\n",
       "      <td>...</td>\n",
       "    </tr>\n",
       "    <tr>\n",
       "      <th>2413</th>\n",
       "      <td>2018</td>\n",
       "      <td>biomass_demand_supply</td>\n",
       "      <td>2413</td>\n",
       "      <td>2376</td>\n",
       "      <td>5.280633</td>\n",
       "    </tr>\n",
       "    <tr>\n",
       "      <th>2414</th>\n",
       "      <td>2018</td>\n",
       "      <td>biomass_demand_supply</td>\n",
       "      <td>2414</td>\n",
       "      <td>2376</td>\n",
       "      <td>0.161665</td>\n",
       "    </tr>\n",
       "    <tr>\n",
       "      <th>2415</th>\n",
       "      <td>2018</td>\n",
       "      <td>biomass_demand_supply</td>\n",
       "      <td>2415</td>\n",
       "      <td>2376</td>\n",
       "      <td>0.060271</td>\n",
       "    </tr>\n",
       "    <tr>\n",
       "      <th>2416</th>\n",
       "      <td>2018</td>\n",
       "      <td>biomass_demand_supply</td>\n",
       "      <td>2416</td>\n",
       "      <td>2376</td>\n",
       "      <td>2.200899</td>\n",
       "    </tr>\n",
       "    <tr>\n",
       "      <th>2417</th>\n",
       "      <td>2018</td>\n",
       "      <td>biomass_demand_supply</td>\n",
       "      <td>2417</td>\n",
       "      <td>2376</td>\n",
       "      <td>0.464466</td>\n",
       "    </tr>\n",
       "  </tbody>\n",
       "</table>\n",
       "<p>2418 rows × 5 columns</p>\n",
       "</div>"
      ],
      "text/plain": [
       "      year              data_type  source_index  destination_index      value\n",
       "0     2018  biomass_demand_supply             0                 98   7.909043\n",
       "1     2018  biomass_demand_supply             1                 98  33.303310\n",
       "2     2018  biomass_demand_supply             2                 98  68.320305\n",
       "3     2018  biomass_demand_supply             3                 98  91.012245\n",
       "4     2018  biomass_demand_supply             4                 98  15.820264\n",
       "...    ...                    ...           ...                ...        ...\n",
       "2413  2018  biomass_demand_supply          2413               2376   5.280633\n",
       "2414  2018  biomass_demand_supply          2414               2376   0.161665\n",
       "2415  2018  biomass_demand_supply          2415               2376   0.060271\n",
       "2416  2018  biomass_demand_supply          2416               2376   2.200899\n",
       "2417  2018  biomass_demand_supply          2417               2376   0.464466\n",
       "\n",
       "[2418 rows x 5 columns]"
      ]
     },
     "execution_count": 613,
     "metadata": {},
     "output_type": "execute_result"
    }
   ],
   "source": [
    "biomass_demand_supply_2018=biomass_demand_supply('2018',clusters_2018,depots_2018,biomass_density['2018'])\n",
    "biomass_demand_supply_2018"
   ]
  },
  {
   "cell_type": "code",
   "execution_count": 614,
   "metadata": {},
   "outputs": [
    {
     "data": {
      "text/html": [
       "<div>\n",
       "<style scoped>\n",
       "    .dataframe tbody tr th:only-of-type {\n",
       "        vertical-align: middle;\n",
       "    }\n",
       "\n",
       "    .dataframe tbody tr th {\n",
       "        vertical-align: top;\n",
       "    }\n",
       "\n",
       "    .dataframe thead th {\n",
       "        text-align: right;\n",
       "    }\n",
       "</style>\n",
       "<table border=\"1\" class=\"dataframe\">\n",
       "  <thead>\n",
       "    <tr style=\"text-align: right;\">\n",
       "      <th></th>\n",
       "      <th>year</th>\n",
       "      <th>data_type</th>\n",
       "      <th>source_index</th>\n",
       "      <th>destination_index</th>\n",
       "      <th>value</th>\n",
       "    </tr>\n",
       "  </thead>\n",
       "  <tbody>\n",
       "    <tr>\n",
       "      <th>0</th>\n",
       "      <td>2018</td>\n",
       "      <td>pellet_demand_supply</td>\n",
       "      <td>1276</td>\n",
       "      <td>1485</td>\n",
       "      <td>41472.519011</td>\n",
       "    </tr>\n",
       "    <tr>\n",
       "      <th>1</th>\n",
       "      <td>2018</td>\n",
       "      <td>pellet_demand_supply</td>\n",
       "      <td>98</td>\n",
       "      <td>481</td>\n",
       "      <td>19454.103981</td>\n",
       "    </tr>\n",
       "    <tr>\n",
       "      <th>2</th>\n",
       "      <td>2018</td>\n",
       "      <td>pellet_demand_supply</td>\n",
       "      <td>549</td>\n",
       "      <td>481</td>\n",
       "      <td>33333.171542</td>\n",
       "    </tr>\n",
       "    <tr>\n",
       "      <th>3</th>\n",
       "      <td>2018</td>\n",
       "      <td>pellet_demand_supply</td>\n",
       "      <td>1751</td>\n",
       "      <td>1855</td>\n",
       "      <td>74111.436439</td>\n",
       "    </tr>\n",
       "    <tr>\n",
       "      <th>4</th>\n",
       "      <td>2018</td>\n",
       "      <td>pellet_demand_supply</td>\n",
       "      <td>2098</td>\n",
       "      <td>1485</td>\n",
       "      <td>20500.266729</td>\n",
       "    </tr>\n",
       "    <tr>\n",
       "      <th>5</th>\n",
       "      <td>2018</td>\n",
       "      <td>pellet_demand_supply</td>\n",
       "      <td>2058</td>\n",
       "      <td>1485</td>\n",
       "      <td>3879.796986</td>\n",
       "    </tr>\n",
       "    <tr>\n",
       "      <th>6</th>\n",
       "      <td>2018</td>\n",
       "      <td>pellet_demand_supply</td>\n",
       "      <td>2376</td>\n",
       "      <td>1485</td>\n",
       "      <td>4924.035475</td>\n",
       "    </tr>\n",
       "    <tr>\n",
       "      <th>7</th>\n",
       "      <td>2018</td>\n",
       "      <td>pellet_demand_supply</td>\n",
       "      <td>1507</td>\n",
       "      <td>1855</td>\n",
       "      <td>37297.910973</td>\n",
       "    </tr>\n",
       "    <tr>\n",
       "      <th>8</th>\n",
       "      <td>2018</td>\n",
       "      <td>pellet_demand_supply</td>\n",
       "      <td>270</td>\n",
       "      <td>1485</td>\n",
       "      <td>19907.445753</td>\n",
       "    </tr>\n",
       "    <tr>\n",
       "      <th>9</th>\n",
       "      <td>2018</td>\n",
       "      <td>pellet_demand_supply</td>\n",
       "      <td>1011</td>\n",
       "      <td>1485</td>\n",
       "      <td>31510.631042</td>\n",
       "    </tr>\n",
       "    <tr>\n",
       "      <th>10</th>\n",
       "      <td>2018</td>\n",
       "      <td>pellet_demand_supply</td>\n",
       "      <td>728</td>\n",
       "      <td>481</td>\n",
       "      <td>46061.668322</td>\n",
       "    </tr>\n",
       "    <tr>\n",
       "      <th>11</th>\n",
       "      <td>2018</td>\n",
       "      <td>pellet_demand_supply</td>\n",
       "      <td>2162</td>\n",
       "      <td>1855</td>\n",
       "      <td>17479.617033</td>\n",
       "    </tr>\n",
       "    <tr>\n",
       "      <th>12</th>\n",
       "      <td>2018</td>\n",
       "      <td>pellet_demand_supply</td>\n",
       "      <td>1548</td>\n",
       "      <td>1485</td>\n",
       "      <td>33327.431812</td>\n",
       "    </tr>\n",
       "    <tr>\n",
       "      <th>13</th>\n",
       "      <td>2018</td>\n",
       "      <td>pellet_demand_supply</td>\n",
       "      <td>2037</td>\n",
       "      <td>1855</td>\n",
       "      <td>25895.954524</td>\n",
       "    </tr>\n",
       "    <tr>\n",
       "      <th>14</th>\n",
       "      <td>2018</td>\n",
       "      <td>pellet_demand_supply</td>\n",
       "      <td>962</td>\n",
       "      <td>1485</td>\n",
       "      <td>7318.016410</td>\n",
       "    </tr>\n",
       "    <tr>\n",
       "      <th>15</th>\n",
       "      <td>2018</td>\n",
       "      <td>pellet_demand_supply</td>\n",
       "      <td>645</td>\n",
       "      <td>481</td>\n",
       "      <td>3640.102383</td>\n",
       "    </tr>\n",
       "  </tbody>\n",
       "</table>\n",
       "</div>"
      ],
      "text/plain": [
       "    year             data_type  source_index  destination_index         value\n",
       "0   2018  pellet_demand_supply          1276               1485  41472.519011\n",
       "1   2018  pellet_demand_supply            98                481  19454.103981\n",
       "2   2018  pellet_demand_supply           549                481  33333.171542\n",
       "3   2018  pellet_demand_supply          1751               1855  74111.436439\n",
       "4   2018  pellet_demand_supply          2098               1485  20500.266729\n",
       "5   2018  pellet_demand_supply          2058               1485   3879.796986\n",
       "6   2018  pellet_demand_supply          2376               1485   4924.035475\n",
       "7   2018  pellet_demand_supply          1507               1855  37297.910973\n",
       "8   2018  pellet_demand_supply           270               1485  19907.445753\n",
       "9   2018  pellet_demand_supply          1011               1485  31510.631042\n",
       "10  2018  pellet_demand_supply           728                481  46061.668322\n",
       "11  2018  pellet_demand_supply          2162               1855  17479.617033\n",
       "12  2018  pellet_demand_supply          1548               1485  33327.431812\n",
       "13  2018  pellet_demand_supply          2037               1855  25895.954524\n",
       "14  2018  pellet_demand_supply           962               1485   7318.016410\n",
       "15  2018  pellet_demand_supply           645                481   3640.102383"
      ]
     },
     "execution_count": 614,
     "metadata": {},
     "output_type": "execute_result"
    }
   ],
   "source": [
    "pellet_demand_supply_2018=pellet_demand_supply('2018',clusters_depots_2018,refineries_2018,bpd_2018,depots_2018)\n",
    "pellet_demand_supply_2018"
   ]
  },
  {
   "cell_type": "code",
   "execution_count": 615,
   "metadata": {},
   "outputs": [
    {
     "data": {
      "text/html": [
       "<div>\n",
       "<style scoped>\n",
       "    .dataframe tbody tr th:only-of-type {\n",
       "        vertical-align: middle;\n",
       "    }\n",
       "\n",
       "    .dataframe tbody tr th {\n",
       "        vertical-align: top;\n",
       "    }\n",
       "\n",
       "    .dataframe thead th {\n",
       "        text-align: right;\n",
       "    }\n",
       "</style>\n",
       "<table border=\"1\" class=\"dataframe\">\n",
       "  <thead>\n",
       "    <tr style=\"text-align: right;\">\n",
       "      <th></th>\n",
       "      <th>year</th>\n",
       "      <th>data_type</th>\n",
       "      <th>source_index</th>\n",
       "      <th>destination_index</th>\n",
       "      <th>value</th>\n",
       "    </tr>\n",
       "  </thead>\n",
       "  <tbody>\n",
       "    <tr>\n",
       "      <th>0</th>\n",
       "      <td>2019</td>\n",
       "      <td>biomass_forecast</td>\n",
       "      <td>0</td>\n",
       "      <td>NaN</td>\n",
       "      <td>17.154170</td>\n",
       "    </tr>\n",
       "    <tr>\n",
       "      <th>1</th>\n",
       "      <td>2019</td>\n",
       "      <td>biomass_forecast</td>\n",
       "      <td>1</td>\n",
       "      <td>NaN</td>\n",
       "      <td>62.532272</td>\n",
       "    </tr>\n",
       "    <tr>\n",
       "      <th>2</th>\n",
       "      <td>2019</td>\n",
       "      <td>biomass_forecast</td>\n",
       "      <td>2</td>\n",
       "      <td>NaN</td>\n",
       "      <td>106.519424</td>\n",
       "    </tr>\n",
       "    <tr>\n",
       "      <th>3</th>\n",
       "      <td>2019</td>\n",
       "      <td>biomass_forecast</td>\n",
       "      <td>3</td>\n",
       "      <td>NaN</td>\n",
       "      <td>134.203400</td>\n",
       "    </tr>\n",
       "    <tr>\n",
       "      <th>4</th>\n",
       "      <td>2019</td>\n",
       "      <td>biomass_forecast</td>\n",
       "      <td>4</td>\n",
       "      <td>NaN</td>\n",
       "      <td>29.635239</td>\n",
       "    </tr>\n",
       "    <tr>\n",
       "      <th>...</th>\n",
       "      <td>...</td>\n",
       "      <td>...</td>\n",
       "      <td>...</td>\n",
       "      <td>...</td>\n",
       "      <td>...</td>\n",
       "    </tr>\n",
       "    <tr>\n",
       "      <th>2413</th>\n",
       "      <td>2019</td>\n",
       "      <td>biomass_forecast</td>\n",
       "      <td>2413</td>\n",
       "      <td>NaN</td>\n",
       "      <td>18.673874</td>\n",
       "    </tr>\n",
       "    <tr>\n",
       "      <th>2414</th>\n",
       "      <td>2019</td>\n",
       "      <td>biomass_forecast</td>\n",
       "      <td>2414</td>\n",
       "      <td>NaN</td>\n",
       "      <td>0.444787</td>\n",
       "    </tr>\n",
       "    <tr>\n",
       "      <th>2415</th>\n",
       "      <td>2019</td>\n",
       "      <td>biomass_forecast</td>\n",
       "      <td>2415</td>\n",
       "      <td>NaN</td>\n",
       "      <td>0.146884</td>\n",
       "    </tr>\n",
       "    <tr>\n",
       "      <th>2416</th>\n",
       "      <td>2019</td>\n",
       "      <td>biomass_forecast</td>\n",
       "      <td>2416</td>\n",
       "      <td>NaN</td>\n",
       "      <td>14.368222</td>\n",
       "    </tr>\n",
       "    <tr>\n",
       "      <th>2417</th>\n",
       "      <td>2019</td>\n",
       "      <td>biomass_forecast</td>\n",
       "      <td>2417</td>\n",
       "      <td>NaN</td>\n",
       "      <td>2.656083</td>\n",
       "    </tr>\n",
       "  </tbody>\n",
       "</table>\n",
       "<p>2418 rows × 5 columns</p>\n",
       "</div>"
      ],
      "text/plain": [
       "      year         data_type  source_index  destination_index       value\n",
       "0     2019  biomass_forecast             0                NaN   17.154170\n",
       "1     2019  biomass_forecast             1                NaN   62.532272\n",
       "2     2019  biomass_forecast             2                NaN  106.519424\n",
       "3     2019  biomass_forecast             3                NaN  134.203400\n",
       "4     2019  biomass_forecast             4                NaN   29.635239\n",
       "...    ...               ...           ...                ...         ...\n",
       "2413  2019  biomass_forecast          2413                NaN   18.673874\n",
       "2414  2019  biomass_forecast          2414                NaN    0.444787\n",
       "2415  2019  biomass_forecast          2415                NaN    0.146884\n",
       "2416  2019  biomass_forecast          2416                NaN   14.368222\n",
       "2417  2019  biomass_forecast          2417                NaN    2.656083\n",
       "\n",
       "[2418 rows x 5 columns]"
      ]
     },
     "execution_count": 615,
     "metadata": {},
     "output_type": "execute_result"
    }
   ],
   "source": [
    "biomass_forecast_2019 = arrange_biomass_dataframe(biomass_density['2019'],columns,'2019')\n",
    "biomass_forecast_2019"
   ]
  },
  {
   "cell_type": "code",
   "execution_count": 616,
   "metadata": {},
   "outputs": [
    {
     "data": {
      "text/html": [
       "<div>\n",
       "<style scoped>\n",
       "    .dataframe tbody tr th:only-of-type {\n",
       "        vertical-align: middle;\n",
       "    }\n",
       "\n",
       "    .dataframe tbody tr th {\n",
       "        vertical-align: top;\n",
       "    }\n",
       "\n",
       "    .dataframe thead th {\n",
       "        text-align: right;\n",
       "    }\n",
       "</style>\n",
       "<table border=\"1\" class=\"dataframe\">\n",
       "  <thead>\n",
       "    <tr style=\"text-align: right;\">\n",
       "      <th></th>\n",
       "      <th>year</th>\n",
       "      <th>data_type</th>\n",
       "      <th>source_index</th>\n",
       "      <th>destination_index</th>\n",
       "      <th>value</th>\n",
       "    </tr>\n",
       "  </thead>\n",
       "  <tbody>\n",
       "    <tr>\n",
       "      <th>0</th>\n",
       "      <td>2019</td>\n",
       "      <td>biomass_demand_supply</td>\n",
       "      <td>0</td>\n",
       "      <td>2069</td>\n",
       "      <td>17.154170</td>\n",
       "    </tr>\n",
       "    <tr>\n",
       "      <th>1</th>\n",
       "      <td>2019</td>\n",
       "      <td>biomass_demand_supply</td>\n",
       "      <td>1</td>\n",
       "      <td>2069</td>\n",
       "      <td>62.532272</td>\n",
       "    </tr>\n",
       "    <tr>\n",
       "      <th>2</th>\n",
       "      <td>2019</td>\n",
       "      <td>biomass_demand_supply</td>\n",
       "      <td>2</td>\n",
       "      <td>2069</td>\n",
       "      <td>106.519424</td>\n",
       "    </tr>\n",
       "    <tr>\n",
       "      <th>3</th>\n",
       "      <td>2019</td>\n",
       "      <td>biomass_demand_supply</td>\n",
       "      <td>3</td>\n",
       "      <td>2069</td>\n",
       "      <td>134.203400</td>\n",
       "    </tr>\n",
       "    <tr>\n",
       "      <th>4</th>\n",
       "      <td>2019</td>\n",
       "      <td>biomass_demand_supply</td>\n",
       "      <td>4</td>\n",
       "      <td>2069</td>\n",
       "      <td>29.635239</td>\n",
       "    </tr>\n",
       "    <tr>\n",
       "      <th>...</th>\n",
       "      <td>...</td>\n",
       "      <td>...</td>\n",
       "      <td>...</td>\n",
       "      <td>...</td>\n",
       "      <td>...</td>\n",
       "    </tr>\n",
       "    <tr>\n",
       "      <th>2413</th>\n",
       "      <td>2019</td>\n",
       "      <td>biomass_demand_supply</td>\n",
       "      <td>2413</td>\n",
       "      <td>371</td>\n",
       "      <td>18.673874</td>\n",
       "    </tr>\n",
       "    <tr>\n",
       "      <th>2414</th>\n",
       "      <td>2019</td>\n",
       "      <td>biomass_demand_supply</td>\n",
       "      <td>2414</td>\n",
       "      <td>371</td>\n",
       "      <td>0.444787</td>\n",
       "    </tr>\n",
       "    <tr>\n",
       "      <th>2415</th>\n",
       "      <td>2019</td>\n",
       "      <td>biomass_demand_supply</td>\n",
       "      <td>2415</td>\n",
       "      <td>371</td>\n",
       "      <td>0.146884</td>\n",
       "    </tr>\n",
       "    <tr>\n",
       "      <th>2416</th>\n",
       "      <td>2019</td>\n",
       "      <td>biomass_demand_supply</td>\n",
       "      <td>2416</td>\n",
       "      <td>371</td>\n",
       "      <td>14.368222</td>\n",
       "    </tr>\n",
       "    <tr>\n",
       "      <th>2417</th>\n",
       "      <td>2019</td>\n",
       "      <td>biomass_demand_supply</td>\n",
       "      <td>2417</td>\n",
       "      <td>371</td>\n",
       "      <td>2.656083</td>\n",
       "    </tr>\n",
       "  </tbody>\n",
       "</table>\n",
       "<p>2418 rows × 5 columns</p>\n",
       "</div>"
      ],
      "text/plain": [
       "      year              data_type  source_index  destination_index       value\n",
       "0     2019  biomass_demand_supply             0               2069   17.154170\n",
       "1     2019  biomass_demand_supply             1               2069   62.532272\n",
       "2     2019  biomass_demand_supply             2               2069  106.519424\n",
       "3     2019  biomass_demand_supply             3               2069  134.203400\n",
       "4     2019  biomass_demand_supply             4               2069   29.635239\n",
       "...    ...                    ...           ...                ...         ...\n",
       "2413  2019  biomass_demand_supply          2413                371   18.673874\n",
       "2414  2019  biomass_demand_supply          2414                371    0.444787\n",
       "2415  2019  biomass_demand_supply          2415                371    0.146884\n",
       "2416  2019  biomass_demand_supply          2416                371   14.368222\n",
       "2417  2019  biomass_demand_supply          2417                371    2.656083\n",
       "\n",
       "[2418 rows x 5 columns]"
      ]
     },
     "execution_count": 616,
     "metadata": {},
     "output_type": "execute_result"
    }
   ],
   "source": [
    "biomass_demand_supply_2019=biomass_demand_supply('2019',clusters_2018,depots_2019,biomass_density['2019'])\n",
    "biomass_demand_supply_2019"
   ]
  },
  {
   "cell_type": "code",
   "execution_count": 628,
   "metadata": {},
   "outputs": [
    {
     "data": {
      "text/html": [
       "<div>\n",
       "<style scoped>\n",
       "    .dataframe tbody tr th:only-of-type {\n",
       "        vertical-align: middle;\n",
       "    }\n",
       "\n",
       "    .dataframe tbody tr th {\n",
       "        vertical-align: top;\n",
       "    }\n",
       "\n",
       "    .dataframe thead th {\n",
       "        text-align: right;\n",
       "    }\n",
       "</style>\n",
       "<table border=\"1\" class=\"dataframe\">\n",
       "  <thead>\n",
       "    <tr style=\"text-align: right;\">\n",
       "      <th></th>\n",
       "      <th>year</th>\n",
       "      <th>data_type</th>\n",
       "      <th>source_index</th>\n",
       "      <th>destination_index</th>\n",
       "      <th>value</th>\n",
       "    </tr>\n",
       "  </thead>\n",
       "  <tbody>\n",
       "    <tr>\n",
       "      <th>0</th>\n",
       "      <td>2019</td>\n",
       "      <td>pellet_demand_supply</td>\n",
       "      <td>645</td>\n",
       "      <td>1033</td>\n",
       "      <td>6086.521693</td>\n",
       "    </tr>\n",
       "    <tr>\n",
       "      <th>1</th>\n",
       "      <td>2019</td>\n",
       "      <td>pellet_demand_supply</td>\n",
       "      <td>2069</td>\n",
       "      <td>1860</td>\n",
       "      <td>12891.352252</td>\n",
       "    </tr>\n",
       "    <tr>\n",
       "      <th>2</th>\n",
       "      <td>2019</td>\n",
       "      <td>pellet_demand_supply</td>\n",
       "      <td>1022</td>\n",
       "      <td>1667</td>\n",
       "      <td>18971.876141</td>\n",
       "    </tr>\n",
       "    <tr>\n",
       "      <th>3</th>\n",
       "      <td>2019</td>\n",
       "      <td>pellet_demand_supply</td>\n",
       "      <td>1833</td>\n",
       "      <td>1667</td>\n",
       "      <td>33343.239472</td>\n",
       "    </tr>\n",
       "    <tr>\n",
       "      <th>4</th>\n",
       "      <td>2019</td>\n",
       "      <td>pellet_demand_supply</td>\n",
       "      <td>125</td>\n",
       "      <td>343</td>\n",
       "      <td>28404.043806</td>\n",
       "    </tr>\n",
       "    <tr>\n",
       "      <th>5</th>\n",
       "      <td>2019</td>\n",
       "      <td>pellet_demand_supply</td>\n",
       "      <td>1863</td>\n",
       "      <td>1860</td>\n",
       "      <td>23009.007275</td>\n",
       "    </tr>\n",
       "    <tr>\n",
       "      <th>6</th>\n",
       "      <td>2019</td>\n",
       "      <td>pellet_demand_supply</td>\n",
       "      <td>371</td>\n",
       "      <td>1033</td>\n",
       "      <td>4804.314551</td>\n",
       "    </tr>\n",
       "    <tr>\n",
       "      <th>7</th>\n",
       "      <td>2019</td>\n",
       "      <td>pellet_demand_supply</td>\n",
       "      <td>1322</td>\n",
       "      <td>1033</td>\n",
       "      <td>13483.570361</td>\n",
       "    </tr>\n",
       "    <tr>\n",
       "      <th>8</th>\n",
       "      <td>2019</td>\n",
       "      <td>pellet_demand_supply</td>\n",
       "      <td>1654</td>\n",
       "      <td>1860</td>\n",
       "      <td>19962.337982</td>\n",
       "    </tr>\n",
       "    <tr>\n",
       "      <th>9</th>\n",
       "      <td>2019</td>\n",
       "      <td>pellet_demand_supply</td>\n",
       "      <td>2212</td>\n",
       "      <td>1860</td>\n",
       "      <td>15378.257225</td>\n",
       "    </tr>\n",
       "    <tr>\n",
       "      <th>10</th>\n",
       "      <td>2019</td>\n",
       "      <td>pellet_demand_supply</td>\n",
       "      <td>1229</td>\n",
       "      <td>1667</td>\n",
       "      <td>34870.338522</td>\n",
       "    </tr>\n",
       "    <tr>\n",
       "      <th>11</th>\n",
       "      <td>2019</td>\n",
       "      <td>pellet_demand_supply</td>\n",
       "      <td>987</td>\n",
       "      <td>1033</td>\n",
       "      <td>26521.365867</td>\n",
       "    </tr>\n",
       "    <tr>\n",
       "      <th>12</th>\n",
       "      <td>2019</td>\n",
       "      <td>pellet_demand_supply</td>\n",
       "      <td>743</td>\n",
       "      <td>343</td>\n",
       "      <td>31478.313113</td>\n",
       "    </tr>\n",
       "    <tr>\n",
       "      <th>13</th>\n",
       "      <td>2019</td>\n",
       "      <td>pellet_demand_supply</td>\n",
       "      <td>352</td>\n",
       "      <td>343</td>\n",
       "      <td>31035.751200</td>\n",
       "    </tr>\n",
       "    <tr>\n",
       "      <th>14</th>\n",
       "      <td>2019</td>\n",
       "      <td>pellet_demand_supply</td>\n",
       "      <td>1580</td>\n",
       "      <td>1860</td>\n",
       "      <td>18955.649022</td>\n",
       "    </tr>\n",
       "    <tr>\n",
       "      <th>15</th>\n",
       "      <td>2019</td>\n",
       "      <td>pellet_demand_supply</td>\n",
       "      <td>2322</td>\n",
       "      <td>1667</td>\n",
       "      <td>16296.221198</td>\n",
       "    </tr>\n",
       "    <tr>\n",
       "      <th>16</th>\n",
       "      <td>2019</td>\n",
       "      <td>pellet_demand_supply</td>\n",
       "      <td>1565</td>\n",
       "      <td>1033</td>\n",
       "      <td>8149.695544</td>\n",
       "    </tr>\n",
       "  </tbody>\n",
       "</table>\n",
       "</div>"
      ],
      "text/plain": [
       "    year             data_type  source_index  destination_index         value\n",
       "0   2019  pellet_demand_supply           645               1033   6086.521693\n",
       "1   2019  pellet_demand_supply          2069               1860  12891.352252\n",
       "2   2019  pellet_demand_supply          1022               1667  18971.876141\n",
       "3   2019  pellet_demand_supply          1833               1667  33343.239472\n",
       "4   2019  pellet_demand_supply           125                343  28404.043806\n",
       "5   2019  pellet_demand_supply          1863               1860  23009.007275\n",
       "6   2019  pellet_demand_supply           371               1033   4804.314551\n",
       "7   2019  pellet_demand_supply          1322               1033  13483.570361\n",
       "8   2019  pellet_demand_supply          1654               1860  19962.337982\n",
       "9   2019  pellet_demand_supply          2212               1860  15378.257225\n",
       "10  2019  pellet_demand_supply          1229               1667  34870.338522\n",
       "11  2019  pellet_demand_supply           987               1033  26521.365867\n",
       "12  2019  pellet_demand_supply           743                343  31478.313113\n",
       "13  2019  pellet_demand_supply           352                343  31035.751200\n",
       "14  2019  pellet_demand_supply          1580               1860  18955.649022\n",
       "15  2019  pellet_demand_supply          2322               1667  16296.221198\n",
       "16  2019  pellet_demand_supply          1565               1033   8149.695544"
      ]
     },
     "execution_count": 628,
     "metadata": {},
     "output_type": "execute_result"
    }
   ],
   "source": [
    "pellet_demand_supply_2019=pellet_demand_supply('2019',cluster_depots_2019,refineries_2019,bpd_2019,depots_2019)\n",
    "pellet_demand_supply_2019"
   ]
  },
  {
   "cell_type": "markdown",
   "metadata": {},
   "source": [
    "# Exporting Submission file"
   ]
  },
  {
   "cell_type": "code",
   "execution_count": 632,
   "metadata": {},
   "outputs": [],
   "source": [
    "submission1 = pd.concat([depot_location_1819, refinery_location_1819, biomass_forecast_2018, biomass_demand_supply_2018,pellet_demand_supply_2018,biomass_forecast_2019, biomass_demand_supply_2019,pellet_demand_supply_2019], ignore_index=True)"
   ]
  },
  {
   "cell_type": "code",
   "execution_count": null,
   "metadata": {},
   "outputs": [],
   "source": [
    "submission1.reset_index(drop=True)"
   ]
  },
  {
   "cell_type": "code",
   "execution_count": 633,
   "metadata": {},
   "outputs": [],
   "source": [
    "submission1.to_csv('submission.csv')"
   ]
  },
  {
   "cell_type": "code",
   "execution_count": null,
   "metadata": {},
   "outputs": [],
   "source": []
  }
 ],
 "metadata": {
  "kernelspec": {
   "display_name": "shell",
   "language": "python",
   "name": "python3"
  },
  "language_info": {
   "codemirror_mode": {
    "name": "ipython",
    "version": 3
   },
   "file_extension": ".py",
   "mimetype": "text/x-python",
   "name": "python",
   "nbconvert_exporter": "python",
   "pygments_lexer": "ipython3",
   "version": "3.9.17"
  },
  "orig_nbformat": 4
 },
 "nbformat": 4,
 "nbformat_minor": 2
}
