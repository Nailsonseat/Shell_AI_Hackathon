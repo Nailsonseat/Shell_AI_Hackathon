{
 "cells": [
  {
   "cell_type": "code",
   "execution_count": 659,
   "metadata": {},
   "outputs": [],
   "source": [
    "from sklearn.cluster import KMeans\n",
    "import pandas as pd\n",
    "import seaborn as sns\n",
    "import numpy as np\n",
    "import matplotlib.pyplot as plt"
   ]
  },
  {
   "cell_type": "markdown",
   "metadata": {},
   "source": [
    "## Data Loading"
   ]
  },
  {
   "cell_type": "code",
   "execution_count": 660,
   "metadata": {},
   "outputs": [],
   "source": [
    "biomass_density = pd.read_csv('preprocessed/forecasted.csv')"
   ]
  },
  {
   "cell_type": "code",
   "execution_count": 661,
   "metadata": {},
   "outputs": [],
   "source": [
    "distance_matrix = pd.read_csv('dataset/Distance_Matrix.csv')"
   ]
  },
  {
   "cell_type": "code",
   "execution_count": 662,
   "metadata": {},
   "outputs": [],
   "source": [
    "distance_matrix = distance_matrix.drop('Unnamed: 0',axis=1)"
   ]
  },
  {
   "cell_type": "code",
   "execution_count": 663,
   "metadata": {},
   "outputs": [],
   "source": [
    "biomass_density = biomass_density.drop('Unnamed: 0',axis=1)"
   ]
  },
  {
   "cell_type": "code",
   "execution_count": 664,
   "metadata": {},
   "outputs": [
    {
     "data": {
      "text/plain": [
       "(2418, 2418)"
      ]
     },
     "execution_count": 664,
     "metadata": {},
     "output_type": "execute_result"
    }
   ],
   "source": [
    "distance_matrix.shape"
   ]
  },
  {
   "cell_type": "markdown",
   "metadata": {},
   "source": [
    "## Prprocessing"
   ]
  },
  {
   "cell_type": "code",
   "execution_count": 665,
   "metadata": {},
   "outputs": [],
   "source": [
    "#new_distance = lambda den,dist: den/dist"
   ]
  },
  {
   "cell_type": "code",
   "execution_count": 666,
   "metadata": {},
   "outputs": [
    {
     "data": {
      "text/html": [
       "<div>\n",
       "<style scoped>\n",
       "    .dataframe tbody tr th:only-of-type {\n",
       "        vertical-align: middle;\n",
       "    }\n",
       "\n",
       "    .dataframe tbody tr th {\n",
       "        vertical-align: top;\n",
       "    }\n",
       "\n",
       "    .dataframe thead th {\n",
       "        text-align: right;\n",
       "    }\n",
       "</style>\n",
       "<table border=\"1\" class=\"dataframe\">\n",
       "  <thead>\n",
       "    <tr style=\"text-align: right;\">\n",
       "      <th></th>\n",
       "      <th>Latitude</th>\n",
       "      <th>Longitude</th>\n",
       "      <th>2010</th>\n",
       "      <th>2011</th>\n",
       "      <th>2012</th>\n",
       "      <th>2013</th>\n",
       "      <th>2014</th>\n",
       "      <th>2015</th>\n",
       "      <th>2016</th>\n",
       "      <th>2017</th>\n",
       "      <th>2018</th>\n",
       "      <th>2019</th>\n",
       "    </tr>\n",
       "  </thead>\n",
       "  <tbody>\n",
       "    <tr>\n",
       "      <th>0</th>\n",
       "      <td>24.66818</td>\n",
       "      <td>71.33144</td>\n",
       "      <td>0.212466</td>\n",
       "      <td>0.225726</td>\n",
       "      <td>0.219358</td>\n",
       "      <td>0.169677</td>\n",
       "      <td>0.231301</td>\n",
       "      <td>0.205046</td>\n",
       "      <td>0.243113</td>\n",
       "      <td>0.180307</td>\n",
       "      <td>0.199934</td>\n",
       "      <td>0.502740</td>\n",
       "    </tr>\n",
       "    <tr>\n",
       "      <th>1</th>\n",
       "      <td>24.66818</td>\n",
       "      <td>71.41106</td>\n",
       "      <td>0.300711</td>\n",
       "      <td>0.333306</td>\n",
       "      <td>0.309579</td>\n",
       "      <td>0.259861</td>\n",
       "      <td>0.340509</td>\n",
       "      <td>0.328613</td>\n",
       "      <td>0.428428</td>\n",
       "      <td>0.362593</td>\n",
       "      <td>0.334189</td>\n",
       "      <td>0.518164</td>\n",
       "    </tr>\n",
       "    <tr>\n",
       "      <th>2</th>\n",
       "      <td>24.66818</td>\n",
       "      <td>71.49069</td>\n",
       "      <td>0.370192</td>\n",
       "      <td>0.440955</td>\n",
       "      <td>0.402816</td>\n",
       "      <td>0.350319</td>\n",
       "      <td>0.433291</td>\n",
       "      <td>0.380620</td>\n",
       "      <td>0.486443</td>\n",
       "      <td>0.435923</td>\n",
       "      <td>0.397611</td>\n",
       "      <td>0.511109</td>\n",
       "    </tr>\n",
       "    <tr>\n",
       "      <th>3</th>\n",
       "      <td>24.66818</td>\n",
       "      <td>71.57031</td>\n",
       "      <td>0.407901</td>\n",
       "      <td>0.471496</td>\n",
       "      <td>0.449079</td>\n",
       "      <td>0.371401</td>\n",
       "      <td>0.475138</td>\n",
       "      <td>0.449872</td>\n",
       "      <td>0.525324</td>\n",
       "      <td>0.485404</td>\n",
       "      <td>0.437328</td>\n",
       "      <td>0.541641</td>\n",
       "    </tr>\n",
       "    <tr>\n",
       "      <th>4</th>\n",
       "      <td>24.66818</td>\n",
       "      <td>71.64994</td>\n",
       "      <td>0.255002</td>\n",
       "      <td>0.292657</td>\n",
       "      <td>0.292995</td>\n",
       "      <td>0.243953</td>\n",
       "      <td>0.281919</td>\n",
       "      <td>0.291840</td>\n",
       "      <td>0.317984</td>\n",
       "      <td>0.309058</td>\n",
       "      <td>0.257460</td>\n",
       "      <td>0.509233</td>\n",
       "    </tr>\n",
       "  </tbody>\n",
       "</table>\n",
       "</div>"
      ],
      "text/plain": [
       "   Latitude  Longitude      2010      2011      2012      2013      2014  \\\n",
       "0  24.66818   71.33144  0.212466  0.225726  0.219358  0.169677  0.231301   \n",
       "1  24.66818   71.41106  0.300711  0.333306  0.309579  0.259861  0.340509   \n",
       "2  24.66818   71.49069  0.370192  0.440955  0.402816  0.350319  0.433291   \n",
       "3  24.66818   71.57031  0.407901  0.471496  0.449079  0.371401  0.475138   \n",
       "4  24.66818   71.64994  0.255002  0.292657  0.292995  0.243953  0.281919   \n",
       "\n",
       "       2015      2016      2017      2018      2019  \n",
       "0  0.205046  0.243113  0.180307  0.199934  0.502740  \n",
       "1  0.328613  0.428428  0.362593  0.334189  0.518164  \n",
       "2  0.380620  0.486443  0.435923  0.397611  0.511109  \n",
       "3  0.449872  0.525324  0.485404  0.437328  0.541641  \n",
       "4  0.291840  0.317984  0.309058  0.257460  0.509233  "
      ]
     },
     "execution_count": 666,
     "metadata": {},
     "output_type": "execute_result"
    }
   ],
   "source": [
    "biomass_density.head()"
   ]
  },
  {
   "cell_type": "code",
   "execution_count": 667,
   "metadata": {},
   "outputs": [
    {
     "data": {
      "text/html": [
       "<div>\n",
       "<style scoped>\n",
       "    .dataframe tbody tr th:only-of-type {\n",
       "        vertical-align: middle;\n",
       "    }\n",
       "\n",
       "    .dataframe tbody tr th {\n",
       "        vertical-align: top;\n",
       "    }\n",
       "\n",
       "    .dataframe thead th {\n",
       "        text-align: right;\n",
       "    }\n",
       "</style>\n",
       "<table border=\"1\" class=\"dataframe\">\n",
       "  <thead>\n",
       "    <tr style=\"text-align: right;\">\n",
       "      <th></th>\n",
       "      <th>0</th>\n",
       "      <th>1</th>\n",
       "      <th>2</th>\n",
       "      <th>3</th>\n",
       "      <th>4</th>\n",
       "      <th>5</th>\n",
       "      <th>6</th>\n",
       "      <th>7</th>\n",
       "      <th>8</th>\n",
       "      <th>9</th>\n",
       "      <th>...</th>\n",
       "      <th>2408</th>\n",
       "      <th>2409</th>\n",
       "      <th>2410</th>\n",
       "      <th>2411</th>\n",
       "      <th>2412</th>\n",
       "      <th>2413</th>\n",
       "      <th>2414</th>\n",
       "      <th>2415</th>\n",
       "      <th>2416</th>\n",
       "      <th>2417</th>\n",
       "    </tr>\n",
       "  </thead>\n",
       "  <tbody>\n",
       "    <tr>\n",
       "      <th>0</th>\n",
       "      <td>0.0000</td>\n",
       "      <td>11.3769</td>\n",
       "      <td>20.4557</td>\n",
       "      <td>38.1227</td>\n",
       "      <td>45.3810</td>\n",
       "      <td>54.9915</td>\n",
       "      <td>78.6108</td>\n",
       "      <td>118.6750</td>\n",
       "      <td>102.6639</td>\n",
       "      <td>113.4309</td>\n",
       "      <td>...</td>\n",
       "      <td>683.8771</td>\n",
       "      <td>687.6310</td>\n",
       "      <td>697.3246</td>\n",
       "      <td>669.3962</td>\n",
       "      <td>667.6788</td>\n",
       "      <td>665.5775</td>\n",
       "      <td>662.0291</td>\n",
       "      <td>665.9655</td>\n",
       "      <td>673.2073</td>\n",
       "      <td>681.4235</td>\n",
       "    </tr>\n",
       "    <tr>\n",
       "      <th>1</th>\n",
       "      <td>11.3769</td>\n",
       "      <td>0.0000</td>\n",
       "      <td>9.0788</td>\n",
       "      <td>28.9141</td>\n",
       "      <td>36.1724</td>\n",
       "      <td>45.7829</td>\n",
       "      <td>69.4022</td>\n",
       "      <td>78.2329</td>\n",
       "      <td>93.4553</td>\n",
       "      <td>111.1832</td>\n",
       "      <td>...</td>\n",
       "      <td>681.6295</td>\n",
       "      <td>685.3833</td>\n",
       "      <td>695.0769</td>\n",
       "      <td>667.1485</td>\n",
       "      <td>665.4311</td>\n",
       "      <td>663.3298</td>\n",
       "      <td>659.7815</td>\n",
       "      <td>663.7178</td>\n",
       "      <td>670.9596</td>\n",
       "      <td>679.1758</td>\n",
       "    </tr>\n",
       "    <tr>\n",
       "      <th>2</th>\n",
       "      <td>20.4557</td>\n",
       "      <td>9.0788</td>\n",
       "      <td>0.0000</td>\n",
       "      <td>22.3791</td>\n",
       "      <td>29.6374</td>\n",
       "      <td>39.2478</td>\n",
       "      <td>62.8671</td>\n",
       "      <td>71.6979</td>\n",
       "      <td>86.9203</td>\n",
       "      <td>111.7859</td>\n",
       "      <td>...</td>\n",
       "      <td>682.2323</td>\n",
       "      <td>685.9861</td>\n",
       "      <td>695.6796</td>\n",
       "      <td>667.7513</td>\n",
       "      <td>666.0339</td>\n",
       "      <td>663.9326</td>\n",
       "      <td>660.3843</td>\n",
       "      <td>664.3206</td>\n",
       "      <td>671.5623</td>\n",
       "      <td>679.7786</td>\n",
       "    </tr>\n",
       "    <tr>\n",
       "      <th>3</th>\n",
       "      <td>38.1227</td>\n",
       "      <td>28.9141</td>\n",
       "      <td>22.3791</td>\n",
       "      <td>0.0000</td>\n",
       "      <td>11.8343</td>\n",
       "      <td>23.5413</td>\n",
       "      <td>41.8396</td>\n",
       "      <td>50.6703</td>\n",
       "      <td>65.8927</td>\n",
       "      <td>82.5852</td>\n",
       "      <td>...</td>\n",
       "      <td>681.4226</td>\n",
       "      <td>685.1765</td>\n",
       "      <td>694.8701</td>\n",
       "      <td>666.9417</td>\n",
       "      <td>665.2243</td>\n",
       "      <td>663.1230</td>\n",
       "      <td>659.5746</td>\n",
       "      <td>663.5110</td>\n",
       "      <td>670.7528</td>\n",
       "      <td>678.9690</td>\n",
       "    </tr>\n",
       "    <tr>\n",
       "      <th>4</th>\n",
       "      <td>45.3810</td>\n",
       "      <td>36.1724</td>\n",
       "      <td>29.6374</td>\n",
       "      <td>11.8343</td>\n",
       "      <td>0.0000</td>\n",
       "      <td>11.7070</td>\n",
       "      <td>24.3986</td>\n",
       "      <td>33.2293</td>\n",
       "      <td>53.9901</td>\n",
       "      <td>65.1442</td>\n",
       "      <td>...</td>\n",
       "      <td>663.9816</td>\n",
       "      <td>667.7355</td>\n",
       "      <td>677.4291</td>\n",
       "      <td>649.5007</td>\n",
       "      <td>647.7833</td>\n",
       "      <td>645.6820</td>\n",
       "      <td>642.1336</td>\n",
       "      <td>646.0700</td>\n",
       "      <td>653.3118</td>\n",
       "      <td>661.5280</td>\n",
       "    </tr>\n",
       "  </tbody>\n",
       "</table>\n",
       "<p>5 rows × 2418 columns</p>\n",
       "</div>"
      ],
      "text/plain": [
       "         0        1        2        3        4        5        6         7  \\\n",
       "0   0.0000  11.3769  20.4557  38.1227  45.3810  54.9915  78.6108  118.6750   \n",
       "1  11.3769   0.0000   9.0788  28.9141  36.1724  45.7829  69.4022   78.2329   \n",
       "2  20.4557   9.0788   0.0000  22.3791  29.6374  39.2478  62.8671   71.6979   \n",
       "3  38.1227  28.9141  22.3791   0.0000  11.8343  23.5413  41.8396   50.6703   \n",
       "4  45.3810  36.1724  29.6374  11.8343   0.0000  11.7070  24.3986   33.2293   \n",
       "\n",
       "          8         9  ...      2408      2409      2410      2411      2412  \\\n",
       "0  102.6639  113.4309  ...  683.8771  687.6310  697.3246  669.3962  667.6788   \n",
       "1   93.4553  111.1832  ...  681.6295  685.3833  695.0769  667.1485  665.4311   \n",
       "2   86.9203  111.7859  ...  682.2323  685.9861  695.6796  667.7513  666.0339   \n",
       "3   65.8927   82.5852  ...  681.4226  685.1765  694.8701  666.9417  665.2243   \n",
       "4   53.9901   65.1442  ...  663.9816  667.7355  677.4291  649.5007  647.7833   \n",
       "\n",
       "       2413      2414      2415      2416      2417  \n",
       "0  665.5775  662.0291  665.9655  673.2073  681.4235  \n",
       "1  663.3298  659.7815  663.7178  670.9596  679.1758  \n",
       "2  663.9326  660.3843  664.3206  671.5623  679.7786  \n",
       "3  663.1230  659.5746  663.5110  670.7528  678.9690  \n",
       "4  645.6820  642.1336  646.0700  653.3118  661.5280  \n",
       "\n",
       "[5 rows x 2418 columns]"
      ]
     },
     "execution_count": 667,
     "metadata": {},
     "output_type": "execute_result"
    }
   ],
   "source": [
    "distance_matrix.head()"
   ]
  },
  {
   "cell_type": "markdown",
   "metadata": {},
   "source": [
    "## Modelling"
   ]
  },
  {
   "cell_type": "code",
   "execution_count": 668,
   "metadata": {},
   "outputs": [],
   "source": [
    "year = '2018'"
   ]
  },
  {
   "cell_type": "markdown",
   "metadata": {},
   "source": [
    "### Get initial point with most density of biomass"
   ]
  },
  {
   "cell_type": "code",
   "execution_count": 669,
   "metadata": {},
   "outputs": [],
   "source": [
    "def get_most(column_name):\n",
    "    density=biomass_density[column_name]\n",
    "    return np.argmax(density)\n",
    "    "
   ]
  },
  {
   "cell_type": "markdown",
   "metadata": {},
   "source": [
    "### Get pobability based on biomass density"
   ]
  },
  {
   "cell_type": "code",
   "execution_count": 670,
   "metadata": {},
   "outputs": [],
   "source": [
    "k=10"
   ]
  },
  {
   "cell_type": "code",
   "execution_count": 671,
   "metadata": {},
   "outputs": [],
   "source": [
    "def set_prob_depots(density):\n",
    "    sum_density=sum(density)\n",
    "    prob=[x/sum_density for x in density]\n",
    "    return prob"
   ]
  },
  {
   "cell_type": "code",
   "execution_count": 672,
   "metadata": {},
   "outputs": [],
   "source": [
    "weights=set_prob_depots(biomass_density[year])"
   ]
  },
  {
   "cell_type": "code",
   "execution_count": 673,
   "metadata": {},
   "outputs": [],
   "source": [
    "def get_depots(k,column_name,weights):\n",
    "    depots=[]\n",
    "    while len(depots)!=k :\n",
    "        depots = np.random.choice(biomass_density[column_name].shape[0],size=k,p=weights)\n",
    "    return depots"
   ]
  },
  {
   "cell_type": "code",
   "execution_count": 674,
   "metadata": {},
   "outputs": [
    {
     "data": {
      "text/plain": [
       "2418"
      ]
     },
     "execution_count": 674,
     "metadata": {},
     "output_type": "execute_result"
    }
   ],
   "source": [
    "biomass_density[year].shape[0]"
   ]
  },
  {
   "cell_type": "code",
   "execution_count": 675,
   "metadata": {},
   "outputs": [],
   "source": [
    "depots = get_depots(k,year,weights)"
   ]
  },
  {
   "cell_type": "markdown",
   "metadata": {},
   "source": [
    "### Visualising Data"
   ]
  },
  {
   "cell_type": "code",
   "execution_count": 676,
   "metadata": {},
   "outputs": [],
   "source": [
    "def plot_depots(depots,clusters=None,refineries=None):\n",
    "    depots_location = biomass_density.loc[depots, [\"Latitude\", \"Longitude\"]]\n",
    "\n",
    "    latitudes = biomass_density[\"Latitude\"]\n",
    "    longitudes = biomass_density[\"Longitude\"]\n",
    "\n",
    "    # Create a scatter plot\n",
    "    plt.scatter(latitudes, longitudes,c=clusters)\n",
    "    if(refineries!=None):\n",
    "        refineries_location = biomass_density.loc[refineries, [\"Latitude\", \"Longitude\"]]\n",
    "        plt.scatter(refineries_location['Latitude'],refineries_location['Longitude'],marker='o', color='white')\n",
    "    \n",
    "    plt.scatter(depots_location[\"Latitude\"], depots_location[\"Longitude\"], marker='x', color='red')\n",
    "\n",
    "    # Add a title and labels\n",
    "    plt.title('Latitude and Longitude')\n",
    "    plt.xlabel('Latitude')\n",
    "    plt.ylabel('Longitude')\n",
    "\n",
    "    # Show the plot\n",
    "    plt.show()"
   ]
  },
  {
   "cell_type": "code",
   "execution_count": 677,
   "metadata": {},
   "outputs": [
    {
     "data": {
      "image/png": "[encoded data removed]",
      "text/plain": [
       "<Figure size 640x480 with 1 Axes>"
      ]
     },
     "metadata": {},
     "output_type": "display_data"
    }
   ],
   "source": [
    "plot_depots(depots)"
   ]
  },
  {
   "cell_type": "markdown",
   "metadata": {},
   "source": [
    "## Optimal clusters for depots"
   ]
  },
  {
   "cell_type": "code",
   "execution_count": 678,
   "metadata": {},
   "outputs": [],
   "source": [
    "def re_cluster_depots(k,X,depots):\n",
    "    belonging_to_cluster=np.array([])\n",
    "    for i in range(X.shape[0]):\n",
    "        distance=[distance_matrix.iloc[i,x] for x in depots]\n",
    "        belonging_to_cluster=np.append(belonging_to_cluster,np.argmin(distance))\n",
    "\n",
    "    depots = []\n",
    "    for i in range(k):\n",
    "        pseudo_coord = np.mean(X[belonging_to_cluster==i][['Latitude','Longitude']].to_numpy(),axis=0)\n",
    "        distance = [np.linalg.norm(pseudo_coord - x) for x in X[belonging_to_cluster==i][['Latitude','Longitude']].to_numpy()]\n",
    "        depots.append(X[belonging_to_cluster==i].iloc[np.argmin(distance),:].name)\n",
    "        \n",
    "    return depots,belonging_to_cluster"
   ]
  },
  {
   "cell_type": "code",
   "execution_count": 679,
   "metadata": {},
   "outputs": [
    {
     "name": "stdout",
     "output_type": "stream",
     "text": [
      "[1845, 1476, 991, 1470, 1916, 262, 590, 1998, 1258, 960]\n",
      "[1791, 1415, 929, 1469, 2029, 261, 528, 2100, 1324, 1020]\n",
      "[1791, 1349, 799, 1468, 2079, 219, 647, 2147, 1324, 1019]\n",
      "[1791, 1171, 732, 1531, 2079, 219, 646, 2148, 1324, 1020]\n",
      "[1791, 1117, 663, 1531, 2125, 218, 645, 2148, 1325, 1021]\n",
      "[1737, 1064, 663, 1531, 2125, 218, 645, 2148, 1391, 1021]\n",
      "[1736, 1064, 663, 1531, 2125, 218, 645, 2148, 1392, 1022]\n",
      "[1736, 1064, 601, 1531, 2125, 218, 645, 2148, 1393, 1022]\n",
      "[1682, 1064, 478, 1470, 2125, 219, 645, 2148, 1327, 1022]\n",
      "[1682, 1064, 422, 1407, 2125, 219, 645, 2148, 1328, 1022]\n",
      "[1682, 1064, 422, 1408, 2125, 219, 645, 2148, 1329, 1022]\n",
      "[1682, 1064, 372, 1408, 2125, 219, 645, 2148, 1263, 1022]\n",
      "[1682, 1064, 325, 1408, 2125, 219, 645, 2148, 1204, 1022]\n",
      "[1682, 1064, 325, 1408, 2125, 219, 645, 2148, 1205, 1022]\n",
      "[1683, 1064, 325, 1471, 2078, 219, 645, 2148, 1149, 1022]\n",
      "[1627, 1064, 325, 1532, 2077, 219, 645, 2148, 1094, 1022]\n",
      "[1627, 1064, 325, 1532, 2077, 219, 645, 2148, 1095, 1022]\n",
      "Convergence in : 17 iterations\n"
     ]
    }
   ],
   "source": [
    "count=0\n",
    "clusters=[]\n",
    "for _ in range(30):\n",
    "    prev=depots\n",
    "    depots,clusters=re_cluster_depots(k,biomass_density,depots)\n",
    "    if np.array_equal(prev,depots):\n",
    "        break\n",
    "    print(depots)\n",
    "    count+=1\n",
    "print(f\"Convergence in : {count} iterations\")"
   ]
  },
  {
   "cell_type": "code",
   "execution_count": 680,
   "metadata": {},
   "outputs": [
    {
     "data": {
      "image/png": "[encoded data removed]",
      "text/plain": [
       "<Figure size 640x480 with 1 Axes>"
      ]
     },
     "metadata": {},
     "output_type": "display_data"
    }
   ],
   "source": [
    "plot_depots(depots,clusters)"
   ]
  },
  {
   "cell_type": "markdown",
   "metadata": {},
   "source": [
    "## Finding refineries"
   ]
  },
  {
   "cell_type": "code",
   "execution_count": 681,
   "metadata": {},
   "outputs": [
    {
     "data": {
      "text/html": [
       "<div>\n",
       "<style scoped>\n",
       "    .dataframe tbody tr th:only-of-type {\n",
       "        vertical-align: middle;\n",
       "    }\n",
       "\n",
       "    .dataframe tbody tr th {\n",
       "        vertical-align: top;\n",
       "    }\n",
       "\n",
       "    .dataframe thead th {\n",
       "        text-align: right;\n",
       "    }\n",
       "</style>\n",
       "<table border=\"1\" class=\"dataframe\">\n",
       "  <thead>\n",
       "    <tr style=\"text-align: right;\">\n",
       "      <th></th>\n",
       "      <th>Latitude</th>\n",
       "      <th>Longitude</th>\n",
       "      <th>2010</th>\n",
       "      <th>2011</th>\n",
       "      <th>2012</th>\n",
       "      <th>2013</th>\n",
       "      <th>2014</th>\n",
       "      <th>2015</th>\n",
       "      <th>2016</th>\n",
       "      <th>2017</th>\n",
       "      <th>2018</th>\n",
       "      <th>2019</th>\n",
       "    </tr>\n",
       "  </thead>\n",
       "  <tbody>\n",
       "    <tr>\n",
       "      <th>0</th>\n",
       "      <td>24.66818</td>\n",
       "      <td>71.33144</td>\n",
       "      <td>0.212466</td>\n",
       "      <td>0.225726</td>\n",
       "      <td>0.219358</td>\n",
       "      <td>0.169677</td>\n",
       "      <td>0.231301</td>\n",
       "      <td>0.205046</td>\n",
       "      <td>0.243113</td>\n",
       "      <td>0.180307</td>\n",
       "      <td>0.199934</td>\n",
       "      <td>0.502740</td>\n",
       "    </tr>\n",
       "    <tr>\n",
       "      <th>1</th>\n",
       "      <td>24.66818</td>\n",
       "      <td>71.41106</td>\n",
       "      <td>0.300711</td>\n",
       "      <td>0.333306</td>\n",
       "      <td>0.309579</td>\n",
       "      <td>0.259861</td>\n",
       "      <td>0.340509</td>\n",
       "      <td>0.328613</td>\n",
       "      <td>0.428428</td>\n",
       "      <td>0.362593</td>\n",
       "      <td>0.334189</td>\n",
       "      <td>0.518164</td>\n",
       "    </tr>\n",
       "    <tr>\n",
       "      <th>2</th>\n",
       "      <td>24.66818</td>\n",
       "      <td>71.49069</td>\n",
       "      <td>0.370192</td>\n",
       "      <td>0.440955</td>\n",
       "      <td>0.402816</td>\n",
       "      <td>0.350319</td>\n",
       "      <td>0.433291</td>\n",
       "      <td>0.380620</td>\n",
       "      <td>0.486443</td>\n",
       "      <td>0.435923</td>\n",
       "      <td>0.397611</td>\n",
       "      <td>0.511109</td>\n",
       "    </tr>\n",
       "    <tr>\n",
       "      <th>3</th>\n",
       "      <td>24.66818</td>\n",
       "      <td>71.57031</td>\n",
       "      <td>0.407901</td>\n",
       "      <td>0.471496</td>\n",
       "      <td>0.449079</td>\n",
       "      <td>0.371401</td>\n",
       "      <td>0.475138</td>\n",
       "      <td>0.449872</td>\n",
       "      <td>0.525324</td>\n",
       "      <td>0.485404</td>\n",
       "      <td>0.437328</td>\n",
       "      <td>0.541641</td>\n",
       "    </tr>\n",
       "    <tr>\n",
       "      <th>4</th>\n",
       "      <td>24.66818</td>\n",
       "      <td>71.64994</td>\n",
       "      <td>0.255002</td>\n",
       "      <td>0.292657</td>\n",
       "      <td>0.292995</td>\n",
       "      <td>0.243953</td>\n",
       "      <td>0.281919</td>\n",
       "      <td>0.291840</td>\n",
       "      <td>0.317984</td>\n",
       "      <td>0.309058</td>\n",
       "      <td>0.257460</td>\n",
       "      <td>0.509233</td>\n",
       "    </tr>\n",
       "    <tr>\n",
       "      <th>...</th>\n",
       "      <td>...</td>\n",
       "      <td>...</td>\n",
       "      <td>...</td>\n",
       "      <td>...</td>\n",
       "      <td>...</td>\n",
       "      <td>...</td>\n",
       "      <td>...</td>\n",
       "      <td>...</td>\n",
       "      <td>...</td>\n",
       "      <td>...</td>\n",
       "      <td>...</td>\n",
       "      <td>...</td>\n",
       "    </tr>\n",
       "    <tr>\n",
       "      <th>2413</th>\n",
       "      <td>20.15456</td>\n",
       "      <td>72.84432</td>\n",
       "      <td>0.180534</td>\n",
       "      <td>0.180260</td>\n",
       "      <td>0.170496</td>\n",
       "      <td>0.129193</td>\n",
       "      <td>0.180347</td>\n",
       "      <td>0.190154</td>\n",
       "      <td>0.231986</td>\n",
       "      <td>0.181932</td>\n",
       "      <td>0.177813</td>\n",
       "      <td>0.534950</td>\n",
       "    </tr>\n",
       "    <tr>\n",
       "      <th>2414</th>\n",
       "      <td>20.15456</td>\n",
       "      <td>72.92394</td>\n",
       "      <td>0.051700</td>\n",
       "      <td>0.054713</td>\n",
       "      <td>0.048782</td>\n",
       "      <td>0.044817</td>\n",
       "      <td>0.051860</td>\n",
       "      <td>0.054145</td>\n",
       "      <td>0.065674</td>\n",
       "      <td>0.051462</td>\n",
       "      <td>0.048789</td>\n",
       "      <td>0.564789</td>\n",
       "    </tr>\n",
       "    <tr>\n",
       "      <th>2415</th>\n",
       "      <td>20.15456</td>\n",
       "      <td>73.00357</td>\n",
       "      <td>0.035414</td>\n",
       "      <td>0.037422</td>\n",
       "      <td>0.033379</td>\n",
       "      <td>0.030625</td>\n",
       "      <td>0.035525</td>\n",
       "      <td>0.037108</td>\n",
       "      <td>0.044995</td>\n",
       "      <td>0.035245</td>\n",
       "      <td>0.034098</td>\n",
       "      <td>0.564997</td>\n",
       "    </tr>\n",
       "    <tr>\n",
       "      <th>2416</th>\n",
       "      <td>20.15456</td>\n",
       "      <td>73.08319</td>\n",
       "      <td>0.145447</td>\n",
       "      <td>0.121111</td>\n",
       "      <td>0.097915</td>\n",
       "      <td>0.099246</td>\n",
       "      <td>0.114721</td>\n",
       "      <td>0.119751</td>\n",
       "      <td>0.145269</td>\n",
       "      <td>0.113851</td>\n",
       "      <td>0.120770</td>\n",
       "      <td>0.528472</td>\n",
       "    </tr>\n",
       "    <tr>\n",
       "      <th>2417</th>\n",
       "      <td>20.15456</td>\n",
       "      <td>73.16282</td>\n",
       "      <td>0.088909</td>\n",
       "      <td>0.067580</td>\n",
       "      <td>0.050551</td>\n",
       "      <td>0.055369</td>\n",
       "      <td>0.064035</td>\n",
       "      <td>0.066849</td>\n",
       "      <td>0.081089</td>\n",
       "      <td>0.063546</td>\n",
       "      <td>0.068042</td>\n",
       "      <td>0.549662</td>\n",
       "    </tr>\n",
       "  </tbody>\n",
       "</table>\n",
       "<p>2418 rows × 12 columns</p>\n",
       "</div>"
      ],
      "text/plain": [
       "      Latitude  Longitude      2010      2011      2012      2013      2014  \\\n",
       "0     24.66818   71.33144  0.212466  0.225726  0.219358  0.169677  0.231301   \n",
       "1     24.66818   71.41106  0.300711  0.333306  0.309579  0.259861  0.340509   \n",
       "2     24.66818   71.49069  0.370192  0.440955  0.402816  0.350319  0.433291   \n",
       "3     24.66818   71.57031  0.407901  0.471496  0.449079  0.371401  0.475138   \n",
       "4     24.66818   71.64994  0.255002  0.292657  0.292995  0.243953  0.281919   \n",
       "...        ...        ...       ...       ...       ...       ...       ...   \n",
       "2413  20.15456   72.84432  0.180534  0.180260  0.170496  0.129193  0.180347   \n",
       "2414  20.15456   72.92394  0.051700  0.054713  0.048782  0.044817  0.051860   \n",
       "2415  20.15456   73.00357  0.035414  0.037422  0.033379  0.030625  0.035525   \n",
       "2416  20.15456   73.08319  0.145447  0.121111  0.097915  0.099246  0.114721   \n",
       "2417  20.15456   73.16282  0.088909  0.067580  0.050551  0.055369  0.064035   \n",
       "\n",
       "          2015      2016      2017      2018      2019  \n",
       "0     0.205046  0.243113  0.180307  0.199934  0.502740  \n",
       "1     0.328613  0.428428  0.362593  0.334189  0.518164  \n",
       "2     0.380620  0.486443  0.435923  0.397611  0.511109  \n",
       "3     0.449872  0.525324  0.485404  0.437328  0.541641  \n",
       "4     0.291840  0.317984  0.309058  0.257460  0.509233  \n",
       "...        ...       ...       ...       ...       ...  \n",
       "2413  0.190154  0.231986  0.181932  0.177813  0.534950  \n",
       "2414  0.054145  0.065674  0.051462  0.048789  0.564789  \n",
       "2415  0.037108  0.044995  0.035245  0.034098  0.564997  \n",
       "2416  0.119751  0.145269  0.113851  0.120770  0.528472  \n",
       "2417  0.066849  0.081089  0.063546  0.068042  0.549662  \n",
       "\n",
       "[2418 rows x 12 columns]"
      ]
     },
     "execution_count": 681,
     "metadata": {},
     "output_type": "execute_result"
    }
   ],
   "source": [
    "biomass_density"
   ]
  },
  {
   "cell_type": "code",
   "execution_count": 682,
   "metadata": {},
   "outputs": [],
   "source": [
    "def biomass_per_depot(k,clusters,year):\n",
    "    biomass=[]\n",
    "    for i in range(k):\n",
    "        biomass.append(sum(biomass_density[clusters==i][year]))\n",
    "    return biomass"
   ]
  },
  {
   "cell_type": "code",
   "execution_count": 683,
   "metadata": {},
   "outputs": [
    {
     "data": {
      "text/plain": [
       "[105.46013635099996,\n",
       " 154.1325345699999,\n",
       " 31.11820872199999,\n",
       " 124.05940918500004,\n",
       " 159.5907873419999,\n",
       " 180.71343814099995,\n",
       " 40.04877364029997,\n",
       " 135.32034441499997,\n",
       " 149.70747115000006,\n",
       " 94.742541627]"
      ]
     },
     "execution_count": 683,
     "metadata": {},
     "output_type": "execute_result"
    }
   ],
   "source": [
    "biomass_per_depot=biomass_per_depot(k,clusters,year)\n",
    "biomass_per_depot"
   ]
  },
  {
   "cell_type": "code",
   "execution_count": 684,
   "metadata": {},
   "outputs": [
    {
     "data": {
      "text/plain": [
       "[1627, 1064, 325, 1532, 2077, 219, 645, 2148, 1095, 1022]"
      ]
     },
     "execution_count": 684,
     "metadata": {},
     "output_type": "execute_result"
    }
   ],
   "source": [
    "depots"
   ]
  },
  {
   "cell_type": "code",
   "execution_count": 685,
   "metadata": {},
   "outputs": [],
   "source": [
    "r=5"
   ]
  },
  {
   "cell_type": "code",
   "execution_count": 686,
   "metadata": {},
   "outputs": [],
   "source": [
    "def set_prob_ref(density):\n",
    "    sum_density = sum(density)\n",
    "    prob = [x/sum_density for x in density]\n",
    "    return prob"
   ]
  },
  {
   "cell_type": "code",
   "execution_count": 687,
   "metadata": {},
   "outputs": [
    {
     "data": {
      "text/plain": [
       "[0.08976143226831154,\n",
       " 0.13118849966304874,\n",
       " 0.026485979263429035,\n",
       " 0.10559203354093273,\n",
       " 0.13583424167941166,\n",
       " 0.15381259307003795,\n",
       " 0.03408714806301917,\n",
       " 0.11517667575646404,\n",
       " 0.12742214733125098,\n",
       " 0.08063924936409406]"
      ]
     },
     "execution_count": 687,
     "metadata": {},
     "output_type": "execute_result"
    }
   ],
   "source": [
    "weights=set_prob_ref(biomass_per_depot)\n",
    "weights"
   ]
  },
  {
   "cell_type": "code",
   "execution_count": 688,
   "metadata": {},
   "outputs": [],
   "source": [
    "def get_refineries(r,depots,weights):\n",
    "    if len(weights)<r:\n",
    "        r = len(weights)\n",
    "    refineries_index = np.random.choice(len(weights),size=r,p=weights)\n",
    "    refineries = []\n",
    "    for i in refineries_index:\n",
    "        refineries.append(depots[i])\n",
    "    return refineries"
   ]
  },
  {
   "cell_type": "code",
   "execution_count": 689,
   "metadata": {},
   "outputs": [
    {
     "data": {
      "text/plain": [
       "[1064, 219, 2077, 2077, 2148]"
      ]
     },
     "execution_count": 689,
     "metadata": {},
     "output_type": "execute_result"
    }
   ],
   "source": [
    "refineries = get_refineries(r,depots,weights)\n",
    "refineries"
   ]
  },
  {
   "cell_type": "markdown",
   "metadata": {},
   "source": [
    "## Optimal clusters for refineries"
   ]
  },
  {
   "cell_type": "code",
   "execution_count": 690,
   "metadata": {},
   "outputs": [],
   "source": [
    "def re_cluster_refineries(r,X,refineries):\n",
    "    belonging_to_cluster=np.array([])\n",
    "    for i in X:\n",
    "        distance = [distance_matrix.iloc[i,x] for x in refineries]\n",
    "        belonging_to_cluster = np.append(belonging_to_cluster,np.argmin(distance))\n",
    "    \n",
    "    X=np.array(X)\n",
    "    refineries = []\n",
    "    for i in range(r):\n",
    "        pseudo_coord = np.mean(biomass_density.iloc[X[belonging_to_cluster==i],[0,1]].to_numpy(),axis=0)\n",
    "        distance = [np.linalg.norm(pseudo_coord - x) for x in biomass_density.iloc[:,[0,1]].to_numpy()]\n",
    "        refineries.append(biomass_density.iloc[np.argmin(distance),:].name)\n",
    "    return refineries,belonging_to_cluster"
   ]
  },
  {
   "cell_type": "code",
   "execution_count": 691,
   "metadata": {},
   "outputs": [
    {
     "name": "stdout",
     "output_type": "stream",
     "text": [
      "[1015, 372, 1581, 0, 2148]\n",
      "[1015, 470, 1581, 219, 2148]\n",
      "Convergence in : 2 iterations\n"
     ]
    },
    {
     "name": "stderr",
     "output_type": "stream",
     "text": [
      "/home/nailsonseat/anaconda3/envs/shell/lib/python3.9/site-packages/numpy/core/fromnumeric.py:3464: RuntimeWarning: Mean of empty slice.\n",
      "  return _methods._mean(a, axis=axis, dtype=dtype,\n",
      "/home/nailsonseat/anaconda3/envs/shell/lib/python3.9/site-packages/numpy/core/_methods.py:184: RuntimeWarning: invalid value encountered in divide\n",
      "  ret = um.true_divide(\n"
     ]
    }
   ],
   "source": [
    "count=0\n",
    "clusters_depots=[]\n",
    "for _ in range(30):\n",
    "    prev=refineries\n",
    "    refineries,clusters_depots=re_cluster_refineries(r,depots,refineries)\n",
    "    if np.array_equal(prev,refineries):\n",
    "        break\n",
    "    print(refineries)\n",
    "    count+=1\n",
    "print(f\"Convergence in : {count} iterations\")"
   ]
  },
  {
   "cell_type": "code",
   "execution_count": 692,
   "metadata": {},
   "outputs": [
    {
     "data": {
      "text/plain": [
       "[1015, 470, 1581, 219, 2148]"
      ]
     },
     "execution_count": 692,
     "metadata": {},
     "output_type": "execute_result"
    }
   ],
   "source": [
    "refineries"
   ]
  },
  {
   "cell_type": "code",
   "execution_count": 693,
   "metadata": {},
   "outputs": [
    {
     "data": {
      "image/png": "[encoded data removed]",
      "text/plain": [
       "<Figure size 640x480 with 1 Axes>"
      ]
     },
     "metadata": {},
     "output_type": "display_data"
    }
   ],
   "source": [
    "plot_depots(depots,clusters,refineries)"
   ]
  },
  {
   "cell_type": "code",
   "execution_count": null,
   "metadata": {},
   "outputs": [],
   "source": []
  }
 ],
 "metadata": {
  "kernelspec": {
   "display_name": "shell",
   "language": "python",
   "name": "python3"
  },
  "language_info": {
   "codemirror_mode": {
    "name": "ipython",
    "version": 3
   },
   "file_extension": ".py",
   "mimetype": "text/x-python",
   "name": "python",
   "nbconvert_exporter": "python",
   "pygments_lexer": "ipython3",
   "version": "3.9.17"
  },
  "orig_nbformat": 4
 },
 "nbformat": 4,
 "nbformat_minor": 2
}
