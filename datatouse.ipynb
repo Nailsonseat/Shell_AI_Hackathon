{
 "cells": [
  {
   "cell_type": "markdown",
   "metadata": {},
   "source": [
    "Imports"
   ]
  },
  {
   "cell_type": "code",
   "execution_count": 5,
   "metadata": {},
   "outputs": [],
   "source": [
    "from statsmodels.tsa.arima.model import ARIMA\n",
    "from tensorflow import keras\n",
    "import numpy as np"
   ]
  },
  {
   "cell_type": "code",
   "execution_count": 6,
   "metadata": {},
   "outputs": [],
   "source": [
    "from sklearn.model_selection import train_test_split"
   ]
  },
  {
   "cell_type": "code",
   "execution_count": 7,
   "metadata": {},
   "outputs": [],
   "source": [
    "import pandas as pd\n",
    "import matplotlib.pyplot as plt"
   ]
  },
  {
   "cell_type": "code",
   "execution_count": 8,
   "metadata": {},
   "outputs": [],
   "source": [
    "import warnings\n",
    "warnings.filterwarnings(\"ignore\")"
   ]
  },
  {
   "cell_type": "markdown",
   "metadata": {},
   "source": [
    "#### Data Loading"
   ]
  },
  {
   "cell_type": "code",
   "execution_count": 9,
   "metadata": {},
   "outputs": [],
   "source": [
    "%store -r scaled_distances\n",
    "%store -r biomass_history_scaled"
   ]
  },
  {
   "cell_type": "code",
   "execution_count": 10,
   "metadata": {},
   "outputs": [],
   "source": [
    "biomass_history_unscaled = pd.read_csv(r\"C:\\Users\\parul\\OneDrive\\Desktop\\Projects\\ShellAI\\Shell_AI_Hackathon\\dataset\\Biomass_History.csv\")"
   ]
  },
  {
   "cell_type": "code",
   "execution_count": 11,
   "metadata": {},
   "outputs": [
    {
     "data": {
      "text/html": [
       "<div>\n",
       "<style scoped>\n",
       "    .dataframe tbody tr th:only-of-type {\n",
       "        vertical-align: middle;\n",
       "    }\n",
       "\n",
       "    .dataframe tbody tr th {\n",
       "        vertical-align: top;\n",
       "    }\n",
       "\n",
       "    .dataframe thead th {\n",
       "        text-align: right;\n",
       "    }\n",
       "</style>\n",
       "<table border=\"1\" class=\"dataframe\">\n",
       "  <thead>\n",
       "    <tr style=\"text-align: right;\">\n",
       "      <th></th>\n",
       "      <th>Index</th>\n",
       "      <th>Latitude</th>\n",
       "      <th>Longitude</th>\n",
       "      <th>2010</th>\n",
       "      <th>2011</th>\n",
       "      <th>2012</th>\n",
       "      <th>2013</th>\n",
       "      <th>2014</th>\n",
       "      <th>2015</th>\n",
       "      <th>2016</th>\n",
       "      <th>2017</th>\n",
       "    </tr>\n",
       "  </thead>\n",
       "  <tbody>\n",
       "    <tr>\n",
       "      <th>0</th>\n",
       "      <td>0</td>\n",
       "      <td>24.66818</td>\n",
       "      <td>71.33144</td>\n",
       "      <td>8.475744</td>\n",
       "      <td>8.868568</td>\n",
       "      <td>9.202181</td>\n",
       "      <td>6.023070</td>\n",
       "      <td>10.788374</td>\n",
       "      <td>6.647325</td>\n",
       "      <td>7.387925</td>\n",
       "      <td>5.180296</td>\n",
       "    </tr>\n",
       "    <tr>\n",
       "      <th>1</th>\n",
       "      <td>1</td>\n",
       "      <td>24.66818</td>\n",
       "      <td>71.41106</td>\n",
       "      <td>24.029778</td>\n",
       "      <td>28.551348</td>\n",
       "      <td>25.866415</td>\n",
       "      <td>21.634459</td>\n",
       "      <td>34.419411</td>\n",
       "      <td>27.361908</td>\n",
       "      <td>40.431847</td>\n",
       "      <td>42.126945</td>\n",
       "    </tr>\n",
       "    <tr>\n",
       "      <th>2</th>\n",
       "      <td>2</td>\n",
       "      <td>24.66818</td>\n",
       "      <td>71.49069</td>\n",
       "      <td>44.831635</td>\n",
       "      <td>66.111168</td>\n",
       "      <td>56.982258</td>\n",
       "      <td>53.003735</td>\n",
       "      <td>70.917908</td>\n",
       "      <td>42.517117</td>\n",
       "      <td>59.181629</td>\n",
       "      <td>73.203232</td>\n",
       "    </tr>\n",
       "    <tr>\n",
       "      <th>3</th>\n",
       "      <td>3</td>\n",
       "      <td>24.66818</td>\n",
       "      <td>71.57031</td>\n",
       "      <td>59.974419</td>\n",
       "      <td>80.821304</td>\n",
       "      <td>78.956543</td>\n",
       "      <td>63.160561</td>\n",
       "      <td>93.513924</td>\n",
       "      <td>70.203171</td>\n",
       "      <td>74.536720</td>\n",
       "      <td>101.067352</td>\n",
       "    </tr>\n",
       "    <tr>\n",
       "      <th>4</th>\n",
       "      <td>4</td>\n",
       "      <td>24.66818</td>\n",
       "      <td>71.64994</td>\n",
       "      <td>14.653370</td>\n",
       "      <td>19.327524</td>\n",
       "      <td>21.928144</td>\n",
       "      <td>17.899586</td>\n",
       "      <td>19.534035</td>\n",
       "      <td>19.165791</td>\n",
       "      <td>16.531315</td>\n",
       "      <td>26.086885</td>\n",
       "    </tr>\n",
       "  </tbody>\n",
       "</table>\n",
       "</div>"
      ],
      "text/plain": [
       "   Index  Latitude  Longitude       2010       2011       2012       2013  \\\n",
       "0      0  24.66818   71.33144   8.475744   8.868568   9.202181   6.023070   \n",
       "1      1  24.66818   71.41106  24.029778  28.551348  25.866415  21.634459   \n",
       "2      2  24.66818   71.49069  44.831635  66.111168  56.982258  53.003735   \n",
       "3      3  24.66818   71.57031  59.974419  80.821304  78.956543  63.160561   \n",
       "4      4  24.66818   71.64994  14.653370  19.327524  21.928144  17.899586   \n",
       "\n",
       "        2014       2015       2016        2017  \n",
       "0  10.788374   6.647325   7.387925    5.180296  \n",
       "1  34.419411  27.361908  40.431847   42.126945  \n",
       "2  70.917908  42.517117  59.181629   73.203232  \n",
       "3  93.513924  70.203171  74.536720  101.067352  \n",
       "4  19.534035  19.165791  16.531315   26.086885  "
      ]
     },
     "execution_count": 11,
     "metadata": {},
     "output_type": "execute_result"
    }
   ],
   "source": [
    "biomass_history_unscaled.head()"
   ]
  },
  {
   "cell_type": "code",
   "execution_count": 12,
   "metadata": {},
   "outputs": [],
   "source": [
    "biomass_history_scaled = biomass_history_scaled.drop([\"Index\"], axis = 1)\n",
    "biomass_history_unscaled = biomass_history_unscaled.drop([\"Index\"], axis = 1)"
   ]
  },
  {
   "cell_type": "code",
   "execution_count": 13,
   "metadata": {},
   "outputs": [
    {
     "data": {
      "text/html": [
       "<div>\n",
       "<style scoped>\n",
       "    .dataframe tbody tr th:only-of-type {\n",
       "        vertical-align: middle;\n",
       "    }\n",
       "\n",
       "    .dataframe tbody tr th {\n",
       "        vertical-align: top;\n",
       "    }\n",
       "\n",
       "    .dataframe thead th {\n",
       "        text-align: right;\n",
       "    }\n",
       "</style>\n",
       "<table border=\"1\" class=\"dataframe\">\n",
       "  <thead>\n",
       "    <tr style=\"text-align: right;\">\n",
       "      <th></th>\n",
       "      <th>2010</th>\n",
       "      <th>2011</th>\n",
       "      <th>2012</th>\n",
       "      <th>2013</th>\n",
       "      <th>2014</th>\n",
       "      <th>2015</th>\n",
       "      <th>2016</th>\n",
       "      <th>2017</th>\n",
       "      <th>Latitude</th>\n",
       "      <th>Longitude</th>\n",
       "    </tr>\n",
       "  </thead>\n",
       "  <tbody>\n",
       "    <tr>\n",
       "      <th>0</th>\n",
       "      <td>0.009591</td>\n",
       "      <td>0.011501</td>\n",
       "      <td>0.010555</td>\n",
       "      <td>0.004885</td>\n",
       "      <td>0.012375</td>\n",
       "      <td>0.008621</td>\n",
       "      <td>0.014369</td>\n",
       "      <td>0.005862</td>\n",
       "      <td>24.66818</td>\n",
       "      <td>71.33144</td>\n",
       "    </tr>\n",
       "    <tr>\n",
       "      <th>1</th>\n",
       "      <td>0.027192</td>\n",
       "      <td>0.037028</td>\n",
       "      <td>0.029670</td>\n",
       "      <td>0.017548</td>\n",
       "      <td>0.039481</td>\n",
       "      <td>0.035486</td>\n",
       "      <td>0.078638</td>\n",
       "      <td>0.047671</td>\n",
       "      <td>24.66818</td>\n",
       "      <td>71.41106</td>\n",
       "    </tr>\n",
       "    <tr>\n",
       "      <th>2</th>\n",
       "      <td>0.050732</td>\n",
       "      <td>0.085740</td>\n",
       "      <td>0.065361</td>\n",
       "      <td>0.042992</td>\n",
       "      <td>0.081346</td>\n",
       "      <td>0.055141</td>\n",
       "      <td>0.115106</td>\n",
       "      <td>0.082838</td>\n",
       "      <td>24.66818</td>\n",
       "      <td>71.49069</td>\n",
       "    </tr>\n",
       "    <tr>\n",
       "      <th>3</th>\n",
       "      <td>0.067868</td>\n",
       "      <td>0.104818</td>\n",
       "      <td>0.090567</td>\n",
       "      <td>0.051231</td>\n",
       "      <td>0.107265</td>\n",
       "      <td>0.091047</td>\n",
       "      <td>0.144971</td>\n",
       "      <td>0.114369</td>\n",
       "      <td>24.66818</td>\n",
       "      <td>71.57031</td>\n",
       "    </tr>\n",
       "    <tr>\n",
       "      <th>4</th>\n",
       "      <td>0.016582</td>\n",
       "      <td>0.025066</td>\n",
       "      <td>0.025152</td>\n",
       "      <td>0.014518</td>\n",
       "      <td>0.022406</td>\n",
       "      <td>0.024856</td>\n",
       "      <td>0.032152</td>\n",
       "      <td>0.029520</td>\n",
       "      <td>24.66818</td>\n",
       "      <td>71.64994</td>\n",
       "    </tr>\n",
       "  </tbody>\n",
       "</table>\n",
       "</div>"
      ],
      "text/plain": [
       "       2010      2011      2012      2013      2014      2015      2016  \\\n",
       "0  0.009591  0.011501  0.010555  0.004885  0.012375  0.008621  0.014369   \n",
       "1  0.027192  0.037028  0.029670  0.017548  0.039481  0.035486  0.078638   \n",
       "2  0.050732  0.085740  0.065361  0.042992  0.081346  0.055141  0.115106   \n",
       "3  0.067868  0.104818  0.090567  0.051231  0.107265  0.091047  0.144971   \n",
       "4  0.016582  0.025066  0.025152  0.014518  0.022406  0.024856  0.032152   \n",
       "\n",
       "       2017  Latitude  Longitude  \n",
       "0  0.005862  24.66818   71.33144  \n",
       "1  0.047671  24.66818   71.41106  \n",
       "2  0.082838  24.66818   71.49069  \n",
       "3  0.114369  24.66818   71.57031  \n",
       "4  0.029520  24.66818   71.64994  "
      ]
     },
     "execution_count": 13,
     "metadata": {},
     "output_type": "execute_result"
    }
   ],
   "source": [
    "biomass_history_scaled.head()"
   ]
  },
  {
   "cell_type": "code",
   "execution_count": 14,
   "metadata": {},
   "outputs": [
    {
     "data": {
      "text/html": [
       "<div>\n",
       "<style scoped>\n",
       "    .dataframe tbody tr th:only-of-type {\n",
       "        vertical-align: middle;\n",
       "    }\n",
       "\n",
       "    .dataframe tbody tr th {\n",
       "        vertical-align: top;\n",
       "    }\n",
       "\n",
       "    .dataframe thead th {\n",
       "        text-align: right;\n",
       "    }\n",
       "</style>\n",
       "<table border=\"1\" class=\"dataframe\">\n",
       "  <thead>\n",
       "    <tr style=\"text-align: right;\">\n",
       "      <th></th>\n",
       "      <th>Latitude</th>\n",
       "      <th>Longitude</th>\n",
       "      <th>2010</th>\n",
       "      <th>2011</th>\n",
       "      <th>2012</th>\n",
       "      <th>2013</th>\n",
       "      <th>2014</th>\n",
       "      <th>2015</th>\n",
       "      <th>2016</th>\n",
       "      <th>2017</th>\n",
       "    </tr>\n",
       "  </thead>\n",
       "  <tbody>\n",
       "    <tr>\n",
       "      <th>0</th>\n",
       "      <td>24.66818</td>\n",
       "      <td>71.33144</td>\n",
       "      <td>8.475744</td>\n",
       "      <td>8.868568</td>\n",
       "      <td>9.202181</td>\n",
       "      <td>6.023070</td>\n",
       "      <td>10.788374</td>\n",
       "      <td>6.647325</td>\n",
       "      <td>7.387925</td>\n",
       "      <td>5.180296</td>\n",
       "    </tr>\n",
       "    <tr>\n",
       "      <th>1</th>\n",
       "      <td>24.66818</td>\n",
       "      <td>71.41106</td>\n",
       "      <td>24.029778</td>\n",
       "      <td>28.551348</td>\n",
       "      <td>25.866415</td>\n",
       "      <td>21.634459</td>\n",
       "      <td>34.419411</td>\n",
       "      <td>27.361908</td>\n",
       "      <td>40.431847</td>\n",
       "      <td>42.126945</td>\n",
       "    </tr>\n",
       "    <tr>\n",
       "      <th>2</th>\n",
       "      <td>24.66818</td>\n",
       "      <td>71.49069</td>\n",
       "      <td>44.831635</td>\n",
       "      <td>66.111168</td>\n",
       "      <td>56.982258</td>\n",
       "      <td>53.003735</td>\n",
       "      <td>70.917908</td>\n",
       "      <td>42.517117</td>\n",
       "      <td>59.181629</td>\n",
       "      <td>73.203232</td>\n",
       "    </tr>\n",
       "    <tr>\n",
       "      <th>3</th>\n",
       "      <td>24.66818</td>\n",
       "      <td>71.57031</td>\n",
       "      <td>59.974419</td>\n",
       "      <td>80.821304</td>\n",
       "      <td>78.956543</td>\n",
       "      <td>63.160561</td>\n",
       "      <td>93.513924</td>\n",
       "      <td>70.203171</td>\n",
       "      <td>74.536720</td>\n",
       "      <td>101.067352</td>\n",
       "    </tr>\n",
       "    <tr>\n",
       "      <th>4</th>\n",
       "      <td>24.66818</td>\n",
       "      <td>71.64994</td>\n",
       "      <td>14.653370</td>\n",
       "      <td>19.327524</td>\n",
       "      <td>21.928144</td>\n",
       "      <td>17.899586</td>\n",
       "      <td>19.534035</td>\n",
       "      <td>19.165791</td>\n",
       "      <td>16.531315</td>\n",
       "      <td>26.086885</td>\n",
       "    </tr>\n",
       "  </tbody>\n",
       "</table>\n",
       "</div>"
      ],
      "text/plain": [
       "   Latitude  Longitude       2010       2011       2012       2013       2014  \\\n",
       "0  24.66818   71.33144   8.475744   8.868568   9.202181   6.023070  10.788374   \n",
       "1  24.66818   71.41106  24.029778  28.551348  25.866415  21.634459  34.419411   \n",
       "2  24.66818   71.49069  44.831635  66.111168  56.982258  53.003735  70.917908   \n",
       "3  24.66818   71.57031  59.974419  80.821304  78.956543  63.160561  93.513924   \n",
       "4  24.66818   71.64994  14.653370  19.327524  21.928144  17.899586  19.534035   \n",
       "\n",
       "        2015       2016        2017  \n",
       "0   6.647325   7.387925    5.180296  \n",
       "1  27.361908  40.431847   42.126945  \n",
       "2  42.517117  59.181629   73.203232  \n",
       "3  70.203171  74.536720  101.067352  \n",
       "4  19.165791  16.531315   26.086885  "
      ]
     },
     "execution_count": 14,
     "metadata": {},
     "output_type": "execute_result"
    }
   ],
   "source": [
    "biomass_history_unscaled.head()"
   ]
  },
  {
   "cell_type": "code",
   "execution_count": 15,
   "metadata": {},
   "outputs": [],
   "source": [
    "location = biomass_history_scaled[[\"Latitude\", \"Longitude\"]]\n",
    "time_series_data_scaled = biomass_history_scaled.iloc[:,:7]\n",
    "y_time_series_data_scaled = biomass_history_scaled[[\"2017\"]]"
   ]
  },
  {
   "cell_type": "code",
   "execution_count": 16,
   "metadata": {},
   "outputs": [],
   "source": [
    "time_series_data_unscaled = biomass_history_unscaled.iloc[:,2:9]\n",
    "y_time_series_data_unscaled = biomass_history_unscaled[[\"2017\"]]"
   ]
  },
  {
   "cell_type": "markdown",
   "metadata": {},
   "source": [
    "#### Data exploration"
   ]
  },
  {
   "cell_type": "code",
   "execution_count": 17,
   "metadata": {},
   "outputs": [
    {
     "name": "stderr",
     "output_type": "stream",
     "text": [
      "No artists with labels found to put in legend.  Note that artists whose label start with an underscore are ignored when legend() is called with no argument.\n"
     ]
    },
    {
     "data": {
      "image/png": "[encoded data removed]",
      "text/plain": [
       "<Figure size 640x480 with 1 Axes>"
      ]
     },
     "metadata": {},
     "output_type": "display_data"
    }
   ],
   "source": [
    "# Extract the years from the column names\n",
    "years = biomass_history_scaled.columns[2:9]\n",
    "i = 0\n",
    "# Loop through each row and plot the values against years\n",
    "for index, row in biomass_history_scaled.iterrows():\n",
    "    plt.plot(years, row[:7])\n",
    "    i += 1\n",
    "    if i == 6:\n",
    "        break\n",
    "\n",
    "# Customize the plot\n",
    "plt.xlabel('Year')\n",
    "plt.ylabel('Value')\n",
    "plt.title('Data Plot of scaled datapoints')\n",
    "plt.legend()\n",
    "plt.xticks(rotation=45)\n",
    "\n",
    "# Show the plot\n",
    "plt.tight_layout()\n",
    "plt.show()"
   ]
  },
  {
   "cell_type": "code",
   "execution_count": 18,
   "metadata": {},
   "outputs": [
    {
     "name": "stderr",
     "output_type": "stream",
     "text": [
      "No artists with labels found to put in legend.  Note that artists whose label start with an underscore are ignored when legend() is called with no argument.\n"
     ]
    },
    {
     "data": {
      "image/png": "[encoded data removed]",
      "text/plain": [
       "<Figure size 640x480 with 1 Axes>"
      ]
     },
     "metadata": {},
     "output_type": "display_data"
    }
   ],
   "source": [
    "# Extract the years from the column names\n",
    "years = biomass_history_unscaled.columns[2:9]\n",
    "i = 0\n",
    "# Loop through each row and plot the values against years\n",
    "for index, row in biomass_history_unscaled.iterrows():\n",
    "    plt.plot(years, row[2:9])\n",
    "    i += 1\n",
    "    if i == 6:\n",
    "        break\n",
    "\n",
    "# Customize the plot\n",
    "plt.xlabel('Year')\n",
    "plt.ylabel('Value')\n",
    "plt.title('Data Plot of unscaled datapoints')\n",
    "plt.legend()\n",
    "plt.xticks(rotation=45)\n",
    "\n",
    "# Show the plot\n",
    "plt.tight_layout()\n",
    "plt.show()"
   ]
  },
  {
   "cell_type": "markdown",
   "metadata": {},
   "source": [
    "#### Test for stationary points"
   ]
  },
  {
   "cell_type": "code",
   "execution_count": 19,
   "metadata": {},
   "outputs": [],
   "source": [
    "test_scaled = time_series_data_scaled.iloc[:5,:]\n",
    "test_unscaled = time_series_data_unscaled.iloc[:5,:]\n",
    "y_scaled = y_time_series_data_scaled[:5]\n",
    "y_unscaled = y_time_series_data_unscaled[:5]"
   ]
  },
  {
   "cell_type": "code",
   "execution_count": 20,
   "metadata": {},
   "outputs": [],
   "source": [
    "from pmdarima import auto_arima"
   ]
  },
  {
   "cell_type": "code",
   "execution_count": 21,
   "metadata": {},
   "outputs": [],
   "source": [
    "from statsmodels.tsa.stattools import adfuller"
   ]
  },
  {
   "cell_type": "code",
   "execution_count": 22,
   "metadata": {},
   "outputs": [],
   "source": [
    "# function to return if the point is stationary or not\n",
    "\n",
    "def ad_test(dataset):\n",
    "    dftest = adfuller(dataset, autolag = \"AIC\")\n",
    "    #print(dftest)\n",
    "    \n",
    "    if dftest[1] < 0.05:\n",
    "        return True\n",
    "    else:\n",
    "        return False"
   ]
  },
  {
   "cell_type": "code",
   "execution_count": 23,
   "metadata": {},
   "outputs": [
    {
     "data": {
      "text/html": [
       "<div>\n",
       "<style scoped>\n",
       "    .dataframe tbody tr th:only-of-type {\n",
       "        vertical-align: middle;\n",
       "    }\n",
       "\n",
       "    .dataframe tbody tr th {\n",
       "        vertical-align: top;\n",
       "    }\n",
       "\n",
       "    .dataframe thead th {\n",
       "        text-align: right;\n",
       "    }\n",
       "</style>\n",
       "<table border=\"1\" class=\"dataframe\">\n",
       "  <thead>\n",
       "    <tr style=\"text-align: right;\">\n",
       "      <th></th>\n",
       "      <th>2010</th>\n",
       "      <th>2011</th>\n",
       "      <th>2012</th>\n",
       "      <th>2013</th>\n",
       "      <th>2014</th>\n",
       "      <th>2015</th>\n",
       "      <th>2016</th>\n",
       "    </tr>\n",
       "  </thead>\n",
       "  <tbody>\n",
       "    <tr>\n",
       "      <th>0</th>\n",
       "      <td>8.475744</td>\n",
       "      <td>8.868568</td>\n",
       "      <td>9.202181</td>\n",
       "      <td>6.023070</td>\n",
       "      <td>10.788374</td>\n",
       "      <td>6.647325</td>\n",
       "      <td>7.387925</td>\n",
       "    </tr>\n",
       "    <tr>\n",
       "      <th>1</th>\n",
       "      <td>24.029778</td>\n",
       "      <td>28.551348</td>\n",
       "      <td>25.866415</td>\n",
       "      <td>21.634459</td>\n",
       "      <td>34.419411</td>\n",
       "      <td>27.361908</td>\n",
       "      <td>40.431847</td>\n",
       "    </tr>\n",
       "    <tr>\n",
       "      <th>2</th>\n",
       "      <td>44.831635</td>\n",
       "      <td>66.111168</td>\n",
       "      <td>56.982258</td>\n",
       "      <td>53.003735</td>\n",
       "      <td>70.917908</td>\n",
       "      <td>42.517117</td>\n",
       "      <td>59.181629</td>\n",
       "    </tr>\n",
       "    <tr>\n",
       "      <th>3</th>\n",
       "      <td>59.974419</td>\n",
       "      <td>80.821304</td>\n",
       "      <td>78.956543</td>\n",
       "      <td>63.160561</td>\n",
       "      <td>93.513924</td>\n",
       "      <td>70.203171</td>\n",
       "      <td>74.536720</td>\n",
       "    </tr>\n",
       "    <tr>\n",
       "      <th>4</th>\n",
       "      <td>14.653370</td>\n",
       "      <td>19.327524</td>\n",
       "      <td>21.928144</td>\n",
       "      <td>17.899586</td>\n",
       "      <td>19.534035</td>\n",
       "      <td>19.165791</td>\n",
       "      <td>16.531315</td>\n",
       "    </tr>\n",
       "  </tbody>\n",
       "</table>\n",
       "</div>"
      ],
      "text/plain": [
       "        2010       2011       2012       2013       2014       2015       2016\n",
       "0   8.475744   8.868568   9.202181   6.023070  10.788374   6.647325   7.387925\n",
       "1  24.029778  28.551348  25.866415  21.634459  34.419411  27.361908  40.431847\n",
       "2  44.831635  66.111168  56.982258  53.003735  70.917908  42.517117  59.181629\n",
       "3  59.974419  80.821304  78.956543  63.160561  93.513924  70.203171  74.536720\n",
       "4  14.653370  19.327524  21.928144  17.899586  19.534035  19.165791  16.531315"
      ]
     },
     "execution_count": 23,
     "metadata": {},
     "output_type": "execute_result"
    }
   ],
   "source": [
    "test_unscaled"
   ]
  },
  {
   "cell_type": "markdown",
   "metadata": {},
   "source": [
    "#### Transformations to transform non-stationary point"
   ]
  },
  {
   "cell_type": "code",
   "execution_count": 49,
   "metadata": {},
   "outputs": [
    {
     "data": {
      "text/plain": [
       "1152"
      ]
     },
     "execution_count": 49,
     "metadata": {},
     "output_type": "execute_result"
    }
   ],
   "source": [
    "# function to count number of stationary points, given a dataframe\n",
    "def number_of_non_stationary_points(dataframe):\n",
    "    count_of_non_stationary_points = 0\n",
    "    for row in dataframe.itertuples():\n",
    "\n",
    "        data = np.cbrt(pd.DataFrame(row[1:])).diff().dropna()\n",
    "\n",
    "        ad_test_result = ad_test(data)\n",
    "\n",
    "        if ad_test_result == True:\n",
    "            pass\n",
    "        else:\n",
    "            count_of_non_stationary_points += 1\n",
    "\n",
    "    return count_of_non_stationary_points\n",
    "\n",
    "number_of_non_stationary_points(time_series_data_scaled)"
   ]
  },
  {
   "cell_type": "code",
   "execution_count": 56,
   "metadata": {},
   "outputs": [
    {
     "data": {
      "text/plain": [
       "2"
      ]
     },
     "execution_count": 56,
     "metadata": {},
     "output_type": "execute_result"
    }
   ],
   "source": [
    "# function to count number of stationary points using boxcox transformation, given a dataframe\n",
    "from scipy import stats\n",
    "def number_of_non_stationary_points_using_boxcox(dataframe):\n",
    "    count_of_non_stationary_points = 0\n",
    "\n",
    "    for row in dataframe.itertuples():\n",
    "        fitted_data, fitted_lambda = stats.boxcox(np.array(row[1:]))\n",
    "        ad_test_result = ad_test(fitted_data)\n",
    "        if ad_test_result == True:\n",
    "            pass\n",
    "        else:\n",
    "            count_of_non_stationary_points += 1\n",
    "\n",
    "    return count_of_non_stationary_points\n",
    "\n",
    "number_of_non_stationary_points_using_boxcox(test_unscaled)"
   ]
  },
  {
   "cell_type": "markdown",
   "metadata": {},
   "source": [
    "### Transforming data using trnsformation"
   ]
  },
  {
   "cell_type": "code",
   "execution_count": 57,
   "metadata": {},
   "outputs": [],
   "source": [
    "def transform_data(data):\n",
    "\n",
    "    transformed_data = np.cbrt(data).diff().dropna()\n",
    "\n",
    "    return transformed_data"
   ]
  },
  {
   "cell_type": "code",
   "execution_count": 59,
   "metadata": {},
   "outputs": [],
   "source": [
    "data = transform_data(time_series_data_scaled.T).T"
   ]
  },
  {
   "cell_type": "code",
   "execution_count": 60,
   "metadata": {},
   "outputs": [],
   "source": [
    "y_transformed = np.cbrt(y_time_series_data_scaled)"
   ]
  },
  {
   "cell_type": "markdown",
   "metadata": {},
   "source": [
    "### Train test split"
   ]
  },
  {
   "cell_type": "code",
   "execution_count": 61,
   "metadata": {},
   "outputs": [],
   "source": [
    "X_train, X_test, y_train, y_test = train_test_split(data, y_transformed, test_size = 0.2, random_state = 0)"
   ]
  },
  {
   "cell_type": "code",
   "execution_count": 62,
   "metadata": {},
   "outputs": [
    {
     "data": {
      "text/html": [
       "<div>\n",
       "<style scoped>\n",
       "    .dataframe tbody tr th:only-of-type {\n",
       "        vertical-align: middle;\n",
       "    }\n",
       "\n",
       "    .dataframe tbody tr th {\n",
       "        vertical-align: top;\n",
       "    }\n",
       "\n",
       "    .dataframe thead th {\n",
       "        text-align: right;\n",
       "    }\n",
       "</style>\n",
       "<table border=\"1\" class=\"dataframe\">\n",
       "  <thead>\n",
       "    <tr style=\"text-align: right;\">\n",
       "      <th></th>\n",
       "      <th>2011</th>\n",
       "      <th>2012</th>\n",
       "      <th>2013</th>\n",
       "      <th>2014</th>\n",
       "      <th>2015</th>\n",
       "      <th>2016</th>\n",
       "    </tr>\n",
       "  </thead>\n",
       "  <tbody>\n",
       "    <tr>\n",
       "      <th>2328</th>\n",
       "      <td>-0.023823</td>\n",
       "      <td>0.028855</td>\n",
       "      <td>0.006314</td>\n",
       "      <td>-0.033435</td>\n",
       "      <td>0.021762</td>\n",
       "      <td>0.040258</td>\n",
       "    </tr>\n",
       "    <tr>\n",
       "      <th>1742</th>\n",
       "      <td>0.065013</td>\n",
       "      <td>-0.294620</td>\n",
       "      <td>0.147077</td>\n",
       "      <td>0.060833</td>\n",
       "      <td>-0.280802</td>\n",
       "      <td>-0.076883</td>\n",
       "    </tr>\n",
       "    <tr>\n",
       "      <th>810</th>\n",
       "      <td>0.010961</td>\n",
       "      <td>-0.091992</td>\n",
       "      <td>-0.014949</td>\n",
       "      <td>0.039233</td>\n",
       "      <td>0.095553</td>\n",
       "      <td>0.027855</td>\n",
       "    </tr>\n",
       "    <tr>\n",
       "      <th>2014</th>\n",
       "      <td>0.067499</td>\n",
       "      <td>-0.071752</td>\n",
       "      <td>0.080500</td>\n",
       "      <td>0.174028</td>\n",
       "      <td>-0.161322</td>\n",
       "      <td>0.070363</td>\n",
       "    </tr>\n",
       "    <tr>\n",
       "      <th>618</th>\n",
       "      <td>0.006399</td>\n",
       "      <td>0.009885</td>\n",
       "      <td>-0.067198</td>\n",
       "      <td>0.124244</td>\n",
       "      <td>-0.006414</td>\n",
       "      <td>0.118924</td>\n",
       "    </tr>\n",
       "    <tr>\n",
       "      <th>...</th>\n",
       "      <td>...</td>\n",
       "      <td>...</td>\n",
       "      <td>...</td>\n",
       "      <td>...</td>\n",
       "      <td>...</td>\n",
       "      <td>...</td>\n",
       "    </tr>\n",
       "    <tr>\n",
       "      <th>1814</th>\n",
       "      <td>0.016258</td>\n",
       "      <td>-0.122925</td>\n",
       "      <td>0.026501</td>\n",
       "      <td>0.018495</td>\n",
       "      <td>0.025379</td>\n",
       "      <td>0.058201</td>\n",
       "    </tr>\n",
       "    <tr>\n",
       "      <th>1388</th>\n",
       "      <td>0.094816</td>\n",
       "      <td>-0.373498</td>\n",
       "      <td>0.309406</td>\n",
       "      <td>0.031742</td>\n",
       "      <td>-0.021636</td>\n",
       "      <td>-0.149306</td>\n",
       "    </tr>\n",
       "    <tr>\n",
       "      <th>2270</th>\n",
       "      <td>0.006453</td>\n",
       "      <td>-0.013282</td>\n",
       "      <td>0.019877</td>\n",
       "      <td>-0.005739</td>\n",
       "      <td>0.013206</td>\n",
       "      <td>0.015062</td>\n",
       "    </tr>\n",
       "    <tr>\n",
       "      <th>794</th>\n",
       "      <td>0.007970</td>\n",
       "      <td>0.002901</td>\n",
       "      <td>-0.093032</td>\n",
       "      <td>0.093033</td>\n",
       "      <td>-0.002901</td>\n",
       "      <td>-0.007225</td>\n",
       "    </tr>\n",
       "    <tr>\n",
       "      <th>682</th>\n",
       "      <td>0.078187</td>\n",
       "      <td>0.016172</td>\n",
       "      <td>-0.147270</td>\n",
       "      <td>0.086135</td>\n",
       "      <td>0.009316</td>\n",
       "      <td>0.174784</td>\n",
       "    </tr>\n",
       "  </tbody>\n",
       "</table>\n",
       "<p>484 rows × 6 columns</p>\n",
       "</div>"
      ],
      "text/plain": [
       "          2011      2012      2013      2014      2015      2016\n",
       "2328 -0.023823  0.028855  0.006314 -0.033435  0.021762  0.040258\n",
       "1742  0.065013 -0.294620  0.147077  0.060833 -0.280802 -0.076883\n",
       "810   0.010961 -0.091992 -0.014949  0.039233  0.095553  0.027855\n",
       "2014  0.067499 -0.071752  0.080500  0.174028 -0.161322  0.070363\n",
       "618   0.006399  0.009885 -0.067198  0.124244 -0.006414  0.118924\n",
       "...        ...       ...       ...       ...       ...       ...\n",
       "1814  0.016258 -0.122925  0.026501  0.018495  0.025379  0.058201\n",
       "1388  0.094816 -0.373498  0.309406  0.031742 -0.021636 -0.149306\n",
       "2270  0.006453 -0.013282  0.019877 -0.005739  0.013206  0.015062\n",
       "794   0.007970  0.002901 -0.093032  0.093033 -0.002901 -0.007225\n",
       "682   0.078187  0.016172 -0.147270  0.086135  0.009316  0.174784\n",
       "\n",
       "[484 rows x 6 columns]"
      ]
     },
     "execution_count": 62,
     "metadata": {},
     "output_type": "execute_result"
    }
   ],
   "source": [
    "X_test"
   ]
  },
  {
   "cell_type": "markdown",
   "metadata": {},
   "source": [
    "## Forecasting"
   ]
  },
  {
   "cell_type": "markdown",
   "metadata": {},
   "source": [
    "#### Implementing Linear Regression"
   ]
  },
  {
   "cell_type": "code",
   "execution_count": 63,
   "metadata": {},
   "outputs": [],
   "source": [
    "from sklearn.linear_model import LinearRegression\n",
    "from sklearn.metrics import r2_score"
   ]
  },
  {
   "cell_type": "code",
   "execution_count": 64,
   "metadata": {},
   "outputs": [
    {
     "data": {
      "text/html": [
       "<style>#sk-container-id-2 {color: black;}#sk-container-id-2 pre{padding: 0;}#sk-container-id-2 div.sk-toggleable {background-color: white;}#sk-container-id-2 label.sk-toggleable__label {cursor: pointer;display: block;width: 100%;margin-bottom: 0;padding: 0.3em;box-sizing: border-box;text-align: center;}#sk-container-id-2 label.sk-toggleable__label-arrow:before {content: \"▸\";float: left;margin-right: 0.25em;color: #696969;}#sk-container-id-2 label.sk-toggleable__label-arrow:hover:before {color: black;}#sk-container-id-2 div.sk-estimator:hover label.sk-toggleable__label-arrow:before {color: black;}#sk-container-id-2 div.sk-toggleable__content {max-height: 0;max-width: 0;overflow: hidden;text-align: left;background-color: #f0f8ff;}#sk-container-id-2 div.sk-toggleable__content pre {margin: 0.2em;color: black;border-radius: 0.25em;background-color: #f0f8ff;}#sk-container-id-2 input.sk-toggleable__control:checked~div.sk-toggleable__content {max-height: 200px;max-width: 100%;overflow: auto;}#sk-container-id-2 input.sk-toggleable__control:checked~label.sk-toggleable__label-arrow:before {content: \"▾\";}#sk-container-id-2 div.sk-estimator input.sk-toggleable__control:checked~label.sk-toggleable__label {background-color: #d4ebff;}#sk-container-id-2 div.sk-label input.sk-toggleable__control:checked~label.sk-toggleable__label {background-color: #d4ebff;}#sk-container-id-2 input.sk-hidden--visually {border: 0;clip: rect(1px 1px 1px 1px);clip: rect(1px, 1px, 1px, 1px);height: 1px;margin: -1px;overflow: hidden;padding: 0;position: absolute;width: 1px;}#sk-container-id-2 div.sk-estimator {font-family: monospace;background-color: #f0f8ff;border: 1px dotted black;border-radius: 0.25em;box-sizing: border-box;margin-bottom: 0.5em;}#sk-container-id-2 div.sk-estimator:hover {background-color: #d4ebff;}#sk-container-id-2 div.sk-parallel-item::after {content: \"\";width: 100%;border-bottom: 1px solid gray;flex-grow: 1;}#sk-container-id-2 div.sk-label:hover label.sk-toggleable__label {background-color: #d4ebff;}#sk-container-id-2 div.sk-serial::before {content: \"\";position: absolute;border-left: 1px solid gray;box-sizing: border-box;top: 0;bottom: 0;left: 50%;z-index: 0;}#sk-container-id-2 div.sk-serial {display: flex;flex-direction: column;align-items: center;background-color: white;padding-right: 0.2em;padding-left: 0.2em;position: relative;}#sk-container-id-2 div.sk-item {position: relative;z-index: 1;}#sk-container-id-2 div.sk-parallel {display: flex;align-items: stretch;justify-content: center;background-color: white;position: relative;}#sk-container-id-2 div.sk-item::before, #sk-container-id-2 div.sk-parallel-item::before {content: \"\";position: absolute;border-left: 1px solid gray;box-sizing: border-box;top: 0;bottom: 0;left: 50%;z-index: -1;}#sk-container-id-2 div.sk-parallel-item {display: flex;flex-direction: column;z-index: 1;position: relative;background-color: white;}#sk-container-id-2 div.sk-parallel-item:first-child::after {align-self: flex-end;width: 50%;}#sk-container-id-2 div.sk-parallel-item:last-child::after {align-self: flex-start;width: 50%;}#sk-container-id-2 div.sk-parallel-item:only-child::after {width: 0;}#sk-container-id-2 div.sk-dashed-wrapped {border: 1px dashed gray;margin: 0 0.4em 0.5em 0.4em;box-sizing: border-box;padding-bottom: 0.4em;background-color: white;}#sk-container-id-2 div.sk-label label {font-family: monospace;font-weight: bold;display: inline-block;line-height: 1.2em;}#sk-container-id-2 div.sk-label-container {text-align: center;}#sk-container-id-2 div.sk-container {/* jupyter's `normalize.less` sets `[hidden] { display: none; }` but bootstrap.min.css set `[hidden] { display: none !important; }` so we also need the `!important` here to be able to override the default hidden behavior on the sphinx rendered scikit-learn.org. See: https://github.com/scikit-learn/scikit-learn/issues/21755 */display: inline-block !important;position: relative;}#sk-container-id-2 div.sk-text-repr-fallback {display: none;}</style><div id=\"sk-container-id-2\" class=\"sk-top-container\"><div class=\"sk-text-repr-fallback\"><pre>LinearRegression()</pre><b>In a Jupyter environment, please rerun this cell to show the HTML representation or trust the notebook. <br />On GitHub, the HTML representation is unable to render, please try loading this page with nbviewer.org.</b></div><div class=\"sk-container\" hidden><div class=\"sk-item\"><div class=\"sk-estimator sk-toggleable\"><input class=\"sk-toggleable__control sk-hidden--visually\" id=\"sk-estimator-id-2\" type=\"checkbox\" checked><label for=\"sk-estimator-id-2\" class=\"sk-toggleable__label sk-toggleable__label-arrow\">LinearRegression</label><div class=\"sk-toggleable__content\"><pre>LinearRegression()</pre></div></div></div></div></div>"
      ],
      "text/plain": [
       "LinearRegression()"
      ]
     },
     "execution_count": 64,
     "metadata": {},
     "output_type": "execute_result"
    }
   ],
   "source": [
    "lr = LinearRegression()\n",
    "lr.fit(X_train, y_train)"
   ]
  },
  {
   "cell_type": "code",
   "execution_count": 65,
   "metadata": {},
   "outputs": [
    {
     "data": {
      "text/plain": [
       "0.4324759904719707"
      ]
     },
     "execution_count": 65,
     "metadata": {},
     "output_type": "execute_result"
    }
   ],
   "source": [
    "y_pred = lr.predict(X_test)\n",
    "r2_score(y_test, y_pred)"
   ]
  },
  {
   "cell_type": "code",
   "execution_count": 66,
   "metadata": {},
   "outputs": [
    {
     "data": {
      "text/html": [
       "<div>\n",
       "<style scoped>\n",
       "    .dataframe tbody tr th:only-of-type {\n",
       "        vertical-align: middle;\n",
       "    }\n",
       "\n",
       "    .dataframe tbody tr th {\n",
       "        vertical-align: top;\n",
       "    }\n",
       "\n",
       "    .dataframe thead th {\n",
       "        text-align: right;\n",
       "    }\n",
       "</style>\n",
       "<table border=\"1\" class=\"dataframe\">\n",
       "  <thead>\n",
       "    <tr style=\"text-align: right;\">\n",
       "      <th></th>\n",
       "      <th>2011</th>\n",
       "      <th>2012</th>\n",
       "      <th>2013</th>\n",
       "      <th>2014</th>\n",
       "      <th>2015</th>\n",
       "      <th>2016</th>\n",
       "    </tr>\n",
       "  </thead>\n",
       "  <tbody>\n",
       "    <tr>\n",
       "      <th>386</th>\n",
       "      <td>0.083196</td>\n",
       "      <td>-0.080190</td>\n",
       "      <td>-0.083599</td>\n",
       "      <td>0.096901</td>\n",
       "      <td>0.007631</td>\n",
       "      <td>0.066005</td>\n",
       "    </tr>\n",
       "    <tr>\n",
       "      <th>1735</th>\n",
       "      <td>-0.016128</td>\n",
       "      <td>-0.013183</td>\n",
       "      <td>0.038047</td>\n",
       "      <td>0.015250</td>\n",
       "      <td>-0.074652</td>\n",
       "      <td>0.124982</td>\n",
       "    </tr>\n",
       "    <tr>\n",
       "      <th>459</th>\n",
       "      <td>0.001668</td>\n",
       "      <td>0.082150</td>\n",
       "      <td>-0.072046</td>\n",
       "      <td>-0.023986</td>\n",
       "      <td>0.012193</td>\n",
       "      <td>0.154242</td>\n",
       "    </tr>\n",
       "    <tr>\n",
       "      <th>1129</th>\n",
       "      <td>0.008914</td>\n",
       "      <td>-0.021910</td>\n",
       "      <td>-0.026555</td>\n",
       "      <td>0.083802</td>\n",
       "      <td>0.004989</td>\n",
       "      <td>0.067161</td>\n",
       "    </tr>\n",
       "    <tr>\n",
       "      <th>1914</th>\n",
       "      <td>-0.025069</td>\n",
       "      <td>-0.272212</td>\n",
       "      <td>0.350737</td>\n",
       "      <td>-0.150666</td>\n",
       "      <td>0.125696</td>\n",
       "      <td>-0.057959</td>\n",
       "    </tr>\n",
       "    <tr>\n",
       "      <th>...</th>\n",
       "      <td>...</td>\n",
       "      <td>...</td>\n",
       "      <td>...</td>\n",
       "      <td>...</td>\n",
       "      <td>...</td>\n",
       "      <td>...</td>\n",
       "    </tr>\n",
       "    <tr>\n",
       "      <th>1033</th>\n",
       "      <td>0.072965</td>\n",
       "      <td>-0.179332</td>\n",
       "      <td>0.099373</td>\n",
       "      <td>0.051414</td>\n",
       "      <td>-0.017007</td>\n",
       "      <td>-0.051155</td>\n",
       "    </tr>\n",
       "    <tr>\n",
       "      <th>1731</th>\n",
       "      <td>0.088363</td>\n",
       "      <td>-0.099874</td>\n",
       "      <td>0.011034</td>\n",
       "      <td>0.116293</td>\n",
       "      <td>-0.093111</td>\n",
       "      <td>0.025706</td>\n",
       "    </tr>\n",
       "    <tr>\n",
       "      <th>763</th>\n",
       "      <td>0.033295</td>\n",
       "      <td>-0.038335</td>\n",
       "      <td>-0.047298</td>\n",
       "      <td>0.047299</td>\n",
       "      <td>0.038335</td>\n",
       "      <td>0.111968</td>\n",
       "    </tr>\n",
       "    <tr>\n",
       "      <th>835</th>\n",
       "      <td>-0.006100</td>\n",
       "      <td>0.003667</td>\n",
       "      <td>-0.031999</td>\n",
       "      <td>0.005730</td>\n",
       "      <td>0.044827</td>\n",
       "      <td>0.044713</td>\n",
       "    </tr>\n",
       "    <tr>\n",
       "      <th>1653</th>\n",
       "      <td>0.012530</td>\n",
       "      <td>-0.191545</td>\n",
       "      <td>0.060178</td>\n",
       "      <td>0.025035</td>\n",
       "      <td>0.013781</td>\n",
       "      <td>0.100420</td>\n",
       "    </tr>\n",
       "  </tbody>\n",
       "</table>\n",
       "<p>1934 rows × 6 columns</p>\n",
       "</div>"
      ],
      "text/plain": [
       "          2011      2012      2013      2014      2015      2016\n",
       "386   0.083196 -0.080190 -0.083599  0.096901  0.007631  0.066005\n",
       "1735 -0.016128 -0.013183  0.038047  0.015250 -0.074652  0.124982\n",
       "459   0.001668  0.082150 -0.072046 -0.023986  0.012193  0.154242\n",
       "1129  0.008914 -0.021910 -0.026555  0.083802  0.004989  0.067161\n",
       "1914 -0.025069 -0.272212  0.350737 -0.150666  0.125696 -0.057959\n",
       "...        ...       ...       ...       ...       ...       ...\n",
       "1033  0.072965 -0.179332  0.099373  0.051414 -0.017007 -0.051155\n",
       "1731  0.088363 -0.099874  0.011034  0.116293 -0.093111  0.025706\n",
       "763   0.033295 -0.038335 -0.047298  0.047299  0.038335  0.111968\n",
       "835  -0.006100  0.003667 -0.031999  0.005730  0.044827  0.044713\n",
       "1653  0.012530 -0.191545  0.060178  0.025035  0.013781  0.100420\n",
       "\n",
       "[1934 rows x 6 columns]"
      ]
     },
     "execution_count": 66,
     "metadata": {},
     "output_type": "execute_result"
    }
   ],
   "source": [
    "X_train"
   ]
  },
  {
   "cell_type": "code",
   "execution_count": 67,
   "metadata": {},
   "outputs": [
    {
     "data": {
      "text/html": [
       "<div>\n",
       "<style scoped>\n",
       "    .dataframe tbody tr th:only-of-type {\n",
       "        vertical-align: middle;\n",
       "    }\n",
       "\n",
       "    .dataframe tbody tr th {\n",
       "        vertical-align: top;\n",
       "    }\n",
       "\n",
       "    .dataframe thead th {\n",
       "        text-align: right;\n",
       "    }\n",
       "</style>\n",
       "<table border=\"1\" class=\"dataframe\">\n",
       "  <thead>\n",
       "    <tr style=\"text-align: right;\">\n",
       "      <th></th>\n",
       "      <th>2017</th>\n",
       "    </tr>\n",
       "  </thead>\n",
       "  <tbody>\n",
       "    <tr>\n",
       "      <th>386</th>\n",
       "      <td>0.560791</td>\n",
       "    </tr>\n",
       "    <tr>\n",
       "      <th>1735</th>\n",
       "      <td>0.187360</td>\n",
       "    </tr>\n",
       "    <tr>\n",
       "      <th>459</th>\n",
       "      <td>0.156794</td>\n",
       "    </tr>\n",
       "    <tr>\n",
       "      <th>1129</th>\n",
       "      <td>0.465988</td>\n",
       "    </tr>\n",
       "    <tr>\n",
       "      <th>1914</th>\n",
       "      <td>0.783193</td>\n",
       "    </tr>\n",
       "    <tr>\n",
       "      <th>...</th>\n",
       "      <td>...</td>\n",
       "    </tr>\n",
       "    <tr>\n",
       "      <th>1033</th>\n",
       "      <td>0.367292</td>\n",
       "    </tr>\n",
       "    <tr>\n",
       "      <th>1731</th>\n",
       "      <td>0.259489</td>\n",
       "    </tr>\n",
       "    <tr>\n",
       "      <th>763</th>\n",
       "      <td>0.438618</td>\n",
       "    </tr>\n",
       "    <tr>\n",
       "      <th>835</th>\n",
       "      <td>0.233280</td>\n",
       "    </tr>\n",
       "    <tr>\n",
       "      <th>1653</th>\n",
       "      <td>0.819384</td>\n",
       "    </tr>\n",
       "  </tbody>\n",
       "</table>\n",
       "<p>1934 rows × 1 columns</p>\n",
       "</div>"
      ],
      "text/plain": [
       "          2017\n",
       "386   0.560791\n",
       "1735  0.187360\n",
       "459   0.156794\n",
       "1129  0.465988\n",
       "1914  0.783193\n",
       "...        ...\n",
       "1033  0.367292\n",
       "1731  0.259489\n",
       "763   0.438618\n",
       "835   0.233280\n",
       "1653  0.819384\n",
       "\n",
       "[1934 rows x 1 columns]"
      ]
     },
     "execution_count": 67,
     "metadata": {},
     "output_type": "execute_result"
    }
   ],
   "source": [
    "y_train"
   ]
  },
  {
   "cell_type": "markdown",
   "metadata": {},
   "source": [
    "## Implementing LSTM"
   ]
  },
  {
   "cell_type": "code",
   "execution_count": 68,
   "metadata": {},
   "outputs": [],
   "source": [
    "from keras.models import Sequential\n",
    "from keras.layers import Dense, Dropout, LSTM"
   ]
  },
  {
   "cell_type": "code",
   "execution_count": 69,
   "metadata": {},
   "outputs": [],
   "source": [
    "import numpy as np"
   ]
  },
  {
   "cell_type": "code",
   "execution_count": 70,
   "metadata": {},
   "outputs": [
    {
     "name": "stdout",
     "output_type": "stream",
     "text": [
      "Model: \"sequential_2\"\n",
      "_________________________________________________________________\n",
      " Layer (type)                Output Shape              Param #   \n",
      "=================================================================\n",
      " lstm_3 (LSTM)               (None, 6, 100)            40800     \n",
      "                                                                 \n",
      " dropout_3 (Dropout)         (None, 6, 100)            0         \n",
      "                                                                 \n",
      " lstm_4 (LSTM)               (None, 6, 100)            80400     \n",
      "                                                                 \n",
      " dropout_4 (Dropout)         (None, 6, 100)            0         \n",
      "                                                                 \n",
      " lstm_5 (LSTM)               (None, 100)               80400     \n",
      "                                                                 \n",
      " dropout_5 (Dropout)         (None, 100)               0         \n",
      "                                                                 \n",
      " dense_1 (Dense)             (None, 1)                 101       \n",
      "                                                                 \n",
      "=================================================================\n",
      "Total params: 201701 (787.89 KB)\n",
      "Trainable params: 201701 (787.89 KB)\n",
      "Non-trainable params: 0 (0.00 Byte)\n",
      "_________________________________________________________________\n"
     ]
    }
   ],
   "source": [
    "# setting the seed to achieve consistent and less random predictions at each execution\n",
    "np.random.seed(0)\n",
    "\n",
    "# setting the model architecture\n",
    "model=Sequential()\n",
    "model.add(LSTM(100,return_sequences = True, activation='tanh',input_shape=(len(X_train.columns),1)))\n",
    "model.add(Dropout(0.1))\n",
    "model.add(LSTM(100,return_sequences = True, activation='tanh'))\n",
    "model.add(Dropout(0.1))\n",
    "\n",
    "model.add(LSTM(100, activation = 'tanh'))\n",
    "model.add(Dropout(0.1))\n",
    "model.add(Dense(1))\n",
    "\n",
    "# printing the model summary\n",
    "model.summary()"
   ]
  },
  {
   "cell_type": "code",
   "execution_count": 71,
   "metadata": {},
   "outputs": [
    {
     "name": "stdout",
     "output_type": "stream",
     "text": [
      "Epoch 1/50\n",
      "158/158 [==============================] - 14s 31ms/step - loss: 0.0604 - val_loss: 0.0606\n",
      "Epoch 2/50\n",
      "158/158 [==============================] - 3s 17ms/step - loss: 0.0479 - val_loss: 0.0455\n",
      "Epoch 3/50\n",
      "158/158 [==============================] - 3s 17ms/step - loss: 0.0406 - val_loss: 0.0323\n",
      "Epoch 4/50\n",
      "158/158 [==============================] - 2s 15ms/step - loss: 0.0335 - val_loss: 0.0268\n",
      "Epoch 5/50\n",
      "158/158 [==============================] - 2s 16ms/step - loss: 0.0283 - val_loss: 0.0229\n",
      "Epoch 6/50\n",
      "158/158 [==============================] - 3s 21ms/step - loss: 0.0234 - val_loss: 0.0321\n",
      "Epoch 7/50\n",
      "158/158 [==============================] - 3s 22ms/step - loss: 0.0216 - val_loss: 0.0169\n",
      "Epoch 8/50\n",
      "158/158 [==============================] - 4s 23ms/step - loss: 0.0189 - val_loss: 0.0177\n",
      "Epoch 9/50\n",
      "158/158 [==============================] - 3s 20ms/step - loss: 0.0173 - val_loss: 0.0134\n",
      "Epoch 10/50\n",
      "158/158 [==============================] - 3s 19ms/step - loss: 0.0166 - val_loss: 0.0148\n",
      "Epoch 11/50\n",
      "158/158 [==============================] - 3s 21ms/step - loss: 0.0160 - val_loss: 0.0139\n",
      "Epoch 12/50\n",
      "158/158 [==============================] - 3s 19ms/step - loss: 0.0151 - val_loss: 0.0143\n",
      "Epoch 13/50\n",
      "158/158 [==============================] - 2s 15ms/step - loss: 0.0147 - val_loss: 0.0122\n",
      "Epoch 14/50\n",
      "158/158 [==============================] - 2s 15ms/step - loss: 0.0146 - val_loss: 0.0130\n",
      "Epoch 15/50\n",
      "158/158 [==============================] - 2s 16ms/step - loss: 0.0146 - val_loss: 0.0124\n",
      "Epoch 16/50\n",
      "158/158 [==============================] - 3s 16ms/step - loss: 0.0137 - val_loss: 0.0127\n",
      "Epoch 17/50\n",
      "158/158 [==============================] - 3s 16ms/step - loss: 0.0148 - val_loss: 0.0118\n",
      "Epoch 18/50\n",
      "158/158 [==============================] - 2s 16ms/step - loss: 0.0137 - val_loss: 0.0113\n",
      "Epoch 19/50\n",
      "158/158 [==============================] - 2s 16ms/step - loss: 0.0132 - val_loss: 0.0130\n",
      "Epoch 20/50\n",
      "158/158 [==============================] - 3s 16ms/step - loss: 0.0130 - val_loss: 0.0123\n",
      "Epoch 21/50\n",
      "158/158 [==============================] - 2s 16ms/step - loss: 0.0133 - val_loss: 0.0121\n",
      "Epoch 22/50\n",
      "158/158 [==============================] - 2s 16ms/step - loss: 0.0126 - val_loss: 0.0105\n",
      "Epoch 23/50\n",
      "158/158 [==============================] - 3s 16ms/step - loss: 0.0125 - val_loss: 0.0100\n",
      "Epoch 24/50\n",
      "158/158 [==============================] - 3s 16ms/step - loss: 0.0129 - val_loss: 0.0101\n",
      "Epoch 25/50\n",
      "158/158 [==============================] - 2s 15ms/step - loss: 0.0125 - val_loss: 0.0100\n",
      "Epoch 26/50\n",
      "158/158 [==============================] - 3s 16ms/step - loss: 0.0123 - val_loss: 0.0131\n",
      "Epoch 27/50\n",
      "158/158 [==============================] - 3s 18ms/step - loss: 0.0124 - val_loss: 0.0097\n",
      "Epoch 28/50\n",
      "158/158 [==============================] - 3s 17ms/step - loss: 0.0130 - val_loss: 0.0096\n",
      "Epoch 29/50\n",
      "158/158 [==============================] - 3s 22ms/step - loss: 0.0119 - val_loss: 0.0104\n",
      "Epoch 30/50\n",
      "158/158 [==============================] - 3s 21ms/step - loss: 0.0118 - val_loss: 0.0107\n",
      "Epoch 31/50\n",
      "158/158 [==============================] - 3s 20ms/step - loss: 0.0116 - val_loss: 0.0115\n",
      "Epoch 32/50\n",
      "158/158 [==============================] - 4s 22ms/step - loss: 0.0116 - val_loss: 0.0097\n",
      "Epoch 33/50\n",
      "158/158 [==============================] - 4s 23ms/step - loss: 0.0114 - val_loss: 0.0099\n",
      "Epoch 34/50\n",
      "158/158 [==============================] - 4s 22ms/step - loss: 0.0116 - val_loss: 0.0095\n",
      "Epoch 35/50\n",
      "158/158 [==============================] - 3s 21ms/step - loss: 0.0112 - val_loss: 0.0089\n",
      "Epoch 36/50\n",
      "158/158 [==============================] - 4s 24ms/step - loss: 0.0111 - val_loss: 0.0095\n",
      "Epoch 37/50\n",
      "158/158 [==============================] - 3s 21ms/step - loss: 0.0113 - val_loss: 0.0091\n",
      "Epoch 38/50\n",
      "158/158 [==============================] - 3s 21ms/step - loss: 0.0112 - val_loss: 0.0097\n",
      "Epoch 39/50\n",
      "158/158 [==============================] - 3s 18ms/step - loss: 0.0112 - val_loss: 0.0096\n",
      "Epoch 40/50\n",
      "158/158 [==============================] - 3s 18ms/step - loss: 0.0110 - val_loss: 0.0088\n",
      "Epoch 41/50\n",
      "158/158 [==============================] - 3s 19ms/step - loss: 0.0111 - val_loss: 0.0095\n",
      "Epoch 42/50\n",
      "158/158 [==============================] - 3s 20ms/step - loss: 0.0111 - val_loss: 0.0106\n",
      "Epoch 43/50\n",
      "158/158 [==============================] - 3s 21ms/step - loss: 0.0109 - val_loss: 0.0094\n",
      "Epoch 44/50\n",
      "158/158 [==============================] - 3s 21ms/step - loss: 0.0109 - val_loss: 0.0089\n",
      "Epoch 45/50\n",
      "158/158 [==============================] - 3s 22ms/step - loss: 0.0107 - val_loss: 0.0091\n",
      "Epoch 46/50\n",
      "158/158 [==============================] - 3s 20ms/step - loss: 0.0105 - val_loss: 0.0098\n",
      "Epoch 47/50\n",
      "158/158 [==============================] - 3s 21ms/step - loss: 0.0112 - val_loss: 0.0102\n",
      "Epoch 48/50\n",
      "158/158 [==============================] - 4s 22ms/step - loss: 0.0108 - val_loss: 0.0094\n",
      "Epoch 49/50\n",
      "158/158 [==============================] - 3s 21ms/step - loss: 0.0107 - val_loss: 0.0099\n",
      "Epoch 50/50\n",
      "158/158 [==============================] - 3s 21ms/step - loss: 0.0104 - val_loss: 0.0091\n"
     ]
    },
    {
     "data": {
      "text/plain": [
       "<keras.src.callbacks.History at 0x1965dc19820>"
      ]
     },
     "execution_count": 71,
     "metadata": {},
     "output_type": "execute_result"
    }
   ],
   "source": [
    "# compiling the model\n",
    "model.compile(loss='mse' , optimizer='adam')\n",
    "\n",
    "# fitting the model using the training dataset\n",
    "model.fit(X_train, y_train, validation_split=0.35, epochs=50, batch_size=8, verbose=1)"
   ]
  },
  {
   "cell_type": "markdown",
   "metadata": {},
   "source": [
    "#### Predictions"
   ]
  },
  {
   "cell_type": "code",
   "execution_count": 72,
   "metadata": {},
   "outputs": [
    {
     "name": "stdout",
     "output_type": "stream",
     "text": [
      "61/61 [==============================] - 3s 7ms/step\n"
     ]
    }
   ],
   "source": [
    "# Predictions\n",
    "predictions = model.predict(X_train) "
   ]
  },
  {
   "cell_type": "code",
   "execution_count": 73,
   "metadata": {},
   "outputs": [
    {
     "data": {
      "text/plain": [
       "array([[0.58380204],\n",
       "       [0.2801319 ],\n",
       "       [0.42219657],\n",
       "       ...,\n",
       "       [0.5301091 ],\n",
       "       [0.3351711 ],\n",
       "       [0.79551464]], dtype=float32)"
      ]
     },
     "execution_count": 73,
     "metadata": {},
     "output_type": "execute_result"
    }
   ],
   "source": [
    "predictions"
   ]
  },
  {
   "cell_type": "code",
   "execution_count": 74,
   "metadata": {},
   "outputs": [
    {
     "name": "stdout",
     "output_type": "stream",
     "text": [
      "1934/1934 [==============================] - 7s 4ms/step - loss: 0.0098\n",
      "484/484 [==============================] - 2s 4ms/step - loss: 0.0102\n",
      "Train Loss = 0.0098\n",
      "Test Loss = 0.0102\n"
     ]
    }
   ],
   "source": [
    "# calculating the training mean-squared-error\n",
    "train_loss = model.evaluate(X_train, y_train, batch_size = 1)\n",
    "\n",
    "# calculating the test mean-squared-error\n",
    "test_loss = model.evaluate(X_test, y_test, batch_size = 1)\n",
    "\n",
    "# printing the training and the test mean-squared-errors\n",
    "print('Train Loss =', round(train_loss,4))\n",
    "print('Test Loss =', round(test_loss,4))"
   ]
  },
  {
   "cell_type": "code",
   "execution_count": 101,
   "metadata": {},
   "outputs": [
    {
     "name": "stdout",
     "output_type": "stream",
     "text": [
      "Epoch 1/50\n",
      "197/197 [==============================] - 7s 33ms/step - loss: 0.0113 - val_loss: 0.0096\n",
      "Epoch 2/50\n",
      "197/197 [==============================] - 6s 33ms/step - loss: 0.0108 - val_loss: 0.0090\n",
      "Epoch 3/50\n",
      "197/197 [==============================] - 6s 30ms/step - loss: 0.0108 - val_loss: 0.0093\n",
      "Epoch 4/50\n",
      "197/197 [==============================] - 6s 30ms/step - loss: 0.0101 - val_loss: 0.0097\n",
      "Epoch 5/50\n",
      "197/197 [==============================] - 6s 28ms/step - loss: 0.0106 - val_loss: 0.0090\n",
      "Epoch 6/50\n",
      "197/197 [==============================] - 6s 28ms/step - loss: 0.0104 - val_loss: 0.0089\n",
      "Epoch 7/50\n",
      "197/197 [==============================] - 5s 28ms/step - loss: 0.0101 - val_loss: 0.0101\n",
      "Epoch 8/50\n",
      "197/197 [==============================] - 6s 31ms/step - loss: 0.0099 - val_loss: 0.0112\n",
      "Epoch 9/50\n",
      "197/197 [==============================] - 6s 28ms/step - loss: 0.0097 - val_loss: 0.0101\n",
      "Epoch 10/50\n",
      "197/197 [==============================] - 6s 29ms/step - loss: 0.0094 - val_loss: 0.0108\n",
      "Epoch 11/50\n",
      "197/197 [==============================] - 6s 32ms/step - loss: 0.0096 - val_loss: 0.0114\n",
      "Epoch 12/50\n",
      "197/197 [==============================] - 6s 30ms/step - loss: 0.0099 - val_loss: 0.0111\n",
      "Epoch 13/50\n",
      "197/197 [==============================] - 6s 30ms/step - loss: 0.0092 - val_loss: 0.0119\n",
      "Epoch 14/50\n",
      "197/197 [==============================] - 6s 31ms/step - loss: 0.0095 - val_loss: 0.0110\n",
      "Epoch 15/50\n",
      "197/197 [==============================] - 6s 28ms/step - loss: 0.0088 - val_loss: 0.0136\n",
      "Epoch 16/50\n",
      "197/197 [==============================] - 6s 30ms/step - loss: 0.0095 - val_loss: 0.0115\n",
      "Epoch 17/50\n",
      "197/197 [==============================] - 6s 30ms/step - loss: 0.0088 - val_loss: 0.0111\n",
      "Epoch 18/50\n",
      "197/197 [==============================] - 6s 30ms/step - loss: 0.0089 - val_loss: 0.0118\n",
      "Epoch 19/50\n",
      "197/197 [==============================] - 6s 29ms/step - loss: 0.0091 - val_loss: 0.0126\n",
      "Epoch 20/50\n",
      "197/197 [==============================] - 6s 28ms/step - loss: 0.0085 - val_loss: 0.0132\n",
      "Epoch 21/50\n",
      "197/197 [==============================] - 6s 30ms/step - loss: 0.0085 - val_loss: 0.0145\n",
      "Epoch 22/50\n",
      "197/197 [==============================] - 6s 29ms/step - loss: 0.0081 - val_loss: 0.0139\n",
      "Epoch 23/50\n",
      "197/197 [==============================] - 6s 29ms/step - loss: 0.0082 - val_loss: 0.0140\n",
      "Epoch 24/50\n",
      "197/197 [==============================] - 6s 30ms/step - loss: 0.0078 - val_loss: 0.0142\n",
      "Epoch 25/50\n",
      "197/197 [==============================] - 6s 31ms/step - loss: 0.0082 - val_loss: 0.0147\n",
      "Epoch 26/50\n",
      "197/197 [==============================] - 6s 30ms/step - loss: 0.0082 - val_loss: 0.0154\n",
      "Epoch 27/50\n",
      "197/197 [==============================] - 6s 31ms/step - loss: 0.0077 - val_loss: 0.0149\n",
      "Epoch 28/50\n",
      "197/197 [==============================] - 6s 30ms/step - loss: 0.0077 - val_loss: 0.0148\n",
      "Epoch 29/50\n",
      "197/197 [==============================] - 6s 30ms/step - loss: 0.0076 - val_loss: 0.0159\n",
      "Epoch 30/50\n",
      "197/197 [==============================] - 6s 30ms/step - loss: 0.0072 - val_loss: 0.0182\n",
      "Epoch 31/50\n",
      "197/197 [==============================] - 6s 29ms/step - loss: 0.0071 - val_loss: 0.0147\n",
      "Epoch 32/50\n",
      "197/197 [==============================] - 6s 32ms/step - loss: 0.0076 - val_loss: 0.0151\n",
      "Epoch 33/50\n",
      "197/197 [==============================] - 6s 32ms/step - loss: 0.0071 - val_loss: 0.0173\n",
      "Epoch 34/50\n",
      "197/197 [==============================] - 6s 29ms/step - loss: 0.0072 - val_loss: 0.0142\n",
      "Epoch 35/50\n",
      "197/197 [==============================] - 6s 32ms/step - loss: 0.0072 - val_loss: 0.0134\n",
      "Epoch 36/50\n",
      "197/197 [==============================] - 5s 25ms/step - loss: 0.0066 - val_loss: 0.0153\n",
      "Epoch 37/50\n",
      "197/197 [==============================] - 6s 31ms/step - loss: 0.0072 - val_loss: 0.0175\n",
      "Epoch 38/50\n",
      "197/197 [==============================] - 6s 31ms/step - loss: 0.0067 - val_loss: 0.0175\n",
      "Epoch 39/50\n",
      "197/197 [==============================] - 7s 34ms/step - loss: 0.0065 - val_loss: 0.0155\n",
      "Epoch 40/50\n",
      "197/197 [==============================] - 6s 31ms/step - loss: 0.0067 - val_loss: 0.0162\n",
      "Epoch 41/50\n",
      "197/197 [==============================] - 6s 31ms/step - loss: 0.0067 - val_loss: 0.0171\n",
      "Epoch 42/50\n",
      "197/197 [==============================] - 7s 34ms/step - loss: 0.0064 - val_loss: 0.0182\n",
      "Epoch 43/50\n",
      "197/197 [==============================] - 6s 30ms/step - loss: 0.0063 - val_loss: 0.0177\n",
      "Epoch 44/50\n",
      "197/197 [==============================] - 6s 32ms/step - loss: 0.0061 - val_loss: 0.0154\n",
      "Epoch 45/50\n",
      "197/197 [==============================] - 6s 30ms/step - loss: 0.0063 - val_loss: 0.0150\n",
      "Epoch 46/50\n",
      "197/197 [==============================] - 6s 29ms/step - loss: 0.0060 - val_loss: 0.0167\n",
      "Epoch 47/50\n",
      "197/197 [==============================] - 6s 30ms/step - loss: 0.0061 - val_loss: 0.0192\n",
      "Epoch 48/50\n",
      "197/197 [==============================] - 6s 32ms/step - loss: 0.0062 - val_loss: 0.0172\n",
      "Epoch 49/50\n",
      "197/197 [==============================] - 6s 33ms/step - loss: 0.0060 - val_loss: 0.0154\n",
      "Epoch 50/50\n",
      "197/197 [==============================] - 6s 30ms/step - loss: 0.0062 - val_loss: 0.0186\n"
     ]
    },
    {
     "data": {
      "text/plain": [
       "<keras.src.callbacks.History at 0x196688bf880>"
      ]
     },
     "execution_count": 101,
     "metadata": {},
     "output_type": "execute_result"
    }
   ],
   "source": [
    "# training the model on the whole dataset\n",
    "model.fit(data, y_transformed, validation_split=0.35, epochs=50, batch_size=8, verbose=1)"
   ]
  },
  {
   "cell_type": "markdown",
   "metadata": {},
   "source": [
    "## Final Data Prepration "
   ]
  },
  {
   "cell_type": "code",
   "execution_count": 102,
   "metadata": {},
   "outputs": [
    {
     "name": "stdout",
     "output_type": "stream",
     "text": [
      "76/76 [==============================] - 1s 16ms/step\n"
     ]
    }
   ],
   "source": [
    "pred_2018 = model.predict(data) "
   ]
  },
  {
   "cell_type": "code",
   "execution_count": 103,
   "metadata": {},
   "outputs": [],
   "source": [
    "pred_2018 =  pd.DataFrame(pred_2018, columns = ['2018'])"
   ]
  },
  {
   "cell_type": "code",
   "execution_count": 104,
   "metadata": {},
   "outputs": [],
   "source": [
    "data_with_2018 = pd.concat([data, y_transformed, pred_2018], axis=1)"
   ]
  },
  {
   "cell_type": "code",
   "execution_count": 106,
   "metadata": {},
   "outputs": [
    {
     "name": "stdout",
     "output_type": "stream",
     "text": [
      "76/76 [==============================] - 6s 20ms/step\n"
     ]
    }
   ],
   "source": [
    "pred_2019 = model.predict(data_with_2018) \n",
    "pred_2019 =  pd.DataFrame(pred_2019, columns = ['2019'])"
   ]
  },
  {
   "cell_type": "code",
   "execution_count": 107,
   "metadata": {},
   "outputs": [],
   "source": [
    "biomass_availability_forecasted_data = pd.concat([location, data_with_2018, pred_2019], axis=1)"
   ]
  },
  {
   "cell_type": "code",
   "execution_count": 108,
   "metadata": {},
   "outputs": [
    {
     "data": {
      "text/html": [
       "<div>\n",
       "<style scoped>\n",
       "    .dataframe tbody tr th:only-of-type {\n",
       "        vertical-align: middle;\n",
       "    }\n",
       "\n",
       "    .dataframe tbody tr th {\n",
       "        vertical-align: top;\n",
       "    }\n",
       "\n",
       "    .dataframe thead th {\n",
       "        text-align: right;\n",
       "    }\n",
       "</style>\n",
       "<table border=\"1\" class=\"dataframe\">\n",
       "  <thead>\n",
       "    <tr style=\"text-align: right;\">\n",
       "      <th></th>\n",
       "      <th>Latitude</th>\n",
       "      <th>Longitude</th>\n",
       "      <th>2011</th>\n",
       "      <th>2012</th>\n",
       "      <th>2013</th>\n",
       "      <th>2014</th>\n",
       "      <th>2015</th>\n",
       "      <th>2016</th>\n",
       "      <th>2017</th>\n",
       "      <th>2018</th>\n",
       "      <th>2019</th>\n",
       "    </tr>\n",
       "  </thead>\n",
       "  <tbody>\n",
       "    <tr>\n",
       "      <th>0</th>\n",
       "      <td>24.66818</td>\n",
       "      <td>71.33144</td>\n",
       "      <td>0.013260</td>\n",
       "      <td>-0.006368</td>\n",
       "      <td>-0.049681</td>\n",
       "      <td>0.061624</td>\n",
       "      <td>-0.026255</td>\n",
       "      <td>0.038067</td>\n",
       "      <td>0.180307</td>\n",
       "      <td>0.329560</td>\n",
       "      <td>0.564174</td>\n",
       "    </tr>\n",
       "    <tr>\n",
       "      <th>1</th>\n",
       "      <td>24.66818</td>\n",
       "      <td>71.41106</td>\n",
       "      <td>0.032596</td>\n",
       "      <td>-0.023727</td>\n",
       "      <td>-0.049718</td>\n",
       "      <td>0.080648</td>\n",
       "      <td>-0.011895</td>\n",
       "      <td>0.099814</td>\n",
       "      <td>0.362593</td>\n",
       "      <td>0.458147</td>\n",
       "      <td>0.595209</td>\n",
       "    </tr>\n",
       "    <tr>\n",
       "      <th>2</th>\n",
       "      <td>24.66818</td>\n",
       "      <td>71.49069</td>\n",
       "      <td>0.070763</td>\n",
       "      <td>-0.038139</td>\n",
       "      <td>-0.052497</td>\n",
       "      <td>0.082972</td>\n",
       "      <td>-0.052671</td>\n",
       "      <td>0.105824</td>\n",
       "      <td>0.435923</td>\n",
       "      <td>0.429770</td>\n",
       "      <td>0.604104</td>\n",
       "    </tr>\n",
       "    <tr>\n",
       "      <th>3</th>\n",
       "      <td>24.66818</td>\n",
       "      <td>71.57031</td>\n",
       "      <td>0.063595</td>\n",
       "      <td>-0.022417</td>\n",
       "      <td>-0.077678</td>\n",
       "      <td>0.103736</td>\n",
       "      <td>-0.025266</td>\n",
       "      <td>0.075451</td>\n",
       "      <td>0.485404</td>\n",
       "      <td>0.483604</td>\n",
       "      <td>0.600153</td>\n",
       "    </tr>\n",
       "    <tr>\n",
       "      <th>4</th>\n",
       "      <td>24.66818</td>\n",
       "      <td>71.64994</td>\n",
       "      <td>0.037655</td>\n",
       "      <td>0.000337</td>\n",
       "      <td>-0.049042</td>\n",
       "      <td>0.037966</td>\n",
       "      <td>0.009922</td>\n",
       "      <td>0.026143</td>\n",
       "      <td>0.309058</td>\n",
       "      <td>0.294257</td>\n",
       "      <td>0.600164</td>\n",
       "    </tr>\n",
       "    <tr>\n",
       "      <th>...</th>\n",
       "      <td>...</td>\n",
       "      <td>...</td>\n",
       "      <td>...</td>\n",
       "      <td>...</td>\n",
       "      <td>...</td>\n",
       "      <td>...</td>\n",
       "      <td>...</td>\n",
       "      <td>...</td>\n",
       "      <td>...</td>\n",
       "      <td>...</td>\n",
       "      <td>...</td>\n",
       "    </tr>\n",
       "    <tr>\n",
       "      <th>2413</th>\n",
       "      <td>20.15456</td>\n",
       "      <td>72.84432</td>\n",
       "      <td>-0.000274</td>\n",
       "      <td>-0.009764</td>\n",
       "      <td>-0.041304</td>\n",
       "      <td>0.051155</td>\n",
       "      <td>0.009807</td>\n",
       "      <td>0.041831</td>\n",
       "      <td>0.181932</td>\n",
       "      <td>0.380021</td>\n",
       "      <td>0.561181</td>\n",
       "    </tr>\n",
       "    <tr>\n",
       "      <th>2414</th>\n",
       "      <td>20.15456</td>\n",
       "      <td>72.92394</td>\n",
       "      <td>0.003012</td>\n",
       "      <td>-0.005930</td>\n",
       "      <td>-0.003965</td>\n",
       "      <td>0.007043</td>\n",
       "      <td>0.002285</td>\n",
       "      <td>0.011529</td>\n",
       "      <td>0.051462</td>\n",
       "      <td>0.121790</td>\n",
       "      <td>0.421344</td>\n",
       "    </tr>\n",
       "    <tr>\n",
       "      <th>2415</th>\n",
       "      <td>20.15456</td>\n",
       "      <td>73.00357</td>\n",
       "      <td>0.002009</td>\n",
       "      <td>-0.004043</td>\n",
       "      <td>-0.002755</td>\n",
       "      <td>0.004901</td>\n",
       "      <td>0.001583</td>\n",
       "      <td>0.007887</td>\n",
       "      <td>0.035245</td>\n",
       "      <td>0.108112</td>\n",
       "      <td>0.365419</td>\n",
       "    </tr>\n",
       "    <tr>\n",
       "      <th>2416</th>\n",
       "      <td>20.15456</td>\n",
       "      <td>73.08319</td>\n",
       "      <td>-0.024337</td>\n",
       "      <td>-0.023196</td>\n",
       "      <td>0.001331</td>\n",
       "      <td>0.015475</td>\n",
       "      <td>0.005030</td>\n",
       "      <td>0.025518</td>\n",
       "      <td>0.113851</td>\n",
       "      <td>0.254491</td>\n",
       "      <td>0.538658</td>\n",
       "    </tr>\n",
       "    <tr>\n",
       "      <th>2417</th>\n",
       "      <td>20.15456</td>\n",
       "      <td>73.16282</td>\n",
       "      <td>-0.021329</td>\n",
       "      <td>-0.017029</td>\n",
       "      <td>0.004817</td>\n",
       "      <td>0.008666</td>\n",
       "      <td>0.002814</td>\n",
       "      <td>0.014239</td>\n",
       "      <td>0.063546</td>\n",
       "      <td>0.195923</td>\n",
       "      <td>0.498075</td>\n",
       "    </tr>\n",
       "  </tbody>\n",
       "</table>\n",
       "<p>2418 rows × 11 columns</p>\n",
       "</div>"
      ],
      "text/plain": [
       "      Latitude  Longitude      2011      2012      2013      2014      2015  \\\n",
       "0     24.66818   71.33144  0.013260 -0.006368 -0.049681  0.061624 -0.026255   \n",
       "1     24.66818   71.41106  0.032596 -0.023727 -0.049718  0.080648 -0.011895   \n",
       "2     24.66818   71.49069  0.070763 -0.038139 -0.052497  0.082972 -0.052671   \n",
       "3     24.66818   71.57031  0.063595 -0.022417 -0.077678  0.103736 -0.025266   \n",
       "4     24.66818   71.64994  0.037655  0.000337 -0.049042  0.037966  0.009922   \n",
       "...        ...        ...       ...       ...       ...       ...       ...   \n",
       "2413  20.15456   72.84432 -0.000274 -0.009764 -0.041304  0.051155  0.009807   \n",
       "2414  20.15456   72.92394  0.003012 -0.005930 -0.003965  0.007043  0.002285   \n",
       "2415  20.15456   73.00357  0.002009 -0.004043 -0.002755  0.004901  0.001583   \n",
       "2416  20.15456   73.08319 -0.024337 -0.023196  0.001331  0.015475  0.005030   \n",
       "2417  20.15456   73.16282 -0.021329 -0.017029  0.004817  0.008666  0.002814   \n",
       "\n",
       "          2016      2017      2018      2019  \n",
       "0     0.038067  0.180307  0.329560  0.564174  \n",
       "1     0.099814  0.362593  0.458147  0.595209  \n",
       "2     0.105824  0.435923  0.429770  0.604104  \n",
       "3     0.075451  0.485404  0.483604  0.600153  \n",
       "4     0.026143  0.309058  0.294257  0.600164  \n",
       "...        ...       ...       ...       ...  \n",
       "2413  0.041831  0.181932  0.380021  0.561181  \n",
       "2414  0.011529  0.051462  0.121790  0.421344  \n",
       "2415  0.007887  0.035245  0.108112  0.365419  \n",
       "2416  0.025518  0.113851  0.254491  0.538658  \n",
       "2417  0.014239  0.063546  0.195923  0.498075  \n",
       "\n",
       "[2418 rows x 11 columns]"
      ]
     },
     "execution_count": 108,
     "metadata": {},
     "output_type": "execute_result"
    }
   ],
   "source": [
    "biomass_availability_forecasted_data"
   ]
  },
  {
   "cell_type": "code",
   "execution_count": null,
   "metadata": {},
   "outputs": [],
   "source": []
  }
 ],
 "metadata": {
  "kernelspec": {
   "display_name": "myenv",
   "language": "python",
   "name": "python3"
  },
  "language_info": {
   "codemirror_mode": {
    "name": "ipython",
    "version": 3
   },
   "file_extension": ".py",
   "mimetype": "text/x-python",
   "name": "python",
   "nbconvert_exporter": "python",
   "pygments_lexer": "ipython3",
   "version": "3.9.4"
  },
  "orig_nbformat": 4
 },
 "nbformat": 4,
 "nbformat_minor": 2
}
