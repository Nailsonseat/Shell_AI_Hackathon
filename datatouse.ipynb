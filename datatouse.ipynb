{
 "cells": [
  {
   "cell_type": "markdown",
   "metadata": {},
   "source": [
    "Imports"
   ]
  },
  {
   "cell_type": "code",
   "execution_count": 1,
   "metadata": {},
   "outputs": [
    {
     "name": "stderr",
     "output_type": "stream",
     "text": [
      "2023-08-22 19:40:32.657286: I tensorflow/core/platform/cpu_feature_guard.cc:182] This TensorFlow binary is optimized to use available CPU instructions in performance-critical operations.\n",
      "To enable the following instructions: AVX2 FMA, in other operations, rebuild TensorFlow with the appropriate compiler flags.\n",
      "2023-08-22 19:40:35.127989: W tensorflow/compiler/tf2tensorrt/utils/py_utils.cc:38] TF-TRT Warning: Could not find TensorRT\n"
     ]
    }
   ],
   "source": [
    "from tensorflow import keras\n",
    "import numpy as np"
   ]
  },
  {
   "cell_type": "code",
   "execution_count": 2,
   "metadata": {},
   "outputs": [],
   "source": [
    "from sklearn.model_selection import train_test_split"
   ]
  },
  {
   "cell_type": "code",
   "execution_count": 3,
   "metadata": {},
   "outputs": [],
   "source": [
    "import pandas as pd\n",
    "import matplotlib.pyplot as plt"
   ]
  },
  {
   "cell_type": "code",
   "execution_count": 4,
   "metadata": {},
   "outputs": [],
   "source": [
    "import warnings\n",
    "warnings.filterwarnings(\"ignore\")"
   ]
  },
  {
   "cell_type": "markdown",
   "metadata": {},
   "source": [
    "#### Data Loading"
   ]
  },
  {
   "cell_type": "code",
   "execution_count": 5,
   "metadata": {},
   "outputs": [
    {
     "name": "stdout",
     "output_type": "stream",
     "text": [
      "no stored variable or alias scaled_distances\n",
      "no stored variable or alias biomass_history_scaled\n"
     ]
    }
   ],
   "source": [
    "%store -r scaled_distances\n",
    "%store -r biomass_history_scaled"
   ]
  },
  {
   "cell_type": "code",
   "execution_count": 6,
   "metadata": {},
   "outputs": [],
   "source": [
    "biomass_history_unscaled = pd.read_csv(r\"dataset/Biomass_History.csv\")"
   ]
  },
  {
   "cell_type": "code",
   "execution_count": 7,
   "metadata": {},
   "outputs": [
    {
     "data": {
      "text/html": [
       "<div>\n",
       "<style scoped>\n",
       "    .dataframe tbody tr th:only-of-type {\n",
       "        vertical-align: middle;\n",
       "    }\n",
       "\n",
       "    .dataframe tbody tr th {\n",
       "        vertical-align: top;\n",
       "    }\n",
       "\n",
       "    .dataframe thead th {\n",
       "        text-align: right;\n",
       "    }\n",
       "</style>\n",
       "<table border=\"1\" class=\"dataframe\">\n",
       "  <thead>\n",
       "    <tr style=\"text-align: right;\">\n",
       "      <th></th>\n",
       "      <th>Index</th>\n",
       "      <th>Latitude</th>\n",
       "      <th>Longitude</th>\n",
       "      <th>2010</th>\n",
       "      <th>2011</th>\n",
       "      <th>2012</th>\n",
       "      <th>2013</th>\n",
       "      <th>2014</th>\n",
       "      <th>2015</th>\n",
       "      <th>2016</th>\n",
       "      <th>2017</th>\n",
       "    </tr>\n",
       "  </thead>\n",
       "  <tbody>\n",
       "    <tr>\n",
       "      <th>0</th>\n",
       "      <td>0</td>\n",
       "      <td>24.66818</td>\n",
       "      <td>71.33144</td>\n",
       "      <td>8.475744</td>\n",
       "      <td>8.868568</td>\n",
       "      <td>9.202181</td>\n",
       "      <td>6.023070</td>\n",
       "      <td>10.788374</td>\n",
       "      <td>6.647325</td>\n",
       "      <td>7.387925</td>\n",
       "      <td>5.180296</td>\n",
       "    </tr>\n",
       "    <tr>\n",
       "      <th>1</th>\n",
       "      <td>1</td>\n",
       "      <td>24.66818</td>\n",
       "      <td>71.41106</td>\n",
       "      <td>24.029778</td>\n",
       "      <td>28.551348</td>\n",
       "      <td>25.866415</td>\n",
       "      <td>21.634459</td>\n",
       "      <td>34.419411</td>\n",
       "      <td>27.361908</td>\n",
       "      <td>40.431847</td>\n",
       "      <td>42.126945</td>\n",
       "    </tr>\n",
       "    <tr>\n",
       "      <th>2</th>\n",
       "      <td>2</td>\n",
       "      <td>24.66818</td>\n",
       "      <td>71.49069</td>\n",
       "      <td>44.831635</td>\n",
       "      <td>66.111168</td>\n",
       "      <td>56.982258</td>\n",
       "      <td>53.003735</td>\n",
       "      <td>70.917908</td>\n",
       "      <td>42.517117</td>\n",
       "      <td>59.181629</td>\n",
       "      <td>73.203232</td>\n",
       "    </tr>\n",
       "    <tr>\n",
       "      <th>3</th>\n",
       "      <td>3</td>\n",
       "      <td>24.66818</td>\n",
       "      <td>71.57031</td>\n",
       "      <td>59.974419</td>\n",
       "      <td>80.821304</td>\n",
       "      <td>78.956543</td>\n",
       "      <td>63.160561</td>\n",
       "      <td>93.513924</td>\n",
       "      <td>70.203171</td>\n",
       "      <td>74.536720</td>\n",
       "      <td>101.067352</td>\n",
       "    </tr>\n",
       "    <tr>\n",
       "      <th>4</th>\n",
       "      <td>4</td>\n",
       "      <td>24.66818</td>\n",
       "      <td>71.64994</td>\n",
       "      <td>14.653370</td>\n",
       "      <td>19.327524</td>\n",
       "      <td>21.928144</td>\n",
       "      <td>17.899586</td>\n",
       "      <td>19.534035</td>\n",
       "      <td>19.165791</td>\n",
       "      <td>16.531315</td>\n",
       "      <td>26.086885</td>\n",
       "    </tr>\n",
       "  </tbody>\n",
       "</table>\n",
       "</div>"
      ],
      "text/plain": [
       "   Index  Latitude  Longitude       2010       2011       2012       2013  \\\n",
       "0      0  24.66818   71.33144   8.475744   8.868568   9.202181   6.023070   \n",
       "1      1  24.66818   71.41106  24.029778  28.551348  25.866415  21.634459   \n",
       "2      2  24.66818   71.49069  44.831635  66.111168  56.982258  53.003735   \n",
       "3      3  24.66818   71.57031  59.974419  80.821304  78.956543  63.160561   \n",
       "4      4  24.66818   71.64994  14.653370  19.327524  21.928144  17.899586   \n",
       "\n",
       "        2014       2015       2016        2017  \n",
       "0  10.788374   6.647325   7.387925    5.180296  \n",
       "1  34.419411  27.361908  40.431847   42.126945  \n",
       "2  70.917908  42.517117  59.181629   73.203232  \n",
       "3  93.513924  70.203171  74.536720  101.067352  \n",
       "4  19.534035  19.165791  16.531315   26.086885  "
      ]
     },
     "execution_count": 7,
     "metadata": {},
     "output_type": "execute_result"
    }
   ],
   "source": [
    "biomass_history_unscaled.head()"
   ]
  },
  {
   "cell_type": "code",
   "execution_count": 8,
   "metadata": {},
   "outputs": [],
   "source": [
    "biomass_history_scaled = pd.read_csv('scaled.csv').drop([\"Index\"], axis = 1)\n",
    "biomass_history_unscaled = biomass_history_unscaled.drop([\"Index\"], axis = 1)"
   ]
  },
  {
   "cell_type": "code",
   "execution_count": 9,
   "metadata": {},
   "outputs": [
    {
     "data": {
      "text/html": [
       "<div>\n",
       "<style scoped>\n",
       "    .dataframe tbody tr th:only-of-type {\n",
       "        vertical-align: middle;\n",
       "    }\n",
       "\n",
       "    .dataframe tbody tr th {\n",
       "        vertical-align: top;\n",
       "    }\n",
       "\n",
       "    .dataframe thead th {\n",
       "        text-align: right;\n",
       "    }\n",
       "</style>\n",
       "<table border=\"1\" class=\"dataframe\">\n",
       "  <thead>\n",
       "    <tr style=\"text-align: right;\">\n",
       "      <th></th>\n",
       "      <th>Unnamed: 0</th>\n",
       "      <th>Latitude</th>\n",
       "      <th>Longitude</th>\n",
       "      <th>2010</th>\n",
       "      <th>2011</th>\n",
       "      <th>2012</th>\n",
       "      <th>2013</th>\n",
       "      <th>2014</th>\n",
       "      <th>2015</th>\n",
       "      <th>2016</th>\n",
       "      <th>2017</th>\n",
       "    </tr>\n",
       "  </thead>\n",
       "  <tbody>\n",
       "    <tr>\n",
       "      <th>0</th>\n",
       "      <td>0</td>\n",
       "      <td>24.671875</td>\n",
       "      <td>71.3125</td>\n",
       "      <td>0.009598</td>\n",
       "      <td>0.011497</td>\n",
       "      <td>0.010551</td>\n",
       "      <td>0.004887</td>\n",
       "      <td>0.012367</td>\n",
       "      <td>0.008621</td>\n",
       "      <td>0.014374</td>\n",
       "      <td>0.005863</td>\n",
       "    </tr>\n",
       "    <tr>\n",
       "      <th>1</th>\n",
       "      <td>1</td>\n",
       "      <td>24.671875</td>\n",
       "      <td>71.4375</td>\n",
       "      <td>0.027206</td>\n",
       "      <td>0.037018</td>\n",
       "      <td>0.029648</td>\n",
       "      <td>0.017548</td>\n",
       "      <td>0.039429</td>\n",
       "      <td>0.035492</td>\n",
       "      <td>0.078674</td>\n",
       "      <td>0.047699</td>\n",
       "    </tr>\n",
       "    <tr>\n",
       "      <th>2</th>\n",
       "      <td>2</td>\n",
       "      <td>24.671875</td>\n",
       "      <td>71.5000</td>\n",
       "      <td>0.050751</td>\n",
       "      <td>0.085754</td>\n",
       "      <td>0.065308</td>\n",
       "      <td>0.042999</td>\n",
       "      <td>0.081299</td>\n",
       "      <td>0.055176</td>\n",
       "      <td>0.115173</td>\n",
       "      <td>0.082825</td>\n",
       "    </tr>\n",
       "    <tr>\n",
       "      <th>3</th>\n",
       "      <td>3</td>\n",
       "      <td>24.671875</td>\n",
       "      <td>71.5625</td>\n",
       "      <td>0.067871</td>\n",
       "      <td>0.104797</td>\n",
       "      <td>0.090515</td>\n",
       "      <td>0.051239</td>\n",
       "      <td>0.107178</td>\n",
       "      <td>0.091003</td>\n",
       "      <td>0.145020</td>\n",
       "      <td>0.114380</td>\n",
       "    </tr>\n",
       "    <tr>\n",
       "      <th>4</th>\n",
       "      <td>4</td>\n",
       "      <td>24.671875</td>\n",
       "      <td>71.6250</td>\n",
       "      <td>0.016586</td>\n",
       "      <td>0.025070</td>\n",
       "      <td>0.025131</td>\n",
       "      <td>0.014526</td>\n",
       "      <td>0.022385</td>\n",
       "      <td>0.024872</td>\n",
       "      <td>0.032166</td>\n",
       "      <td>0.029541</td>\n",
       "    </tr>\n",
       "  </tbody>\n",
       "</table>\n",
       "</div>"
      ],
      "text/plain": [
       "   Unnamed: 0   Latitude  Longitude      2010      2011      2012      2013  \\\n",
       "0           0  24.671875    71.3125  0.009598  0.011497  0.010551  0.004887   \n",
       "1           1  24.671875    71.4375  0.027206  0.037018  0.029648  0.017548   \n",
       "2           2  24.671875    71.5000  0.050751  0.085754  0.065308  0.042999   \n",
       "3           3  24.671875    71.5625  0.067871  0.104797  0.090515  0.051239   \n",
       "4           4  24.671875    71.6250  0.016586  0.025070  0.025131  0.014526   \n",
       "\n",
       "       2014      2015      2016      2017  \n",
       "0  0.012367  0.008621  0.014374  0.005863  \n",
       "1  0.039429  0.035492  0.078674  0.047699  \n",
       "2  0.081299  0.055176  0.115173  0.082825  \n",
       "3  0.107178  0.091003  0.145020  0.114380  \n",
       "4  0.022385  0.024872  0.032166  0.029541  "
      ]
     },
     "execution_count": 9,
     "metadata": {},
     "output_type": "execute_result"
    }
   ],
   "source": [
    "biomass_history_scaled.head()"
   ]
  },
  {
   "cell_type": "code",
   "execution_count": 10,
   "metadata": {},
   "outputs": [
    {
     "data": {
      "text/html": [
       "<div>\n",
       "<style scoped>\n",
       "    .dataframe tbody tr th:only-of-type {\n",
       "        vertical-align: middle;\n",
       "    }\n",
       "\n",
       "    .dataframe tbody tr th {\n",
       "        vertical-align: top;\n",
       "    }\n",
       "\n",
       "    .dataframe thead th {\n",
       "        text-align: right;\n",
       "    }\n",
       "</style>\n",
       "<table border=\"1\" class=\"dataframe\">\n",
       "  <thead>\n",
       "    <tr style=\"text-align: right;\">\n",
       "      <th></th>\n",
       "      <th>Latitude</th>\n",
       "      <th>Longitude</th>\n",
       "      <th>2010</th>\n",
       "      <th>2011</th>\n",
       "      <th>2012</th>\n",
       "      <th>2013</th>\n",
       "      <th>2014</th>\n",
       "      <th>2015</th>\n",
       "      <th>2016</th>\n",
       "      <th>2017</th>\n",
       "    </tr>\n",
       "  </thead>\n",
       "  <tbody>\n",
       "    <tr>\n",
       "      <th>0</th>\n",
       "      <td>24.66818</td>\n",
       "      <td>71.33144</td>\n",
       "      <td>8.475744</td>\n",
       "      <td>8.868568</td>\n",
       "      <td>9.202181</td>\n",
       "      <td>6.023070</td>\n",
       "      <td>10.788374</td>\n",
       "      <td>6.647325</td>\n",
       "      <td>7.387925</td>\n",
       "      <td>5.180296</td>\n",
       "    </tr>\n",
       "    <tr>\n",
       "      <th>1</th>\n",
       "      <td>24.66818</td>\n",
       "      <td>71.41106</td>\n",
       "      <td>24.029778</td>\n",
       "      <td>28.551348</td>\n",
       "      <td>25.866415</td>\n",
       "      <td>21.634459</td>\n",
       "      <td>34.419411</td>\n",
       "      <td>27.361908</td>\n",
       "      <td>40.431847</td>\n",
       "      <td>42.126945</td>\n",
       "    </tr>\n",
       "    <tr>\n",
       "      <th>2</th>\n",
       "      <td>24.66818</td>\n",
       "      <td>71.49069</td>\n",
       "      <td>44.831635</td>\n",
       "      <td>66.111168</td>\n",
       "      <td>56.982258</td>\n",
       "      <td>53.003735</td>\n",
       "      <td>70.917908</td>\n",
       "      <td>42.517117</td>\n",
       "      <td>59.181629</td>\n",
       "      <td>73.203232</td>\n",
       "    </tr>\n",
       "    <tr>\n",
       "      <th>3</th>\n",
       "      <td>24.66818</td>\n",
       "      <td>71.57031</td>\n",
       "      <td>59.974419</td>\n",
       "      <td>80.821304</td>\n",
       "      <td>78.956543</td>\n",
       "      <td>63.160561</td>\n",
       "      <td>93.513924</td>\n",
       "      <td>70.203171</td>\n",
       "      <td>74.536720</td>\n",
       "      <td>101.067352</td>\n",
       "    </tr>\n",
       "    <tr>\n",
       "      <th>4</th>\n",
       "      <td>24.66818</td>\n",
       "      <td>71.64994</td>\n",
       "      <td>14.653370</td>\n",
       "      <td>19.327524</td>\n",
       "      <td>21.928144</td>\n",
       "      <td>17.899586</td>\n",
       "      <td>19.534035</td>\n",
       "      <td>19.165791</td>\n",
       "      <td>16.531315</td>\n",
       "      <td>26.086885</td>\n",
       "    </tr>\n",
       "  </tbody>\n",
       "</table>\n",
       "</div>"
      ],
      "text/plain": [
       "   Latitude  Longitude       2010       2011       2012       2013       2014  \\\n",
       "0  24.66818   71.33144   8.475744   8.868568   9.202181   6.023070  10.788374   \n",
       "1  24.66818   71.41106  24.029778  28.551348  25.866415  21.634459  34.419411   \n",
       "2  24.66818   71.49069  44.831635  66.111168  56.982258  53.003735  70.917908   \n",
       "3  24.66818   71.57031  59.974419  80.821304  78.956543  63.160561  93.513924   \n",
       "4  24.66818   71.64994  14.653370  19.327524  21.928144  17.899586  19.534035   \n",
       "\n",
       "        2015       2016        2017  \n",
       "0   6.647325   7.387925    5.180296  \n",
       "1  27.361908  40.431847   42.126945  \n",
       "2  42.517117  59.181629   73.203232  \n",
       "3  70.203171  74.536720  101.067352  \n",
       "4  19.165791  16.531315   26.086885  "
      ]
     },
     "execution_count": 10,
     "metadata": {},
     "output_type": "execute_result"
    }
   ],
   "source": [
    "biomass_history_unscaled.head()"
   ]
  },
  {
   "cell_type": "code",
   "execution_count": 11,
   "metadata": {},
   "outputs": [],
   "source": [
    "location = biomass_history_scaled[[\"Latitude\", \"Longitude\"]]\n",
    "time_series_data_scaled = biomass_history_scaled.iloc[:,:7]\n",
    "y_time_series_data_scaled = biomass_history_scaled[[\"2017\"]]"
   ]
  },
  {
   "cell_type": "code",
   "execution_count": 12,
   "metadata": {},
   "outputs": [],
   "source": [
    "time_series_data_unscaled = biomass_history_unscaled.iloc[:,2:9]\n",
    "y_time_series_data_unscaled = biomass_history_unscaled[[\"2017\"]]"
   ]
  },
  {
   "cell_type": "markdown",
   "metadata": {},
   "source": [
    "#### Data exploration"
   ]
  },
  {
   "cell_type": "code",
   "execution_count": 13,
   "metadata": {},
   "outputs": [
    {
     "name": "stderr",
     "output_type": "stream",
     "text": [
      "No artists with labels found to put in legend.  Note that artists whose label start with an underscore are ignored when legend() is called with no argument.\n"
     ]
    },
    {
     "data": {
      "image/png": "[encoded data removed]",
      "text/plain": [
       "<Figure size 640x480 with 1 Axes>"
      ]
     },
     "metadata": {},
     "output_type": "display_data"
    }
   ],
   "source": [
    "# Extract the years from the column names\n",
    "years = biomass_history_scaled.columns[2:9]\n",
    "i = 0\n",
    "# Loop through each row and plot the values against years\n",
    "for index, row in biomass_history_scaled.iterrows():\n",
    "    plt.plot(years, row[:7])\n",
    "    i += 1\n",
    "    if i == 6:\n",
    "        break\n",
    "\n",
    "# Customize the plot\n",
    "plt.xlabel('Year')\n",
    "plt.ylabel('Value')\n",
    "plt.title('Data Plot of scaled datapoints')\n",
    "plt.legend()\n",
    "plt.xticks(rotation=45)\n",
    "\n",
    "# Show the plot\n",
    "plt.tight_layout()\n",
    "plt.show()"
   ]
  },
  {
   "cell_type": "code",
   "execution_count": 14,
   "metadata": {},
   "outputs": [
    {
     "name": "stderr",
     "output_type": "stream",
     "text": [
      "No artists with labels found to put in legend.  Note that artists whose label start with an underscore are ignored when legend() is called with no argument.\n"
     ]
    },
    {
     "data": {
      "image/png": "[encoded data removed]",
      "text/plain": [
       "<Figure size 640x480 with 1 Axes>"
      ]
     },
     "metadata": {},
     "output_type": "display_data"
    }
   ],
   "source": [
    "# Extract the years from the column names\n",
    "years = biomass_history_unscaled.columns[2:9]\n",
    "i = 0\n",
    "# Loop through each row and plot the values against years\n",
    "for index, row in biomass_history_unscaled.iterrows():\n",
    "    plt.plot(years, row[2:9])\n",
    "    i += 1\n",
    "    if i == 6:\n",
    "        break\n",
    "\n",
    "# Customize the plot\n",
    "plt.xlabel('Year')\n",
    "plt.ylabel('Value')\n",
    "plt.title('Data Plot of unscaled datapoints')\n",
    "plt.legend()\n",
    "plt.xticks(rotation=45)\n",
    "\n",
    "# Show the plot\n",
    "plt.tight_layout()\n",
    "plt.show()"
   ]
  },
  {
   "cell_type": "markdown",
   "metadata": {},
   "source": [
    "#### Test for stationary points"
   ]
  },
  {
   "cell_type": "code",
   "execution_count": 15,
   "metadata": {},
   "outputs": [],
   "source": [
    "test_scaled = time_series_data_scaled.iloc[:5,:]\n",
    "test_unscaled = time_series_data_unscaled.iloc[:5,:]\n",
    "y_scaled = y_time_series_data_scaled[:5]\n",
    "y_unscaled = y_time_series_data_unscaled[:5]"
   ]
  },
  {
   "cell_type": "code",
   "execution_count": 16,
   "metadata": {},
   "outputs": [],
   "source": [
    "from statsmodels.tsa.stattools import adfuller"
   ]
  },
  {
   "cell_type": "code",
   "execution_count": 17,
   "metadata": {},
   "outputs": [],
   "source": [
    "# function to return if the point is stationary or not\n",
    "\n",
    "def ad_test(dataset):\n",
    "    dftest = adfuller(dataset, autolag = \"AIC\")\n",
    "    #print(dftest)\n",
    "    \n",
    "    if dftest[1] < 0.05:\n",
    "        return True\n",
    "    else:\n",
    "        return False"
   ]
  },
  {
   "cell_type": "code",
   "execution_count": 18,
   "metadata": {},
   "outputs": [
    {
     "data": {
      "text/html": [
       "<div>\n",
       "<style scoped>\n",
       "    .dataframe tbody tr th:only-of-type {\n",
       "        vertical-align: middle;\n",
       "    }\n",
       "\n",
       "    .dataframe tbody tr th {\n",
       "        vertical-align: top;\n",
       "    }\n",
       "\n",
       "    .dataframe thead th {\n",
       "        text-align: right;\n",
       "    }\n",
       "</style>\n",
       "<table border=\"1\" class=\"dataframe\">\n",
       "  <thead>\n",
       "    <tr style=\"text-align: right;\">\n",
       "      <th></th>\n",
       "      <th>2010</th>\n",
       "      <th>2011</th>\n",
       "      <th>2012</th>\n",
       "      <th>2013</th>\n",
       "      <th>2014</th>\n",
       "      <th>2015</th>\n",
       "      <th>2016</th>\n",
       "    </tr>\n",
       "  </thead>\n",
       "  <tbody>\n",
       "    <tr>\n",
       "      <th>0</th>\n",
       "      <td>8.475744</td>\n",
       "      <td>8.868568</td>\n",
       "      <td>9.202181</td>\n",
       "      <td>6.023070</td>\n",
       "      <td>10.788374</td>\n",
       "      <td>6.647325</td>\n",
       "      <td>7.387925</td>\n",
       "    </tr>\n",
       "    <tr>\n",
       "      <th>1</th>\n",
       "      <td>24.029778</td>\n",
       "      <td>28.551348</td>\n",
       "      <td>25.866415</td>\n",
       "      <td>21.634459</td>\n",
       "      <td>34.419411</td>\n",
       "      <td>27.361908</td>\n",
       "      <td>40.431847</td>\n",
       "    </tr>\n",
       "    <tr>\n",
       "      <th>2</th>\n",
       "      <td>44.831635</td>\n",
       "      <td>66.111168</td>\n",
       "      <td>56.982258</td>\n",
       "      <td>53.003735</td>\n",
       "      <td>70.917908</td>\n",
       "      <td>42.517117</td>\n",
       "      <td>59.181629</td>\n",
       "    </tr>\n",
       "    <tr>\n",
       "      <th>3</th>\n",
       "      <td>59.974419</td>\n",
       "      <td>80.821304</td>\n",
       "      <td>78.956543</td>\n",
       "      <td>63.160561</td>\n",
       "      <td>93.513924</td>\n",
       "      <td>70.203171</td>\n",
       "      <td>74.536720</td>\n",
       "    </tr>\n",
       "    <tr>\n",
       "      <th>4</th>\n",
       "      <td>14.653370</td>\n",
       "      <td>19.327524</td>\n",
       "      <td>21.928144</td>\n",
       "      <td>17.899586</td>\n",
       "      <td>19.534035</td>\n",
       "      <td>19.165791</td>\n",
       "      <td>16.531315</td>\n",
       "    </tr>\n",
       "  </tbody>\n",
       "</table>\n",
       "</div>"
      ],
      "text/plain": [
       "        2010       2011       2012       2013       2014       2015       2016\n",
       "0   8.475744   8.868568   9.202181   6.023070  10.788374   6.647325   7.387925\n",
       "1  24.029778  28.551348  25.866415  21.634459  34.419411  27.361908  40.431847\n",
       "2  44.831635  66.111168  56.982258  53.003735  70.917908  42.517117  59.181629\n",
       "3  59.974419  80.821304  78.956543  63.160561  93.513924  70.203171  74.536720\n",
       "4  14.653370  19.327524  21.928144  17.899586  19.534035  19.165791  16.531315"
      ]
     },
     "execution_count": 18,
     "metadata": {},
     "output_type": "execute_result"
    }
   ],
   "source": [
    "test_unscaled"
   ]
  },
  {
   "cell_type": "markdown",
   "metadata": {},
   "source": [
    "#### Transformations to transform non-stationary point"
   ]
  },
  {
   "cell_type": "code",
   "execution_count": 19,
   "metadata": {},
   "outputs": [
    {
     "data": {
      "text/plain": [
       "1732"
      ]
     },
     "execution_count": 19,
     "metadata": {},
     "output_type": "execute_result"
    }
   ],
   "source": [
    "# function to count number of stationary points, given a dataframe\n",
    "def number_of_non_stationary_points(dataframe):\n",
    "    count_of_non_stationary_points = 0\n",
    "    for row in dataframe.itertuples():\n",
    "\n",
    "        data = np.cbrt(pd.DataFrame(row[1:])).diff().dropna()\n",
    "\n",
    "        ad_test_result = ad_test(data)\n",
    "\n",
    "        if ad_test_result == True:\n",
    "            pass\n",
    "        else:\n",
    "            count_of_non_stationary_points += 1\n",
    "\n",
    "    return count_of_non_stationary_points\n",
    "\n",
    "number_of_non_stationary_points(time_series_data_scaled)"
   ]
  },
  {
   "cell_type": "code",
   "execution_count": 20,
   "metadata": {},
   "outputs": [
    {
     "data": {
      "text/plain": [
       "2"
      ]
     },
     "execution_count": 20,
     "metadata": {},
     "output_type": "execute_result"
    }
   ],
   "source": [
    "# function to count number of stationary points using boxcox transformation, given a dataframe\n",
    "from scipy import stats\n",
    "def number_of_non_stationary_points_using_boxcox(dataframe):\n",
    "    count_of_non_stationary_points = 0\n",
    "\n",
    "    for row in dataframe.itertuples():\n",
    "        fitted_data, fitted_lambda = stats.boxcox(np.array(row[1:]))\n",
    "        ad_test_result = ad_test(fitted_data)\n",
    "        if ad_test_result == True:\n",
    "            pass\n",
    "        else:\n",
    "            count_of_non_stationary_points += 1\n",
    "\n",
    "    return count_of_non_stationary_points\n",
    "\n",
    "number_of_non_stationary_points_using_boxcox(test_unscaled)"
   ]
  },
  {
   "cell_type": "markdown",
   "metadata": {},
   "source": [
    "### Transforming data using trnsformation"
   ]
  },
  {
   "cell_type": "code",
   "execution_count": 21,
   "metadata": {},
   "outputs": [],
   "source": [
    "def transform_data(data):\n",
    "\n",
    "    transformed_data = np.cbrt(data).diff().dropna()\n",
    "\n",
    "    return transformed_data"
   ]
  },
  {
   "cell_type": "code",
   "execution_count": 22,
   "metadata": {},
   "outputs": [],
   "source": [
    "data = transform_data(time_series_data_scaled.T).T"
   ]
  },
  {
   "cell_type": "code",
   "execution_count": 23,
   "metadata": {},
   "outputs": [],
   "source": [
    "y_transformed = np.cbrt(y_time_series_data_scaled)"
   ]
  },
  {
   "cell_type": "markdown",
   "metadata": {},
   "source": [
    "### Train test split"
   ]
  },
  {
   "cell_type": "code",
   "execution_count": 24,
   "metadata": {},
   "outputs": [],
   "source": [
    "X_train, X_test, y_train, y_test = train_test_split(data, y_transformed, test_size = 0.2, random_state = 0)"
   ]
  },
  {
   "cell_type": "code",
   "execution_count": 25,
   "metadata": {},
   "outputs": [
    {
     "data": {
      "text/html": [
       "<div>\n",
       "<style scoped>\n",
       "    .dataframe tbody tr th:only-of-type {\n",
       "        vertical-align: middle;\n",
       "    }\n",
       "\n",
       "    .dataframe tbody tr th {\n",
       "        vertical-align: top;\n",
       "    }\n",
       "\n",
       "    .dataframe thead th {\n",
       "        text-align: right;\n",
       "    }\n",
       "</style>\n",
       "<table border=\"1\" class=\"dataframe\">\n",
       "  <thead>\n",
       "    <tr style=\"text-align: right;\">\n",
       "      <th></th>\n",
       "      <th>Latitude</th>\n",
       "      <th>Longitude</th>\n",
       "      <th>2010</th>\n",
       "      <th>2011</th>\n",
       "      <th>2012</th>\n",
       "      <th>2013</th>\n",
       "    </tr>\n",
       "  </thead>\n",
       "  <tbody>\n",
       "    <tr>\n",
       "      <th>2328</th>\n",
       "      <td>-10.503411</td>\n",
       "      <td>1.444788</td>\n",
       "      <td>-4.067707</td>\n",
       "      <td>-0.023836</td>\n",
       "      <td>0.028834</td>\n",
       "      <td>0.006325</td>\n",
       "    </tr>\n",
       "    <tr>\n",
       "      <th>1742</th>\n",
       "      <td>-9.240267</td>\n",
       "      <td>1.335356</td>\n",
       "      <td>-3.276898</td>\n",
       "      <td>0.064898</td>\n",
       "      <td>-0.294815</td>\n",
       "      <td>0.147209</td>\n",
       "    </tr>\n",
       "    <tr>\n",
       "      <th>810</th>\n",
       "      <td>-6.475257</td>\n",
       "      <td>1.314930</td>\n",
       "      <td>-3.443548</td>\n",
       "      <td>0.010736</td>\n",
       "      <td>-0.092104</td>\n",
       "      <td>-0.014807</td>\n",
       "    </tr>\n",
       "    <tr>\n",
       "      <th>2014</th>\n",
       "      <td>-9.853967</td>\n",
       "      <td>1.346712</td>\n",
       "      <td>-3.744342</td>\n",
       "      <td>0.067463</td>\n",
       "      <td>-0.071882</td>\n",
       "      <td>0.080570</td>\n",
       "    </tr>\n",
       "    <tr>\n",
       "      <th>618</th>\n",
       "      <td>-5.661790</td>\n",
       "      <td>1.318512</td>\n",
       "      <td>-3.579517</td>\n",
       "      <td>0.006367</td>\n",
       "      <td>0.009741</td>\n",
       "      <td>-0.066992</td>\n",
       "    </tr>\n",
       "    <tr>\n",
       "      <th>...</th>\n",
       "      <td>...</td>\n",
       "      <td>...</td>\n",
       "      <td>...</td>\n",
       "      <td>...</td>\n",
       "      <td>...</td>\n",
       "      <td>...</td>\n",
       "    </tr>\n",
       "    <tr>\n",
       "      <th>1814</th>\n",
       "      <td>-9.407151</td>\n",
       "      <td>1.366638</td>\n",
       "      <td>-3.538687</td>\n",
       "      <td>0.016158</td>\n",
       "      <td>-0.123081</td>\n",
       "      <td>0.026618</td>\n",
       "    </tr>\n",
       "    <tr>\n",
       "      <th>1388</th>\n",
       "      <td>-8.342222</td>\n",
       "      <td>1.312349</td>\n",
       "      <td>-3.492550</td>\n",
       "      <td>0.094765</td>\n",
       "      <td>-0.373718</td>\n",
       "      <td>0.309593</td>\n",
       "    </tr>\n",
       "    <tr>\n",
       "      <th>2270</th>\n",
       "      <td>-10.385548</td>\n",
       "      <td>1.434363</td>\n",
       "      <td>-4.073298</td>\n",
       "      <td>0.006411</td>\n",
       "      <td>-0.013270</td>\n",
       "      <td>0.019900</td>\n",
       "    </tr>\n",
       "    <tr>\n",
       "      <th>794</th>\n",
       "      <td>-6.413471</td>\n",
       "      <td>1.289511</td>\n",
       "      <td>-3.293848</td>\n",
       "      <td>0.007958</td>\n",
       "      <td>0.002694</td>\n",
       "      <td>-0.092903</td>\n",
       "    </tr>\n",
       "    <tr>\n",
       "      <th>682</th>\n",
       "      <td>-5.949418</td>\n",
       "      <td>1.319316</td>\n",
       "      <td>-3.699154</td>\n",
       "      <td>0.078199</td>\n",
       "      <td>0.016003</td>\n",
       "      <td>-0.147202</td>\n",
       "    </tr>\n",
       "  </tbody>\n",
       "</table>\n",
       "<p>484 rows × 6 columns</p>\n",
       "</div>"
      ],
      "text/plain": [
       "       Latitude  Longitude      2010      2011      2012      2013\n",
       "2328 -10.503411   1.444788 -4.067707 -0.023836  0.028834  0.006325\n",
       "1742  -9.240267   1.335356 -3.276898  0.064898 -0.294815  0.147209\n",
       "810   -6.475257   1.314930 -3.443548  0.010736 -0.092104 -0.014807\n",
       "2014  -9.853967   1.346712 -3.744342  0.067463 -0.071882  0.080570\n",
       "618   -5.661790   1.318512 -3.579517  0.006367  0.009741 -0.066992\n",
       "...         ...        ...       ...       ...       ...       ...\n",
       "1814  -9.407151   1.366638 -3.538687  0.016158 -0.123081  0.026618\n",
       "1388  -8.342222   1.312349 -3.492550  0.094765 -0.373718  0.309593\n",
       "2270 -10.385548   1.434363 -4.073298  0.006411 -0.013270  0.019900\n",
       "794   -6.413471   1.289511 -3.293848  0.007958  0.002694 -0.092903\n",
       "682   -5.949418   1.319316 -3.699154  0.078199  0.016003 -0.147202\n",
       "\n",
       "[484 rows x 6 columns]"
      ]
     },
     "execution_count": 25,
     "metadata": {},
     "output_type": "execute_result"
    }
   ],
   "source": [
    "X_test"
   ]
  },
  {
   "cell_type": "markdown",
   "metadata": {},
   "source": [
    "## Forecasting"
   ]
  },
  {
   "cell_type": "markdown",
   "metadata": {},
   "source": [
    "#### Implementing Linear Regression"
   ]
  },
  {
   "cell_type": "code",
   "execution_count": 26,
   "metadata": {},
   "outputs": [],
   "source": [
    "from sklearn.linear_model import LinearRegression\n",
    "from sklearn.metrics import r2_score"
   ]
  },
  {
   "cell_type": "code",
   "execution_count": 27,
   "metadata": {},
   "outputs": [
    {
     "data": {
      "text/html": [
       "<style>#sk-container-id-1 {color: black;}#sk-container-id-1 pre{padding: 0;}#sk-container-id-1 div.sk-toggleable {background-color: white;}#sk-container-id-1 label.sk-toggleable__label {cursor: pointer;display: block;width: 100%;margin-bottom: 0;padding: 0.3em;box-sizing: border-box;text-align: center;}#sk-container-id-1 label.sk-toggleable__label-arrow:before {content: \"▸\";float: left;margin-right: 0.25em;color: #696969;}#sk-container-id-1 label.sk-toggleable__label-arrow:hover:before {color: black;}#sk-container-id-1 div.sk-estimator:hover label.sk-toggleable__label-arrow:before {color: black;}#sk-container-id-1 div.sk-toggleable__content {max-height: 0;max-width: 0;overflow: hidden;text-align: left;background-color: #f0f8ff;}#sk-container-id-1 div.sk-toggleable__content pre {margin: 0.2em;color: black;border-radius: 0.25em;background-color: #f0f8ff;}#sk-container-id-1 input.sk-toggleable__control:checked~div.sk-toggleable__content {max-height: 200px;max-width: 100%;overflow: auto;}#sk-container-id-1 input.sk-toggleable__control:checked~label.sk-toggleable__label-arrow:before {content: \"▾\";}#sk-container-id-1 div.sk-estimator input.sk-toggleable__control:checked~label.sk-toggleable__label {background-color: #d4ebff;}#sk-container-id-1 div.sk-label input.sk-toggleable__control:checked~label.sk-toggleable__label {background-color: #d4ebff;}#sk-container-id-1 input.sk-hidden--visually {border: 0;clip: rect(1px 1px 1px 1px);clip: rect(1px, 1px, 1px, 1px);height: 1px;margin: -1px;overflow: hidden;padding: 0;position: absolute;width: 1px;}#sk-container-id-1 div.sk-estimator {font-family: monospace;background-color: #f0f8ff;border: 1px dotted black;border-radius: 0.25em;box-sizing: border-box;margin-bottom: 0.5em;}#sk-container-id-1 div.sk-estimator:hover {background-color: #d4ebff;}#sk-container-id-1 div.sk-parallel-item::after {content: \"\";width: 100%;border-bottom: 1px solid gray;flex-grow: 1;}#sk-container-id-1 div.sk-label:hover label.sk-toggleable__label {background-color: #d4ebff;}#sk-container-id-1 div.sk-serial::before {content: \"\";position: absolute;border-left: 1px solid gray;box-sizing: border-box;top: 0;bottom: 0;left: 50%;z-index: 0;}#sk-container-id-1 div.sk-serial {display: flex;flex-direction: column;align-items: center;background-color: white;padding-right: 0.2em;padding-left: 0.2em;position: relative;}#sk-container-id-1 div.sk-item {position: relative;z-index: 1;}#sk-container-id-1 div.sk-parallel {display: flex;align-items: stretch;justify-content: center;background-color: white;position: relative;}#sk-container-id-1 div.sk-item::before, #sk-container-id-1 div.sk-parallel-item::before {content: \"\";position: absolute;border-left: 1px solid gray;box-sizing: border-box;top: 0;bottom: 0;left: 50%;z-index: -1;}#sk-container-id-1 div.sk-parallel-item {display: flex;flex-direction: column;z-index: 1;position: relative;background-color: white;}#sk-container-id-1 div.sk-parallel-item:first-child::after {align-self: flex-end;width: 50%;}#sk-container-id-1 div.sk-parallel-item:last-child::after {align-self: flex-start;width: 50%;}#sk-container-id-1 div.sk-parallel-item:only-child::after {width: 0;}#sk-container-id-1 div.sk-dashed-wrapped {border: 1px dashed gray;margin: 0 0.4em 0.5em 0.4em;box-sizing: border-box;padding-bottom: 0.4em;background-color: white;}#sk-container-id-1 div.sk-label label {font-family: monospace;font-weight: bold;display: inline-block;line-height: 1.2em;}#sk-container-id-1 div.sk-label-container {text-align: center;}#sk-container-id-1 div.sk-container {/* jupyter's `normalize.less` sets `[hidden] { display: none; }` but bootstrap.min.css set `[hidden] { display: none !important; }` so we also need the `!important` here to be able to override the default hidden behavior on the sphinx rendered scikit-learn.org. See: https://github.com/scikit-learn/scikit-learn/issues/21755 */display: inline-block !important;position: relative;}#sk-container-id-1 div.sk-text-repr-fallback {display: none;}</style><div id=\"sk-container-id-1\" class=\"sk-top-container\"><div class=\"sk-text-repr-fallback\"><pre>LinearRegression()</pre><b>In a Jupyter environment, please rerun this cell to show the HTML representation or trust the notebook. <br />On GitHub, the HTML representation is unable to render, please try loading this page with nbviewer.org.</b></div><div class=\"sk-container\" hidden><div class=\"sk-item\"><div class=\"sk-estimator sk-toggleable\"><input class=\"sk-toggleable__control sk-hidden--visually\" id=\"sk-estimator-id-1\" type=\"checkbox\" checked><label for=\"sk-estimator-id-1\" class=\"sk-toggleable__label sk-toggleable__label-arrow\">LinearRegression</label><div class=\"sk-toggleable__content\"><pre>LinearRegression()</pre></div></div></div></div></div>"
      ],
      "text/plain": [
       "LinearRegression()"
      ]
     },
     "execution_count": 27,
     "metadata": {},
     "output_type": "execute_result"
    }
   ],
   "source": [
    "lr = LinearRegression()\n",
    "lr.fit(X_train, y_train)"
   ]
  },
  {
   "cell_type": "code",
   "execution_count": 28,
   "metadata": {},
   "outputs": [
    {
     "data": {
      "text/plain": [
       "0.9472045203169803"
      ]
     },
     "execution_count": 28,
     "metadata": {},
     "output_type": "execute_result"
    }
   ],
   "source": [
    "y_pred = lr.predict(X_test)\n",
    "r2_score(y_test, y_pred)"
   ]
  },
  {
   "cell_type": "code",
   "execution_count": 29,
   "metadata": {},
   "outputs": [
    {
     "data": {
      "text/html": [
       "<div>\n",
       "<style scoped>\n",
       "    .dataframe tbody tr th:only-of-type {\n",
       "        vertical-align: middle;\n",
       "    }\n",
       "\n",
       "    .dataframe tbody tr th {\n",
       "        vertical-align: top;\n",
       "    }\n",
       "\n",
       "    .dataframe thead th {\n",
       "        text-align: right;\n",
       "    }\n",
       "</style>\n",
       "<table border=\"1\" class=\"dataframe\">\n",
       "  <thead>\n",
       "    <tr style=\"text-align: right;\">\n",
       "      <th></th>\n",
       "      <th>Latitude</th>\n",
       "      <th>Longitude</th>\n",
       "      <th>2010</th>\n",
       "      <th>2011</th>\n",
       "      <th>2012</th>\n",
       "      <th>2013</th>\n",
       "    </tr>\n",
       "  </thead>\n",
       "  <tbody>\n",
       "    <tr>\n",
       "      <th>386</th>\n",
       "      <td>-4.411683</td>\n",
       "      <td>1.296781</td>\n",
       "      <td>-3.562859</td>\n",
       "      <td>0.083146</td>\n",
       "      <td>-0.080364</td>\n",
       "      <td>-0.083534</td>\n",
       "    </tr>\n",
       "    <tr>\n",
       "      <th>1735</th>\n",
       "      <td>-9.224129</td>\n",
       "      <td>1.324320</td>\n",
       "      <td>-3.949279</td>\n",
       "      <td>-0.016181</td>\n",
       "      <td>-0.013210</td>\n",
       "      <td>0.038085</td>\n",
       "    </tr>\n",
       "    <tr>\n",
       "      <th>459</th>\n",
       "      <td>-4.851423</td>\n",
       "      <td>1.241620</td>\n",
       "      <td>-3.954083</td>\n",
       "      <td>0.001678</td>\n",
       "      <td>0.082066</td>\n",
       "      <td>-0.071969</td>\n",
       "    </tr>\n",
       "    <tr>\n",
       "      <th>1129</th>\n",
       "      <td>-7.583103</td>\n",
       "      <td>1.361605</td>\n",
       "      <td>-3.787775</td>\n",
       "      <td>0.008805</td>\n",
       "      <td>-0.021913</td>\n",
       "      <td>-0.026531</td>\n",
       "    </tr>\n",
       "    <tr>\n",
       "      <th>1914</th>\n",
       "      <td>-9.633974</td>\n",
       "      <td>1.357607</td>\n",
       "      <td>-3.265454</td>\n",
       "      <td>-0.024989</td>\n",
       "      <td>-0.272365</td>\n",
       "      <td>0.350881</td>\n",
       "    </tr>\n",
       "    <tr>\n",
       "      <th>...</th>\n",
       "      <td>...</td>\n",
       "      <td>...</td>\n",
       "      <td>...</td>\n",
       "      <td>...</td>\n",
       "      <td>...</td>\n",
       "      <td>...</td>\n",
       "    </tr>\n",
       "    <tr>\n",
       "      <th>1033</th>\n",
       "      <td>-7.275935</td>\n",
       "      <td>1.294532</td>\n",
       "      <td>-3.847321</td>\n",
       "      <td>0.072882</td>\n",
       "      <td>-0.179348</td>\n",
       "      <td>0.099417</td>\n",
       "    </tr>\n",
       "    <tr>\n",
       "      <th>1731</th>\n",
       "      <td>-9.214887</td>\n",
       "      <td>1.318163</td>\n",
       "      <td>-3.855269</td>\n",
       "      <td>0.088286</td>\n",
       "      <td>-0.099877</td>\n",
       "      <td>0.011121</td>\n",
       "    </tr>\n",
       "    <tr>\n",
       "      <th>763</th>\n",
       "      <td>-6.288146</td>\n",
       "      <td>1.340395</td>\n",
       "      <td>-3.751380</td>\n",
       "      <td>0.033348</td>\n",
       "      <td>-0.038483</td>\n",
       "      <td>-0.047229</td>\n",
       "    </tr>\n",
       "    <tr>\n",
       "      <th>835</th>\n",
       "      <td>-6.570189</td>\n",
       "      <td>1.353077</td>\n",
       "      <td>-3.957111</td>\n",
       "      <td>-0.006126</td>\n",
       "      <td>0.003634</td>\n",
       "      <td>-0.031944</td>\n",
       "    </tr>\n",
       "    <tr>\n",
       "      <th>1653</th>\n",
       "      <td>-9.025096</td>\n",
       "      <td>1.359040</td>\n",
       "      <td>-3.318650</td>\n",
       "      <td>0.012301</td>\n",
       "      <td>-0.191520</td>\n",
       "      <td>0.060294</td>\n",
       "    </tr>\n",
       "  </tbody>\n",
       "</table>\n",
       "<p>1934 rows × 6 columns</p>\n",
       "</div>"
      ],
      "text/plain": [
       "      Latitude  Longitude      2010      2011      2012      2013\n",
       "386  -4.411683   1.296781 -3.562859  0.083146 -0.080364 -0.083534\n",
       "1735 -9.224129   1.324320 -3.949279 -0.016181 -0.013210  0.038085\n",
       "459  -4.851423   1.241620 -3.954083  0.001678  0.082066 -0.071969\n",
       "1129 -7.583103   1.361605 -3.787775  0.008805 -0.021913 -0.026531\n",
       "1914 -9.633974   1.357607 -3.265454 -0.024989 -0.272365  0.350881\n",
       "...        ...        ...       ...       ...       ...       ...\n",
       "1033 -7.275935   1.294532 -3.847321  0.072882 -0.179348  0.099417\n",
       "1731 -9.214887   1.318163 -3.855269  0.088286 -0.099877  0.011121\n",
       "763  -6.288146   1.340395 -3.751380  0.033348 -0.038483 -0.047229\n",
       "835  -6.570189   1.353077 -3.957111 -0.006126  0.003634 -0.031944\n",
       "1653 -9.025096   1.359040 -3.318650  0.012301 -0.191520  0.060294\n",
       "\n",
       "[1934 rows x 6 columns]"
      ]
     },
     "execution_count": 29,
     "metadata": {},
     "output_type": "execute_result"
    }
   ],
   "source": [
    "X_train"
   ]
  },
  {
   "cell_type": "code",
   "execution_count": 30,
   "metadata": {},
   "outputs": [
    {
     "data": {
      "text/html": [
       "<div>\n",
       "<style scoped>\n",
       "    .dataframe tbody tr th:only-of-type {\n",
       "        vertical-align: middle;\n",
       "    }\n",
       "\n",
       "    .dataframe tbody tr th {\n",
       "        vertical-align: top;\n",
       "    }\n",
       "\n",
       "    .dataframe thead th {\n",
       "        text-align: right;\n",
       "    }\n",
       "</style>\n",
       "<table border=\"1\" class=\"dataframe\">\n",
       "  <thead>\n",
       "    <tr style=\"text-align: right;\">\n",
       "      <th></th>\n",
       "      <th>2017</th>\n",
       "    </tr>\n",
       "  </thead>\n",
       "  <tbody>\n",
       "    <tr>\n",
       "      <th>386</th>\n",
       "      <td>0.560823</td>\n",
       "    </tr>\n",
       "    <tr>\n",
       "      <th>1735</th>\n",
       "      <td>0.187391</td>\n",
       "    </tr>\n",
       "    <tr>\n",
       "      <th>459</th>\n",
       "      <td>0.156821</td>\n",
       "    </tr>\n",
       "    <tr>\n",
       "      <th>1129</th>\n",
       "      <td>0.466096</td>\n",
       "    </tr>\n",
       "    <tr>\n",
       "      <th>1914</th>\n",
       "      <td>0.783228</td>\n",
       "    </tr>\n",
       "    <tr>\n",
       "      <th>...</th>\n",
       "      <td>...</td>\n",
       "    </tr>\n",
       "    <tr>\n",
       "      <th>1033</th>\n",
       "      <td>0.367321</td>\n",
       "    </tr>\n",
       "    <tr>\n",
       "      <th>1731</th>\n",
       "      <td>0.259483</td>\n",
       "    </tr>\n",
       "    <tr>\n",
       "      <th>763</th>\n",
       "      <td>0.438666</td>\n",
       "    </tr>\n",
       "    <tr>\n",
       "      <th>835</th>\n",
       "      <td>0.233329</td>\n",
       "    </tr>\n",
       "    <tr>\n",
       "      <th>1653</th>\n",
       "      <td>0.819467</td>\n",
       "    </tr>\n",
       "  </tbody>\n",
       "</table>\n",
       "<p>1934 rows × 1 columns</p>\n",
       "</div>"
      ],
      "text/plain": [
       "          2017\n",
       "386   0.560823\n",
       "1735  0.187391\n",
       "459   0.156821\n",
       "1129  0.466096\n",
       "1914  0.783228\n",
       "...        ...\n",
       "1033  0.367321\n",
       "1731  0.259483\n",
       "763   0.438666\n",
       "835   0.233329\n",
       "1653  0.819467\n",
       "\n",
       "[1934 rows x 1 columns]"
      ]
     },
     "execution_count": 30,
     "metadata": {},
     "output_type": "execute_result"
    }
   ],
   "source": [
    "y_train"
   ]
  },
  {
   "cell_type": "markdown",
   "metadata": {},
   "source": [
    "## Implementing LSTM"
   ]
  },
  {
   "cell_type": "code",
   "execution_count": 31,
   "metadata": {},
   "outputs": [],
   "source": [
    "from keras.models import Sequential\n",
    "from keras.layers import Dense, Dropout, LSTM"
   ]
  },
  {
   "cell_type": "code",
   "execution_count": 32,
   "metadata": {},
   "outputs": [],
   "source": [
    "import numpy as np"
   ]
  },
  {
   "cell_type": "code",
   "execution_count": 33,
   "metadata": {},
   "outputs": [
    {
     "name": "stderr",
     "output_type": "stream",
     "text": [
      "2023-08-22 19:40:44.020651: I tensorflow/compiler/xla/stream_executor/cuda/cuda_gpu_executor.cc:995] successful NUMA node read from SysFS had negative value (-1), but there must be at least one NUMA node, so returning NUMA node zero. See more at https://github.com/torvalds/linux/blob/v6.0/Documentation/ABI/testing/sysfs-bus-pci#L344-L355\n",
      "2023-08-22 19:40:44.118692: I tensorflow/compiler/xla/stream_executor/cuda/cuda_gpu_executor.cc:995] successful NUMA node read from SysFS had negative value (-1), but there must be at least one NUMA node, so returning NUMA node zero. See more at https://github.com/torvalds/linux/blob/v6.0/Documentation/ABI/testing/sysfs-bus-pci#L344-L355\n",
      "2023-08-22 19:40:44.118998: I tensorflow/compiler/xla/stream_executor/cuda/cuda_gpu_executor.cc:995] successful NUMA node read from SysFS had negative value (-1), but there must be at least one NUMA node, so returning NUMA node zero. See more at https://github.com/torvalds/linux/blob/v6.0/Documentation/ABI/testing/sysfs-bus-pci#L344-L355\n",
      "2023-08-22 19:40:44.120683: I tensorflow/compiler/xla/stream_executor/cuda/cuda_gpu_executor.cc:995] successful NUMA node read from SysFS had negative value (-1), but there must be at least one NUMA node, so returning NUMA node zero. See more at https://github.com/torvalds/linux/blob/v6.0/Documentation/ABI/testing/sysfs-bus-pci#L344-L355\n",
      "2023-08-22 19:40:44.120956: I tensorflow/compiler/xla/stream_executor/cuda/cuda_gpu_executor.cc:995] successful NUMA node read from SysFS had negative value (-1), but there must be at least one NUMA node, so returning NUMA node zero. See more at https://github.com/torvalds/linux/blob/v6.0/Documentation/ABI/testing/sysfs-bus-pci#L344-L355\n",
      "2023-08-22 19:40:44.121089: I tensorflow/compiler/xla/stream_executor/cuda/cuda_gpu_executor.cc:995] successful NUMA node read from SysFS had negative value (-1), but there must be at least one NUMA node, so returning NUMA node zero. See more at https://github.com/torvalds/linux/blob/v6.0/Documentation/ABI/testing/sysfs-bus-pci#L344-L355\n",
      "2023-08-22 19:40:44.212925: I tensorflow/compiler/xla/stream_executor/cuda/cuda_gpu_executor.cc:995] successful NUMA node read from SysFS had negative value (-1), but there must be at least one NUMA node, so returning NUMA node zero. See more at https://github.com/torvalds/linux/blob/v6.0/Documentation/ABI/testing/sysfs-bus-pci#L344-L355\n",
      "2023-08-22 19:40:44.213243: I tensorflow/compiler/xla/stream_executor/cuda/cuda_gpu_executor.cc:995] successful NUMA node read from SysFS had negative value (-1), but there must be at least one NUMA node, so returning NUMA node zero. See more at https://github.com/torvalds/linux/blob/v6.0/Documentation/ABI/testing/sysfs-bus-pci#L344-L355\n",
      "2023-08-22 19:40:44.213412: I tensorflow/compiler/xla/stream_executor/cuda/cuda_gpu_executor.cc:995] successful NUMA node read from SysFS had negative value (-1), but there must be at least one NUMA node, so returning NUMA node zero. See more at https://github.com/torvalds/linux/blob/v6.0/Documentation/ABI/testing/sysfs-bus-pci#L344-L355\n",
      "2023-08-22 19:40:44.213559: I tensorflow/core/common_runtime/gpu/gpu_device.cc:1639] Created device /job:localhost/replica:0/task:0/device:GPU:0 with 4279 MB memory:  -> device: 0, name: NVIDIA GeForce RTX 3060 Laptop GPU, pci bus id: 0000:01:00.0, compute capability: 8.6\n"
     ]
    },
    {
     "name": "stdout",
     "output_type": "stream",
     "text": [
      "Model: \"sequential\"\n",
      "_________________________________________________________________\n",
      " Layer (type)                Output Shape              Param #   \n",
      "=================================================================\n",
      " lstm (LSTM)                 (None, 6, 100)            40800     \n",
      "                                                                 \n",
      " dropout (Dropout)           (None, 6, 100)            0         \n",
      "                                                                 \n",
      " lstm_1 (LSTM)               (None, 6, 100)            80400     \n",
      "                                                                 \n",
      " dropout_1 (Dropout)         (None, 6, 100)            0         \n",
      "                                                                 \n",
      " lstm_2 (LSTM)               (None, 100)               80400     \n",
      "                                                                 \n",
      " dropout_2 (Dropout)         (None, 100)               0         \n",
      "                                                                 \n",
      " dense (Dense)               (None, 1)                 101       \n",
      "                                                                 \n",
      "=================================================================\n",
      "Total params: 201701 (787.89 KB)\n",
      "Trainable params: 201701 (787.89 KB)\n",
      "Non-trainable params: 0 (0.00 Byte)\n",
      "_________________________________________________________________\n"
     ]
    }
   ],
   "source": [
    "# setting the seed to achieve consistent and less random predictions at each execution\n",
    "np.random.seed(0)\n",
    "\n",
    "# setting the model architecture\n",
    "model=Sequential()\n",
    "model.add(LSTM(100,return_sequences = True, activation='tanh',input_shape=(len(X_train.columns),1)))\n",
    "model.add(Dropout(0.1))\n",
    "model.add(LSTM(100,return_sequences = True, activation='tanh'))\n",
    "model.add(Dropout(0.1))\n",
    "\n",
    "model.add(LSTM(100, activation = 'tanh'))\n",
    "model.add(Dropout(0.1))\n",
    "model.add(Dense(1))\n",
    "\n",
    "# printing the model summary\n",
    "model.summary()"
   ]
  },
  {
   "cell_type": "code",
   "execution_count": 34,
   "metadata": {},
   "outputs": [
    {
     "name": "stdout",
     "output_type": "stream",
     "text": [
      "Epoch 1/50\n"
     ]
    },
    {
     "name": "stderr",
     "output_type": "stream",
     "text": [
      "2023-08-22 19:40:49.785847: I tensorflow/compiler/xla/stream_executor/cuda/cuda_dnn.cc:432] Loaded cuDNN version 8904\n",
      "2023-08-22 19:40:49.951376: I tensorflow/compiler/xla/stream_executor/cuda/cuda_blas.cc:606] TensorFloat-32 will be used for the matrix multiplication. This will only be logged once.\n",
      "2023-08-22 19:40:49.956164: I tensorflow/compiler/xla/service/service.cc:168] XLA service 0x7fb208005d80 initialized for platform CUDA (this does not guarantee that XLA will be used). Devices:\n",
      "2023-08-22 19:40:49.956231: I tensorflow/compiler/xla/service/service.cc:176]   StreamExecutor device (0): NVIDIA GeForce RTX 3060 Laptop GPU, Compute Capability 8.6\n",
      "2023-08-22 19:40:49.962002: I tensorflow/compiler/mlir/tensorflow/utils/dump_mlir_util.cc:255] disabling MLIR crash reproducer, set env var `MLIR_CRASH_REPRODUCER_DIRECTORY` to enable.\n",
      "2023-08-22 19:40:50.164137: I ./tensorflow/compiler/jit/device_compiler.h:186] Compiled cluster using XLA!  This line is logged at most once for the lifetime of the process.\n"
     ]
    },
    {
     "name": "stdout",
     "output_type": "stream",
     "text": [
      "158/158 [==============================] - 8s 20ms/step - loss: 0.0567 - val_loss: 0.0482\n",
      "Epoch 2/50\n",
      "158/158 [==============================] - 2s 13ms/step - loss: 0.0514 - val_loss: 0.0479\n",
      "Epoch 3/50\n",
      "158/158 [==============================] - 2s 13ms/step - loss: 0.0519 - val_loss: 0.0516\n",
      "Epoch 4/50\n",
      "158/158 [==============================] - 2s 14ms/step - loss: 0.0508 - val_loss: 0.0492\n",
      "Epoch 5/50\n",
      "158/158 [==============================] - 2s 12ms/step - loss: 0.0506 - val_loss: 0.0478\n",
      "Epoch 6/50\n",
      "158/158 [==============================] - 2s 11ms/step - loss: 0.0524 - val_loss: 0.0478\n",
      "Epoch 7/50\n",
      "158/158 [==============================] - 2s 12ms/step - loss: 0.0499 - val_loss: 0.0483\n",
      "Epoch 8/50\n",
      "158/158 [==============================] - 2s 12ms/step - loss: 0.0513 - val_loss: 0.0488\n",
      "Epoch 9/50\n",
      "158/158 [==============================] - 2s 12ms/step - loss: 0.0506 - val_loss: 0.0470\n",
      "Epoch 10/50\n",
      "158/158 [==============================] - 2s 13ms/step - loss: 0.0507 - val_loss: 0.0476\n",
      "Epoch 11/50\n",
      "158/158 [==============================] - 2s 12ms/step - loss: 0.0495 - val_loss: 0.0440\n",
      "Epoch 12/50\n",
      "158/158 [==============================] - 2s 11ms/step - loss: 0.0422 - val_loss: 0.0212\n",
      "Epoch 13/50\n",
      "158/158 [==============================] - 2s 13ms/step - loss: 0.0123 - val_loss: 0.0062\n",
      "Epoch 14/50\n",
      "158/158 [==============================] - 2s 12ms/step - loss: 0.0078 - val_loss: 0.0085\n",
      "Epoch 15/50\n",
      "158/158 [==============================] - 2s 12ms/step - loss: 0.0061 - val_loss: 0.0034\n",
      "Epoch 16/50\n",
      "158/158 [==============================] - 2s 12ms/step - loss: 0.0057 - val_loss: 0.0030\n",
      "Epoch 17/50\n",
      "158/158 [==============================] - 2s 12ms/step - loss: 0.0048 - val_loss: 0.0031\n",
      "Epoch 18/50\n",
      "158/158 [==============================] - 2s 13ms/step - loss: 0.0055 - val_loss: 0.0048\n",
      "Epoch 19/50\n",
      "158/158 [==============================] - 2s 13ms/step - loss: 0.0053 - val_loss: 0.0028\n",
      "Epoch 20/50\n",
      "158/158 [==============================] - 2s 13ms/step - loss: 0.0052 - val_loss: 0.0034\n",
      "Epoch 21/50\n",
      "158/158 [==============================] - 2s 14ms/step - loss: 0.0048 - val_loss: 0.0039\n",
      "Epoch 22/50\n",
      "158/158 [==============================] - 2s 13ms/step - loss: 0.0055 - val_loss: 0.0053\n",
      "Epoch 23/50\n",
      "158/158 [==============================] - 2s 15ms/step - loss: 0.0044 - val_loss: 0.0032\n",
      "Epoch 24/50\n",
      "158/158 [==============================] - 2s 12ms/step - loss: 0.0043 - val_loss: 0.0040\n",
      "Epoch 25/50\n",
      "158/158 [==============================] - 2s 12ms/step - loss: 0.0052 - val_loss: 0.0058\n",
      "Epoch 26/50\n",
      "158/158 [==============================] - 2s 12ms/step - loss: 0.0047 - val_loss: 0.0029\n",
      "Epoch 27/50\n",
      "158/158 [==============================] - 2s 13ms/step - loss: 0.0043 - val_loss: 0.0048\n",
      "Epoch 28/50\n",
      "158/158 [==============================] - 2s 12ms/step - loss: 0.0042 - val_loss: 0.0029\n",
      "Epoch 29/50\n",
      "158/158 [==============================] - 2s 13ms/step - loss: 0.0046 - val_loss: 0.0036\n",
      "Epoch 30/50\n",
      "158/158 [==============================] - 2s 12ms/step - loss: 0.0041 - val_loss: 0.0038\n",
      "Epoch 31/50\n",
      "158/158 [==============================] - 2s 12ms/step - loss: 0.0051 - val_loss: 0.0045\n",
      "Epoch 32/50\n",
      "158/158 [==============================] - 2s 11ms/step - loss: 0.0040 - val_loss: 0.0038\n",
      "Epoch 33/50\n",
      "158/158 [==============================] - 2s 12ms/step - loss: 0.0046 - val_loss: 0.0030\n",
      "Epoch 34/50\n",
      "158/158 [==============================] - 2s 13ms/step - loss: 0.0043 - val_loss: 0.0033\n",
      "Epoch 35/50\n",
      "158/158 [==============================] - 2s 12ms/step - loss: 0.0041 - val_loss: 0.0028\n",
      "Epoch 36/50\n",
      "158/158 [==============================] - 2s 13ms/step - loss: 0.0039 - val_loss: 0.0031\n",
      "Epoch 37/50\n",
      "158/158 [==============================] - 2s 12ms/step - loss: 0.0039 - val_loss: 0.0076\n",
      "Epoch 38/50\n",
      "158/158 [==============================] - 2s 12ms/step - loss: 0.0043 - val_loss: 0.0029\n",
      "Epoch 39/50\n",
      "158/158 [==============================] - 2s 11ms/step - loss: 0.0043 - val_loss: 0.0047\n",
      "Epoch 40/50\n",
      "158/158 [==============================] - 2s 12ms/step - loss: 0.0047 - val_loss: 0.0027\n",
      "Epoch 41/50\n",
      "158/158 [==============================] - 2s 14ms/step - loss: 0.0037 - val_loss: 0.0045\n",
      "Epoch 42/50\n",
      "158/158 [==============================] - 2s 14ms/step - loss: 0.0038 - val_loss: 0.0059\n",
      "Epoch 43/50\n",
      "158/158 [==============================] - 2s 15ms/step - loss: 0.0038 - val_loss: 0.0023\n",
      "Epoch 44/50\n",
      "158/158 [==============================] - 2s 16ms/step - loss: 0.0038 - val_loss: 0.0041\n",
      "Epoch 45/50\n",
      "158/158 [==============================] - 2s 15ms/step - loss: 0.0041 - val_loss: 0.0026\n",
      "Epoch 46/50\n",
      "158/158 [==============================] - 2s 13ms/step - loss: 0.0039 - val_loss: 0.0034\n",
      "Epoch 47/50\n",
      "158/158 [==============================] - 2s 13ms/step - loss: 0.0034 - val_loss: 0.0059\n",
      "Epoch 48/50\n",
      "158/158 [==============================] - 2s 15ms/step - loss: 0.0042 - val_loss: 0.0030\n",
      "Epoch 49/50\n",
      "158/158 [==============================] - 2s 16ms/step - loss: 0.0036 - val_loss: 0.0025\n",
      "Epoch 50/50\n",
      "158/158 [==============================] - 2s 15ms/step - loss: 0.0038 - val_loss: 0.0028\n"
     ]
    },
    {
     "data": {
      "text/plain": [
       "<keras.src.callbacks.History at 0x7fb50360f280>"
      ]
     },
     "execution_count": 34,
     "metadata": {},
     "output_type": "execute_result"
    }
   ],
   "source": [
    "# compiling the model\n",
    "model.compile(loss='mse' , optimizer='adam')\n",
    "\n",
    "# fitting the model using the training dataset\n",
    "model.fit(X_train, y_train, validation_split=0.35, epochs=50, batch_size=8, verbose=1)"
   ]
  },
  {
   "cell_type": "markdown",
   "metadata": {},
   "source": [
    "#### Predictions"
   ]
  },
  {
   "cell_type": "code",
   "execution_count": 35,
   "metadata": {},
   "outputs": [
    {
     "name": "stdout",
     "output_type": "stream",
     "text": [
      "61/61 [==============================] - 1s 5ms/step\n"
     ]
    }
   ],
   "source": [
    "# Predictions\n",
    "predictions = model.predict(X_train) "
   ]
  },
  {
   "cell_type": "code",
   "execution_count": 36,
   "metadata": {},
   "outputs": [
    {
     "data": {
      "text/plain": [
       "array([[0.6236472 ],\n",
       "       [0.16833341],\n",
       "       [0.15277144],\n",
       "       ...,\n",
       "       [0.4482603 ],\n",
       "       [0.21156509],\n",
       "       [0.7963497 ]], dtype=float32)"
      ]
     },
     "execution_count": 36,
     "metadata": {},
     "output_type": "execute_result"
    }
   ],
   "source": [
    "predictions"
   ]
  },
  {
   "cell_type": "code",
   "execution_count": 37,
   "metadata": {},
   "outputs": [
    {
     "name": "stdout",
     "output_type": "stream",
     "text": [
      "   1/1934 [..............................] - ETA: 1:04 - loss: 0.0039"
     ]
    },
    {
     "name": "stdout",
     "output_type": "stream",
     "text": [
      "1934/1934 [==============================] - 12s 6ms/step - loss: 0.0033\n",
      "484/484 [==============================] - 2s 4ms/step - loss: 0.0037\n",
      "Train Loss = 0.0033\n",
      "Test Loss = 0.0037\n"
     ]
    }
   ],
   "source": [
    "# calculating the training mean-squared-error\n",
    "train_loss = model.evaluate(X_train, y_train, batch_size = 1)\n",
    "\n",
    "# calculating the test mean-squared-error\n",
    "test_loss = model.evaluate(X_test, y_test, batch_size = 1)\n",
    "\n",
    "# printing the training and the test mean-squared-errors\n",
    "print('Train Loss =', round(train_loss,4))\n",
    "print('Test Loss =', round(test_loss,4))"
   ]
  },
  {
   "cell_type": "code",
   "execution_count": 38,
   "metadata": {},
   "outputs": [
    {
     "name": "stdout",
     "output_type": "stream",
     "text": [
      "Epoch 1/50\n",
      "197/197 [==============================] - 3s 15ms/step - loss: 0.0041 - val_loss: 0.0023\n",
      "Epoch 2/50\n",
      "197/197 [==============================] - 3s 16ms/step - loss: 0.0035 - val_loss: 0.0043\n",
      "Epoch 3/50\n",
      "197/197 [==============================] - 3s 16ms/step - loss: 0.0034 - val_loss: 0.0032\n",
      "Epoch 4/50\n",
      "197/197 [==============================] - 3s 15ms/step - loss: 0.0037 - val_loss: 0.0055\n",
      "Epoch 5/50\n",
      "197/197 [==============================] - 3s 14ms/step - loss: 0.0034 - val_loss: 0.0058\n",
      "Epoch 6/50\n",
      "197/197 [==============================] - 3s 13ms/step - loss: 0.0035 - val_loss: 0.0028\n",
      "Epoch 7/50\n",
      "197/197 [==============================] - 3s 14ms/step - loss: 0.0035 - val_loss: 0.0034\n",
      "Epoch 8/50\n",
      "197/197 [==============================] - 3s 15ms/step - loss: 0.0032 - val_loss: 0.0112\n",
      "Epoch 9/50\n",
      "197/197 [==============================] - 3s 15ms/step - loss: 0.0034 - val_loss: 0.0030\n",
      "Epoch 10/50\n",
      "197/197 [==============================] - 3s 15ms/step - loss: 0.0035 - val_loss: 0.0064\n",
      "Epoch 11/50\n",
      "197/197 [==============================] - 3s 15ms/step - loss: 0.0032 - val_loss: 0.0067\n",
      "Epoch 12/50\n",
      "197/197 [==============================] - 3s 16ms/step - loss: 0.0034 - val_loss: 0.0088\n",
      "Epoch 13/50\n",
      "197/197 [==============================] - 3s 15ms/step - loss: 0.0034 - val_loss: 0.0043\n",
      "Epoch 14/50\n",
      "197/197 [==============================] - 3s 14ms/step - loss: 0.0028 - val_loss: 0.0035\n",
      "Epoch 15/50\n",
      "197/197 [==============================] - 3s 15ms/step - loss: 0.0032 - val_loss: 0.0062\n",
      "Epoch 16/50\n",
      "197/197 [==============================] - 4s 18ms/step - loss: 0.0028 - val_loss: 0.0082\n",
      "Epoch 17/50\n",
      "197/197 [==============================] - 4s 19ms/step - loss: 0.0028 - val_loss: 0.0080\n",
      "Epoch 18/50\n",
      "197/197 [==============================] - 3s 15ms/step - loss: 0.0032 - val_loss: 0.0034\n",
      "Epoch 19/50\n",
      "197/197 [==============================] - 3s 14ms/step - loss: 0.0032 - val_loss: 0.0076\n",
      "Epoch 20/50\n",
      "197/197 [==============================] - 3s 15ms/step - loss: 0.0030 - val_loss: 0.0048\n",
      "Epoch 21/50\n",
      "197/197 [==============================] - 3s 15ms/step - loss: 0.0030 - val_loss: 0.0098\n",
      "Epoch 22/50\n",
      "197/197 [==============================] - 3s 15ms/step - loss: 0.0030 - val_loss: 0.0049\n",
      "Epoch 23/50\n",
      "197/197 [==============================] - 3s 16ms/step - loss: 0.0026 - val_loss: 0.0124\n",
      "Epoch 24/50\n",
      "197/197 [==============================] - 3s 16ms/step - loss: 0.0031 - val_loss: 0.0036\n",
      "Epoch 25/50\n",
      "197/197 [==============================] - 3s 16ms/step - loss: 0.0027 - val_loss: 0.0093\n",
      "Epoch 26/50\n",
      "197/197 [==============================] - 3s 16ms/step - loss: 0.0027 - val_loss: 0.0051\n",
      "Epoch 27/50\n",
      "197/197 [==============================] - 3s 16ms/step - loss: 0.0025 - val_loss: 0.0159\n",
      "Epoch 28/50\n",
      "197/197 [==============================] - 3s 17ms/step - loss: 0.0029 - val_loss: 0.0113\n",
      "Epoch 29/50\n",
      "197/197 [==============================] - 3s 15ms/step - loss: 0.0027 - val_loss: 0.0110\n",
      "Epoch 30/50\n",
      "197/197 [==============================] - 3s 16ms/step - loss: 0.0026 - val_loss: 0.0042\n",
      "Epoch 31/50\n",
      "197/197 [==============================] - 3s 15ms/step - loss: 0.0025 - val_loss: 0.0085\n",
      "Epoch 32/50\n",
      "197/197 [==============================] - 3s 16ms/step - loss: 0.0036 - val_loss: 0.0061\n",
      "Epoch 33/50\n",
      "197/197 [==============================] - 3s 15ms/step - loss: 0.0024 - val_loss: 0.0068\n",
      "Epoch 34/50\n",
      "197/197 [==============================] - 3s 15ms/step - loss: 0.0026 - val_loss: 0.0101\n",
      "Epoch 35/50\n",
      "197/197 [==============================] - 3s 15ms/step - loss: 0.0028 - val_loss: 0.0103\n",
      "Epoch 36/50\n",
      "197/197 [==============================] - 3s 15ms/step - loss: 0.0024 - val_loss: 0.0074\n",
      "Epoch 37/50\n",
      "197/197 [==============================] - 3s 15ms/step - loss: 0.0028 - val_loss: 0.0079\n",
      "Epoch 38/50\n",
      "197/197 [==============================] - 3s 15ms/step - loss: 0.0024 - val_loss: 0.0064\n",
      "Epoch 39/50\n",
      "197/197 [==============================] - 3s 14ms/step - loss: 0.0024 - val_loss: 0.0124\n",
      "Epoch 40/50\n",
      "197/197 [==============================] - 3s 14ms/step - loss: 0.0024 - val_loss: 0.0060\n",
      "Epoch 41/50\n",
      "197/197 [==============================] - 3s 15ms/step - loss: 0.0025 - val_loss: 0.0045\n",
      "Epoch 42/50\n",
      "197/197 [==============================] - 3s 15ms/step - loss: 0.0027 - val_loss: 0.0058\n",
      "Epoch 43/50\n",
      "197/197 [==============================] - 3s 16ms/step - loss: 0.0025 - val_loss: 0.0081\n",
      "Epoch 44/50\n",
      "197/197 [==============================] - 3s 16ms/step - loss: 0.0023 - val_loss: 0.0072\n",
      "Epoch 45/50\n",
      "197/197 [==============================] - 3s 15ms/step - loss: 0.0024 - val_loss: 0.0068\n",
      "Epoch 46/50\n",
      "197/197 [==============================] - 3s 15ms/step - loss: 0.0023 - val_loss: 0.0060\n",
      "Epoch 47/50\n",
      "197/197 [==============================] - 3s 15ms/step - loss: 0.0025 - val_loss: 0.0073\n",
      "Epoch 48/50\n",
      "197/197 [==============================] - 3s 15ms/step - loss: 0.0022 - val_loss: 0.0093\n",
      "Epoch 49/50\n",
      "197/197 [==============================] - 3s 15ms/step - loss: 0.0024 - val_loss: 0.0054\n",
      "Epoch 50/50\n",
      "197/197 [==============================] - 3s 16ms/step - loss: 0.0023 - val_loss: 0.0098\n"
     ]
    },
    {
     "data": {
      "text/plain": [
       "<keras.src.callbacks.History at 0x7fb49cb39c40>"
      ]
     },
     "execution_count": 38,
     "metadata": {},
     "output_type": "execute_result"
    }
   ],
   "source": [
    "# training the model on the whole dataset\n",
    "model.fit(data, y_transformed, validation_split=0.35, epochs=50, batch_size=8, verbose=1)"
   ]
  },
  {
   "cell_type": "markdown",
   "metadata": {},
   "source": [
    "## Final Data Prepration "
   ]
  },
  {
   "cell_type": "code",
   "execution_count": 39,
   "metadata": {},
   "outputs": [
    {
     "name": "stdout",
     "output_type": "stream",
     "text": [
      " 1/76 [..............................] - ETA: 2s"
     ]
    },
    {
     "name": "stdout",
     "output_type": "stream",
     "text": [
      "76/76 [==============================] - 0s 6ms/step\n"
     ]
    }
   ],
   "source": [
    "pred_2018 = model.predict(data) "
   ]
  },
  {
   "cell_type": "code",
   "execution_count": 40,
   "metadata": {},
   "outputs": [],
   "source": [
    "pred_2018 =  pd.DataFrame(pred_2018, columns = ['2018'])"
   ]
  },
  {
   "cell_type": "code",
   "execution_count": 41,
   "metadata": {},
   "outputs": [],
   "source": [
    "data_with_2018 = pd.concat([data, y_transformed, pred_2018], axis=1)"
   ]
  },
  {
   "cell_type": "code",
   "execution_count": 42,
   "metadata": {},
   "outputs": [
    {
     "name": "stdout",
     "output_type": "stream",
     "text": [
      "76/76 [==============================] - 2s 7ms/step\n"
     ]
    }
   ],
   "source": [
    "pred_2019 = model.predict(data_with_2018) \n",
    "pred_2019 =  pd.DataFrame(pred_2019, columns = ['2019'])"
   ]
  },
  {
   "cell_type": "code",
   "execution_count": 43,
   "metadata": {},
   "outputs": [],
   "source": [
    "biomass_availability_forecasted_data = pd.concat([location, data_with_2018, pred_2019], axis=1)"
   ]
  },
  {
   "cell_type": "code",
   "execution_count": 44,
   "metadata": {},
   "outputs": [
    {
     "data": {
      "text/html": [
       "<div>\n",
       "<style scoped>\n",
       "    .dataframe tbody tr th:only-of-type {\n",
       "        vertical-align: middle;\n",
       "    }\n",
       "\n",
       "    .dataframe tbody tr th {\n",
       "        vertical-align: top;\n",
       "    }\n",
       "\n",
       "    .dataframe thead th {\n",
       "        text-align: right;\n",
       "    }\n",
       "</style>\n",
       "<table border=\"1\" class=\"dataframe\">\n",
       "  <thead>\n",
       "    <tr style=\"text-align: right;\">\n",
       "      <th></th>\n",
       "      <th>Latitude</th>\n",
       "      <th>Longitude</th>\n",
       "      <th>Latitude</th>\n",
       "      <th>Longitude</th>\n",
       "      <th>2010</th>\n",
       "      <th>2011</th>\n",
       "      <th>2012</th>\n",
       "      <th>2013</th>\n",
       "      <th>2017</th>\n",
       "      <th>2018</th>\n",
       "      <th>2019</th>\n",
       "    </tr>\n",
       "  </thead>\n",
       "  <tbody>\n",
       "    <tr>\n",
       "      <th>0</th>\n",
       "      <td>24.671875</td>\n",
       "      <td>71.3125</td>\n",
       "      <td>2.911169</td>\n",
       "      <td>1.235715</td>\n",
       "      <td>-3.934369</td>\n",
       "      <td>0.013186</td>\n",
       "      <td>-0.006368</td>\n",
       "      <td>-0.049638</td>\n",
       "      <td>0.180320</td>\n",
       "      <td>0.289257</td>\n",
       "      <td>0.138319</td>\n",
       "    </tr>\n",
       "    <tr>\n",
       "      <th>1</th>\n",
       "      <td>24.671875</td>\n",
       "      <td>71.4375</td>\n",
       "      <td>1.911169</td>\n",
       "      <td>1.238137</td>\n",
       "      <td>-3.848543</td>\n",
       "      <td>0.032513</td>\n",
       "      <td>-0.023773</td>\n",
       "      <td>-0.049643</td>\n",
       "      <td>0.362663</td>\n",
       "      <td>0.352692</td>\n",
       "      <td>0.201352</td>\n",
       "    </tr>\n",
       "    <tr>\n",
       "      <th>2</th>\n",
       "      <td>24.671875</td>\n",
       "      <td>71.5000</td>\n",
       "      <td>1.651248</td>\n",
       "      <td>1.239346</td>\n",
       "      <td>-3.780277</td>\n",
       "      <td>0.070742</td>\n",
       "      <td>-0.038274</td>\n",
       "      <td>-0.052368</td>\n",
       "      <td>0.435900</td>\n",
       "      <td>0.377438</td>\n",
       "      <td>0.214101</td>\n",
       "    </tr>\n",
       "    <tr>\n",
       "      <th>3</th>\n",
       "      <td>24.671875</td>\n",
       "      <td>71.5625</td>\n",
       "      <td>1.468919</td>\n",
       "      <td>1.240555</td>\n",
       "      <td>-3.743817</td>\n",
       "      <td>0.063558</td>\n",
       "      <td>-0.022472</td>\n",
       "      <td>-0.077572</td>\n",
       "      <td>0.485419</td>\n",
       "      <td>0.388696</td>\n",
       "      <td>0.235697</td>\n",
       "    </tr>\n",
       "    <tr>\n",
       "      <th>4</th>\n",
       "      <td>24.671875</td>\n",
       "      <td>71.6250</td>\n",
       "      <td>1.323768</td>\n",
       "      <td>1.241764</td>\n",
       "      <td>-3.897907</td>\n",
       "      <td>0.037650</td>\n",
       "      <td>0.000237</td>\n",
       "      <td>-0.048915</td>\n",
       "      <td>0.309130</td>\n",
       "      <td>0.324606</td>\n",
       "      <td>0.395920</td>\n",
       "    </tr>\n",
       "    <tr>\n",
       "      <th>...</th>\n",
       "      <td>...</td>\n",
       "      <td>...</td>\n",
       "      <td>...</td>\n",
       "      <td>...</td>\n",
       "      <td>...</td>\n",
       "      <td>...</td>\n",
       "      <td>...</td>\n",
       "      <td>...</td>\n",
       "      <td>...</td>\n",
       "      <td>...</td>\n",
       "      <td>...</td>\n",
       "    </tr>\n",
       "    <tr>\n",
       "      <th>2413</th>\n",
       "      <td>20.156250</td>\n",
       "      <td>72.8750</td>\n",
       "      <td>-10.691321</td>\n",
       "      <td>1.455484</td>\n",
       "      <td>-3.996398</td>\n",
       "      <td>-0.000313</td>\n",
       "      <td>-0.009799</td>\n",
       "      <td>-0.041270</td>\n",
       "      <td>0.181948</td>\n",
       "      <td>0.234102</td>\n",
       "      <td>0.498612</td>\n",
       "    </tr>\n",
       "    <tr>\n",
       "      <th>2414</th>\n",
       "      <td>20.156250</td>\n",
       "      <td>72.9375</td>\n",
       "      <td>-10.693174</td>\n",
       "      <td>1.456678</td>\n",
       "      <td>-4.126434</td>\n",
       "      <td>0.003002</td>\n",
       "      <td>-0.005945</td>\n",
       "      <td>-0.003954</td>\n",
       "      <td>0.051458</td>\n",
       "      <td>0.118081</td>\n",
       "      <td>0.436896</td>\n",
       "    </tr>\n",
       "    <tr>\n",
       "      <th>2415</th>\n",
       "      <td>20.156250</td>\n",
       "      <td>73.0000</td>\n",
       "      <td>-10.695026</td>\n",
       "      <td>1.457871</td>\n",
       "      <td>-4.143912</td>\n",
       "      <td>0.002006</td>\n",
       "      <td>-0.004071</td>\n",
       "      <td>-0.002735</td>\n",
       "      <td>0.035236</td>\n",
       "      <td>0.105436</td>\n",
       "      <td>0.431026</td>\n",
       "    </tr>\n",
       "    <tr>\n",
       "      <th>2416</th>\n",
       "      <td>20.156250</td>\n",
       "      <td>73.0625</td>\n",
       "      <td>-10.696878</td>\n",
       "      <td>1.459064</td>\n",
       "      <td>-4.035060</td>\n",
       "      <td>-0.024376</td>\n",
       "      <td>-0.023192</td>\n",
       "      <td>0.001374</td>\n",
       "      <td>0.113890</td>\n",
       "      <td>0.195650</td>\n",
       "      <td>0.461311</td>\n",
       "    </tr>\n",
       "    <tr>\n",
       "      <th>2417</th>\n",
       "      <td>20.156250</td>\n",
       "      <td>73.1875</td>\n",
       "      <td>-10.698729</td>\n",
       "      <td>1.461446</td>\n",
       "      <td>-4.094003</td>\n",
       "      <td>-0.021323</td>\n",
       "      <td>-0.017047</td>\n",
       "      <td>0.004829</td>\n",
       "      <td>0.063541</td>\n",
       "      <td>0.145521</td>\n",
       "      <td>0.439338</td>\n",
       "    </tr>\n",
       "  </tbody>\n",
       "</table>\n",
       "<p>2418 rows × 11 columns</p>\n",
       "</div>"
      ],
      "text/plain": [
       "       Latitude  Longitude   Latitude  Longitude      2010      2011  \\\n",
       "0     24.671875    71.3125   2.911169   1.235715 -3.934369  0.013186   \n",
       "1     24.671875    71.4375   1.911169   1.238137 -3.848543  0.032513   \n",
       "2     24.671875    71.5000   1.651248   1.239346 -3.780277  0.070742   \n",
       "3     24.671875    71.5625   1.468919   1.240555 -3.743817  0.063558   \n",
       "4     24.671875    71.6250   1.323768   1.241764 -3.897907  0.037650   \n",
       "...         ...        ...        ...        ...       ...       ...   \n",
       "2413  20.156250    72.8750 -10.691321   1.455484 -3.996398 -0.000313   \n",
       "2414  20.156250    72.9375 -10.693174   1.456678 -4.126434  0.003002   \n",
       "2415  20.156250    73.0000 -10.695026   1.457871 -4.143912  0.002006   \n",
       "2416  20.156250    73.0625 -10.696878   1.459064 -4.035060 -0.024376   \n",
       "2417  20.156250    73.1875 -10.698729   1.461446 -4.094003 -0.021323   \n",
       "\n",
       "          2012      2013      2017      2018      2019  \n",
       "0    -0.006368 -0.049638  0.180320  0.289257  0.138319  \n",
       "1    -0.023773 -0.049643  0.362663  0.352692  0.201352  \n",
       "2    -0.038274 -0.052368  0.435900  0.377438  0.214101  \n",
       "3    -0.022472 -0.077572  0.485419  0.388696  0.235697  \n",
       "4     0.000237 -0.048915  0.309130  0.324606  0.395920  \n",
       "...        ...       ...       ...       ...       ...  \n",
       "2413 -0.009799 -0.041270  0.181948  0.234102  0.498612  \n",
       "2414 -0.005945 -0.003954  0.051458  0.118081  0.436896  \n",
       "2415 -0.004071 -0.002735  0.035236  0.105436  0.431026  \n",
       "2416 -0.023192  0.001374  0.113890  0.195650  0.461311  \n",
       "2417 -0.017047  0.004829  0.063541  0.145521  0.439338  \n",
       "\n",
       "[2418 rows x 11 columns]"
      ]
     },
     "execution_count": 44,
     "metadata": {},
     "output_type": "execute_result"
    }
   ],
   "source": [
    "biomass_availability_forecasted_data"
   ]
  },
  {
   "cell_type": "code",
   "execution_count": 47,
   "metadata": {},
   "outputs": [
    {
     "data": {
      "text/plain": [
       "Latitude     float64\n",
       "Longitude    float64\n",
       "Latitude     float64\n",
       "Longitude    float64\n",
       "2010         float64\n",
       "2011         float64\n",
       "2012         float64\n",
       "2013         float64\n",
       "2017         float64\n",
       "2018         float32\n",
       "2019         float32\n",
       "dtype: object"
      ]
     },
     "execution_count": 47,
     "metadata": {},
     "output_type": "execute_result"
    }
   ],
   "source": [
    "biomass_availability_forecasted_data.dtypes"
   ]
  },
  {
   "cell_type": "code",
   "execution_count": 51,
   "metadata": {},
   "outputs": [
    {
     "data": {
      "text/plain": [
       "0.2892570495605469"
      ]
     },
     "execution_count": 51,
     "metadata": {},
     "output_type": "execute_result"
    }
   ],
   "source": [
    "biomass_availability_forecasted_data.loc[0,'2018']"
   ]
  },
  {
   "cell_type": "markdown",
   "metadata": {},
   "source": [
    "## Count function for positive and negative trend"
   ]
  },
  {
   "cell_type": "code",
   "execution_count": 65,
   "metadata": {},
   "outputs": [],
   "source": [
    "def check(data):\n",
    "    positive=0\n",
    "    neg=0\n",
    "    for i,_ in data.iterrows():\n",
    "        if(data.loc[i,'2018']>data.loc[i,'2017'] and data.loc[i,'2019']>data.loc[i,'2018']):\n",
    "            positive+=1\n",
    "        else:\n",
    "            neg+=1\n",
    "    print('Positive tend count : '+str(positive))\n",
    "    print('Negative trend count : '+str(neg))"
   ]
  },
  {
   "cell_type": "code",
   "execution_count": 66,
   "metadata": {},
   "outputs": [
    {
     "name": "stdout",
     "output_type": "stream",
     "text": [
      "Positive tend count : 744\n",
      "Negative trend count : 1674\n"
     ]
    }
   ],
   "source": [
    "check(biomass_availability_forecasted_data)"
   ]
  },
  {
   "cell_type": "markdown",
   "metadata": {},
   "source": [
    "## Exporting forecasted data"
   ]
  },
  {
   "cell_type": "code",
   "execution_count": 62,
   "metadata": {},
   "outputs": [],
   "source": [
    "biomass_availability_forecasted_data.to_csv('forecasted.csv')"
   ]
  }
 ],
 "metadata": {
  "kernelspec": {
   "display_name": "myenv",
   "language": "python",
   "name": "python3"
  },
  "language_info": {
   "codemirror_mode": {
    "name": "ipython",
    "version": 3
   },
   "file_extension": ".py",
   "mimetype": "text/x-python",
   "name": "python",
   "nbconvert_exporter": "python",
   "pygments_lexer": "ipython3",
   "version": "3.9.17"
  },
  "orig_nbformat": 4
 },
 "nbformat": 4,
 "nbformat_minor": 2
}
